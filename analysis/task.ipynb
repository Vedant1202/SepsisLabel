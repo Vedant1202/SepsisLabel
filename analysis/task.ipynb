{
 "cells": [
  {
   "cell_type": "markdown",
   "metadata": {},
   "source": [
    "## Import Libraries"
   ]
  },
  {
   "cell_type": "code",
   "execution_count": 1,
   "metadata": {
    "collapsed": true
   },
   "outputs": [],
   "source": [
    "import pandas as pd\n",
    "import numpy as np"
   ]
  },
  {
   "cell_type": "markdown",
   "metadata": {},
   "source": [
    "## Read Datasets\n",
    "Read Datasets and do some basic exploratory analysis"
   ]
  },
  {
   "cell_type": "code",
   "execution_count": 2,
   "metadata": {
    "collapsed": true
   },
   "outputs": [],
   "source": [
    "apsvar = pd.read_csv('../data/apacheApsVar.csv')"
   ]
  },
  {
   "cell_type": "code",
   "execution_count": 3,
   "metadata": {},
   "outputs": [
    {
     "data": {
      "text/html": [
       "<div>\n",
       "<style scoped>\n",
       "    .dataframe tbody tr th:only-of-type {\n",
       "        vertical-align: middle;\n",
       "    }\n",
       "\n",
       "    .dataframe tbody tr th {\n",
       "        vertical-align: top;\n",
       "    }\n",
       "\n",
       "    .dataframe thead th {\n",
       "        text-align: right;\n",
       "    }\n",
       "</style>\n",
       "<table border=\"1\" class=\"dataframe\">\n",
       "  <thead>\n",
       "    <tr style=\"text-align: right;\">\n",
       "      <th></th>\n",
       "      <th>apacheapsvarid</th>\n",
       "      <th>patientunitstayid</th>\n",
       "      <th>intubated</th>\n",
       "      <th>vent</th>\n",
       "      <th>dialysis</th>\n",
       "      <th>eyes</th>\n",
       "      <th>motor</th>\n",
       "      <th>verbal</th>\n",
       "      <th>meds</th>\n",
       "      <th>urine</th>\n",
       "      <th>...</th>\n",
       "      <th>ph</th>\n",
       "      <th>hematocrit</th>\n",
       "      <th>creatinine</th>\n",
       "      <th>albumin</th>\n",
       "      <th>pao2</th>\n",
       "      <th>pco2</th>\n",
       "      <th>bun</th>\n",
       "      <th>glucose</th>\n",
       "      <th>bilirubin</th>\n",
       "      <th>fio2</th>\n",
       "    </tr>\n",
       "  </thead>\n",
       "  <tbody>\n",
       "    <tr>\n",
       "      <th>0</th>\n",
       "      <td>2</td>\n",
       "      <td>141168</td>\n",
       "      <td>0</td>\n",
       "      <td>0</td>\n",
       "      <td>0</td>\n",
       "      <td>4</td>\n",
       "      <td>6</td>\n",
       "      <td>5</td>\n",
       "      <td>0</td>\n",
       "      <td>-1.0</td>\n",
       "      <td>...</td>\n",
       "      <td>-1.00</td>\n",
       "      <td>40.1</td>\n",
       "      <td>2.30</td>\n",
       "      <td>3.1</td>\n",
       "      <td>-1.0</td>\n",
       "      <td>-1.0</td>\n",
       "      <td>27.0</td>\n",
       "      <td>95.0</td>\n",
       "      <td>4.1</td>\n",
       "      <td>-1.0</td>\n",
       "    </tr>\n",
       "    <tr>\n",
       "      <th>1</th>\n",
       "      <td>2399659</td>\n",
       "      <td>141178</td>\n",
       "      <td>0</td>\n",
       "      <td>0</td>\n",
       "      <td>0</td>\n",
       "      <td>-1</td>\n",
       "      <td>-1</td>\n",
       "      <td>-1</td>\n",
       "      <td>-1</td>\n",
       "      <td>-1.0</td>\n",
       "      <td>...</td>\n",
       "      <td>-1.00</td>\n",
       "      <td>-1.0</td>\n",
       "      <td>-1.00</td>\n",
       "      <td>-1.0</td>\n",
       "      <td>-1.0</td>\n",
       "      <td>-1.0</td>\n",
       "      <td>-1.0</td>\n",
       "      <td>-1.0</td>\n",
       "      <td>-1.0</td>\n",
       "      <td>-1.0</td>\n",
       "    </tr>\n",
       "    <tr>\n",
       "      <th>2</th>\n",
       "      <td>167885</td>\n",
       "      <td>141194</td>\n",
       "      <td>0</td>\n",
       "      <td>0</td>\n",
       "      <td>0</td>\n",
       "      <td>3</td>\n",
       "      <td>6</td>\n",
       "      <td>4</td>\n",
       "      <td>0</td>\n",
       "      <td>-1.0</td>\n",
       "      <td>...</td>\n",
       "      <td>-1.00</td>\n",
       "      <td>27.4</td>\n",
       "      <td>2.51</td>\n",
       "      <td>2.3</td>\n",
       "      <td>-1.0</td>\n",
       "      <td>-1.0</td>\n",
       "      <td>31.0</td>\n",
       "      <td>168.0</td>\n",
       "      <td>0.4</td>\n",
       "      <td>-1.0</td>\n",
       "    </tr>\n",
       "    <tr>\n",
       "      <th>3</th>\n",
       "      <td>70691</td>\n",
       "      <td>141197</td>\n",
       "      <td>0</td>\n",
       "      <td>0</td>\n",
       "      <td>0</td>\n",
       "      <td>4</td>\n",
       "      <td>6</td>\n",
       "      <td>5</td>\n",
       "      <td>0</td>\n",
       "      <td>-1.0</td>\n",
       "      <td>...</td>\n",
       "      <td>-1.00</td>\n",
       "      <td>-1.0</td>\n",
       "      <td>-1.00</td>\n",
       "      <td>-1.0</td>\n",
       "      <td>-1.0</td>\n",
       "      <td>-1.0</td>\n",
       "      <td>-1.0</td>\n",
       "      <td>-1.0</td>\n",
       "      <td>-1.0</td>\n",
       "      <td>-1.0</td>\n",
       "    </tr>\n",
       "    <tr>\n",
       "      <th>4</th>\n",
       "      <td>2279689</td>\n",
       "      <td>141203</td>\n",
       "      <td>0</td>\n",
       "      <td>1</td>\n",
       "      <td>0</td>\n",
       "      <td>1</td>\n",
       "      <td>3</td>\n",
       "      <td>1</td>\n",
       "      <td>0</td>\n",
       "      <td>-1.0</td>\n",
       "      <td>...</td>\n",
       "      <td>7.45</td>\n",
       "      <td>36.9</td>\n",
       "      <td>0.56</td>\n",
       "      <td>-1.0</td>\n",
       "      <td>51.0</td>\n",
       "      <td>37.0</td>\n",
       "      <td>9.0</td>\n",
       "      <td>145.0</td>\n",
       "      <td>-1.0</td>\n",
       "      <td>100.0</td>\n",
       "    </tr>\n",
       "  </tbody>\n",
       "</table>\n",
       "<p>5 rows × 26 columns</p>\n",
       "</div>"
      ],
      "text/plain": [
       "   apacheapsvarid  patientunitstayid  intubated  vent  dialysis  eyes  motor  \\\n",
       "0               2             141168          0     0         0     4      6   \n",
       "1         2399659             141178          0     0         0    -1     -1   \n",
       "2          167885             141194          0     0         0     3      6   \n",
       "3           70691             141197          0     0         0     4      6   \n",
       "4         2279689             141203          0     1         0     1      3   \n",
       "\n",
       "   verbal  meds  urine  ...      ph  hematocrit  creatinine  albumin  pao2  \\\n",
       "0       5     0   -1.0  ...   -1.00        40.1        2.30      3.1  -1.0   \n",
       "1      -1    -1   -1.0  ...   -1.00        -1.0       -1.00     -1.0  -1.0   \n",
       "2       4     0   -1.0  ...   -1.00        27.4        2.51      2.3  -1.0   \n",
       "3       5     0   -1.0  ...   -1.00        -1.0       -1.00     -1.0  -1.0   \n",
       "4       1     0   -1.0  ...    7.45        36.9        0.56     -1.0  51.0   \n",
       "\n",
       "   pco2   bun  glucose  bilirubin   fio2  \n",
       "0  -1.0  27.0     95.0        4.1   -1.0  \n",
       "1  -1.0  -1.0     -1.0       -1.0   -1.0  \n",
       "2  -1.0  31.0    168.0        0.4   -1.0  \n",
       "3  -1.0  -1.0     -1.0       -1.0   -1.0  \n",
       "4  37.0   9.0    145.0       -1.0  100.0  \n",
       "\n",
       "[5 rows x 26 columns]"
      ]
     },
     "execution_count": 3,
     "metadata": {},
     "output_type": "execute_result"
    }
   ],
   "source": [
    "apsvar.head()"
   ]
  },
  {
   "cell_type": "code",
   "execution_count": 4,
   "metadata": {},
   "outputs": [
    {
     "data": {
      "text/plain": [
       "Index(['apacheapsvarid', 'patientunitstayid', 'intubated', 'vent', 'dialysis',\n",
       "       'eyes', 'motor', 'verbal', 'meds', 'urine', 'wbc', 'temperature',\n",
       "       'respiratoryrate', 'sodium', 'heartrate', 'meanbp', 'ph', 'hematocrit',\n",
       "       'creatinine', 'albumin', 'pao2', 'pco2', 'bun', 'glucose', 'bilirubin',\n",
       "       'fio2'],\n",
       "      dtype='object')"
      ]
     },
     "execution_count": 4,
     "metadata": {},
     "output_type": "execute_result"
    }
   ],
   "source": [
    "apsvar.columns"
   ]
  },
  {
   "cell_type": "code",
   "execution_count": 5,
   "metadata": {},
   "outputs": [
    {
     "data": {
      "text/plain": [
       "(171177, 26)"
      ]
     },
     "execution_count": 5,
     "metadata": {},
     "output_type": "execute_result"
    }
   ],
   "source": [
    "apsvar.shape"
   ]
  },
  {
   "cell_type": "markdown",
   "metadata": {},
   "source": [
    "#### Read vitals aperiod dataset to get the systolic and diastolic"
   ]
  },
  {
   "cell_type": "code",
   "execution_count": 6,
   "metadata": {
    "collapsed": true
   },
   "outputs": [],
   "source": [
    "vitsaperiod = pd.read_csv('../data/vitalAperiodic.csv')"
   ]
  },
  {
   "cell_type": "code",
   "execution_count": 7,
   "metadata": {
    "scrolled": true
   },
   "outputs": [
    {
     "data": {
      "text/html": [
       "<div>\n",
       "<style scoped>\n",
       "    .dataframe tbody tr th:only-of-type {\n",
       "        vertical-align: middle;\n",
       "    }\n",
       "\n",
       "    .dataframe tbody tr th {\n",
       "        vertical-align: top;\n",
       "    }\n",
       "\n",
       "    .dataframe thead th {\n",
       "        text-align: right;\n",
       "    }\n",
       "</style>\n",
       "<table border=\"1\" class=\"dataframe\">\n",
       "  <thead>\n",
       "    <tr style=\"text-align: right;\">\n",
       "      <th></th>\n",
       "      <th>vitalaperiodicid</th>\n",
       "      <th>patientunitstayid</th>\n",
       "      <th>observationoffset</th>\n",
       "      <th>noninvasivesystolic</th>\n",
       "      <th>noninvasivediastolic</th>\n",
       "      <th>noninvasivemean</th>\n",
       "      <th>paop</th>\n",
       "      <th>cardiacoutput</th>\n",
       "      <th>cardiacinput</th>\n",
       "      <th>svr</th>\n",
       "      <th>svri</th>\n",
       "      <th>pvr</th>\n",
       "      <th>pvri</th>\n",
       "    </tr>\n",
       "  </thead>\n",
       "  <tbody>\n",
       "    <tr>\n",
       "      <th>0</th>\n",
       "      <td>4295739</td>\n",
       "      <td>141168</td>\n",
       "      <td>349</td>\n",
       "      <td>NaN</td>\n",
       "      <td>NaN</td>\n",
       "      <td>79.0</td>\n",
       "      <td>NaN</td>\n",
       "      <td>NaN</td>\n",
       "      <td>NaN</td>\n",
       "      <td>NaN</td>\n",
       "      <td>NaN</td>\n",
       "      <td>NaN</td>\n",
       "      <td>NaN</td>\n",
       "    </tr>\n",
       "    <tr>\n",
       "      <th>1</th>\n",
       "      <td>4295737</td>\n",
       "      <td>141168</td>\n",
       "      <td>123</td>\n",
       "      <td>106.0</td>\n",
       "      <td>68.0</td>\n",
       "      <td>81.0</td>\n",
       "      <td>NaN</td>\n",
       "      <td>NaN</td>\n",
       "      <td>NaN</td>\n",
       "      <td>NaN</td>\n",
       "      <td>NaN</td>\n",
       "      <td>NaN</td>\n",
       "      <td>NaN</td>\n",
       "    </tr>\n",
       "    <tr>\n",
       "      <th>2</th>\n",
       "      <td>4295741</td>\n",
       "      <td>141168</td>\n",
       "      <td>1398</td>\n",
       "      <td>NaN</td>\n",
       "      <td>NaN</td>\n",
       "      <td>27.0</td>\n",
       "      <td>NaN</td>\n",
       "      <td>NaN</td>\n",
       "      <td>NaN</td>\n",
       "      <td>NaN</td>\n",
       "      <td>NaN</td>\n",
       "      <td>NaN</td>\n",
       "      <td>NaN</td>\n",
       "    </tr>\n",
       "    <tr>\n",
       "      <th>3</th>\n",
       "      <td>4295740</td>\n",
       "      <td>141168</td>\n",
       "      <td>441</td>\n",
       "      <td>NaN</td>\n",
       "      <td>NaN</td>\n",
       "      <td>62.0</td>\n",
       "      <td>NaN</td>\n",
       "      <td>NaN</td>\n",
       "      <td>NaN</td>\n",
       "      <td>NaN</td>\n",
       "      <td>NaN</td>\n",
       "      <td>NaN</td>\n",
       "      <td>NaN</td>\n",
       "    </tr>\n",
       "    <tr>\n",
       "      <th>4</th>\n",
       "      <td>4295738</td>\n",
       "      <td>141168</td>\n",
       "      <td>138</td>\n",
       "      <td>111.0</td>\n",
       "      <td>62.0</td>\n",
       "      <td>82.0</td>\n",
       "      <td>NaN</td>\n",
       "      <td>NaN</td>\n",
       "      <td>NaN</td>\n",
       "      <td>NaN</td>\n",
       "      <td>NaN</td>\n",
       "      <td>NaN</td>\n",
       "      <td>NaN</td>\n",
       "    </tr>\n",
       "  </tbody>\n",
       "</table>\n",
       "</div>"
      ],
      "text/plain": [
       "   vitalaperiodicid  patientunitstayid  observationoffset  \\\n",
       "0           4295739             141168                349   \n",
       "1           4295737             141168                123   \n",
       "2           4295741             141168               1398   \n",
       "3           4295740             141168                441   \n",
       "4           4295738             141168                138   \n",
       "\n",
       "   noninvasivesystolic  noninvasivediastolic  noninvasivemean  paop  \\\n",
       "0                  NaN                   NaN             79.0   NaN   \n",
       "1                106.0                  68.0             81.0   NaN   \n",
       "2                  NaN                   NaN             27.0   NaN   \n",
       "3                  NaN                   NaN             62.0   NaN   \n",
       "4                111.0                  62.0             82.0   NaN   \n",
       "\n",
       "   cardiacoutput  cardiacinput  svr  svri  pvr  pvri  \n",
       "0            NaN           NaN  NaN   NaN  NaN   NaN  \n",
       "1            NaN           NaN  NaN   NaN  NaN   NaN  \n",
       "2            NaN           NaN  NaN   NaN  NaN   NaN  \n",
       "3            NaN           NaN  NaN   NaN  NaN   NaN  \n",
       "4            NaN           NaN  NaN   NaN  NaN   NaN  "
      ]
     },
     "execution_count": 7,
     "metadata": {},
     "output_type": "execute_result"
    }
   ],
   "source": [
    "vitsaperiod.head()"
   ]
  },
  {
   "cell_type": "code",
   "execution_count": 8,
   "metadata": {},
   "outputs": [
    {
     "data": {
      "text/plain": [
       "Index(['vitalaperiodicid', 'patientunitstayid', 'observationoffset',\n",
       "       'noninvasivesystolic', 'noninvasivediastolic', 'noninvasivemean',\n",
       "       'paop', 'cardiacoutput', 'cardiacinput', 'svr', 'svri', 'pvr', 'pvri'],\n",
       "      dtype='object')"
      ]
     },
     "execution_count": 8,
     "metadata": {},
     "output_type": "execute_result"
    }
   ],
   "source": [
    "vitsaperiod.columns"
   ]
  },
  {
   "cell_type": "code",
   "execution_count": 9,
   "metadata": {},
   "outputs": [
    {
     "data": {
      "text/plain": [
       "(25075074, 13)"
      ]
     },
     "execution_count": 9,
     "metadata": {},
     "output_type": "execute_result"
    }
   ],
   "source": [
    "vitsaperiod.shape"
   ]
  },
  {
   "cell_type": "markdown",
   "metadata": {},
   "source": [
    "#### Join the dialstolic and systolic blood pressures to the apsvar dataset"
   ]
  },
  {
   "cell_type": "code",
   "execution_count": 10,
   "metadata": {
    "collapsed": true
   },
   "outputs": [],
   "source": [
    "df = apsvar.join(vitsaperiod[['observationoffset', 'noninvasivesystolic', 'noninvasivediastolic']], on='patientunitstayid')"
   ]
  },
  {
   "cell_type": "code",
   "execution_count": 11,
   "metadata": {
    "scrolled": true
   },
   "outputs": [
    {
     "data": {
      "text/plain": [
       "apacheapsvarid              0\n",
       "patientunitstayid           0\n",
       "intubated                   0\n",
       "vent                        0\n",
       "dialysis                    0\n",
       "eyes                        0\n",
       "motor                       0\n",
       "verbal                      0\n",
       "meds                        0\n",
       "urine                       0\n",
       "wbc                         0\n",
       "temperature                 0\n",
       "respiratoryrate             0\n",
       "sodium                      0\n",
       "heartrate                   0\n",
       "meanbp                      0\n",
       "ph                          0\n",
       "hematocrit                  0\n",
       "creatinine                  0\n",
       "albumin                     0\n",
       "pao2                        0\n",
       "pco2                        0\n",
       "bun                         0\n",
       "glucose                     0\n",
       "bilirubin                   0\n",
       "fio2                        0\n",
       "observationoffset           0\n",
       "noninvasivesystolic     32232\n",
       "noninvasivediastolic    32225\n",
       "dtype: int64"
      ]
     },
     "execution_count": 11,
     "metadata": {},
     "output_type": "execute_result"
    }
   ],
   "source": [
    "df.isna().sum()"
   ]
  },
  {
   "cell_type": "code",
   "execution_count": 12,
   "metadata": {},
   "outputs": [
    {
     "data": {
      "text/plain": [
       "(171177, 29)"
      ]
     },
     "execution_count": 12,
     "metadata": {},
     "output_type": "execute_result"
    }
   ],
   "source": [
    "df.shape"
   ]
  },
  {
   "cell_type": "code",
   "execution_count": 13,
   "metadata": {
    "collapsed": true
   },
   "outputs": [],
   "source": [
    "df.dropna(inplace=True)"
   ]
  },
  {
   "cell_type": "code",
   "execution_count": 14,
   "metadata": {
    "collapsed": true
   },
   "outputs": [],
   "source": [
    "df.reset_index(inplace=True)"
   ]
  },
  {
   "cell_type": "code",
   "execution_count": 15,
   "metadata": {
    "scrolled": true
   },
   "outputs": [
    {
     "data": {
      "text/plain": [
       "index                   0\n",
       "apacheapsvarid          0\n",
       "patientunitstayid       0\n",
       "intubated               0\n",
       "vent                    0\n",
       "dialysis                0\n",
       "eyes                    0\n",
       "motor                   0\n",
       "verbal                  0\n",
       "meds                    0\n",
       "urine                   0\n",
       "wbc                     0\n",
       "temperature             0\n",
       "respiratoryrate         0\n",
       "sodium                  0\n",
       "heartrate               0\n",
       "meanbp                  0\n",
       "ph                      0\n",
       "hematocrit              0\n",
       "creatinine              0\n",
       "albumin                 0\n",
       "pao2                    0\n",
       "pco2                    0\n",
       "bun                     0\n",
       "glucose                 0\n",
       "bilirubin               0\n",
       "fio2                    0\n",
       "observationoffset       0\n",
       "noninvasivesystolic     0\n",
       "noninvasivediastolic    0\n",
       "dtype: int64"
      ]
     },
     "execution_count": 15,
     "metadata": {},
     "output_type": "execute_result"
    }
   ],
   "source": [
    "df.isna().sum()"
   ]
  },
  {
   "cell_type": "code",
   "execution_count": 16,
   "metadata": {},
   "outputs": [
    {
     "data": {
      "text/html": [
       "<div>\n",
       "<style scoped>\n",
       "    .dataframe tbody tr th:only-of-type {\n",
       "        vertical-align: middle;\n",
       "    }\n",
       "\n",
       "    .dataframe tbody tr th {\n",
       "        vertical-align: top;\n",
       "    }\n",
       "\n",
       "    .dataframe thead th {\n",
       "        text-align: right;\n",
       "    }\n",
       "</style>\n",
       "<table border=\"1\" class=\"dataframe\">\n",
       "  <thead>\n",
       "    <tr style=\"text-align: right;\">\n",
       "      <th></th>\n",
       "      <th>index</th>\n",
       "      <th>apacheapsvarid</th>\n",
       "      <th>patientunitstayid</th>\n",
       "      <th>intubated</th>\n",
       "      <th>vent</th>\n",
       "      <th>dialysis</th>\n",
       "      <th>eyes</th>\n",
       "      <th>motor</th>\n",
       "      <th>verbal</th>\n",
       "      <th>meds</th>\n",
       "      <th>...</th>\n",
       "      <th>albumin</th>\n",
       "      <th>pao2</th>\n",
       "      <th>pco2</th>\n",
       "      <th>bun</th>\n",
       "      <th>glucose</th>\n",
       "      <th>bilirubin</th>\n",
       "      <th>fio2</th>\n",
       "      <th>observationoffset</th>\n",
       "      <th>noninvasivesystolic</th>\n",
       "      <th>noninvasivediastolic</th>\n",
       "    </tr>\n",
       "  </thead>\n",
       "  <tbody>\n",
       "    <tr>\n",
       "      <th>0</th>\n",
       "      <td>0</td>\n",
       "      <td>2</td>\n",
       "      <td>141168</td>\n",
       "      <td>0</td>\n",
       "      <td>0</td>\n",
       "      <td>0</td>\n",
       "      <td>4</td>\n",
       "      <td>6</td>\n",
       "      <td>5</td>\n",
       "      <td>0</td>\n",
       "      <td>...</td>\n",
       "      <td>3.1</td>\n",
       "      <td>-1.0</td>\n",
       "      <td>-1.0</td>\n",
       "      <td>27.0</td>\n",
       "      <td>95.0</td>\n",
       "      <td>4.1</td>\n",
       "      <td>-1.0</td>\n",
       "      <td>151</td>\n",
       "      <td>134.0</td>\n",
       "      <td>72.0</td>\n",
       "    </tr>\n",
       "    <tr>\n",
       "      <th>1</th>\n",
       "      <td>1</td>\n",
       "      <td>2399659</td>\n",
       "      <td>141178</td>\n",
       "      <td>0</td>\n",
       "      <td>0</td>\n",
       "      <td>0</td>\n",
       "      <td>-1</td>\n",
       "      <td>-1</td>\n",
       "      <td>-1</td>\n",
       "      <td>-1</td>\n",
       "      <td>...</td>\n",
       "      <td>-1.0</td>\n",
       "      <td>-1.0</td>\n",
       "      <td>-1.0</td>\n",
       "      <td>-1.0</td>\n",
       "      <td>-1.0</td>\n",
       "      <td>-1.0</td>\n",
       "      <td>-1.0</td>\n",
       "      <td>647</td>\n",
       "      <td>108.0</td>\n",
       "      <td>66.0</td>\n",
       "    </tr>\n",
       "    <tr>\n",
       "      <th>2</th>\n",
       "      <td>2</td>\n",
       "      <td>167885</td>\n",
       "      <td>141194</td>\n",
       "      <td>0</td>\n",
       "      <td>0</td>\n",
       "      <td>0</td>\n",
       "      <td>3</td>\n",
       "      <td>6</td>\n",
       "      <td>4</td>\n",
       "      <td>0</td>\n",
       "      <td>...</td>\n",
       "      <td>2.3</td>\n",
       "      <td>-1.0</td>\n",
       "      <td>-1.0</td>\n",
       "      <td>31.0</td>\n",
       "      <td>168.0</td>\n",
       "      <td>0.4</td>\n",
       "      <td>-1.0</td>\n",
       "      <td>36</td>\n",
       "      <td>113.0</td>\n",
       "      <td>68.0</td>\n",
       "    </tr>\n",
       "    <tr>\n",
       "      <th>3</th>\n",
       "      <td>3</td>\n",
       "      <td>70691</td>\n",
       "      <td>141197</td>\n",
       "      <td>0</td>\n",
       "      <td>0</td>\n",
       "      <td>0</td>\n",
       "      <td>4</td>\n",
       "      <td>6</td>\n",
       "      <td>5</td>\n",
       "      <td>0</td>\n",
       "      <td>...</td>\n",
       "      <td>-1.0</td>\n",
       "      <td>-1.0</td>\n",
       "      <td>-1.0</td>\n",
       "      <td>-1.0</td>\n",
       "      <td>-1.0</td>\n",
       "      <td>-1.0</td>\n",
       "      <td>-1.0</td>\n",
       "      <td>5037</td>\n",
       "      <td>131.0</td>\n",
       "      <td>63.0</td>\n",
       "    </tr>\n",
       "    <tr>\n",
       "      <th>4</th>\n",
       "      <td>4</td>\n",
       "      <td>2279689</td>\n",
       "      <td>141203</td>\n",
       "      <td>0</td>\n",
       "      <td>1</td>\n",
       "      <td>0</td>\n",
       "      <td>1</td>\n",
       "      <td>3</td>\n",
       "      <td>1</td>\n",
       "      <td>0</td>\n",
       "      <td>...</td>\n",
       "      <td>-1.0</td>\n",
       "      <td>51.0</td>\n",
       "      <td>37.0</td>\n",
       "      <td>9.0</td>\n",
       "      <td>145.0</td>\n",
       "      <td>-1.0</td>\n",
       "      <td>100.0</td>\n",
       "      <td>10175</td>\n",
       "      <td>119.0</td>\n",
       "      <td>67.0</td>\n",
       "    </tr>\n",
       "  </tbody>\n",
       "</table>\n",
       "<p>5 rows × 30 columns</p>\n",
       "</div>"
      ],
      "text/plain": [
       "   index  apacheapsvarid  patientunitstayid  intubated  vent  dialysis  eyes  \\\n",
       "0      0               2             141168          0     0         0     4   \n",
       "1      1         2399659             141178          0     0         0    -1   \n",
       "2      2          167885             141194          0     0         0     3   \n",
       "3      3           70691             141197          0     0         0     4   \n",
       "4      4         2279689             141203          0     1         0     1   \n",
       "\n",
       "   motor  verbal  meds          ...           albumin  pao2  pco2   bun  \\\n",
       "0      6       5     0          ...               3.1  -1.0  -1.0  27.0   \n",
       "1     -1      -1    -1          ...              -1.0  -1.0  -1.0  -1.0   \n",
       "2      6       4     0          ...               2.3  -1.0  -1.0  31.0   \n",
       "3      6       5     0          ...              -1.0  -1.0  -1.0  -1.0   \n",
       "4      3       1     0          ...              -1.0  51.0  37.0   9.0   \n",
       "\n",
       "   glucose  bilirubin   fio2  observationoffset  noninvasivesystolic  \\\n",
       "0     95.0        4.1   -1.0                151                134.0   \n",
       "1     -1.0       -1.0   -1.0                647                108.0   \n",
       "2    168.0        0.4   -1.0                 36                113.0   \n",
       "3     -1.0       -1.0   -1.0               5037                131.0   \n",
       "4    145.0       -1.0  100.0              10175                119.0   \n",
       "\n",
       "   noninvasivediastolic  \n",
       "0                  72.0  \n",
       "1                  66.0  \n",
       "2                  68.0  \n",
       "3                  63.0  \n",
       "4                  67.0  \n",
       "\n",
       "[5 rows x 30 columns]"
      ]
     },
     "execution_count": 16,
     "metadata": {},
     "output_type": "execute_result"
    }
   ],
   "source": [
    "df.head()"
   ]
  },
  {
   "cell_type": "code",
   "execution_count": 17,
   "metadata": {},
   "outputs": [
    {
     "data": {
      "text/plain": [
       "Index(['index', 'apacheapsvarid', 'patientunitstayid', 'intubated', 'vent',\n",
       "       'dialysis', 'eyes', 'motor', 'verbal', 'meds', 'urine', 'wbc',\n",
       "       'temperature', 'respiratoryrate', 'sodium', 'heartrate', 'meanbp', 'ph',\n",
       "       'hematocrit', 'creatinine', 'albumin', 'pao2', 'pco2', 'bun', 'glucose',\n",
       "       'bilirubin', 'fio2', 'observationoffset', 'noninvasivesystolic',\n",
       "       'noninvasivediastolic'],\n",
       "      dtype='object')"
      ]
     },
     "execution_count": 17,
     "metadata": {},
     "output_type": "execute_result"
    }
   ],
   "source": [
    "df.columns"
   ]
  },
  {
   "cell_type": "markdown",
   "metadata": {},
   "source": [
    "## Section: Calculation of SOFA scores"
   ]
  },
  {
   "cell_type": "markdown",
   "metadata": {},
   "source": [
    "### Select only the required columns\n",
    "Select only those columns that contribute to the calculation for the SOFA scores."
   ]
  },
  {
   "cell_type": "code",
   "execution_count": 18,
   "metadata": {
    "collapsed": true
   },
   "outputs": [],
   "source": [
    "dfmain = df[['urine', 'wbc', 'creatinine', 'pao2', 'fio2', 'bilirubin', 'observationoffset', 'patientunitstayid']]"
   ]
  },
  {
   "cell_type": "code",
   "execution_count": 19,
   "metadata": {},
   "outputs": [
    {
     "data": {
      "text/plain": [
       "urine                0\n",
       "wbc                  0\n",
       "creatinine           0\n",
       "pao2                 0\n",
       "fio2                 0\n",
       "bilirubin            0\n",
       "observationoffset    0\n",
       "patientunitstayid    0\n",
       "dtype: int64"
      ]
     },
     "execution_count": 19,
     "metadata": {},
     "output_type": "execute_result"
    }
   ],
   "source": [
    "dfmain.isna().sum()"
   ]
  },
  {
   "cell_type": "markdown",
   "metadata": {},
   "source": [
    "#### Calculate Mean Arterial Pressure (MAP)"
   ]
  },
  {
   "cell_type": "code",
   "execution_count": 20,
   "metadata": {
    "collapsed": true
   },
   "outputs": [],
   "source": [
    "def calcMAP(listOfSBP, listofDBP):\n",
    "    \"\"\"A function to calculate MAP ie, Mean Arterial Pressure\"\"\"\n",
    "    \n",
    "    l = []\n",
    "    for i in range(len(listOfSBP)):\n",
    "        mapval = (listOfSBP[i] + (listofDBP[i])*2)/3.0\n",
    "        l.append(mapval)\n",
    "    \n",
    "    return l    "
   ]
  },
  {
   "cell_type": "code",
   "execution_count": 21,
   "metadata": {
    "collapsed": true
   },
   "outputs": [],
   "source": [
    "mapvals = calcMAP(df['noninvasivesystolic'].tolist(), df['noninvasivediastolic'].tolist())"
   ]
  },
  {
   "cell_type": "code",
   "execution_count": 22,
   "metadata": {
    "collapsed": true
   },
   "outputs": [],
   "source": [
    "mapvals = pd.DataFrame(mapvals, columns=['MAP'])"
   ]
  },
  {
   "cell_type": "code",
   "execution_count": 23,
   "metadata": {},
   "outputs": [
    {
     "data": {
      "text/html": [
       "<div>\n",
       "<style scoped>\n",
       "    .dataframe tbody tr th:only-of-type {\n",
       "        vertical-align: middle;\n",
       "    }\n",
       "\n",
       "    .dataframe tbody tr th {\n",
       "        vertical-align: top;\n",
       "    }\n",
       "\n",
       "    .dataframe thead th {\n",
       "        text-align: right;\n",
       "    }\n",
       "</style>\n",
       "<table border=\"1\" class=\"dataframe\">\n",
       "  <thead>\n",
       "    <tr style=\"text-align: right;\">\n",
       "      <th></th>\n",
       "      <th>MAP</th>\n",
       "    </tr>\n",
       "  </thead>\n",
       "  <tbody>\n",
       "    <tr>\n",
       "      <th>0</th>\n",
       "      <td>92.666667</td>\n",
       "    </tr>\n",
       "    <tr>\n",
       "      <th>1</th>\n",
       "      <td>80.000000</td>\n",
       "    </tr>\n",
       "    <tr>\n",
       "      <th>2</th>\n",
       "      <td>83.000000</td>\n",
       "    </tr>\n",
       "    <tr>\n",
       "      <th>3</th>\n",
       "      <td>85.666667</td>\n",
       "    </tr>\n",
       "    <tr>\n",
       "      <th>4</th>\n",
       "      <td>84.333333</td>\n",
       "    </tr>\n",
       "  </tbody>\n",
       "</table>\n",
       "</div>"
      ],
      "text/plain": [
       "         MAP\n",
       "0  92.666667\n",
       "1  80.000000\n",
       "2  83.000000\n",
       "3  85.666667\n",
       "4  84.333333"
      ]
     },
     "execution_count": 23,
     "metadata": {},
     "output_type": "execute_result"
    }
   ],
   "source": [
    "mapvals.head()"
   ]
  },
  {
   "cell_type": "markdown",
   "metadata": {},
   "source": [
    "#### Calculate Glasgow Coma Score (GCS)"
   ]
  },
  {
   "cell_type": "code",
   "execution_count": 24,
   "metadata": {
    "collapsed": true
   },
   "outputs": [],
   "source": [
    "def calcGCS(eyeslist, motorlist, verballist):\n",
    "    \"\"\"A function to calculate Glasgow Coma Scale\"\"\"\n",
    "    \n",
    "    l = []\n",
    "    for i in range(len(eyeslist)):\n",
    "        gcs = eyeslist[i] + motorlist[i] + verballist[i]\n",
    "        if gcs < 0:\n",
    "            l.append(None)\n",
    "        else:\n",
    "            l.append(gcs)\n",
    "    \n",
    "    return l"
   ]
  },
  {
   "cell_type": "code",
   "execution_count": 25,
   "metadata": {
    "collapsed": true
   },
   "outputs": [],
   "source": [
    "gcsvals = calcGCS(df['eyes'].tolist(), df['motor'].tolist(), df['verbal'].tolist())"
   ]
  },
  {
   "cell_type": "code",
   "execution_count": 26,
   "metadata": {
    "collapsed": true
   },
   "outputs": [],
   "source": [
    "gcsvals = pd.DataFrame(gcsvals, columns=['GCS'])"
   ]
  },
  {
   "cell_type": "code",
   "execution_count": 27,
   "metadata": {},
   "outputs": [
    {
     "data": {
      "text/html": [
       "<div>\n",
       "<style scoped>\n",
       "    .dataframe tbody tr th:only-of-type {\n",
       "        vertical-align: middle;\n",
       "    }\n",
       "\n",
       "    .dataframe tbody tr th {\n",
       "        vertical-align: top;\n",
       "    }\n",
       "\n",
       "    .dataframe thead th {\n",
       "        text-align: right;\n",
       "    }\n",
       "</style>\n",
       "<table border=\"1\" class=\"dataframe\">\n",
       "  <thead>\n",
       "    <tr style=\"text-align: right;\">\n",
       "      <th></th>\n",
       "      <th>GCS</th>\n",
       "    </tr>\n",
       "  </thead>\n",
       "  <tbody>\n",
       "    <tr>\n",
       "      <th>0</th>\n",
       "      <td>15.0</td>\n",
       "    </tr>\n",
       "    <tr>\n",
       "      <th>1</th>\n",
       "      <td>NaN</td>\n",
       "    </tr>\n",
       "    <tr>\n",
       "      <th>2</th>\n",
       "      <td>13.0</td>\n",
       "    </tr>\n",
       "    <tr>\n",
       "      <th>3</th>\n",
       "      <td>15.0</td>\n",
       "    </tr>\n",
       "    <tr>\n",
       "      <th>4</th>\n",
       "      <td>5.0</td>\n",
       "    </tr>\n",
       "  </tbody>\n",
       "</table>\n",
       "</div>"
      ],
      "text/plain": [
       "    GCS\n",
       "0  15.0\n",
       "1   NaN\n",
       "2  13.0\n",
       "3  15.0\n",
       "4   5.0"
      ]
     },
     "execution_count": 27,
     "metadata": {},
     "output_type": "execute_result"
    }
   ],
   "source": [
    "gcsvals.head()"
   ]
  },
  {
   "cell_type": "code",
   "execution_count": 28,
   "metadata": {},
   "outputs": [
    {
     "data": {
      "text/plain": [
       "GCS    4587\n",
       "dtype: int64"
      ]
     },
     "execution_count": 28,
     "metadata": {},
     "output_type": "execute_result"
    }
   ],
   "source": [
    "gcsvals.isna().sum()"
   ]
  },
  {
   "cell_type": "code",
   "execution_count": 29,
   "metadata": {},
   "outputs": [
    {
     "data": {
      "text/plain": [
       "138942"
      ]
     },
     "execution_count": 29,
     "metadata": {},
     "output_type": "execute_result"
    }
   ],
   "source": [
    "len(gcsvals)"
   ]
  },
  {
   "cell_type": "code",
   "execution_count": 30,
   "metadata": {},
   "outputs": [
    {
     "data": {
      "text/html": [
       "<div>\n",
       "<style scoped>\n",
       "    .dataframe tbody tr th:only-of-type {\n",
       "        vertical-align: middle;\n",
       "    }\n",
       "\n",
       "    .dataframe tbody tr th {\n",
       "        vertical-align: top;\n",
       "    }\n",
       "\n",
       "    .dataframe thead th {\n",
       "        text-align: right;\n",
       "    }\n",
       "</style>\n",
       "<table border=\"1\" class=\"dataframe\">\n",
       "  <thead>\n",
       "    <tr style=\"text-align: right;\">\n",
       "      <th></th>\n",
       "      <th>urine</th>\n",
       "      <th>wbc</th>\n",
       "      <th>creatinine</th>\n",
       "      <th>pao2</th>\n",
       "      <th>fio2</th>\n",
       "      <th>bilirubin</th>\n",
       "      <th>observationoffset</th>\n",
       "      <th>patientunitstayid</th>\n",
       "    </tr>\n",
       "  </thead>\n",
       "  <tbody>\n",
       "    <tr>\n",
       "      <th>0</th>\n",
       "      <td>-1.0</td>\n",
       "      <td>14.7</td>\n",
       "      <td>2.30</td>\n",
       "      <td>-1.0</td>\n",
       "      <td>-1.0</td>\n",
       "      <td>4.1</td>\n",
       "      <td>151</td>\n",
       "      <td>141168</td>\n",
       "    </tr>\n",
       "    <tr>\n",
       "      <th>1</th>\n",
       "      <td>-1.0</td>\n",
       "      <td>-1.0</td>\n",
       "      <td>-1.00</td>\n",
       "      <td>-1.0</td>\n",
       "      <td>-1.0</td>\n",
       "      <td>-1.0</td>\n",
       "      <td>647</td>\n",
       "      <td>141178</td>\n",
       "    </tr>\n",
       "    <tr>\n",
       "      <th>2</th>\n",
       "      <td>-1.0</td>\n",
       "      <td>14.1</td>\n",
       "      <td>2.51</td>\n",
       "      <td>-1.0</td>\n",
       "      <td>-1.0</td>\n",
       "      <td>0.4</td>\n",
       "      <td>36</td>\n",
       "      <td>141194</td>\n",
       "    </tr>\n",
       "    <tr>\n",
       "      <th>3</th>\n",
       "      <td>-1.0</td>\n",
       "      <td>-1.0</td>\n",
       "      <td>-1.00</td>\n",
       "      <td>-1.0</td>\n",
       "      <td>-1.0</td>\n",
       "      <td>-1.0</td>\n",
       "      <td>5037</td>\n",
       "      <td>141197</td>\n",
       "    </tr>\n",
       "    <tr>\n",
       "      <th>4</th>\n",
       "      <td>-1.0</td>\n",
       "      <td>12.7</td>\n",
       "      <td>0.56</td>\n",
       "      <td>51.0</td>\n",
       "      <td>100.0</td>\n",
       "      <td>-1.0</td>\n",
       "      <td>10175</td>\n",
       "      <td>141203</td>\n",
       "    </tr>\n",
       "  </tbody>\n",
       "</table>\n",
       "</div>"
      ],
      "text/plain": [
       "   urine   wbc  creatinine  pao2   fio2  bilirubin  observationoffset  \\\n",
       "0   -1.0  14.7        2.30  -1.0   -1.0        4.1                151   \n",
       "1   -1.0  -1.0       -1.00  -1.0   -1.0       -1.0                647   \n",
       "2   -1.0  14.1        2.51  -1.0   -1.0        0.4                 36   \n",
       "3   -1.0  -1.0       -1.00  -1.0   -1.0       -1.0               5037   \n",
       "4   -1.0  12.7        0.56  51.0  100.0       -1.0              10175   \n",
       "\n",
       "   patientunitstayid  \n",
       "0             141168  \n",
       "1             141178  \n",
       "2             141194  \n",
       "3             141197  \n",
       "4             141203  "
      ]
     },
     "execution_count": 30,
     "metadata": {},
     "output_type": "execute_result"
    }
   ],
   "source": [
    "dfmain.head()"
   ]
  },
  {
   "cell_type": "code",
   "execution_count": 31,
   "metadata": {
    "collapsed": true
   },
   "outputs": [],
   "source": [
    "#Concat the datasets\n",
    "dfmain = pd.concat([dfmain, mapvals, gcsvals], axis=1)"
   ]
  },
  {
   "cell_type": "code",
   "execution_count": 32,
   "metadata": {},
   "outputs": [
    {
     "data": {
      "text/plain": [
       "urine                   0\n",
       "wbc                     0\n",
       "creatinine              0\n",
       "pao2                    0\n",
       "fio2                    0\n",
       "bilirubin               0\n",
       "observationoffset       0\n",
       "patientunitstayid       0\n",
       "MAP                     0\n",
       "GCS                  4587\n",
       "dtype: int64"
      ]
     },
     "execution_count": 32,
     "metadata": {},
     "output_type": "execute_result"
    }
   ],
   "source": [
    "dfmain.isna().sum()"
   ]
  },
  {
   "cell_type": "code",
   "execution_count": 33,
   "metadata": {
    "collapsed": true
   },
   "outputs": [],
   "source": [
    "dfmain.dropna(inplace=True)"
   ]
  },
  {
   "cell_type": "code",
   "execution_count": 34,
   "metadata": {
    "collapsed": true
   },
   "outputs": [],
   "source": [
    "dfmain.reset_index(inplace=True)"
   ]
  },
  {
   "cell_type": "code",
   "execution_count": 35,
   "metadata": {},
   "outputs": [
    {
     "data": {
      "text/html": [
       "<div>\n",
       "<style scoped>\n",
       "    .dataframe tbody tr th:only-of-type {\n",
       "        vertical-align: middle;\n",
       "    }\n",
       "\n",
       "    .dataframe tbody tr th {\n",
       "        vertical-align: top;\n",
       "    }\n",
       "\n",
       "    .dataframe thead th {\n",
       "        text-align: right;\n",
       "    }\n",
       "</style>\n",
       "<table border=\"1\" class=\"dataframe\">\n",
       "  <thead>\n",
       "    <tr style=\"text-align: right;\">\n",
       "      <th></th>\n",
       "      <th>index</th>\n",
       "      <th>urine</th>\n",
       "      <th>wbc</th>\n",
       "      <th>creatinine</th>\n",
       "      <th>pao2</th>\n",
       "      <th>fio2</th>\n",
       "      <th>bilirubin</th>\n",
       "      <th>observationoffset</th>\n",
       "      <th>patientunitstayid</th>\n",
       "      <th>MAP</th>\n",
       "      <th>GCS</th>\n",
       "    </tr>\n",
       "  </thead>\n",
       "  <tbody>\n",
       "    <tr>\n",
       "      <th>0</th>\n",
       "      <td>0</td>\n",
       "      <td>-1.0</td>\n",
       "      <td>14.7</td>\n",
       "      <td>2.30</td>\n",
       "      <td>-1.0</td>\n",
       "      <td>-1.0</td>\n",
       "      <td>4.1</td>\n",
       "      <td>151</td>\n",
       "      <td>141168</td>\n",
       "      <td>92.666667</td>\n",
       "      <td>15.0</td>\n",
       "    </tr>\n",
       "    <tr>\n",
       "      <th>1</th>\n",
       "      <td>2</td>\n",
       "      <td>-1.0</td>\n",
       "      <td>14.1</td>\n",
       "      <td>2.51</td>\n",
       "      <td>-1.0</td>\n",
       "      <td>-1.0</td>\n",
       "      <td>0.4</td>\n",
       "      <td>36</td>\n",
       "      <td>141194</td>\n",
       "      <td>83.000000</td>\n",
       "      <td>13.0</td>\n",
       "    </tr>\n",
       "    <tr>\n",
       "      <th>2</th>\n",
       "      <td>3</td>\n",
       "      <td>-1.0</td>\n",
       "      <td>-1.0</td>\n",
       "      <td>-1.00</td>\n",
       "      <td>-1.0</td>\n",
       "      <td>-1.0</td>\n",
       "      <td>-1.0</td>\n",
       "      <td>5037</td>\n",
       "      <td>141197</td>\n",
       "      <td>85.666667</td>\n",
       "      <td>15.0</td>\n",
       "    </tr>\n",
       "    <tr>\n",
       "      <th>3</th>\n",
       "      <td>4</td>\n",
       "      <td>-1.0</td>\n",
       "      <td>12.7</td>\n",
       "      <td>0.56</td>\n",
       "      <td>51.0</td>\n",
       "      <td>100.0</td>\n",
       "      <td>-1.0</td>\n",
       "      <td>10175</td>\n",
       "      <td>141203</td>\n",
       "      <td>84.333333</td>\n",
       "      <td>5.0</td>\n",
       "    </tr>\n",
       "    <tr>\n",
       "      <th>4</th>\n",
       "      <td>5</td>\n",
       "      <td>-1.0</td>\n",
       "      <td>-1.0</td>\n",
       "      <td>-1.00</td>\n",
       "      <td>-1.0</td>\n",
       "      <td>-1.0</td>\n",
       "      <td>-1.0</td>\n",
       "      <td>5273</td>\n",
       "      <td>141208</td>\n",
       "      <td>76.333333</td>\n",
       "      <td>14.0</td>\n",
       "    </tr>\n",
       "  </tbody>\n",
       "</table>\n",
       "</div>"
      ],
      "text/plain": [
       "   index  urine   wbc  creatinine  pao2   fio2  bilirubin  observationoffset  \\\n",
       "0      0   -1.0  14.7        2.30  -1.0   -1.0        4.1                151   \n",
       "1      2   -1.0  14.1        2.51  -1.0   -1.0        0.4                 36   \n",
       "2      3   -1.0  -1.0       -1.00  -1.0   -1.0       -1.0               5037   \n",
       "3      4   -1.0  12.7        0.56  51.0  100.0       -1.0              10175   \n",
       "4      5   -1.0  -1.0       -1.00  -1.0   -1.0       -1.0               5273   \n",
       "\n",
       "   patientunitstayid        MAP   GCS  \n",
       "0             141168  92.666667  15.0  \n",
       "1             141194  83.000000  13.0  \n",
       "2             141197  85.666667  15.0  \n",
       "3             141203  84.333333   5.0  \n",
       "4             141208  76.333333  14.0  "
      ]
     },
     "execution_count": 35,
     "metadata": {},
     "output_type": "execute_result"
    }
   ],
   "source": [
    "dfmain.head()"
   ]
  },
  {
   "cell_type": "code",
   "execution_count": 36,
   "metadata": {},
   "outputs": [
    {
     "data": {
      "text/plain": [
       "(134355, 11)"
      ]
     },
     "execution_count": 36,
     "metadata": {},
     "output_type": "execute_result"
    }
   ],
   "source": [
    "dfmain.shape"
   ]
  },
  {
   "cell_type": "markdown",
   "metadata": {},
   "source": [
    "#### Calculate the SOFA score"
   ]
  },
  {
   "cell_type": "code",
   "execution_count": 37,
   "metadata": {
    "collapsed": true
   },
   "outputs": [],
   "source": [
    "def calcSOFA(wbclist, creatininelist, pao2list, bilirubinlist, maplist, gcslist):\n",
    "    \"\"\"A function to calculate sofa score\"\"\"\n",
    "    \n",
    "    l = []\n",
    "    for i in range(len(creatininelist)):\n",
    "        \n",
    "        ## calculate wbc/platelets score\n",
    "        if wbclist[i] == -0.1:\n",
    "            wbc = 0\n",
    "        elif wbclist[i] >= 150:\n",
    "            wbc = 0\n",
    "        elif wbclist[i] < 20:\n",
    "            wbc = 4\n",
    "        elif wbclist[i] < 50:\n",
    "            wbc = 3\n",
    "        elif wbclist[i] < 100:\n",
    "            wbc = 2\n",
    "        elif wbclist[i] < 150:\n",
    "            wbc = 1\n",
    "        else:\n",
    "            wbc = 0\n",
    "                \n",
    "        ## calculate creatinine score\n",
    "        if creatininelist[i] == -0.1:\n",
    "            renal = 0\n",
    "        elif creatininelist[i] >= 5.0:\n",
    "            renal = 4\n",
    "        elif creatininelist[i] >= 3.5:\n",
    "            renal = 3\n",
    "        elif creatininelist[i] >= 2.0:\n",
    "            renal = 2\n",
    "        elif creatininelist[i] >= 1.2:\n",
    "            renal = 1\n",
    "        elif creatininelist[i] < 1.2:\n",
    "            renal = 0\n",
    "        else: \n",
    "            renal = 0\n",
    "            \n",
    "        ## calculate pao2 score\n",
    "        if pao2list[i] == -1.0:\n",
    "            resp = 0\n",
    "        elif pao2list[i] < 100:\n",
    "            resp = 4\n",
    "        elif pao2list[i] < 200:\n",
    "            resp = 3\n",
    "        elif pao2list[i] < 300:\n",
    "            resp = 2\n",
    "        elif pao2list[i] < 400:\n",
    "            resp = 1\n",
    "        elif pao2list[i] >= 400:\n",
    "            resp = 0\n",
    "        else:\n",
    "            resp = 0\n",
    "            \n",
    "        ## calculate bilirubin score\n",
    "        if bilirubinlist[i] == -1.0:\n",
    "            liver = 0\n",
    "        elif bilirubinlist[i] < 1.2:\n",
    "            liver = 0\n",
    "        elif bilirubinlist[i] < 2.0:\n",
    "            liver = 1\n",
    "        elif bilirubinlist[i] < 6.0:\n",
    "            liver = 2\n",
    "        elif bilirubinlist[i] < 12.0:\n",
    "            liver = 3\n",
    "        elif bilirubinlist[i] >= 12.0:\n",
    "            liver = 4\n",
    "        else:\n",
    "            liver = 0\n",
    "            \n",
    "        ## calculate MAP score\n",
    "        if maplist[i] == -1.0:\n",
    "            mapval = 0\n",
    "        elif maplist[i] < 70:\n",
    "            mapval = 1\n",
    "        elif maplist[i] >= 70:\n",
    "            mapval = 0\n",
    "        else: \n",
    "            mapval = 0\n",
    "            \n",
    "        ## calculate Glasgow Coma Score (GCS) score\n",
    "        if gcslist[i] == -1.0:\n",
    "            gcs = 0\n",
    "        elif gcslist[i] < 6:\n",
    "            gcs = 4\n",
    "        elif gcslist[i] < 10:\n",
    "            gcs = 3\n",
    "        elif gcslist[i] < 13:\n",
    "            gcs = 2\n",
    "        elif gcslist[i] < 15:\n",
    "            gcs = 1\n",
    "        elif gcslist[i] == 15:\n",
    "            gcs = 0\n",
    "        else:\n",
    "            gcs = 0\n",
    "    \n",
    "        ## CALCULATE the sofa score and append it\n",
    "        sofascore = wbc + renal + resp + liver + mapval + gcs\n",
    "        l.append(sofascore)\n",
    "        \n",
    "    \n",
    "    return l\n"
   ]
  },
  {
   "cell_type": "code",
   "execution_count": 38,
   "metadata": {
    "collapsed": true
   },
   "outputs": [],
   "source": [
    "sofaslist = calcSOFA(dfmain['wbc'].tolist(), dfmain['creatinine'].tolist(), \n",
    "                     dfmain['pao2'].tolist(), dfmain['bilirubin'].tolist(),\n",
    "                     dfmain['MAP'].tolist(), dfmain['GCS'].tolist())"
   ]
  },
  {
   "cell_type": "code",
   "execution_count": 39,
   "metadata": {
    "collapsed": true
   },
   "outputs": [],
   "source": [
    "sofaslist = pd.DataFrame(sofaslist, columns=['SOFA'])"
   ]
  },
  {
   "cell_type": "code",
   "execution_count": 40,
   "metadata": {
    "collapsed": true
   },
   "outputs": [],
   "source": [
    "# Concat the SOFA column\n",
    "dfmain = pd.concat([dfmain, sofaslist], axis=1)"
   ]
  },
  {
   "cell_type": "code",
   "execution_count": 41,
   "metadata": {},
   "outputs": [
    {
     "data": {
      "text/html": [
       "<div>\n",
       "<style scoped>\n",
       "    .dataframe tbody tr th:only-of-type {\n",
       "        vertical-align: middle;\n",
       "    }\n",
       "\n",
       "    .dataframe tbody tr th {\n",
       "        vertical-align: top;\n",
       "    }\n",
       "\n",
       "    .dataframe thead th {\n",
       "        text-align: right;\n",
       "    }\n",
       "</style>\n",
       "<table border=\"1\" class=\"dataframe\">\n",
       "  <thead>\n",
       "    <tr style=\"text-align: right;\">\n",
       "      <th></th>\n",
       "      <th>index</th>\n",
       "      <th>urine</th>\n",
       "      <th>wbc</th>\n",
       "      <th>creatinine</th>\n",
       "      <th>pao2</th>\n",
       "      <th>fio2</th>\n",
       "      <th>bilirubin</th>\n",
       "      <th>observationoffset</th>\n",
       "      <th>patientunitstayid</th>\n",
       "      <th>MAP</th>\n",
       "      <th>GCS</th>\n",
       "      <th>SOFA</th>\n",
       "    </tr>\n",
       "  </thead>\n",
       "  <tbody>\n",
       "    <tr>\n",
       "      <th>0</th>\n",
       "      <td>0</td>\n",
       "      <td>-1.0</td>\n",
       "      <td>14.7</td>\n",
       "      <td>2.30</td>\n",
       "      <td>-1.0</td>\n",
       "      <td>-1.0</td>\n",
       "      <td>4.1</td>\n",
       "      <td>151</td>\n",
       "      <td>141168</td>\n",
       "      <td>92.666667</td>\n",
       "      <td>15.0</td>\n",
       "      <td>8</td>\n",
       "    </tr>\n",
       "    <tr>\n",
       "      <th>1</th>\n",
       "      <td>2</td>\n",
       "      <td>-1.0</td>\n",
       "      <td>14.1</td>\n",
       "      <td>2.51</td>\n",
       "      <td>-1.0</td>\n",
       "      <td>-1.0</td>\n",
       "      <td>0.4</td>\n",
       "      <td>36</td>\n",
       "      <td>141194</td>\n",
       "      <td>83.000000</td>\n",
       "      <td>13.0</td>\n",
       "      <td>7</td>\n",
       "    </tr>\n",
       "    <tr>\n",
       "      <th>2</th>\n",
       "      <td>3</td>\n",
       "      <td>-1.0</td>\n",
       "      <td>-1.0</td>\n",
       "      <td>-1.00</td>\n",
       "      <td>-1.0</td>\n",
       "      <td>-1.0</td>\n",
       "      <td>-1.0</td>\n",
       "      <td>5037</td>\n",
       "      <td>141197</td>\n",
       "      <td>85.666667</td>\n",
       "      <td>15.0</td>\n",
       "      <td>4</td>\n",
       "    </tr>\n",
       "    <tr>\n",
       "      <th>3</th>\n",
       "      <td>4</td>\n",
       "      <td>-1.0</td>\n",
       "      <td>12.7</td>\n",
       "      <td>0.56</td>\n",
       "      <td>51.0</td>\n",
       "      <td>100.0</td>\n",
       "      <td>-1.0</td>\n",
       "      <td>10175</td>\n",
       "      <td>141203</td>\n",
       "      <td>84.333333</td>\n",
       "      <td>5.0</td>\n",
       "      <td>12</td>\n",
       "    </tr>\n",
       "    <tr>\n",
       "      <th>4</th>\n",
       "      <td>5</td>\n",
       "      <td>-1.0</td>\n",
       "      <td>-1.0</td>\n",
       "      <td>-1.00</td>\n",
       "      <td>-1.0</td>\n",
       "      <td>-1.0</td>\n",
       "      <td>-1.0</td>\n",
       "      <td>5273</td>\n",
       "      <td>141208</td>\n",
       "      <td>76.333333</td>\n",
       "      <td>14.0</td>\n",
       "      <td>5</td>\n",
       "    </tr>\n",
       "  </tbody>\n",
       "</table>\n",
       "</div>"
      ],
      "text/plain": [
       "   index  urine   wbc  creatinine  pao2   fio2  bilirubin  observationoffset  \\\n",
       "0      0   -1.0  14.7        2.30  -1.0   -1.0        4.1                151   \n",
       "1      2   -1.0  14.1        2.51  -1.0   -1.0        0.4                 36   \n",
       "2      3   -1.0  -1.0       -1.00  -1.0   -1.0       -1.0               5037   \n",
       "3      4   -1.0  12.7        0.56  51.0  100.0       -1.0              10175   \n",
       "4      5   -1.0  -1.0       -1.00  -1.0   -1.0       -1.0               5273   \n",
       "\n",
       "   patientunitstayid        MAP   GCS  SOFA  \n",
       "0             141168  92.666667  15.0     8  \n",
       "1             141194  83.000000  13.0     7  \n",
       "2             141197  85.666667  15.0     4  \n",
       "3             141203  84.333333   5.0    12  \n",
       "4             141208  76.333333  14.0     5  "
      ]
     },
     "execution_count": 41,
     "metadata": {},
     "output_type": "execute_result"
    }
   ],
   "source": [
    "dfmain.head()"
   ]
  },
  {
   "cell_type": "code",
   "execution_count": 42,
   "metadata": {
    "scrolled": false
   },
   "outputs": [
    {
     "data": {
      "text/plain": [
       "4     38789\n",
       "5     26693\n",
       "6     15202\n",
       "8     12239\n",
       "7     12057\n",
       "9      8299\n",
       "10     6497\n",
       "11     5303\n",
       "12     3658\n",
       "13     2062\n",
       "3      1481\n",
       "14     1062\n",
       "15      570\n",
       "16      243\n",
       "17      100\n",
       "2        47\n",
       "18       26\n",
       "19       13\n",
       "1        11\n",
       "0         3\n",
       "Name: SOFA, dtype: int64"
      ]
     },
     "execution_count": 42,
     "metadata": {},
     "output_type": "execute_result"
    }
   ],
   "source": [
    "dfmain['SOFA'].value_counts()"
   ]
  },
  {
   "cell_type": "code",
   "execution_count": 43,
   "metadata": {},
   "outputs": [
    {
     "data": {
      "text/plain": [
       "Index(['vitalaperiodicid', 'patientunitstayid', 'observationoffset',\n",
       "       'noninvasivesystolic', 'noninvasivediastolic', 'noninvasivemean',\n",
       "       'paop', 'cardiacoutput', 'cardiacinput', 'svr', 'svri', 'pvr', 'pvri'],\n",
       "      dtype='object')"
      ]
     },
     "execution_count": 43,
     "metadata": {},
     "output_type": "execute_result"
    }
   ],
   "source": [
    "vitsaperiod.columns"
   ]
  },
  {
   "cell_type": "code",
   "execution_count": 44,
   "metadata": {
    "scrolled": true
   },
   "outputs": [
    {
     "data": {
      "text/plain": [
       "(25075074, 13)"
      ]
     },
     "execution_count": 44,
     "metadata": {},
     "output_type": "execute_result"
    }
   ],
   "source": [
    "vitsaperiod.shape"
   ]
  },
  {
   "cell_type": "markdown",
   "metadata": {},
   "source": [
    "### Medication datasets exploration\n",
    "Medication datasets basic exploration for the calculation of tSuspicion."
   ]
  },
  {
   "cell_type": "code",
   "execution_count": 45,
   "metadata": {},
   "outputs": [
    {
     "name": "stderr",
     "output_type": "stream",
     "text": [
      "E:\\Anaconda-3\\envs\\tfdeeplearning\\lib\\site-packages\\IPython\\core\\interactiveshell.py:2698: DtypeWarning: Columns (11) have mixed types. Specify dtype option on import or set low_memory=False.\n",
      "  interactivity=interactivity, compiler=compiler, result=result)\n"
     ]
    }
   ],
   "source": [
    "medication = pd.read_csv('../data/medication.csv')"
   ]
  },
  {
   "cell_type": "code",
   "execution_count": 46,
   "metadata": {},
   "outputs": [
    {
     "data": {
      "text/html": [
       "<div>\n",
       "<style scoped>\n",
       "    .dataframe tbody tr th:only-of-type {\n",
       "        vertical-align: middle;\n",
       "    }\n",
       "\n",
       "    .dataframe tbody tr th {\n",
       "        vertical-align: top;\n",
       "    }\n",
       "\n",
       "    .dataframe thead th {\n",
       "        text-align: right;\n",
       "    }\n",
       "</style>\n",
       "<table border=\"1\" class=\"dataframe\">\n",
       "  <thead>\n",
       "    <tr style=\"text-align: right;\">\n",
       "      <th></th>\n",
       "      <th>medicationid</th>\n",
       "      <th>patientunitstayid</th>\n",
       "      <th>drugorderoffset</th>\n",
       "      <th>drugstartoffset</th>\n",
       "      <th>drugivadmixture</th>\n",
       "      <th>drugordercancelled</th>\n",
       "      <th>drugname</th>\n",
       "      <th>drughiclseqno</th>\n",
       "      <th>dosage</th>\n",
       "      <th>routeadmin</th>\n",
       "      <th>frequency</th>\n",
       "      <th>loadingdose</th>\n",
       "      <th>prn</th>\n",
       "      <th>drugstopoffset</th>\n",
       "      <th>gtc</th>\n",
       "    </tr>\n",
       "  </thead>\n",
       "  <tbody>\n",
       "    <tr>\n",
       "      <th>0</th>\n",
       "      <td>7426715</td>\n",
       "      <td>141168</td>\n",
       "      <td>309</td>\n",
       "      <td>666</td>\n",
       "      <td>No</td>\n",
       "      <td>No</td>\n",
       "      <td>METOPROLOL TARTRATE 25 MG PO TABS</td>\n",
       "      <td>2102.0</td>\n",
       "      <td>25 3</td>\n",
       "      <td>PO</td>\n",
       "      <td>Q12H SCH</td>\n",
       "      <td>NaN</td>\n",
       "      <td>No</td>\n",
       "      <td>1826</td>\n",
       "      <td>0</td>\n",
       "    </tr>\n",
       "    <tr>\n",
       "      <th>1</th>\n",
       "      <td>9643232</td>\n",
       "      <td>141168</td>\n",
       "      <td>1847</td>\n",
       "      <td>1832</td>\n",
       "      <td>No</td>\n",
       "      <td>No</td>\n",
       "      <td>3 ML  -  IPRATROPIUM-ALBUTEROL 0.5-2.5 (3) MG/...</td>\n",
       "      <td>NaN</td>\n",
       "      <td>3 1</td>\n",
       "      <td>NEBULIZATION</td>\n",
       "      <td>Q4H Resp PRN</td>\n",
       "      <td>NaN</td>\n",
       "      <td>Yes</td>\n",
       "      <td>2047</td>\n",
       "      <td>0</td>\n",
       "    </tr>\n",
       "    <tr>\n",
       "      <th>2</th>\n",
       "      <td>10270090</td>\n",
       "      <td>141168</td>\n",
       "      <td>296</td>\n",
       "      <td>1386</td>\n",
       "      <td>No</td>\n",
       "      <td>No</td>\n",
       "      <td>ASPIRIN EC 81 MG PO TBEC</td>\n",
       "      <td>1820.0</td>\n",
       "      <td>81 3</td>\n",
       "      <td>PO</td>\n",
       "      <td>Daily</td>\n",
       "      <td>NaN</td>\n",
       "      <td>No</td>\n",
       "      <td>2390</td>\n",
       "      <td>0</td>\n",
       "    </tr>\n",
       "    <tr>\n",
       "      <th>3</th>\n",
       "      <td>9496768</td>\n",
       "      <td>141168</td>\n",
       "      <td>2048</td>\n",
       "      <td>2029</td>\n",
       "      <td>No</td>\n",
       "      <td>No</td>\n",
       "      <td>3 ML  -  IPRATROPIUM-ALBUTEROL 0.5-2.5 (3) MG/...</td>\n",
       "      <td>NaN</td>\n",
       "      <td>3 1</td>\n",
       "      <td>NEBULIZATION</td>\n",
       "      <td>Q4H Resp PRN</td>\n",
       "      <td>NaN</td>\n",
       "      <td>Yes</td>\n",
       "      <td>2390</td>\n",
       "      <td>0</td>\n",
       "    </tr>\n",
       "    <tr>\n",
       "      <th>4</th>\n",
       "      <td>11259680</td>\n",
       "      <td>141168</td>\n",
       "      <td>117</td>\n",
       "      <td>246</td>\n",
       "      <td>No</td>\n",
       "      <td>No</td>\n",
       "      <td>ENOXAPARIN SODIUM 40 MG/0.4ML SC SOLN</td>\n",
       "      <td>NaN</td>\n",
       "      <td>40 3</td>\n",
       "      <td>SC</td>\n",
       "      <td>Daily</td>\n",
       "      <td>NaN</td>\n",
       "      <td>No</td>\n",
       "      <td>1721</td>\n",
       "      <td>0</td>\n",
       "    </tr>\n",
       "  </tbody>\n",
       "</table>\n",
       "</div>"
      ],
      "text/plain": [
       "   medicationid  patientunitstayid  drugorderoffset  drugstartoffset  \\\n",
       "0       7426715             141168              309              666   \n",
       "1       9643232             141168             1847             1832   \n",
       "2      10270090             141168              296             1386   \n",
       "3       9496768             141168             2048             2029   \n",
       "4      11259680             141168              117              246   \n",
       "\n",
       "  drugivadmixture drugordercancelled  \\\n",
       "0              No                 No   \n",
       "1              No                 No   \n",
       "2              No                 No   \n",
       "3              No                 No   \n",
       "4              No                 No   \n",
       "\n",
       "                                            drugname  drughiclseqno dosage  \\\n",
       "0                  METOPROLOL TARTRATE 25 MG PO TABS         2102.0   25 3   \n",
       "1  3 ML  -  IPRATROPIUM-ALBUTEROL 0.5-2.5 (3) MG/...            NaN    3 1   \n",
       "2                           ASPIRIN EC 81 MG PO TBEC         1820.0   81 3   \n",
       "3  3 ML  -  IPRATROPIUM-ALBUTEROL 0.5-2.5 (3) MG/...            NaN    3 1   \n",
       "4              ENOXAPARIN SODIUM 40 MG/0.4ML SC SOLN            NaN   40 3   \n",
       "\n",
       "     routeadmin     frequency loadingdose  prn  drugstopoffset  gtc  \n",
       "0            PO      Q12H SCH         NaN   No            1826    0  \n",
       "1  NEBULIZATION  Q4H Resp PRN         NaN  Yes            2047    0  \n",
       "2            PO         Daily         NaN   No            2390    0  \n",
       "3  NEBULIZATION  Q4H Resp PRN         NaN  Yes            2390    0  \n",
       "4            SC         Daily         NaN   No            1721    0  "
      ]
     },
     "execution_count": 46,
     "metadata": {},
     "output_type": "execute_result"
    }
   ],
   "source": [
    "medication.head()"
   ]
  },
  {
   "cell_type": "code",
   "execution_count": 47,
   "metadata": {},
   "outputs": [
    {
     "data": {
      "text/plain": [
       "Index(['medicationid', 'patientunitstayid', 'drugorderoffset',\n",
       "       'drugstartoffset', 'drugivadmixture', 'drugordercancelled', 'drugname',\n",
       "       'drughiclseqno', 'dosage', 'routeadmin', 'frequency', 'loadingdose',\n",
       "       'prn', 'drugstopoffset', 'gtc'],\n",
       "      dtype='object')"
      ]
     },
     "execution_count": 47,
     "metadata": {},
     "output_type": "execute_result"
    }
   ],
   "source": [
    "medication.columns"
   ]
  },
  {
   "cell_type": "markdown",
   "metadata": {},
   "source": [
    "#### Get the drug (antibiotics) start and stop time"
   ]
  },
  {
   "cell_type": "code",
   "execution_count": 48,
   "metadata": {
    "collapsed": true
   },
   "outputs": [],
   "source": [
    "dfmeds = medication[['medicationid', 'patientunitstayid', 'drugstartoffset', 'drugstopoffset']]"
   ]
  },
  {
   "cell_type": "code",
   "execution_count": 49,
   "metadata": {},
   "outputs": [
    {
     "data": {
      "text/html": [
       "<div>\n",
       "<style scoped>\n",
       "    .dataframe tbody tr th:only-of-type {\n",
       "        vertical-align: middle;\n",
       "    }\n",
       "\n",
       "    .dataframe tbody tr th {\n",
       "        vertical-align: top;\n",
       "    }\n",
       "\n",
       "    .dataframe thead th {\n",
       "        text-align: right;\n",
       "    }\n",
       "</style>\n",
       "<table border=\"1\" class=\"dataframe\">\n",
       "  <thead>\n",
       "    <tr style=\"text-align: right;\">\n",
       "      <th></th>\n",
       "      <th>medicationid</th>\n",
       "      <th>patientunitstayid</th>\n",
       "      <th>drugstartoffset</th>\n",
       "      <th>drugstopoffset</th>\n",
       "    </tr>\n",
       "  </thead>\n",
       "  <tbody>\n",
       "    <tr>\n",
       "      <th>0</th>\n",
       "      <td>7426715</td>\n",
       "      <td>141168</td>\n",
       "      <td>666</td>\n",
       "      <td>1826</td>\n",
       "    </tr>\n",
       "    <tr>\n",
       "      <th>1</th>\n",
       "      <td>9643232</td>\n",
       "      <td>141168</td>\n",
       "      <td>1832</td>\n",
       "      <td>2047</td>\n",
       "    </tr>\n",
       "    <tr>\n",
       "      <th>2</th>\n",
       "      <td>10270090</td>\n",
       "      <td>141168</td>\n",
       "      <td>1386</td>\n",
       "      <td>2390</td>\n",
       "    </tr>\n",
       "    <tr>\n",
       "      <th>3</th>\n",
       "      <td>9496768</td>\n",
       "      <td>141168</td>\n",
       "      <td>2029</td>\n",
       "      <td>2390</td>\n",
       "    </tr>\n",
       "    <tr>\n",
       "      <th>4</th>\n",
       "      <td>11259680</td>\n",
       "      <td>141168</td>\n",
       "      <td>246</td>\n",
       "      <td>1721</td>\n",
       "    </tr>\n",
       "  </tbody>\n",
       "</table>\n",
       "</div>"
      ],
      "text/plain": [
       "   medicationid  patientunitstayid  drugstartoffset  drugstopoffset\n",
       "0       7426715             141168              666            1826\n",
       "1       9643232             141168             1832            2047\n",
       "2      10270090             141168             1386            2390\n",
       "3       9496768             141168             2029            2390\n",
       "4      11259680             141168              246            1721"
      ]
     },
     "execution_count": 49,
     "metadata": {},
     "output_type": "execute_result"
    }
   ],
   "source": [
    "dfmeds.head()"
   ]
  },
  {
   "cell_type": "code",
   "execution_count": 50,
   "metadata": {},
   "outputs": [
    {
     "data": {
      "text/plain": [
       "medicationid         0\n",
       "patientunitstayid    0\n",
       "drugstartoffset      0\n",
       "drugstopoffset       0\n",
       "dtype: int64"
      ]
     },
     "execution_count": 50,
     "metadata": {},
     "output_type": "execute_result"
    }
   ],
   "source": [
    "dfmeds.isna().sum()"
   ]
  },
  {
   "cell_type": "code",
   "execution_count": 51,
   "metadata": {
    "collapsed": true
   },
   "outputs": [],
   "source": [
    "diagnosis = pd.read_csv('../data/diagnosis.csv')"
   ]
  },
  {
   "cell_type": "code",
   "execution_count": 52,
   "metadata": {},
   "outputs": [
    {
     "data": {
      "text/html": [
       "<div>\n",
       "<style scoped>\n",
       "    .dataframe tbody tr th:only-of-type {\n",
       "        vertical-align: middle;\n",
       "    }\n",
       "\n",
       "    .dataframe tbody tr th {\n",
       "        vertical-align: top;\n",
       "    }\n",
       "\n",
       "    .dataframe thead th {\n",
       "        text-align: right;\n",
       "    }\n",
       "</style>\n",
       "<table border=\"1\" class=\"dataframe\">\n",
       "  <thead>\n",
       "    <tr style=\"text-align: right;\">\n",
       "      <th></th>\n",
       "      <th>diagnosisid</th>\n",
       "      <th>patientunitstayid</th>\n",
       "      <th>activeupondischarge</th>\n",
       "      <th>diagnosisoffset</th>\n",
       "      <th>diagnosisstring</th>\n",
       "      <th>icd9code</th>\n",
       "      <th>diagnosispriority</th>\n",
       "    </tr>\n",
       "  </thead>\n",
       "  <tbody>\n",
       "    <tr>\n",
       "      <th>0</th>\n",
       "      <td>4222318</td>\n",
       "      <td>141168</td>\n",
       "      <td>False</td>\n",
       "      <td>72</td>\n",
       "      <td>cardiovascular|chest pain / ASHD|coronary arte...</td>\n",
       "      <td>414.00, I25.10</td>\n",
       "      <td>Other</td>\n",
       "    </tr>\n",
       "    <tr>\n",
       "      <th>1</th>\n",
       "      <td>3370568</td>\n",
       "      <td>141168</td>\n",
       "      <td>True</td>\n",
       "      <td>118</td>\n",
       "      <td>cardiovascular|ventricular disorders|cardiomyo...</td>\n",
       "      <td>NaN</td>\n",
       "      <td>Other</td>\n",
       "    </tr>\n",
       "    <tr>\n",
       "      <th>2</th>\n",
       "      <td>4160941</td>\n",
       "      <td>141168</td>\n",
       "      <td>False</td>\n",
       "      <td>72</td>\n",
       "      <td>pulmonary|disorders of the airways|COPD</td>\n",
       "      <td>491.20, J44.9</td>\n",
       "      <td>Other</td>\n",
       "    </tr>\n",
       "    <tr>\n",
       "      <th>3</th>\n",
       "      <td>4103261</td>\n",
       "      <td>141168</td>\n",
       "      <td>True</td>\n",
       "      <td>118</td>\n",
       "      <td>pulmonary|disorders of the airways|COPD</td>\n",
       "      <td>491.20, J44.9</td>\n",
       "      <td>Other</td>\n",
       "    </tr>\n",
       "    <tr>\n",
       "      <th>4</th>\n",
       "      <td>3545241</td>\n",
       "      <td>141168</td>\n",
       "      <td>True</td>\n",
       "      <td>118</td>\n",
       "      <td>cardiovascular|ventricular disorders|congestiv...</td>\n",
       "      <td>428.0, I50.9</td>\n",
       "      <td>Other</td>\n",
       "    </tr>\n",
       "  </tbody>\n",
       "</table>\n",
       "</div>"
      ],
      "text/plain": [
       "   diagnosisid  patientunitstayid  activeupondischarge  diagnosisoffset  \\\n",
       "0      4222318             141168                False               72   \n",
       "1      3370568             141168                 True              118   \n",
       "2      4160941             141168                False               72   \n",
       "3      4103261             141168                 True              118   \n",
       "4      3545241             141168                 True              118   \n",
       "\n",
       "                                     diagnosisstring        icd9code  \\\n",
       "0  cardiovascular|chest pain / ASHD|coronary arte...  414.00, I25.10   \n",
       "1  cardiovascular|ventricular disorders|cardiomyo...             NaN   \n",
       "2            pulmonary|disorders of the airways|COPD   491.20, J44.9   \n",
       "3            pulmonary|disorders of the airways|COPD   491.20, J44.9   \n",
       "4  cardiovascular|ventricular disorders|congestiv...    428.0, I50.9   \n",
       "\n",
       "  diagnosispriority  \n",
       "0             Other  \n",
       "1             Other  \n",
       "2             Other  \n",
       "3             Other  \n",
       "4             Other  "
      ]
     },
     "execution_count": 52,
     "metadata": {},
     "output_type": "execute_result"
    }
   ],
   "source": [
    "diagnosis.head()"
   ]
  },
  {
   "cell_type": "code",
   "execution_count": 53,
   "metadata": {},
   "outputs": [
    {
     "data": {
      "text/plain": [
       "Index(['diagnosisid', 'patientunitstayid', 'activeupondischarge',\n",
       "       'diagnosisoffset', 'diagnosisstring', 'icd9code', 'diagnosispriority'],\n",
       "      dtype='object')"
      ]
     },
     "execution_count": 53,
     "metadata": {},
     "output_type": "execute_result"
    }
   ],
   "source": [
    "diagnosis.columns"
   ]
  },
  {
   "cell_type": "markdown",
   "metadata": {},
   "source": [
    "#### Get the diagnosis string for each patient"
   ]
  },
  {
   "cell_type": "code",
   "execution_count": 54,
   "metadata": {
    "collapsed": true
   },
   "outputs": [],
   "source": [
    "dfdiag = diagnosis[['patientunitstayid', 'diagnosisstring']]"
   ]
  },
  {
   "cell_type": "code",
   "execution_count": 55,
   "metadata": {},
   "outputs": [
    {
     "data": {
      "text/html": [
       "<div>\n",
       "<style scoped>\n",
       "    .dataframe tbody tr th:only-of-type {\n",
       "        vertical-align: middle;\n",
       "    }\n",
       "\n",
       "    .dataframe tbody tr th {\n",
       "        vertical-align: top;\n",
       "    }\n",
       "\n",
       "    .dataframe thead th {\n",
       "        text-align: right;\n",
       "    }\n",
       "</style>\n",
       "<table border=\"1\" class=\"dataframe\">\n",
       "  <thead>\n",
       "    <tr style=\"text-align: right;\">\n",
       "      <th></th>\n",
       "      <th>patientunitstayid</th>\n",
       "      <th>diagnosisstring</th>\n",
       "    </tr>\n",
       "  </thead>\n",
       "  <tbody>\n",
       "    <tr>\n",
       "      <th>0</th>\n",
       "      <td>141168</td>\n",
       "      <td>cardiovascular|chest pain / ASHD|coronary arte...</td>\n",
       "    </tr>\n",
       "    <tr>\n",
       "      <th>1</th>\n",
       "      <td>141168</td>\n",
       "      <td>cardiovascular|ventricular disorders|cardiomyo...</td>\n",
       "    </tr>\n",
       "    <tr>\n",
       "      <th>2</th>\n",
       "      <td>141168</td>\n",
       "      <td>pulmonary|disorders of the airways|COPD</td>\n",
       "    </tr>\n",
       "    <tr>\n",
       "      <th>3</th>\n",
       "      <td>141168</td>\n",
       "      <td>pulmonary|disorders of the airways|COPD</td>\n",
       "    </tr>\n",
       "    <tr>\n",
       "      <th>4</th>\n",
       "      <td>141168</td>\n",
       "      <td>cardiovascular|ventricular disorders|congestiv...</td>\n",
       "    </tr>\n",
       "  </tbody>\n",
       "</table>\n",
       "</div>"
      ],
      "text/plain": [
       "   patientunitstayid                                    diagnosisstring\n",
       "0             141168  cardiovascular|chest pain / ASHD|coronary arte...\n",
       "1             141168  cardiovascular|ventricular disorders|cardiomyo...\n",
       "2             141168            pulmonary|disorders of the airways|COPD\n",
       "3             141168            pulmonary|disorders of the airways|COPD\n",
       "4             141168  cardiovascular|ventricular disorders|congestiv..."
      ]
     },
     "execution_count": 55,
     "metadata": {},
     "output_type": "execute_result"
    }
   ],
   "source": [
    "dfdiag.head()"
   ]
  },
  {
   "cell_type": "code",
   "execution_count": 56,
   "metadata": {},
   "outputs": [
    {
     "data": {
      "text/plain": [
       "patientunitstayid    0\n",
       "diagnosisstring      0\n",
       "dtype: int64"
      ]
     },
     "execution_count": 56,
     "metadata": {},
     "output_type": "execute_result"
    }
   ],
   "source": [
    "dfdiag.isna().sum()"
   ]
  },
  {
   "cell_type": "markdown",
   "metadata": {
    "collapsed": true
   },
   "source": [
    "#### Filter out patients who have sepsis in their diagnosis"
   ]
  },
  {
   "cell_type": "code",
   "execution_count": 58,
   "metadata": {},
   "outputs": [],
   "source": [
    "droplist = []\n",
    "for i in range(dfdiag.shape[0]):\n",
    "    if \"sepsis\" in dfdiag.iloc[i]['diagnosisstring'].lower():\n",
    "        pass\n",
    "    else:\n",
    "        droplist.append(i)"
   ]
  },
  {
   "cell_type": "code",
   "execution_count": 59,
   "metadata": {
    "collapsed": true
   },
   "outputs": [],
   "source": [
    "len(droplist)"
   ]
  },
  {
   "cell_type": "code",
   "execution_count": 60,
   "metadata": {
    "collapsed": true
   },
   "outputs": [],
   "source": [
    "dfdiag.drop(droplist, inplace=True)"
   ]
  },
  {
   "cell_type": "code",
   "execution_count": 61,
   "metadata": {
    "collapsed": true
   },
   "outputs": [],
   "source": [
    "dfdiag.reset_index(inplace=True)"
   ]
  },
  {
   "cell_type": "code",
   "execution_count": 62,
   "metadata": {
    "collapsed": true
   },
   "outputs": [],
   "source": [
    "dfdiag.drop('index', axis=1, inplace=True)"
   ]
  },
  {
   "cell_type": "markdown",
   "metadata": {},
   "source": [
    "#### Join the dataframes of diagnosis and medications"
   ]
  },
  {
   "cell_type": "code",
   "execution_count": 63,
   "metadata": {
    "collapsed": true
   },
   "outputs": [],
   "source": [
    "dfmedsmain = dfdiag.join(dfmeds.drop('patientunitstayid', axis=1), on='patientunitstayid')`"
   ]
  },
  {
   "cell_type": "code",
   "execution_count": 64,
   "metadata": {
    "collapsed": true
   },
   "outputs": [],
   "source": [
    "droplist = []\n",
    "for i in range(dfmedsmain.shape[0]):\n",
    "    if dfmedsmain.iloc[i]['drugstopoffset'] - dfmedsmain.iloc[i]['drugstartoffset'] < 72 :\n",
    "        droplist.append(i)"
   ]
  },
  {
   "cell_type": "code",
   "execution_count": 65,
   "metadata": {
    "collapsed": true
   },
   "outputs": [],
   "source": [
    "dfmedsmain.drop(droplist, inplace=True)"
   ]
  },
  {
   "cell_type": "code",
   "execution_count": 66,
   "metadata": {
    "collapsed": true
   },
   "outputs": [],
   "source": [
    "dfmedsmain.reset_index(inplace=True)"
   ]
  },
  {
   "cell_type": "code",
   "execution_count": 67,
   "metadata": {
    "collapsed": true
   },
   "outputs": [],
   "source": [
    "dfmedsmain.drop('index', axis=1, inplace=True)"
   ]
  },
  {
   "cell_type": "code",
   "execution_count": 68,
   "metadata": {
    "collapsed": true
   },
   "outputs": [],
   "source": [
    "patientslistwithsepsis = dfmedsmain['patientunitstayid'].tolist()"
   ]
  },
  {
   "cell_type": "markdown",
   "metadata": {},
   "source": [
    "### Join the main datasets"
   ]
  },
  {
   "cell_type": "code",
   "execution_count": null,
   "metadata": {
    "collapsed": true
   },
   "outputs": [],
   "source": [
    "df00 = pd.merge(dfmedsmain, dfmain, on='patientunitstayid', how='left')"
   ]
  },
  {
   "cell_type": "code",
   "execution_count": null,
   "metadata": {
    "collapsed": true
   },
   "outputs": [],
   "source": [
    "df00.head()"
   ]
  },
  {
   "cell_type": "code",
   "execution_count": null,
   "metadata": {
    "collapsed": true
   },
   "outputs": [],
   "source": [
    "df00 = pd.concat([df00, pd.DataFrame(df00['drugstartoffset'].tolist(), columns=['tDrugAdminister'])], axis=1)"
   ]
  },
  {
   "cell_type": "code",
   "execution_count": null,
   "metadata": {
    "collapsed": true
   },
   "outputs": [],
   "source": [
    "df00.head()"
   ]
  },
  {
   "cell_type": "code",
   "execution_count": null,
   "metadata": {
    "collapsed": true
   },
   "outputs": [],
   "source": [
    "# Big dataset import. Instead call the already saved dataset from data.\n",
    "lab = pd.read_csv('../data/lab.csv')"
   ]
  },
  {
   "cell_type": "code",
   "execution_count": null,
   "metadata": {
    "collapsed": true
   },
   "outputs": [],
   "source": [
    "lab = lab[['patientunitstayid', 'labresultoffset']]"
   ]
  },
  {
   "cell_type": "code",
   "execution_count": null,
   "metadata": {
    "collapsed": true
   },
   "outputs": [],
   "source": [
    "df00 = pd.merge(df00, lab, on='patientunitstayid', how='left')"
   ]
  },
  {
   "cell_type": "code",
   "execution_count": null,
   "metadata": {
    "collapsed": true
   },
   "outputs": [],
   "source": [
    "df00.head()"
   ]
  },
  {
   "cell_type": "code",
   "execution_count": null,
   "metadata": {
    "collapsed": true
   },
   "outputs": [],
   "source": [
    "df00.to_csv('../data/df00.csv', index=False)"
   ]
  },
  {
   "cell_type": "code",
   "execution_count": 69,
   "metadata": {
    "collapsed": true
   },
   "outputs": [],
   "source": [
    "# Import dataset from data.\n",
    "df00 = pd.read_csv('../data/df00.csv')"
   ]
  },
  {
   "cell_type": "code",
   "execution_count": 70,
   "metadata": {},
   "outputs": [
    {
     "data": {
      "text/html": [
       "<div>\n",
       "<style scoped>\n",
       "    .dataframe tbody tr th:only-of-type {\n",
       "        vertical-align: middle;\n",
       "    }\n",
       "\n",
       "    .dataframe tbody tr th {\n",
       "        vertical-align: top;\n",
       "    }\n",
       "\n",
       "    .dataframe thead th {\n",
       "        text-align: right;\n",
       "    }\n",
       "</style>\n",
       "<table border=\"1\" class=\"dataframe\">\n",
       "  <thead>\n",
       "    <tr style=\"text-align: right;\">\n",
       "      <th></th>\n",
       "      <th>patientunitstayid</th>\n",
       "      <th>diagnosisstring</th>\n",
       "      <th>medicationid</th>\n",
       "      <th>drugstartoffset</th>\n",
       "      <th>drugstopoffset</th>\n",
       "      <th>index</th>\n",
       "      <th>urine</th>\n",
       "      <th>wbc</th>\n",
       "      <th>creatinine</th>\n",
       "      <th>pao2</th>\n",
       "      <th>fio2</th>\n",
       "      <th>bilirubin</th>\n",
       "      <th>observationoffset</th>\n",
       "      <th>MAP</th>\n",
       "      <th>GCS</th>\n",
       "      <th>SOFA</th>\n",
       "      <th>tDrugAdminister</th>\n",
       "      <th>labresultoffset</th>\n",
       "      <th>tSusp</th>\n",
       "    </tr>\n",
       "  </thead>\n",
       "  <tbody>\n",
       "    <tr>\n",
       "      <th>0</th>\n",
       "      <td>141227</td>\n",
       "      <td>cardiovascular|shock / hypotension|sepsis</td>\n",
       "      <td>12384625</td>\n",
       "      <td>341</td>\n",
       "      <td>3008</td>\n",
       "      <td>6.0</td>\n",
       "      <td>-1.0</td>\n",
       "      <td>42.7</td>\n",
       "      <td>1.9</td>\n",
       "      <td>65.0</td>\n",
       "      <td>21.0</td>\n",
       "      <td>-1.0</td>\n",
       "      <td>676.0</td>\n",
       "      <td>77.333333</td>\n",
       "      <td>13.0</td>\n",
       "      <td>9.0</td>\n",
       "      <td>341</td>\n",
       "      <td>417.0</td>\n",
       "      <td>341.0</td>\n",
       "    </tr>\n",
       "    <tr>\n",
       "      <th>1</th>\n",
       "      <td>141227</td>\n",
       "      <td>cardiovascular|shock / hypotension|sepsis</td>\n",
       "      <td>12384625</td>\n",
       "      <td>341</td>\n",
       "      <td>3008</td>\n",
       "      <td>6.0</td>\n",
       "      <td>-1.0</td>\n",
       "      <td>42.7</td>\n",
       "      <td>1.9</td>\n",
       "      <td>65.0</td>\n",
       "      <td>21.0</td>\n",
       "      <td>-1.0</td>\n",
       "      <td>676.0</td>\n",
       "      <td>77.333333</td>\n",
       "      <td>13.0</td>\n",
       "      <td>9.0</td>\n",
       "      <td>341</td>\n",
       "      <td>1467.0</td>\n",
       "      <td>341.0</td>\n",
       "    </tr>\n",
       "    <tr>\n",
       "      <th>2</th>\n",
       "      <td>141227</td>\n",
       "      <td>cardiovascular|shock / hypotension|sepsis</td>\n",
       "      <td>12384625</td>\n",
       "      <td>341</td>\n",
       "      <td>3008</td>\n",
       "      <td>6.0</td>\n",
       "      <td>-1.0</td>\n",
       "      <td>42.7</td>\n",
       "      <td>1.9</td>\n",
       "      <td>65.0</td>\n",
       "      <td>21.0</td>\n",
       "      <td>-1.0</td>\n",
       "      <td>676.0</td>\n",
       "      <td>77.333333</td>\n",
       "      <td>13.0</td>\n",
       "      <td>9.0</td>\n",
       "      <td>341</td>\n",
       "      <td>-13.0</td>\n",
       "      <td>-13.0</td>\n",
       "    </tr>\n",
       "    <tr>\n",
       "      <th>3</th>\n",
       "      <td>141227</td>\n",
       "      <td>cardiovascular|shock / hypotension|sepsis</td>\n",
       "      <td>12384625</td>\n",
       "      <td>341</td>\n",
       "      <td>3008</td>\n",
       "      <td>6.0</td>\n",
       "      <td>-1.0</td>\n",
       "      <td>42.7</td>\n",
       "      <td>1.9</td>\n",
       "      <td>65.0</td>\n",
       "      <td>21.0</td>\n",
       "      <td>-1.0</td>\n",
       "      <td>676.0</td>\n",
       "      <td>77.333333</td>\n",
       "      <td>13.0</td>\n",
       "      <td>9.0</td>\n",
       "      <td>341</td>\n",
       "      <td>1362.0</td>\n",
       "      <td>341.0</td>\n",
       "    </tr>\n",
       "    <tr>\n",
       "      <th>4</th>\n",
       "      <td>141227</td>\n",
       "      <td>cardiovascular|shock / hypotension|sepsis</td>\n",
       "      <td>12384625</td>\n",
       "      <td>341</td>\n",
       "      <td>3008</td>\n",
       "      <td>6.0</td>\n",
       "      <td>-1.0</td>\n",
       "      <td>42.7</td>\n",
       "      <td>1.9</td>\n",
       "      <td>65.0</td>\n",
       "      <td>21.0</td>\n",
       "      <td>-1.0</td>\n",
       "      <td>676.0</td>\n",
       "      <td>77.333333</td>\n",
       "      <td>13.0</td>\n",
       "      <td>9.0</td>\n",
       "      <td>341</td>\n",
       "      <td>-128.0</td>\n",
       "      <td>-128.0</td>\n",
       "    </tr>\n",
       "  </tbody>\n",
       "</table>\n",
       "</div>"
      ],
      "text/plain": [
       "   patientunitstayid                            diagnosisstring  medicationid  \\\n",
       "0             141227  cardiovascular|shock / hypotension|sepsis      12384625   \n",
       "1             141227  cardiovascular|shock / hypotension|sepsis      12384625   \n",
       "2             141227  cardiovascular|shock / hypotension|sepsis      12384625   \n",
       "3             141227  cardiovascular|shock / hypotension|sepsis      12384625   \n",
       "4             141227  cardiovascular|shock / hypotension|sepsis      12384625   \n",
       "\n",
       "   drugstartoffset  drugstopoffset  index  urine   wbc  creatinine  pao2  \\\n",
       "0              341            3008    6.0   -1.0  42.7         1.9  65.0   \n",
       "1              341            3008    6.0   -1.0  42.7         1.9  65.0   \n",
       "2              341            3008    6.0   -1.0  42.7         1.9  65.0   \n",
       "3              341            3008    6.0   -1.0  42.7         1.9  65.0   \n",
       "4              341            3008    6.0   -1.0  42.7         1.9  65.0   \n",
       "\n",
       "   fio2  bilirubin  observationoffset        MAP   GCS  SOFA  tDrugAdminister  \\\n",
       "0  21.0       -1.0              676.0  77.333333  13.0   9.0              341   \n",
       "1  21.0       -1.0              676.0  77.333333  13.0   9.0              341   \n",
       "2  21.0       -1.0              676.0  77.333333  13.0   9.0              341   \n",
       "3  21.0       -1.0              676.0  77.333333  13.0   9.0              341   \n",
       "4  21.0       -1.0              676.0  77.333333  13.0   9.0              341   \n",
       "\n",
       "   labresultoffset  tSusp  \n",
       "0            417.0  341.0  \n",
       "1           1467.0  341.0  \n",
       "2            -13.0  -13.0  \n",
       "3           1362.0  341.0  \n",
       "4           -128.0 -128.0  "
      ]
     },
     "execution_count": 70,
     "metadata": {},
     "output_type": "execute_result"
    }
   ],
   "source": [
    "df00.head()"
   ]
  },
  {
   "cell_type": "code",
   "execution_count": 71,
   "metadata": {},
   "outputs": [
    {
     "data": {
      "text/plain": [
       "patientunitstayid         0\n",
       "diagnosisstring           0\n",
       "medicationid              0\n",
       "drugstartoffset           0\n",
       "drugstopoffset            0\n",
       "index                310199\n",
       "urine                310199\n",
       "wbc                  310199\n",
       "creatinine           310199\n",
       "pao2                 310199\n",
       "fio2                 310199\n",
       "bilirubin            310199\n",
       "observationoffset    310199\n",
       "MAP                  310199\n",
       "GCS                  310199\n",
       "SOFA                 310199\n",
       "tDrugAdminister           0\n",
       "labresultoffset          64\n",
       "tSusp                    64\n",
       "dtype: int64"
      ]
     },
     "execution_count": 71,
     "metadata": {},
     "output_type": "execute_result"
    }
   ],
   "source": [
    "df00.isna().sum()"
   ]
  },
  {
   "cell_type": "code",
   "execution_count": 72,
   "metadata": {
    "collapsed": true
   },
   "outputs": [],
   "source": [
    "df00.dropna(inplace=True)"
   ]
  },
  {
   "cell_type": "code",
   "execution_count": 73,
   "metadata": {
    "collapsed": true
   },
   "outputs": [],
   "source": [
    "df00.reset_index(inplace=True, drop=True)"
   ]
  },
  {
   "cell_type": "code",
   "execution_count": 74,
   "metadata": {},
   "outputs": [
    {
     "data": {
      "text/html": [
       "<div>\n",
       "<style scoped>\n",
       "    .dataframe tbody tr th:only-of-type {\n",
       "        vertical-align: middle;\n",
       "    }\n",
       "\n",
       "    .dataframe tbody tr th {\n",
       "        vertical-align: top;\n",
       "    }\n",
       "\n",
       "    .dataframe thead th {\n",
       "        text-align: right;\n",
       "    }\n",
       "</style>\n",
       "<table border=\"1\" class=\"dataframe\">\n",
       "  <thead>\n",
       "    <tr style=\"text-align: right;\">\n",
       "      <th></th>\n",
       "      <th>patientunitstayid</th>\n",
       "      <th>diagnosisstring</th>\n",
       "      <th>medicationid</th>\n",
       "      <th>drugstartoffset</th>\n",
       "      <th>drugstopoffset</th>\n",
       "      <th>index</th>\n",
       "      <th>urine</th>\n",
       "      <th>wbc</th>\n",
       "      <th>creatinine</th>\n",
       "      <th>pao2</th>\n",
       "      <th>fio2</th>\n",
       "      <th>bilirubin</th>\n",
       "      <th>observationoffset</th>\n",
       "      <th>MAP</th>\n",
       "      <th>GCS</th>\n",
       "      <th>SOFA</th>\n",
       "      <th>tDrugAdminister</th>\n",
       "      <th>labresultoffset</th>\n",
       "      <th>tSusp</th>\n",
       "    </tr>\n",
       "  </thead>\n",
       "  <tbody>\n",
       "    <tr>\n",
       "      <th>0</th>\n",
       "      <td>141227</td>\n",
       "      <td>cardiovascular|shock / hypotension|sepsis</td>\n",
       "      <td>12384625</td>\n",
       "      <td>341</td>\n",
       "      <td>3008</td>\n",
       "      <td>6.0</td>\n",
       "      <td>-1.0</td>\n",
       "      <td>42.7</td>\n",
       "      <td>1.9</td>\n",
       "      <td>65.0</td>\n",
       "      <td>21.0</td>\n",
       "      <td>-1.0</td>\n",
       "      <td>676.0</td>\n",
       "      <td>77.333333</td>\n",
       "      <td>13.0</td>\n",
       "      <td>9.0</td>\n",
       "      <td>341</td>\n",
       "      <td>417.0</td>\n",
       "      <td>341.0</td>\n",
       "    </tr>\n",
       "    <tr>\n",
       "      <th>1</th>\n",
       "      <td>141227</td>\n",
       "      <td>cardiovascular|shock / hypotension|sepsis</td>\n",
       "      <td>12384625</td>\n",
       "      <td>341</td>\n",
       "      <td>3008</td>\n",
       "      <td>6.0</td>\n",
       "      <td>-1.0</td>\n",
       "      <td>42.7</td>\n",
       "      <td>1.9</td>\n",
       "      <td>65.0</td>\n",
       "      <td>21.0</td>\n",
       "      <td>-1.0</td>\n",
       "      <td>676.0</td>\n",
       "      <td>77.333333</td>\n",
       "      <td>13.0</td>\n",
       "      <td>9.0</td>\n",
       "      <td>341</td>\n",
       "      <td>1467.0</td>\n",
       "      <td>341.0</td>\n",
       "    </tr>\n",
       "    <tr>\n",
       "      <th>2</th>\n",
       "      <td>141227</td>\n",
       "      <td>cardiovascular|shock / hypotension|sepsis</td>\n",
       "      <td>12384625</td>\n",
       "      <td>341</td>\n",
       "      <td>3008</td>\n",
       "      <td>6.0</td>\n",
       "      <td>-1.0</td>\n",
       "      <td>42.7</td>\n",
       "      <td>1.9</td>\n",
       "      <td>65.0</td>\n",
       "      <td>21.0</td>\n",
       "      <td>-1.0</td>\n",
       "      <td>676.0</td>\n",
       "      <td>77.333333</td>\n",
       "      <td>13.0</td>\n",
       "      <td>9.0</td>\n",
       "      <td>341</td>\n",
       "      <td>-13.0</td>\n",
       "      <td>-13.0</td>\n",
       "    </tr>\n",
       "    <tr>\n",
       "      <th>3</th>\n",
       "      <td>141227</td>\n",
       "      <td>cardiovascular|shock / hypotension|sepsis</td>\n",
       "      <td>12384625</td>\n",
       "      <td>341</td>\n",
       "      <td>3008</td>\n",
       "      <td>6.0</td>\n",
       "      <td>-1.0</td>\n",
       "      <td>42.7</td>\n",
       "      <td>1.9</td>\n",
       "      <td>65.0</td>\n",
       "      <td>21.0</td>\n",
       "      <td>-1.0</td>\n",
       "      <td>676.0</td>\n",
       "      <td>77.333333</td>\n",
       "      <td>13.0</td>\n",
       "      <td>9.0</td>\n",
       "      <td>341</td>\n",
       "      <td>1362.0</td>\n",
       "      <td>341.0</td>\n",
       "    </tr>\n",
       "    <tr>\n",
       "      <th>4</th>\n",
       "      <td>141227</td>\n",
       "      <td>cardiovascular|shock / hypotension|sepsis</td>\n",
       "      <td>12384625</td>\n",
       "      <td>341</td>\n",
       "      <td>3008</td>\n",
       "      <td>6.0</td>\n",
       "      <td>-1.0</td>\n",
       "      <td>42.7</td>\n",
       "      <td>1.9</td>\n",
       "      <td>65.0</td>\n",
       "      <td>21.0</td>\n",
       "      <td>-1.0</td>\n",
       "      <td>676.0</td>\n",
       "      <td>77.333333</td>\n",
       "      <td>13.0</td>\n",
       "      <td>9.0</td>\n",
       "      <td>341</td>\n",
       "      <td>-128.0</td>\n",
       "      <td>-128.0</td>\n",
       "    </tr>\n",
       "  </tbody>\n",
       "</table>\n",
       "</div>"
      ],
      "text/plain": [
       "   patientunitstayid                            diagnosisstring  medicationid  \\\n",
       "0             141227  cardiovascular|shock / hypotension|sepsis      12384625   \n",
       "1             141227  cardiovascular|shock / hypotension|sepsis      12384625   \n",
       "2             141227  cardiovascular|shock / hypotension|sepsis      12384625   \n",
       "3             141227  cardiovascular|shock / hypotension|sepsis      12384625   \n",
       "4             141227  cardiovascular|shock / hypotension|sepsis      12384625   \n",
       "\n",
       "   drugstartoffset  drugstopoffset  index  urine   wbc  creatinine  pao2  \\\n",
       "0              341            3008    6.0   -1.0  42.7         1.9  65.0   \n",
       "1              341            3008    6.0   -1.0  42.7         1.9  65.0   \n",
       "2              341            3008    6.0   -1.0  42.7         1.9  65.0   \n",
       "3              341            3008    6.0   -1.0  42.7         1.9  65.0   \n",
       "4              341            3008    6.0   -1.0  42.7         1.9  65.0   \n",
       "\n",
       "   fio2  bilirubin  observationoffset        MAP   GCS  SOFA  tDrugAdminister  \\\n",
       "0  21.0       -1.0              676.0  77.333333  13.0   9.0              341   \n",
       "1  21.0       -1.0              676.0  77.333333  13.0   9.0              341   \n",
       "2  21.0       -1.0              676.0  77.333333  13.0   9.0              341   \n",
       "3  21.0       -1.0              676.0  77.333333  13.0   9.0              341   \n",
       "4  21.0       -1.0              676.0  77.333333  13.0   9.0              341   \n",
       "\n",
       "   labresultoffset  tSusp  \n",
       "0            417.0  341.0  \n",
       "1           1467.0  341.0  \n",
       "2            -13.0  -13.0  \n",
       "3           1362.0  341.0  \n",
       "4           -128.0 -128.0  "
      ]
     },
     "execution_count": 74,
     "metadata": {},
     "output_type": "execute_result"
    }
   ],
   "source": [
    "df00.head()"
   ]
  },
  {
   "cell_type": "markdown",
   "metadata": {},
   "source": [
    "### Calculate tSuspicion"
   ]
  },
  {
   "cell_type": "code",
   "execution_count": 75,
   "metadata": {
    "collapsed": true
   },
   "outputs": [],
   "source": [
    "def calcTSuspicion(tDrugAdList, labResOffsetList):\n",
    "    \"\"\"Function to calculate the time of suspicion (tSuspicion) \"\"\"\n",
    "    \n",
    "    l = []\n",
    "    for i in range(len(tDrugAdList)):\n",
    "        if tDrugAdList[i] <= labResOffsetList[i]:\n",
    "            l.append(tDrugAdList[i])\n",
    "        else: \n",
    "            l.append(labResOffsetList[i])\n",
    "            \n",
    "    return l"
   ]
  },
  {
   "cell_type": "code",
   "execution_count": 76,
   "metadata": {
    "collapsed": true
   },
   "outputs": [],
   "source": [
    "tsuspList = calcTSuspicion(df00['tDrugAdminister'].tolist(), df00['labresultoffset'].tolist())"
   ]
  },
  {
   "cell_type": "code",
   "execution_count": 77,
   "metadata": {
    "collapsed": true
   },
   "outputs": [],
   "source": [
    "tsuspList = pd.DataFrame(tsuspList, columns=['tSusp'])"
   ]
  },
  {
   "cell_type": "code",
   "execution_count": 78,
   "metadata": {
    "collapsed": true
   },
   "outputs": [],
   "source": [
    "df00 = pd.concat([df00, tsuspList], axis=1)"
   ]
  },
  {
   "cell_type": "code",
   "execution_count": 79,
   "metadata": {},
   "outputs": [
    {
     "data": {
      "text/html": [
       "<div>\n",
       "<style scoped>\n",
       "    .dataframe tbody tr th:only-of-type {\n",
       "        vertical-align: middle;\n",
       "    }\n",
       "\n",
       "    .dataframe tbody tr th {\n",
       "        vertical-align: top;\n",
       "    }\n",
       "\n",
       "    .dataframe thead th {\n",
       "        text-align: right;\n",
       "    }\n",
       "</style>\n",
       "<table border=\"1\" class=\"dataframe\">\n",
       "  <thead>\n",
       "    <tr style=\"text-align: right;\">\n",
       "      <th></th>\n",
       "      <th>patientunitstayid</th>\n",
       "      <th>diagnosisstring</th>\n",
       "      <th>medicationid</th>\n",
       "      <th>drugstartoffset</th>\n",
       "      <th>drugstopoffset</th>\n",
       "      <th>index</th>\n",
       "      <th>urine</th>\n",
       "      <th>wbc</th>\n",
       "      <th>creatinine</th>\n",
       "      <th>pao2</th>\n",
       "      <th>fio2</th>\n",
       "      <th>bilirubin</th>\n",
       "      <th>observationoffset</th>\n",
       "      <th>MAP</th>\n",
       "      <th>GCS</th>\n",
       "      <th>SOFA</th>\n",
       "      <th>tDrugAdminister</th>\n",
       "      <th>labresultoffset</th>\n",
       "      <th>tSusp</th>\n",
       "      <th>tSusp</th>\n",
       "    </tr>\n",
       "  </thead>\n",
       "  <tbody>\n",
       "    <tr>\n",
       "      <th>0</th>\n",
       "      <td>141227</td>\n",
       "      <td>cardiovascular|shock / hypotension|sepsis</td>\n",
       "      <td>12384625</td>\n",
       "      <td>341</td>\n",
       "      <td>3008</td>\n",
       "      <td>6.0</td>\n",
       "      <td>-1.0</td>\n",
       "      <td>42.7</td>\n",
       "      <td>1.9</td>\n",
       "      <td>65.0</td>\n",
       "      <td>21.0</td>\n",
       "      <td>-1.0</td>\n",
       "      <td>676.0</td>\n",
       "      <td>77.333333</td>\n",
       "      <td>13.0</td>\n",
       "      <td>9.0</td>\n",
       "      <td>341</td>\n",
       "      <td>417.0</td>\n",
       "      <td>341.0</td>\n",
       "      <td>341.0</td>\n",
       "    </tr>\n",
       "    <tr>\n",
       "      <th>1</th>\n",
       "      <td>141227</td>\n",
       "      <td>cardiovascular|shock / hypotension|sepsis</td>\n",
       "      <td>12384625</td>\n",
       "      <td>341</td>\n",
       "      <td>3008</td>\n",
       "      <td>6.0</td>\n",
       "      <td>-1.0</td>\n",
       "      <td>42.7</td>\n",
       "      <td>1.9</td>\n",
       "      <td>65.0</td>\n",
       "      <td>21.0</td>\n",
       "      <td>-1.0</td>\n",
       "      <td>676.0</td>\n",
       "      <td>77.333333</td>\n",
       "      <td>13.0</td>\n",
       "      <td>9.0</td>\n",
       "      <td>341</td>\n",
       "      <td>1467.0</td>\n",
       "      <td>341.0</td>\n",
       "      <td>341.0</td>\n",
       "    </tr>\n",
       "    <tr>\n",
       "      <th>2</th>\n",
       "      <td>141227</td>\n",
       "      <td>cardiovascular|shock / hypotension|sepsis</td>\n",
       "      <td>12384625</td>\n",
       "      <td>341</td>\n",
       "      <td>3008</td>\n",
       "      <td>6.0</td>\n",
       "      <td>-1.0</td>\n",
       "      <td>42.7</td>\n",
       "      <td>1.9</td>\n",
       "      <td>65.0</td>\n",
       "      <td>21.0</td>\n",
       "      <td>-1.0</td>\n",
       "      <td>676.0</td>\n",
       "      <td>77.333333</td>\n",
       "      <td>13.0</td>\n",
       "      <td>9.0</td>\n",
       "      <td>341</td>\n",
       "      <td>-13.0</td>\n",
       "      <td>-13.0</td>\n",
       "      <td>-13.0</td>\n",
       "    </tr>\n",
       "    <tr>\n",
       "      <th>3</th>\n",
       "      <td>141227</td>\n",
       "      <td>cardiovascular|shock / hypotension|sepsis</td>\n",
       "      <td>12384625</td>\n",
       "      <td>341</td>\n",
       "      <td>3008</td>\n",
       "      <td>6.0</td>\n",
       "      <td>-1.0</td>\n",
       "      <td>42.7</td>\n",
       "      <td>1.9</td>\n",
       "      <td>65.0</td>\n",
       "      <td>21.0</td>\n",
       "      <td>-1.0</td>\n",
       "      <td>676.0</td>\n",
       "      <td>77.333333</td>\n",
       "      <td>13.0</td>\n",
       "      <td>9.0</td>\n",
       "      <td>341</td>\n",
       "      <td>1362.0</td>\n",
       "      <td>341.0</td>\n",
       "      <td>341.0</td>\n",
       "    </tr>\n",
       "    <tr>\n",
       "      <th>4</th>\n",
       "      <td>141227</td>\n",
       "      <td>cardiovascular|shock / hypotension|sepsis</td>\n",
       "      <td>12384625</td>\n",
       "      <td>341</td>\n",
       "      <td>3008</td>\n",
       "      <td>6.0</td>\n",
       "      <td>-1.0</td>\n",
       "      <td>42.7</td>\n",
       "      <td>1.9</td>\n",
       "      <td>65.0</td>\n",
       "      <td>21.0</td>\n",
       "      <td>-1.0</td>\n",
       "      <td>676.0</td>\n",
       "      <td>77.333333</td>\n",
       "      <td>13.0</td>\n",
       "      <td>9.0</td>\n",
       "      <td>341</td>\n",
       "      <td>-128.0</td>\n",
       "      <td>-128.0</td>\n",
       "      <td>-128.0</td>\n",
       "    </tr>\n",
       "  </tbody>\n",
       "</table>\n",
       "</div>"
      ],
      "text/plain": [
       "   patientunitstayid                            diagnosisstring  medicationid  \\\n",
       "0             141227  cardiovascular|shock / hypotension|sepsis      12384625   \n",
       "1             141227  cardiovascular|shock / hypotension|sepsis      12384625   \n",
       "2             141227  cardiovascular|shock / hypotension|sepsis      12384625   \n",
       "3             141227  cardiovascular|shock / hypotension|sepsis      12384625   \n",
       "4             141227  cardiovascular|shock / hypotension|sepsis      12384625   \n",
       "\n",
       "   drugstartoffset  drugstopoffset  index  urine   wbc  creatinine  pao2  \\\n",
       "0              341            3008    6.0   -1.0  42.7         1.9  65.0   \n",
       "1              341            3008    6.0   -1.0  42.7         1.9  65.0   \n",
       "2              341            3008    6.0   -1.0  42.7         1.9  65.0   \n",
       "3              341            3008    6.0   -1.0  42.7         1.9  65.0   \n",
       "4              341            3008    6.0   -1.0  42.7         1.9  65.0   \n",
       "\n",
       "   fio2  bilirubin  observationoffset        MAP   GCS  SOFA  tDrugAdminister  \\\n",
       "0  21.0       -1.0              676.0  77.333333  13.0   9.0              341   \n",
       "1  21.0       -1.0              676.0  77.333333  13.0   9.0              341   \n",
       "2  21.0       -1.0              676.0  77.333333  13.0   9.0              341   \n",
       "3  21.0       -1.0              676.0  77.333333  13.0   9.0              341   \n",
       "4  21.0       -1.0              676.0  77.333333  13.0   9.0              341   \n",
       "\n",
       "   labresultoffset  tSusp  tSusp  \n",
       "0            417.0  341.0  341.0  \n",
       "1           1467.0  341.0  341.0  \n",
       "2            -13.0  -13.0  -13.0  \n",
       "3           1362.0  341.0  341.0  \n",
       "4           -128.0 -128.0 -128.0  "
      ]
     },
     "execution_count": 79,
     "metadata": {},
     "output_type": "execute_result"
    }
   ],
   "source": [
    "df00.head()"
   ]
  },
  {
   "cell_type": "code",
   "execution_count": 80,
   "metadata": {},
   "outputs": [
    {
     "data": {
      "text/plain": [
       "patientunitstayid    0\n",
       "diagnosisstring      0\n",
       "medicationid         0\n",
       "drugstartoffset      0\n",
       "drugstopoffset       0\n",
       "index                0\n",
       "urine                0\n",
       "wbc                  0\n",
       "creatinine           0\n",
       "pao2                 0\n",
       "fio2                 0\n",
       "bilirubin            0\n",
       "observationoffset    0\n",
       "MAP                  0\n",
       "GCS                  0\n",
       "SOFA                 0\n",
       "tDrugAdminister      0\n",
       "labresultoffset      0\n",
       "tSusp                0\n",
       "tSusp                0\n",
       "dtype: int64"
      ]
     },
     "execution_count": 80,
     "metadata": {},
     "output_type": "execute_result"
    }
   ],
   "source": [
    "df00.isna().sum()"
   ]
  },
  {
   "cell_type": "markdown",
   "metadata": {},
   "source": [
    "### Considering the periodic vitals dataset \n",
    "Vitals periodic is a heavy dataset and thus it is broken into 3 parts. The dataset can be imported from /data as vitals.csv as shown at the end of this segment"
   ]
  },
  {
   "cell_type": "code",
   "execution_count": 84,
   "metadata": {},
   "outputs": [],
   "source": [
    "vitals1 = pd.read_csv('../data/vitalPeriodic.csv', nrows=48890547)"
   ]
  },
  {
   "cell_type": "code",
   "execution_count": null,
   "metadata": {
    "collapsed": true
   },
   "outputs": [],
   "source": [
    "vitals1.head()"
   ]
  },
  {
   "cell_type": "code",
   "execution_count": null,
   "metadata": {
    "collapsed": true
   },
   "outputs": [],
   "source": [
    "vitals1.columns"
   ]
  },
  {
   "cell_type": "code",
   "execution_count": null,
   "metadata": {
    "collapsed": true
   },
   "outputs": [],
   "source": [
    "vitals1 = vitals1[['vitalperiodicid', 'patientunitstayid', 'observationoffset', 'systemicsystolic', 'systemicdiastolic']]"
   ]
  },
  {
   "cell_type": "code",
   "execution_count": null,
   "metadata": {
    "collapsed": true
   },
   "outputs": [],
   "source": [
    "vitals1.isna().sum()"
   ]
  },
  {
   "cell_type": "code",
   "execution_count": null,
   "metadata": {
    "collapsed": true
   },
   "outputs": [],
   "source": [
    "vitals1.dropna(inplace=True)"
   ]
  },
  {
   "cell_type": "code",
   "execution_count": null,
   "metadata": {
    "collapsed": true
   },
   "outputs": [],
   "source": [
    "vitals1.reset_index(inplace=True, drop=True)"
   ]
  },
  {
   "cell_type": "code",
   "execution_count": null,
   "metadata": {
    "collapsed": true
   },
   "outputs": [],
   "source": [
    "vitals1.head()"
   ]
  },
  {
   "cell_type": "code",
   "execution_count": null,
   "metadata": {
    "collapsed": true
   },
   "outputs": [],
   "source": [
    "vitals1.shape"
   ]
  },
  {
   "cell_type": "code",
   "execution_count": null,
   "metadata": {
    "collapsed": true
   },
   "outputs": [],
   "source": [
    "vitalsnames = ['vitalperiodicid', 'patientunitstayid', 'observationoffset', 'temperature', 'sao2', 'heartrate', 'respiration', 'cvp', 'etco2', 'systemicsystolic', 'systemicdiastolic', 'systemicmean', 'pasystolic', 'padiastolic', 'pamean', 'st1', 'st2', 'st3', 'icp']"
   ]
  },
  {
   "cell_type": "code",
   "execution_count": null,
   "metadata": {
    "collapsed": true
   },
   "outputs": [],
   "source": [
    "vitals2 = pd.read_csv('../data/vitalPeriodic.csv', skiprows=48890547, nrows=48890547, \n",
    "                      names=vitalsnames)"
   ]
  },
  {
   "cell_type": "code",
   "execution_count": null,
   "metadata": {
    "collapsed": true
   },
   "outputs": [],
   "source": [
    "vitals2.head()"
   ]
  },
  {
   "cell_type": "code",
   "execution_count": null,
   "metadata": {
    "collapsed": true
   },
   "outputs": [],
   "source": [
    "vitals2 = vitals2[['vitalperiodicid', 'patientunitstayid', 'observationoffset', 'systemicsystolic', 'systemicdiastolic']]"
   ]
  },
  {
   "cell_type": "code",
   "execution_count": null,
   "metadata": {
    "collapsed": true
   },
   "outputs": [],
   "source": [
    "vitals2.isna().sum()"
   ]
  },
  {
   "cell_type": "code",
   "execution_count": null,
   "metadata": {
    "collapsed": true
   },
   "outputs": [],
   "source": [
    "vitals2.dropna(inplace=True)\n",
    "vitals2.reset_index(inplace=True, drop=True)"
   ]
  },
  {
   "cell_type": "code",
   "execution_count": null,
   "metadata": {
    "collapsed": true
   },
   "outputs": [],
   "source": [
    "vitals2.head()"
   ]
  },
  {
   "cell_type": "code",
   "execution_count": null,
   "metadata": {
    "collapsed": true
   },
   "outputs": [],
   "source": [
    "vitals2.shape"
   ]
  },
  {
   "cell_type": "code",
   "execution_count": null,
   "metadata": {
    "collapsed": true
   },
   "outputs": [],
   "source": [
    "vitals3 = pd.read_csv('../data/vitalPeriodic.csv', skiprows=97781094, nrows=48890547, \n",
    "                      names=vitalsnames)"
   ]
  },
  {
   "cell_type": "code",
   "execution_count": null,
   "metadata": {
    "collapsed": true
   },
   "outputs": [],
   "source": [
    "vitals3.head()"
   ]
  },
  {
   "cell_type": "code",
   "execution_count": null,
   "metadata": {
    "collapsed": true
   },
   "outputs": [],
   "source": [
    "vitals3 = vitals3[['vitalperiodicid', 'patientunitstayid', 'observationoffset', 'systemicsystolic', 'systemicdiastolic']]"
   ]
  },
  {
   "cell_type": "code",
   "execution_count": null,
   "metadata": {
    "collapsed": true
   },
   "outputs": [],
   "source": [
    "vitals3.isna().sum()"
   ]
  },
  {
   "cell_type": "code",
   "execution_count": null,
   "metadata": {
    "collapsed": true
   },
   "outputs": [],
   "source": [
    "vitals3.dropna(inplace=True)\n",
    "vitals3.reset_index(inplace=True, drop=True)"
   ]
  },
  {
   "cell_type": "code",
   "execution_count": null,
   "metadata": {
    "collapsed": true
   },
   "outputs": [],
   "source": [
    "vitals3.head()"
   ]
  },
  {
   "cell_type": "code",
   "execution_count": null,
   "metadata": {
    "collapsed": true
   },
   "outputs": [],
   "source": [
    "vitals3.shape"
   ]
  },
  {
   "cell_type": "code",
   "execution_count": null,
   "metadata": {
    "collapsed": true
   },
   "outputs": [],
   "source": [
    "vitals3.isna().sum()"
   ]
  },
  {
   "cell_type": "code",
   "execution_count": null,
   "metadata": {
    "collapsed": true
   },
   "outputs": [],
   "source": [
    "vitals = pd.concat([vitals1, vitals2, vitals3])"
   ]
  },
  {
   "cell_type": "code",
   "execution_count": null,
   "metadata": {
    "collapsed": true
   },
   "outputs": [],
   "source": [
    "vitals.head()"
   ]
  },
  {
   "cell_type": "code",
   "execution_count": null,
   "metadata": {
    "collapsed": true
   },
   "outputs": [],
   "source": [
    "vitals.shape"
   ]
  },
  {
   "cell_type": "code",
   "execution_count": null,
   "metadata": {
    "collapsed": true
   },
   "outputs": [],
   "source": [
    "vitals.isna().sum()"
   ]
  },
  {
   "cell_type": "code",
   "execution_count": null,
   "metadata": {
    "collapsed": true
   },
   "outputs": [],
   "source": [
    "vitals.reset_index(inplace=True, drop=True)"
   ]
  },
  {
   "cell_type": "code",
   "execution_count": null,
   "metadata": {
    "collapsed": true
   },
   "outputs": [],
   "source": [
    "vitals.head()"
   ]
  },
  {
   "cell_type": "markdown",
   "metadata": {},
   "source": [
    "#### Import vitals dataset"
   ]
  },
  {
   "cell_type": "code",
   "execution_count": 86,
   "metadata": {},
   "outputs": [],
   "source": [
    "vitals.to_csv('../data/vitals.csv', index=False)"
   ]
  },
  {
   "cell_type": "code",
   "execution_count": 88,
   "metadata": {},
   "outputs": [],
   "source": [
    "vitals = pd.read_csv('../data/vitals.csv')"
   ]
  },
  {
   "cell_type": "code",
   "execution_count": 89,
   "metadata": {},
   "outputs": [
    {
     "data": {
      "text/html": [
       "<div>\n",
       "<style scoped>\n",
       "    .dataframe tbody tr th:only-of-type {\n",
       "        vertical-align: middle;\n",
       "    }\n",
       "\n",
       "    .dataframe tbody tr th {\n",
       "        vertical-align: top;\n",
       "    }\n",
       "\n",
       "    .dataframe thead th {\n",
       "        text-align: right;\n",
       "    }\n",
       "</style>\n",
       "<table border=\"1\" class=\"dataframe\">\n",
       "  <thead>\n",
       "    <tr style=\"text-align: right;\">\n",
       "      <th></th>\n",
       "      <th>patientunitstayid</th>\n",
       "      <th>diagnosisstring</th>\n",
       "      <th>medicationid</th>\n",
       "      <th>drugstartoffset</th>\n",
       "      <th>drugstopoffset</th>\n",
       "      <th>index</th>\n",
       "      <th>urine</th>\n",
       "      <th>wbc</th>\n",
       "      <th>creatinine</th>\n",
       "      <th>pao2</th>\n",
       "      <th>fio2</th>\n",
       "      <th>bilirubin</th>\n",
       "      <th>observationoffset</th>\n",
       "      <th>MAP</th>\n",
       "      <th>GCS</th>\n",
       "      <th>SOFA</th>\n",
       "      <th>tDrugAdminister</th>\n",
       "      <th>labresultoffset</th>\n",
       "      <th>tSusp</th>\n",
       "      <th>tSusp</th>\n",
       "    </tr>\n",
       "  </thead>\n",
       "  <tbody>\n",
       "    <tr>\n",
       "      <th>0</th>\n",
       "      <td>141227</td>\n",
       "      <td>cardiovascular|shock / hypotension|sepsis</td>\n",
       "      <td>12384625</td>\n",
       "      <td>341</td>\n",
       "      <td>3008</td>\n",
       "      <td>6.0</td>\n",
       "      <td>-1.0</td>\n",
       "      <td>42.7</td>\n",
       "      <td>1.9</td>\n",
       "      <td>65.0</td>\n",
       "      <td>21.0</td>\n",
       "      <td>-1.0</td>\n",
       "      <td>676.0</td>\n",
       "      <td>77.333333</td>\n",
       "      <td>13.0</td>\n",
       "      <td>9.0</td>\n",
       "      <td>341</td>\n",
       "      <td>417.0</td>\n",
       "      <td>341.0</td>\n",
       "      <td>341.0</td>\n",
       "    </tr>\n",
       "    <tr>\n",
       "      <th>1</th>\n",
       "      <td>141227</td>\n",
       "      <td>cardiovascular|shock / hypotension|sepsis</td>\n",
       "      <td>12384625</td>\n",
       "      <td>341</td>\n",
       "      <td>3008</td>\n",
       "      <td>6.0</td>\n",
       "      <td>-1.0</td>\n",
       "      <td>42.7</td>\n",
       "      <td>1.9</td>\n",
       "      <td>65.0</td>\n",
       "      <td>21.0</td>\n",
       "      <td>-1.0</td>\n",
       "      <td>676.0</td>\n",
       "      <td>77.333333</td>\n",
       "      <td>13.0</td>\n",
       "      <td>9.0</td>\n",
       "      <td>341</td>\n",
       "      <td>1467.0</td>\n",
       "      <td>341.0</td>\n",
       "      <td>341.0</td>\n",
       "    </tr>\n",
       "    <tr>\n",
       "      <th>2</th>\n",
       "      <td>141227</td>\n",
       "      <td>cardiovascular|shock / hypotension|sepsis</td>\n",
       "      <td>12384625</td>\n",
       "      <td>341</td>\n",
       "      <td>3008</td>\n",
       "      <td>6.0</td>\n",
       "      <td>-1.0</td>\n",
       "      <td>42.7</td>\n",
       "      <td>1.9</td>\n",
       "      <td>65.0</td>\n",
       "      <td>21.0</td>\n",
       "      <td>-1.0</td>\n",
       "      <td>676.0</td>\n",
       "      <td>77.333333</td>\n",
       "      <td>13.0</td>\n",
       "      <td>9.0</td>\n",
       "      <td>341</td>\n",
       "      <td>-13.0</td>\n",
       "      <td>-13.0</td>\n",
       "      <td>-13.0</td>\n",
       "    </tr>\n",
       "    <tr>\n",
       "      <th>3</th>\n",
       "      <td>141227</td>\n",
       "      <td>cardiovascular|shock / hypotension|sepsis</td>\n",
       "      <td>12384625</td>\n",
       "      <td>341</td>\n",
       "      <td>3008</td>\n",
       "      <td>6.0</td>\n",
       "      <td>-1.0</td>\n",
       "      <td>42.7</td>\n",
       "      <td>1.9</td>\n",
       "      <td>65.0</td>\n",
       "      <td>21.0</td>\n",
       "      <td>-1.0</td>\n",
       "      <td>676.0</td>\n",
       "      <td>77.333333</td>\n",
       "      <td>13.0</td>\n",
       "      <td>9.0</td>\n",
       "      <td>341</td>\n",
       "      <td>1362.0</td>\n",
       "      <td>341.0</td>\n",
       "      <td>341.0</td>\n",
       "    </tr>\n",
       "    <tr>\n",
       "      <th>4</th>\n",
       "      <td>141227</td>\n",
       "      <td>cardiovascular|shock / hypotension|sepsis</td>\n",
       "      <td>12384625</td>\n",
       "      <td>341</td>\n",
       "      <td>3008</td>\n",
       "      <td>6.0</td>\n",
       "      <td>-1.0</td>\n",
       "      <td>42.7</td>\n",
       "      <td>1.9</td>\n",
       "      <td>65.0</td>\n",
       "      <td>21.0</td>\n",
       "      <td>-1.0</td>\n",
       "      <td>676.0</td>\n",
       "      <td>77.333333</td>\n",
       "      <td>13.0</td>\n",
       "      <td>9.0</td>\n",
       "      <td>341</td>\n",
       "      <td>-128.0</td>\n",
       "      <td>-128.0</td>\n",
       "      <td>-128.0</td>\n",
       "    </tr>\n",
       "  </tbody>\n",
       "</table>\n",
       "</div>"
      ],
      "text/plain": [
       "   patientunitstayid                            diagnosisstring  medicationid  \\\n",
       "0             141227  cardiovascular|shock / hypotension|sepsis      12384625   \n",
       "1             141227  cardiovascular|shock / hypotension|sepsis      12384625   \n",
       "2             141227  cardiovascular|shock / hypotension|sepsis      12384625   \n",
       "3             141227  cardiovascular|shock / hypotension|sepsis      12384625   \n",
       "4             141227  cardiovascular|shock / hypotension|sepsis      12384625   \n",
       "\n",
       "   drugstartoffset  drugstopoffset  index  urine   wbc  creatinine  pao2  \\\n",
       "0              341            3008    6.0   -1.0  42.7         1.9  65.0   \n",
       "1              341            3008    6.0   -1.0  42.7         1.9  65.0   \n",
       "2              341            3008    6.0   -1.0  42.7         1.9  65.0   \n",
       "3              341            3008    6.0   -1.0  42.7         1.9  65.0   \n",
       "4              341            3008    6.0   -1.0  42.7         1.9  65.0   \n",
       "\n",
       "   fio2  bilirubin  observationoffset        MAP   GCS  SOFA  tDrugAdminister  \\\n",
       "0  21.0       -1.0              676.0  77.333333  13.0   9.0              341   \n",
       "1  21.0       -1.0              676.0  77.333333  13.0   9.0              341   \n",
       "2  21.0       -1.0              676.0  77.333333  13.0   9.0              341   \n",
       "3  21.0       -1.0              676.0  77.333333  13.0   9.0              341   \n",
       "4  21.0       -1.0              676.0  77.333333  13.0   9.0              341   \n",
       "\n",
       "   labresultoffset  tSusp  tSusp  \n",
       "0            417.0  341.0  341.0  \n",
       "1           1467.0  341.0  341.0  \n",
       "2            -13.0  -13.0  -13.0  \n",
       "3           1362.0  341.0  341.0  \n",
       "4           -128.0 -128.0 -128.0  "
      ]
     },
     "execution_count": 89,
     "metadata": {},
     "output_type": "execute_result"
    }
   ],
   "source": [
    "df00.head()"
   ]
  },
  {
   "cell_type": "code",
   "execution_count": 90,
   "metadata": {},
   "outputs": [
    {
     "data": {
      "text/html": [
       "<div>\n",
       "<style scoped>\n",
       "    .dataframe tbody tr th:only-of-type {\n",
       "        vertical-align: middle;\n",
       "    }\n",
       "\n",
       "    .dataframe tbody tr th {\n",
       "        vertical-align: top;\n",
       "    }\n",
       "\n",
       "    .dataframe thead th {\n",
       "        text-align: right;\n",
       "    }\n",
       "</style>\n",
       "<table border=\"1\" class=\"dataframe\">\n",
       "  <thead>\n",
       "    <tr style=\"text-align: right;\">\n",
       "      <th></th>\n",
       "      <th>vitalperiodicid</th>\n",
       "      <th>patientunitstayid</th>\n",
       "      <th>observationoffset</th>\n",
       "      <th>systemicsystolic</th>\n",
       "      <th>systemicdiastolic</th>\n",
       "    </tr>\n",
       "  </thead>\n",
       "  <tbody>\n",
       "    <tr>\n",
       "      <th>0</th>\n",
       "      <td>37370189</td>\n",
       "      <td>141168</td>\n",
       "      <td>2254</td>\n",
       "      <td>100.0</td>\n",
       "      <td>72.0</td>\n",
       "    </tr>\n",
       "    <tr>\n",
       "      <th>1</th>\n",
       "      <td>37370360</td>\n",
       "      <td>141168</td>\n",
       "      <td>2249</td>\n",
       "      <td>96.0</td>\n",
       "      <td>60.0</td>\n",
       "    </tr>\n",
       "    <tr>\n",
       "      <th>2</th>\n",
       "      <td>37374416</td>\n",
       "      <td>141168</td>\n",
       "      <td>2129</td>\n",
       "      <td>112.0</td>\n",
       "      <td>56.0</td>\n",
       "    </tr>\n",
       "    <tr>\n",
       "      <th>3</th>\n",
       "      <td>37369500</td>\n",
       "      <td>141168</td>\n",
       "      <td>2274</td>\n",
       "      <td>96.0</td>\n",
       "      <td>52.0</td>\n",
       "    </tr>\n",
       "    <tr>\n",
       "      <th>4</th>\n",
       "      <td>37375589</td>\n",
       "      <td>141168</td>\n",
       "      <td>2094</td>\n",
       "      <td>122.0</td>\n",
       "      <td>59.0</td>\n",
       "    </tr>\n",
       "  </tbody>\n",
       "</table>\n",
       "</div>"
      ],
      "text/plain": [
       "   vitalperiodicid  patientunitstayid  observationoffset  systemicsystolic  \\\n",
       "0         37370189             141168               2254             100.0   \n",
       "1         37370360             141168               2249              96.0   \n",
       "2         37374416             141168               2129             112.0   \n",
       "3         37369500             141168               2274              96.0   \n",
       "4         37375589             141168               2094             122.0   \n",
       "\n",
       "   systemicdiastolic  \n",
       "0               72.0  \n",
       "1               60.0  \n",
       "2               56.0  \n",
       "3               52.0  \n",
       "4               59.0  "
      ]
     },
     "execution_count": 90,
     "metadata": {},
     "output_type": "execute_result"
    }
   ],
   "source": [
    "vitals.head()"
   ]
  },
  {
   "cell_type": "code",
   "execution_count": 91,
   "metadata": {},
   "outputs": [
    {
     "data": {
      "text/html": [
       "<div>\n",
       "<style scoped>\n",
       "    .dataframe tbody tr th:only-of-type {\n",
       "        vertical-align: middle;\n",
       "    }\n",
       "\n",
       "    .dataframe tbody tr th {\n",
       "        vertical-align: top;\n",
       "    }\n",
       "\n",
       "    .dataframe thead th {\n",
       "        text-align: right;\n",
       "    }\n",
       "</style>\n",
       "<table border=\"1\" class=\"dataframe\">\n",
       "  <thead>\n",
       "    <tr style=\"text-align: right;\">\n",
       "      <th></th>\n",
       "      <th>index</th>\n",
       "      <th>urine</th>\n",
       "      <th>wbc</th>\n",
       "      <th>creatinine</th>\n",
       "      <th>pao2</th>\n",
       "      <th>fio2</th>\n",
       "      <th>bilirubin</th>\n",
       "      <th>observationoffset</th>\n",
       "      <th>patientunitstayid</th>\n",
       "      <th>MAP</th>\n",
       "      <th>GCS</th>\n",
       "      <th>SOFA</th>\n",
       "    </tr>\n",
       "  </thead>\n",
       "  <tbody>\n",
       "    <tr>\n",
       "      <th>0</th>\n",
       "      <td>0</td>\n",
       "      <td>-1.0</td>\n",
       "      <td>14.7</td>\n",
       "      <td>2.30</td>\n",
       "      <td>-1.0</td>\n",
       "      <td>-1.0</td>\n",
       "      <td>4.1</td>\n",
       "      <td>151</td>\n",
       "      <td>141168</td>\n",
       "      <td>92.666667</td>\n",
       "      <td>15.0</td>\n",
       "      <td>8</td>\n",
       "    </tr>\n",
       "    <tr>\n",
       "      <th>1</th>\n",
       "      <td>2</td>\n",
       "      <td>-1.0</td>\n",
       "      <td>14.1</td>\n",
       "      <td>2.51</td>\n",
       "      <td>-1.0</td>\n",
       "      <td>-1.0</td>\n",
       "      <td>0.4</td>\n",
       "      <td>36</td>\n",
       "      <td>141194</td>\n",
       "      <td>83.000000</td>\n",
       "      <td>13.0</td>\n",
       "      <td>7</td>\n",
       "    </tr>\n",
       "    <tr>\n",
       "      <th>2</th>\n",
       "      <td>3</td>\n",
       "      <td>-1.0</td>\n",
       "      <td>-1.0</td>\n",
       "      <td>-1.00</td>\n",
       "      <td>-1.0</td>\n",
       "      <td>-1.0</td>\n",
       "      <td>-1.0</td>\n",
       "      <td>5037</td>\n",
       "      <td>141197</td>\n",
       "      <td>85.666667</td>\n",
       "      <td>15.0</td>\n",
       "      <td>4</td>\n",
       "    </tr>\n",
       "    <tr>\n",
       "      <th>3</th>\n",
       "      <td>4</td>\n",
       "      <td>-1.0</td>\n",
       "      <td>12.7</td>\n",
       "      <td>0.56</td>\n",
       "      <td>51.0</td>\n",
       "      <td>100.0</td>\n",
       "      <td>-1.0</td>\n",
       "      <td>10175</td>\n",
       "      <td>141203</td>\n",
       "      <td>84.333333</td>\n",
       "      <td>5.0</td>\n",
       "      <td>12</td>\n",
       "    </tr>\n",
       "    <tr>\n",
       "      <th>4</th>\n",
       "      <td>5</td>\n",
       "      <td>-1.0</td>\n",
       "      <td>-1.0</td>\n",
       "      <td>-1.00</td>\n",
       "      <td>-1.0</td>\n",
       "      <td>-1.0</td>\n",
       "      <td>-1.0</td>\n",
       "      <td>5273</td>\n",
       "      <td>141208</td>\n",
       "      <td>76.333333</td>\n",
       "      <td>14.0</td>\n",
       "      <td>5</td>\n",
       "    </tr>\n",
       "  </tbody>\n",
       "</table>\n",
       "</div>"
      ],
      "text/plain": [
       "   index  urine   wbc  creatinine  pao2   fio2  bilirubin  observationoffset  \\\n",
       "0      0   -1.0  14.7        2.30  -1.0   -1.0        4.1                151   \n",
       "1      2   -1.0  14.1        2.51  -1.0   -1.0        0.4                 36   \n",
       "2      3   -1.0  -1.0       -1.00  -1.0   -1.0       -1.0               5037   \n",
       "3      4   -1.0  12.7        0.56  51.0  100.0       -1.0              10175   \n",
       "4      5   -1.0  -1.0       -1.00  -1.0   -1.0       -1.0               5273   \n",
       "\n",
       "   patientunitstayid        MAP   GCS  SOFA  \n",
       "0             141168  92.666667  15.0     8  \n",
       "1             141194  83.000000  13.0     7  \n",
       "2             141197  85.666667  15.0     4  \n",
       "3             141203  84.333333   5.0    12  \n",
       "4             141208  76.333333  14.0     5  "
      ]
     },
     "execution_count": 91,
     "metadata": {},
     "output_type": "execute_result"
    }
   ],
   "source": [
    "dfmain.head()"
   ]
  },
  {
   "cell_type": "code",
   "execution_count": 92,
   "metadata": {},
   "outputs": [
    {
     "data": {
      "text/plain": [
       "(134355, 12)"
      ]
     },
     "execution_count": 92,
     "metadata": {},
     "output_type": "execute_result"
    }
   ],
   "source": [
    "dfmain.shape"
   ]
  },
  {
   "cell_type": "code",
   "execution_count": 93,
   "metadata": {
    "collapsed": true
   },
   "outputs": [],
   "source": [
    "dfmain.drop('index', axis=1, inplace=True)"
   ]
  },
  {
   "cell_type": "markdown",
   "metadata": {},
   "source": [
    "## Final calculations for labeling the patient as Sepsis or non-sepsis"
   ]
  },
  {
   "cell_type": "code",
   "execution_count": 94,
   "metadata": {
    "collapsed": true
   },
   "outputs": [],
   "source": [
    "patientsId = df00['patientunitstayid']"
   ]
  },
  {
   "cell_type": "code",
   "execution_count": 95,
   "metadata": {
    "scrolled": true
   },
   "outputs": [
    {
     "data": {
      "text/plain": [
       "0          141227\n",
       "1          141227\n",
       "2          141227\n",
       "3          141227\n",
       "4          141227\n",
       "5          141227\n",
       "6          141227\n",
       "7          141227\n",
       "8          141227\n",
       "9          141227\n",
       "10         141227\n",
       "11         141227\n",
       "12         141227\n",
       "13         141227\n",
       "14         141289\n",
       "15         141289\n",
       "16         141289\n",
       "17         141304\n",
       "18         141304\n",
       "19         141304\n",
       "20         141304\n",
       "21         141304\n",
       "22         141304\n",
       "23         141304\n",
       "24         141304\n",
       "25         141304\n",
       "26         141304\n",
       "27         141304\n",
       "28         141304\n",
       "29         141304\n",
       "           ...   \n",
       "849403    3353251\n",
       "849404    3353251\n",
       "849405    3353251\n",
       "849406    3353251\n",
       "849407    3353251\n",
       "849408    3353251\n",
       "849409    3353251\n",
       "849410    3353251\n",
       "849411    3353251\n",
       "849412    3353251\n",
       "849413    3353251\n",
       "849414    3353251\n",
       "849415    3353251\n",
       "849416    3353251\n",
       "849417    3353251\n",
       "849418    3353251\n",
       "849419    3353251\n",
       "849420    3353251\n",
       "849421    3353251\n",
       "849422    3353251\n",
       "849423    3353251\n",
       "849424    3353251\n",
       "849425    3353251\n",
       "849426    3353251\n",
       "849427    3353251\n",
       "849428    3353251\n",
       "849429    3353251\n",
       "849430    3353251\n",
       "849431    3353251\n",
       "849432    3353251\n",
       "Name: patientunitstayid, Length: 849433, dtype: int64"
      ]
     },
     "execution_count": 95,
     "metadata": {},
     "output_type": "execute_result"
    }
   ],
   "source": [
    "patientsId"
   ]
  },
  {
   "cell_type": "markdown",
   "metadata": {},
   "source": [
    "### Calculate MAP values for every entry in the vitals periodic dataframe. <br>\n",
    "The only detector ie, MAP is considered is because I could only calculate MAP  value from the vitals periodic dataset."
   ]
  },
  {
   "cell_type": "code",
   "execution_count": 96,
   "metadata": {
    "collapsed": true
   },
   "outputs": [],
   "source": [
    "vitalsmap = calcMAP(vitals['systemicsystolic'].tolist(), vitals['systemicdiastolic'].tolist())"
   ]
  },
  {
   "cell_type": "code",
   "execution_count": 97,
   "metadata": {
    "collapsed": true
   },
   "outputs": [],
   "source": [
    "vitalsmap = pd.DataFrame(vitalsmap, columns=['MAP'])"
   ]
  },
  {
   "cell_type": "code",
   "execution_count": 98,
   "metadata": {
    "collapsed": true
   },
   "outputs": [],
   "source": [
    "vitals = pd.concat([vitals, vitalsmap], axis=1)"
   ]
  },
  {
   "cell_type": "code",
   "execution_count": 99,
   "metadata": {},
   "outputs": [
    {
     "data": {
      "text/html": [
       "<div>\n",
       "<style scoped>\n",
       "    .dataframe tbody tr th:only-of-type {\n",
       "        vertical-align: middle;\n",
       "    }\n",
       "\n",
       "    .dataframe tbody tr th {\n",
       "        vertical-align: top;\n",
       "    }\n",
       "\n",
       "    .dataframe thead th {\n",
       "        text-align: right;\n",
       "    }\n",
       "</style>\n",
       "<table border=\"1\" class=\"dataframe\">\n",
       "  <thead>\n",
       "    <tr style=\"text-align: right;\">\n",
       "      <th></th>\n",
       "      <th>vitalperiodicid</th>\n",
       "      <th>patientunitstayid</th>\n",
       "      <th>observationoffset</th>\n",
       "      <th>systemicsystolic</th>\n",
       "      <th>systemicdiastolic</th>\n",
       "      <th>MAP</th>\n",
       "    </tr>\n",
       "  </thead>\n",
       "  <tbody>\n",
       "    <tr>\n",
       "      <th>0</th>\n",
       "      <td>37370189</td>\n",
       "      <td>141168</td>\n",
       "      <td>2254</td>\n",
       "      <td>100.0</td>\n",
       "      <td>72.0</td>\n",
       "      <td>81.333333</td>\n",
       "    </tr>\n",
       "    <tr>\n",
       "      <th>1</th>\n",
       "      <td>37370360</td>\n",
       "      <td>141168</td>\n",
       "      <td>2249</td>\n",
       "      <td>96.0</td>\n",
       "      <td>60.0</td>\n",
       "      <td>72.000000</td>\n",
       "    </tr>\n",
       "    <tr>\n",
       "      <th>2</th>\n",
       "      <td>37374416</td>\n",
       "      <td>141168</td>\n",
       "      <td>2129</td>\n",
       "      <td>112.0</td>\n",
       "      <td>56.0</td>\n",
       "      <td>74.666667</td>\n",
       "    </tr>\n",
       "    <tr>\n",
       "      <th>3</th>\n",
       "      <td>37369500</td>\n",
       "      <td>141168</td>\n",
       "      <td>2274</td>\n",
       "      <td>96.0</td>\n",
       "      <td>52.0</td>\n",
       "      <td>66.666667</td>\n",
       "    </tr>\n",
       "    <tr>\n",
       "      <th>4</th>\n",
       "      <td>37375589</td>\n",
       "      <td>141168</td>\n",
       "      <td>2094</td>\n",
       "      <td>122.0</td>\n",
       "      <td>59.0</td>\n",
       "      <td>80.000000</td>\n",
       "    </tr>\n",
       "  </tbody>\n",
       "</table>\n",
       "</div>"
      ],
      "text/plain": [
       "   vitalperiodicid  patientunitstayid  observationoffset  systemicsystolic  \\\n",
       "0         37370189             141168               2254             100.0   \n",
       "1         37370360             141168               2249              96.0   \n",
       "2         37374416             141168               2129             112.0   \n",
       "3         37369500             141168               2274              96.0   \n",
       "4         37375589             141168               2094             122.0   \n",
       "\n",
       "   systemicdiastolic        MAP  \n",
       "0               72.0  81.333333  \n",
       "1               60.0  72.000000  \n",
       "2               56.0  74.666667  \n",
       "3               52.0  66.666667  \n",
       "4               59.0  80.000000  "
      ]
     },
     "execution_count": 99,
     "metadata": {},
     "output_type": "execute_result"
    }
   ],
   "source": [
    "vitals.head()"
   ]
  },
  {
   "cell_type": "code",
   "execution_count": 100,
   "metadata": {
    "collapsed": true
   },
   "outputs": [],
   "source": [
    "df11 = pd.DataFrame(df00['observationoffset'].tolist(), columns=['observationoffsetinit'])"
   ]
  },
  {
   "cell_type": "code",
   "execution_count": 101,
   "metadata": {
    "collapsed": true
   },
   "outputs": [],
   "source": [
    "df11 = pd.concat([df00['patientunitstayid'], df00['MAP'], df11], axis=1)"
   ]
  },
  {
   "cell_type": "code",
   "execution_count": 102,
   "metadata": {},
   "outputs": [
    {
     "data": {
      "text/plain": [
       "patientunitstayid        0\n",
       "MAP                      0\n",
       "observationoffsetinit    0\n",
       "dtype: int64"
      ]
     },
     "execution_count": 102,
     "metadata": {},
     "output_type": "execute_result"
    }
   ],
   "source": [
    "df11.isna().sum()"
   ]
  },
  {
   "cell_type": "code",
   "execution_count": 103,
   "metadata": {
    "collapsed": true
   },
   "outputs": [],
   "source": [
    "df11.dropna(inplace=True)"
   ]
  },
  {
   "cell_type": "code",
   "execution_count": 104,
   "metadata": {
    "collapsed": true
   },
   "outputs": [],
   "source": [
    "df11.drop_duplicates(inplace=True)\n",
    "df11.reset_index(inplace=True, drop=True)"
   ]
  },
  {
   "cell_type": "code",
   "execution_count": 105,
   "metadata": {},
   "outputs": [
    {
     "data": {
      "text/html": [
       "<div>\n",
       "<style scoped>\n",
       "    .dataframe tbody tr th:only-of-type {\n",
       "        vertical-align: middle;\n",
       "    }\n",
       "\n",
       "    .dataframe tbody tr th {\n",
       "        vertical-align: top;\n",
       "    }\n",
       "\n",
       "    .dataframe thead th {\n",
       "        text-align: right;\n",
       "    }\n",
       "</style>\n",
       "<table border=\"1\" class=\"dataframe\">\n",
       "  <thead>\n",
       "    <tr style=\"text-align: right;\">\n",
       "      <th></th>\n",
       "      <th>patientunitstayid</th>\n",
       "      <th>MAP</th>\n",
       "      <th>observationoffsetinit</th>\n",
       "    </tr>\n",
       "  </thead>\n",
       "  <tbody>\n",
       "    <tr>\n",
       "      <th>0</th>\n",
       "      <td>141227</td>\n",
       "      <td>77.333333</td>\n",
       "      <td>676.0</td>\n",
       "    </tr>\n",
       "    <tr>\n",
       "      <th>1</th>\n",
       "      <td>141289</td>\n",
       "      <td>74.666667</td>\n",
       "      <td>186.0</td>\n",
       "    </tr>\n",
       "    <tr>\n",
       "      <th>2</th>\n",
       "      <td>141304</td>\n",
       "      <td>65.000000</td>\n",
       "      <td>688.0</td>\n",
       "    </tr>\n",
       "    <tr>\n",
       "      <th>3</th>\n",
       "      <td>141392</td>\n",
       "      <td>83.666667</td>\n",
       "      <td>17362.0</td>\n",
       "    </tr>\n",
       "    <tr>\n",
       "      <th>4</th>\n",
       "      <td>141432</td>\n",
       "      <td>82.000000</td>\n",
       "      <td>17392.0</td>\n",
       "    </tr>\n",
       "  </tbody>\n",
       "</table>\n",
       "</div>"
      ],
      "text/plain": [
       "   patientunitstayid        MAP  observationoffsetinit\n",
       "0             141227  77.333333                  676.0\n",
       "1             141289  74.666667                  186.0\n",
       "2             141304  65.000000                  688.0\n",
       "3             141392  83.666667                17362.0\n",
       "4             141432  82.000000                17392.0"
      ]
     },
     "execution_count": 105,
     "metadata": {},
     "output_type": "execute_result"
    }
   ],
   "source": [
    "df11.head()"
   ]
  },
  {
   "cell_type": "code",
   "execution_count": 106,
   "metadata": {},
   "outputs": [
    {
     "data": {
      "text/plain": [
       "(13413, 3)"
      ]
     },
     "execution_count": 106,
     "metadata": {},
     "output_type": "execute_result"
    }
   ],
   "source": [
    "df11.shape"
   ]
  },
  {
   "cell_type": "markdown",
   "metadata": {},
   "source": [
    "#### You can also load the ivitals dataset"
   ]
  },
  {
   "cell_type": "code",
   "execution_count": null,
   "metadata": {
    "collapsed": true
   },
   "outputs": [],
   "source": [
    "ivitals = vitals.merge(df11, how='outer', on='patientunitstayid', suffixes=('_vitals', '_df'))"
   ]
  },
  {
   "cell_type": "code",
   "execution_count": null,
   "metadata": {
    "collapsed": true
   },
   "outputs": [],
   "source": [
    "ivitals.shape"
   ]
  },
  {
   "cell_type": "code",
   "execution_count": null,
   "metadata": {
    "collapsed": true
   },
   "outputs": [],
   "source": [
    "ivitals.dropna(inplace=True)\n",
    "ivitals.reset_index(inplace=True, drop=True)"
   ]
  },
  {
   "cell_type": "code",
   "execution_count": null,
   "metadata": {
    "collapsed": true
   },
   "outputs": [],
   "source": [
    "ivitals.shape"
   ]
  },
  {
   "cell_type": "code",
   "execution_count": null,
   "metadata": {
    "collapsed": true,
    "scrolled": true
   },
   "outputs": [],
   "source": [
    "ivitals"
   ]
  },
  {
   "cell_type": "markdown",
   "metadata": {},
   "source": [
    "### Check if the data entries are only seperated by 24 hours."
   ]
  },
  {
   "cell_type": "code",
   "execution_count": null,
   "metadata": {
    "collapsed": true
   },
   "outputs": [],
   "source": [
    "def checkifvalid(obsofflist, obsoffinitlist, df):\n",
    "    \"\"\"Function to check if SBP and DBP have increased in 24 hours\"\"\"\n",
    "    \n",
    "    droplist = []\n",
    "    for i in range(len(obsofflist)):\n",
    "        if obsofflist[i] - obsoffinitlist[i] <= 1440:\n",
    "            droplist.append(i)\n",
    "        \n",
    "    df.drop(droplist, inplace=True)"
   ]
  },
  {
   "cell_type": "code",
   "execution_count": null,
   "metadata": {
    "collapsed": true
   },
   "outputs": [],
   "source": [
    "checkifvalid(ivitals['observationoffset'].tolist(), ivitals['observationoffsetinit'].tolist(), ivitals)"
   ]
  },
  {
   "cell_type": "code",
   "execution_count": null,
   "metadata": {
    "collapsed": true
   },
   "outputs": [],
   "source": [
    "ivitals.shape"
   ]
  },
  {
   "cell_type": "code",
   "execution_count": null,
   "metadata": {
    "collapsed": true
   },
   "outputs": [],
   "source": [
    "ivitals.drop('vitalperiodicid', axis=1, inplace=True)\n",
    "ivitals.reset_index(inplace=True, drop=True)"
   ]
  },
  {
   "cell_type": "code",
   "execution_count": null,
   "metadata": {
    "collapsed": true,
    "scrolled": true
   },
   "outputs": [],
   "source": [
    "ivitals"
   ]
  },
  {
   "cell_type": "code",
   "execution_count": null,
   "metadata": {
    "collapsed": true
   },
   "outputs": [],
   "source": [
    "ivitals.to_csv('../data/ivitals.csv' , index=False)"
   ]
  },
  {
   "cell_type": "markdown",
   "metadata": {},
   "source": [
    "##### You can also load the dataset from data/"
   ]
  },
  {
   "cell_type": "code",
   "execution_count": 107,
   "metadata": {
    "collapsed": true
   },
   "outputs": [],
   "source": [
    "ivitals = pd.read_csv('../data/ivitals.csv')"
   ]
  },
  {
   "cell_type": "code",
   "execution_count": 108,
   "metadata": {
    "collapsed": true
   },
   "outputs": [],
   "source": [
    "def getPatientsWithSepsis(MAPvitalslist, MAPinitlist, obsofflist, obsoffinitlist, patientidlist):\n",
    "    \"\"\"Function to find the patients who have a two point deterioration in SOFA score\"\"\"\n",
    "    \n",
    "    l = []\n",
    "    m = []\n",
    "    \n",
    "    for i in range(len(MAPvitalslist)):\n",
    "        if MAPinitlist[i] < 70 and MAPvitalslist[i] >= 70 and obsofflist[i] >= obsoffinitlist[i]:\n",
    "                l.append(patientidlist[i])\n",
    "        elif MAPinitlist[i] > 70 and MAPvitalslist[i] <= 70 and obsofflist[i] < obsoffinitlist[i]:\n",
    "            l.append(patientidlist[i])\n",
    "        else:\n",
    "            pass\n",
    "    \n",
    "        m.append(MAPvitalslist[i] - MAPinitlist[i])\n",
    "            \n",
    "    return [l, m]"
   ]
  },
  {
   "cell_type": "code",
   "execution_count": 109,
   "metadata": {
    "collapsed": true
   },
   "outputs": [],
   "source": [
    "l = getPatientsWithSepsis(ivitals['MAP_vitals'].tolist(), ivitals['MAP_df'].tolist(), \n",
    "                      ivitals['observationoffset'].tolist(), ivitals['observationoffsetinit'].tolist(),\n",
    "                      ivitals['patientunitstayid'].tolist())"
   ]
  },
  {
   "cell_type": "code",
   "execution_count": 110,
   "metadata": {
    "collapsed": true
   },
   "outputs": [],
   "source": [
    "diffinMAP = l[1]"
   ]
  },
  {
   "cell_type": "code",
   "execution_count": 111,
   "metadata": {
    "collapsed": true
   },
   "outputs": [],
   "source": [
    "diffinMAP = pd.DataFrame(diffinMAP, columns=['MAPdiff'])"
   ]
  },
  {
   "cell_type": "code",
   "execution_count": 112,
   "metadata": {
    "collapsed": true
   },
   "outputs": [],
   "source": [
    "ivitals = pd.concat([ivitals, diffinMAP], axis=1)"
   ]
  },
  {
   "cell_type": "code",
   "execution_count": 113,
   "metadata": {},
   "outputs": [
    {
     "data": {
      "text/html": [
       "<div>\n",
       "<style scoped>\n",
       "    .dataframe tbody tr th:only-of-type {\n",
       "        vertical-align: middle;\n",
       "    }\n",
       "\n",
       "    .dataframe tbody tr th {\n",
       "        vertical-align: top;\n",
       "    }\n",
       "\n",
       "    .dataframe thead th {\n",
       "        text-align: right;\n",
       "    }\n",
       "</style>\n",
       "<table border=\"1\" class=\"dataframe\">\n",
       "  <thead>\n",
       "    <tr style=\"text-align: right;\">\n",
       "      <th></th>\n",
       "      <th>patientunitstayid</th>\n",
       "      <th>observationoffset</th>\n",
       "      <th>systemicsystolic</th>\n",
       "      <th>systemicdiastolic</th>\n",
       "      <th>MAP_vitals</th>\n",
       "      <th>MAP_df</th>\n",
       "      <th>observationoffsetinit</th>\n",
       "      <th>MAPdiff</th>\n",
       "    </tr>\n",
       "  </thead>\n",
       "  <tbody>\n",
       "    <tr>\n",
       "      <th>0</th>\n",
       "      <td>143466</td>\n",
       "      <td>10140.0</td>\n",
       "      <td>132.0</td>\n",
       "      <td>50.0</td>\n",
       "      <td>77.333333</td>\n",
       "      <td>75.333333</td>\n",
       "      <td>1173.0</td>\n",
       "      <td>2.000000</td>\n",
       "    </tr>\n",
       "    <tr>\n",
       "      <th>1</th>\n",
       "      <td>143466</td>\n",
       "      <td>9835.0</td>\n",
       "      <td>112.0</td>\n",
       "      <td>45.0</td>\n",
       "      <td>67.333333</td>\n",
       "      <td>75.333333</td>\n",
       "      <td>1173.0</td>\n",
       "      <td>-8.000000</td>\n",
       "    </tr>\n",
       "    <tr>\n",
       "      <th>2</th>\n",
       "      <td>143466</td>\n",
       "      <td>4620.0</td>\n",
       "      <td>169.0</td>\n",
       "      <td>68.0</td>\n",
       "      <td>101.666667</td>\n",
       "      <td>75.333333</td>\n",
       "      <td>1173.0</td>\n",
       "      <td>26.333333</td>\n",
       "    </tr>\n",
       "    <tr>\n",
       "      <th>3</th>\n",
       "      <td>143466</td>\n",
       "      <td>8775.0</td>\n",
       "      <td>123.0</td>\n",
       "      <td>51.0</td>\n",
       "      <td>75.000000</td>\n",
       "      <td>75.333333</td>\n",
       "      <td>1173.0</td>\n",
       "      <td>-0.333333</td>\n",
       "    </tr>\n",
       "    <tr>\n",
       "      <th>4</th>\n",
       "      <td>143466</td>\n",
       "      <td>10720.0</td>\n",
       "      <td>120.0</td>\n",
       "      <td>47.0</td>\n",
       "      <td>71.333333</td>\n",
       "      <td>75.333333</td>\n",
       "      <td>1173.0</td>\n",
       "      <td>-4.000000</td>\n",
       "    </tr>\n",
       "  </tbody>\n",
       "</table>\n",
       "</div>"
      ],
      "text/plain": [
       "   patientunitstayid  observationoffset  systemicsystolic  systemicdiastolic  \\\n",
       "0             143466            10140.0             132.0               50.0   \n",
       "1             143466             9835.0             112.0               45.0   \n",
       "2             143466             4620.0             169.0               68.0   \n",
       "3             143466             8775.0             123.0               51.0   \n",
       "4             143466            10720.0             120.0               47.0   \n",
       "\n",
       "   MAP_vitals     MAP_df  observationoffsetinit    MAPdiff  \n",
       "0   77.333333  75.333333                 1173.0   2.000000  \n",
       "1   67.333333  75.333333                 1173.0  -8.000000  \n",
       "2  101.666667  75.333333                 1173.0  26.333333  \n",
       "3   75.000000  75.333333                 1173.0  -0.333333  \n",
       "4   71.333333  75.333333                 1173.0  -4.000000  "
      ]
     },
     "execution_count": 113,
     "metadata": {},
     "output_type": "execute_result"
    }
   ],
   "source": [
    "ivitals.head()"
   ]
  },
  {
   "cell_type": "code",
   "execution_count": 114,
   "metadata": {
    "collapsed": true
   },
   "outputs": [],
   "source": [
    "patientsWithSepsis = pd.Series(l[0]).unique()"
   ]
  },
  {
   "cell_type": "code",
   "execution_count": 115,
   "metadata": {
    "collapsed": true
   },
   "outputs": [],
   "source": [
    "patientsDf = pd.read_csv('../data/patient.csv')"
   ]
  },
  {
   "cell_type": "code",
   "execution_count": 116,
   "metadata": {},
   "outputs": [
    {
     "data": {
      "text/html": [
       "<div>\n",
       "<style scoped>\n",
       "    .dataframe tbody tr th:only-of-type {\n",
       "        vertical-align: middle;\n",
       "    }\n",
       "\n",
       "    .dataframe tbody tr th {\n",
       "        vertical-align: top;\n",
       "    }\n",
       "\n",
       "    .dataframe thead th {\n",
       "        text-align: right;\n",
       "    }\n",
       "</style>\n",
       "<table border=\"1\" class=\"dataframe\">\n",
       "  <thead>\n",
       "    <tr style=\"text-align: right;\">\n",
       "      <th></th>\n",
       "      <th>patientunitstayid</th>\n",
       "      <th>patienthealthsystemstayid</th>\n",
       "      <th>gender</th>\n",
       "      <th>age</th>\n",
       "      <th>ethnicity</th>\n",
       "      <th>hospitalid</th>\n",
       "      <th>wardid</th>\n",
       "      <th>apacheadmissiondx</th>\n",
       "      <th>admissionheight</th>\n",
       "      <th>hospitaladmittime24</th>\n",
       "      <th>...</th>\n",
       "      <th>unitadmitsource</th>\n",
       "      <th>unitvisitnumber</th>\n",
       "      <th>unitstaytype</th>\n",
       "      <th>admissionweight</th>\n",
       "      <th>dischargeweight</th>\n",
       "      <th>unitdischargetime24</th>\n",
       "      <th>unitdischargeoffset</th>\n",
       "      <th>unitdischargelocation</th>\n",
       "      <th>unitdischargestatus</th>\n",
       "      <th>uniquepid</th>\n",
       "    </tr>\n",
       "  </thead>\n",
       "  <tbody>\n",
       "    <tr>\n",
       "      <th>0</th>\n",
       "      <td>141168</td>\n",
       "      <td>128919</td>\n",
       "      <td>Female</td>\n",
       "      <td>70</td>\n",
       "      <td>Caucasian</td>\n",
       "      <td>59</td>\n",
       "      <td>91</td>\n",
       "      <td>Rhythm disturbance (atrial, supraventricular)</td>\n",
       "      <td>152.4</td>\n",
       "      <td>15:54:00</td>\n",
       "      <td>...</td>\n",
       "      <td>Direct Admit</td>\n",
       "      <td>1</td>\n",
       "      <td>admit</td>\n",
       "      <td>84.3</td>\n",
       "      <td>85.8</td>\n",
       "      <td>03:50:00</td>\n",
       "      <td>3596</td>\n",
       "      <td>Death</td>\n",
       "      <td>Expired</td>\n",
       "      <td>002-34851</td>\n",
       "    </tr>\n",
       "    <tr>\n",
       "      <th>1</th>\n",
       "      <td>141178</td>\n",
       "      <td>128927</td>\n",
       "      <td>Female</td>\n",
       "      <td>52</td>\n",
       "      <td>Caucasian</td>\n",
       "      <td>60</td>\n",
       "      <td>83</td>\n",
       "      <td>NaN</td>\n",
       "      <td>162.6</td>\n",
       "      <td>08:56:00</td>\n",
       "      <td>...</td>\n",
       "      <td>Emergency Department</td>\n",
       "      <td>1</td>\n",
       "      <td>admit</td>\n",
       "      <td>54.4</td>\n",
       "      <td>54.4</td>\n",
       "      <td>09:18:00</td>\n",
       "      <td>8</td>\n",
       "      <td>Step-Down Unit (SDU)</td>\n",
       "      <td>Alive</td>\n",
       "      <td>002-33870</td>\n",
       "    </tr>\n",
       "    <tr>\n",
       "      <th>2</th>\n",
       "      <td>141179</td>\n",
       "      <td>128927</td>\n",
       "      <td>Female</td>\n",
       "      <td>52</td>\n",
       "      <td>Caucasian</td>\n",
       "      <td>60</td>\n",
       "      <td>83</td>\n",
       "      <td>NaN</td>\n",
       "      <td>162.6</td>\n",
       "      <td>08:56:00</td>\n",
       "      <td>...</td>\n",
       "      <td>ICU to SDU</td>\n",
       "      <td>2</td>\n",
       "      <td>stepdown/other</td>\n",
       "      <td>NaN</td>\n",
       "      <td>60.4</td>\n",
       "      <td>19:20:00</td>\n",
       "      <td>2042</td>\n",
       "      <td>Home</td>\n",
       "      <td>Alive</td>\n",
       "      <td>002-33870</td>\n",
       "    </tr>\n",
       "    <tr>\n",
       "      <th>3</th>\n",
       "      <td>141194</td>\n",
       "      <td>128941</td>\n",
       "      <td>Male</td>\n",
       "      <td>68</td>\n",
       "      <td>Caucasian</td>\n",
       "      <td>73</td>\n",
       "      <td>92</td>\n",
       "      <td>Sepsis, renal/UTI (including bladder)</td>\n",
       "      <td>180.3</td>\n",
       "      <td>18:18:40</td>\n",
       "      <td>...</td>\n",
       "      <td>Floor</td>\n",
       "      <td>1</td>\n",
       "      <td>admit</td>\n",
       "      <td>73.9</td>\n",
       "      <td>76.7</td>\n",
       "      <td>15:31:00</td>\n",
       "      <td>4813</td>\n",
       "      <td>Floor</td>\n",
       "      <td>Alive</td>\n",
       "      <td>002-5276</td>\n",
       "    </tr>\n",
       "    <tr>\n",
       "      <th>4</th>\n",
       "      <td>141196</td>\n",
       "      <td>128943</td>\n",
       "      <td>Male</td>\n",
       "      <td>71</td>\n",
       "      <td>Caucasian</td>\n",
       "      <td>67</td>\n",
       "      <td>109</td>\n",
       "      <td>NaN</td>\n",
       "      <td>162.6</td>\n",
       "      <td>20:21:00</td>\n",
       "      <td>...</td>\n",
       "      <td>ICU to SDU</td>\n",
       "      <td>2</td>\n",
       "      <td>stepdown/other</td>\n",
       "      <td>NaN</td>\n",
       "      <td>63.2</td>\n",
       "      <td>22:23:00</td>\n",
       "      <td>1463</td>\n",
       "      <td>Floor</td>\n",
       "      <td>Alive</td>\n",
       "      <td>002-37665</td>\n",
       "    </tr>\n",
       "  </tbody>\n",
       "</table>\n",
       "<p>5 rows × 29 columns</p>\n",
       "</div>"
      ],
      "text/plain": [
       "   patientunitstayid  patienthealthsystemstayid  gender age  ethnicity  \\\n",
       "0             141168                     128919  Female  70  Caucasian   \n",
       "1             141178                     128927  Female  52  Caucasian   \n",
       "2             141179                     128927  Female  52  Caucasian   \n",
       "3             141194                     128941    Male  68  Caucasian   \n",
       "4             141196                     128943    Male  71  Caucasian   \n",
       "\n",
       "   hospitalid  wardid                              apacheadmissiondx  \\\n",
       "0          59      91  Rhythm disturbance (atrial, supraventricular)   \n",
       "1          60      83                                            NaN   \n",
       "2          60      83                                            NaN   \n",
       "3          73      92          Sepsis, renal/UTI (including bladder)   \n",
       "4          67     109                                            NaN   \n",
       "\n",
       "   admissionheight hospitaladmittime24    ...           unitadmitsource  \\\n",
       "0            152.4            15:54:00    ...              Direct Admit   \n",
       "1            162.6            08:56:00    ...      Emergency Department   \n",
       "2            162.6            08:56:00    ...                ICU to SDU   \n",
       "3            180.3            18:18:40    ...                     Floor   \n",
       "4            162.6            20:21:00    ...                ICU to SDU   \n",
       "\n",
       "  unitvisitnumber    unitstaytype admissionweight  dischargeweight  \\\n",
       "0               1           admit            84.3             85.8   \n",
       "1               1           admit            54.4             54.4   \n",
       "2               2  stepdown/other             NaN             60.4   \n",
       "3               1           admit            73.9             76.7   \n",
       "4               2  stepdown/other             NaN             63.2   \n",
       "\n",
       "  unitdischargetime24 unitdischargeoffset unitdischargelocation  \\\n",
       "0            03:50:00                3596                 Death   \n",
       "1            09:18:00                   8  Step-Down Unit (SDU)   \n",
       "2            19:20:00                2042                  Home   \n",
       "3            15:31:00                4813                 Floor   \n",
       "4            22:23:00                1463                 Floor   \n",
       "\n",
       "  unitdischargestatus  uniquepid  \n",
       "0             Expired  002-34851  \n",
       "1               Alive  002-33870  \n",
       "2               Alive  002-33870  \n",
       "3               Alive   002-5276  \n",
       "4               Alive  002-37665  \n",
       "\n",
       "[5 rows x 29 columns]"
      ]
     },
     "execution_count": 116,
     "metadata": {},
     "output_type": "execute_result"
    }
   ],
   "source": [
    "patientsDf.head()"
   ]
  },
  {
   "cell_type": "code",
   "execution_count": 117,
   "metadata": {
    "collapsed": true
   },
   "outputs": [],
   "source": [
    "patientslist = patientsDf['patientunitstayid']"
   ]
  },
  {
   "cell_type": "code",
   "execution_count": 118,
   "metadata": {
    "collapsed": true
   },
   "outputs": [],
   "source": [
    "labels = []\n",
    "for i in patientslist:\n",
    "    if i in patientsWithSepsis:\n",
    "        labels.append(1)\n",
    "    else:\n",
    "        labels.append(0)"
   ]
  },
  {
   "cell_type": "code",
   "execution_count": 119,
   "metadata": {},
   "outputs": [
    {
     "data": {
      "text/plain": [
       "200859"
      ]
     },
     "execution_count": 119,
     "metadata": {},
     "output_type": "execute_result"
    }
   ],
   "source": [
    "len(labels)"
   ]
  },
  {
   "cell_type": "code",
   "execution_count": 120,
   "metadata": {},
   "outputs": [
    {
     "data": {
      "text/plain": [
       "200859"
      ]
     },
     "execution_count": 120,
     "metadata": {},
     "output_type": "execute_result"
    }
   ],
   "source": [
    "len(patientslist)"
   ]
  },
  {
   "cell_type": "code",
   "execution_count": 121,
   "metadata": {
    "collapsed": true
   },
   "outputs": [],
   "source": [
    "patientslist = pd.DataFrame(patientslist.tolist(), columns=['patientunitstayid'])\n",
    "labels = pd.DataFrame(labels, columns=['SepsisLabel'])"
   ]
  },
  {
   "cell_type": "code",
   "execution_count": 122,
   "metadata": {
    "collapsed": true
   },
   "outputs": [],
   "source": [
    "finalPatientsList = pd.concat([patientslist, labels], axis=1)"
   ]
  },
  {
   "cell_type": "markdown",
   "metadata": {},
   "source": [
    "### Final list with Sepsis Labels"
   ]
  },
  {
   "cell_type": "code",
   "execution_count": 123,
   "metadata": {
    "scrolled": false
   },
   "outputs": [
    {
     "data": {
      "text/html": [
       "<div>\n",
       "<style scoped>\n",
       "    .dataframe tbody tr th:only-of-type {\n",
       "        vertical-align: middle;\n",
       "    }\n",
       "\n",
       "    .dataframe tbody tr th {\n",
       "        vertical-align: top;\n",
       "    }\n",
       "\n",
       "    .dataframe thead th {\n",
       "        text-align: right;\n",
       "    }\n",
       "</style>\n",
       "<table border=\"1\" class=\"dataframe\">\n",
       "  <thead>\n",
       "    <tr style=\"text-align: right;\">\n",
       "      <th></th>\n",
       "      <th>patientunitstayid</th>\n",
       "      <th>SepsisLabel</th>\n",
       "    </tr>\n",
       "  </thead>\n",
       "  <tbody>\n",
       "    <tr>\n",
       "      <th>0</th>\n",
       "      <td>141168</td>\n",
       "      <td>0</td>\n",
       "    </tr>\n",
       "    <tr>\n",
       "      <th>1</th>\n",
       "      <td>141178</td>\n",
       "      <td>0</td>\n",
       "    </tr>\n",
       "    <tr>\n",
       "      <th>2</th>\n",
       "      <td>141179</td>\n",
       "      <td>0</td>\n",
       "    </tr>\n",
       "    <tr>\n",
       "      <th>3</th>\n",
       "      <td>141194</td>\n",
       "      <td>0</td>\n",
       "    </tr>\n",
       "    <tr>\n",
       "      <th>4</th>\n",
       "      <td>141196</td>\n",
       "      <td>0</td>\n",
       "    </tr>\n",
       "    <tr>\n",
       "      <th>5</th>\n",
       "      <td>141197</td>\n",
       "      <td>0</td>\n",
       "    </tr>\n",
       "    <tr>\n",
       "      <th>6</th>\n",
       "      <td>141203</td>\n",
       "      <td>0</td>\n",
       "    </tr>\n",
       "    <tr>\n",
       "      <th>7</th>\n",
       "      <td>141208</td>\n",
       "      <td>0</td>\n",
       "    </tr>\n",
       "    <tr>\n",
       "      <th>8</th>\n",
       "      <td>141227</td>\n",
       "      <td>0</td>\n",
       "    </tr>\n",
       "    <tr>\n",
       "      <th>9</th>\n",
       "      <td>141229</td>\n",
       "      <td>0</td>\n",
       "    </tr>\n",
       "  </tbody>\n",
       "</table>\n",
       "</div>"
      ],
      "text/plain": [
       "   patientunitstayid  SepsisLabel\n",
       "0             141168            0\n",
       "1             141178            0\n",
       "2             141179            0\n",
       "3             141194            0\n",
       "4             141196            0\n",
       "5             141197            0\n",
       "6             141203            0\n",
       "7             141208            0\n",
       "8             141227            0\n",
       "9             141229            0"
      ]
     },
     "execution_count": 123,
     "metadata": {},
     "output_type": "execute_result"
    }
   ],
   "source": [
    "finalPatientsList.head(10)"
   ]
  },
  {
   "cell_type": "code",
   "execution_count": 124,
   "metadata": {},
   "outputs": [
    {
     "data": {
      "text/plain": [
       "array([0, 1], dtype=int64)"
      ]
     },
     "execution_count": 124,
     "metadata": {},
     "output_type": "execute_result"
    }
   ],
   "source": [
    "finalPatientsList['SepsisLabel'].unique()"
   ]
  },
  {
   "cell_type": "markdown",
   "metadata": {},
   "source": [
    "##### Get the number of patients with  SepsisLabels as 1 or 0"
   ]
  },
  {
   "cell_type": "code",
   "execution_count": 125,
   "metadata": {
    "collapsed": true
   },
   "outputs": [],
   "source": [
    "from collections import Counter"
   ]
  },
  {
   "cell_type": "code",
   "execution_count": 126,
   "metadata": {},
   "outputs": [
    {
     "data": {
      "text/plain": [
       "dict_values([200560, 299])"
      ]
     },
     "execution_count": 126,
     "metadata": {},
     "output_type": "execute_result"
    }
   ],
   "source": [
    "Counter(finalPatientsList['SepsisLabel'].tolist()).values()"
   ]
  },
  {
   "cell_type": "code",
   "execution_count": 127,
   "metadata": {
    "collapsed": true
   },
   "outputs": [],
   "source": [
    "finalPatientsList.to_csvv('../data/finalLabels.csv', index=False)"
   ]
  },
  {
   "cell_type": "code",
   "execution_count": null,
   "metadata": {
    "collapsed": true
   },
   "outputs": [],
   "source": []
  }
 ],
 "metadata": {
  "kernelspec": {
   "display_name": "Python 3",
   "language": "python",
   "name": "python3"
  },
  "language_info": {
   "codemirror_mode": {
    "name": "ipython",
    "version": 3
   },
   "file_extension": ".py",
   "mimetype": "text/x-python",
   "name": "python",
   "nbconvert_exporter": "python",
   "pygments_lexer": "ipython3",
   "version": "3.5.4"
  }
 },
 "nbformat": 4,
 "nbformat_minor": 2
}
