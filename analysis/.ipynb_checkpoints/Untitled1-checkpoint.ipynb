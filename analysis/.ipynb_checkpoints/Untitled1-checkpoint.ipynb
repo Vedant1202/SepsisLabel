{
 "cells": [
  {
   "cell_type": "markdown",
   "metadata": {},
   "source": [
    "## Import Libraries"
   ]
  },
  {
   "cell_type": "code",
   "execution_count": 54,
   "metadata": {
    "collapsed": true
   },
   "outputs": [],
   "source": [
    "import pandas as pd\n",
    "import numpy as np"
   ]
  },
  {
   "cell_type": "markdown",
   "metadata": {},
   "source": [
    "## Read Datasets\n",
    "Read Datasets and do some basic exploratory analysis"
   ]
  },
  {
   "cell_type": "code",
   "execution_count": 55,
   "metadata": {
    "collapsed": true
   },
   "outputs": [],
   "source": [
    "apsvar = pd.read_csv('../data/apacheApsVar.csv')"
   ]
  },
  {
   "cell_type": "code",
   "execution_count": 56,
   "metadata": {},
   "outputs": [
    {
     "data": {
      "text/html": [
       "<div>\n",
       "<style scoped>\n",
       "    .dataframe tbody tr th:only-of-type {\n",
       "        vertical-align: middle;\n",
       "    }\n",
       "\n",
       "    .dataframe tbody tr th {\n",
       "        vertical-align: top;\n",
       "    }\n",
       "\n",
       "    .dataframe thead th {\n",
       "        text-align: right;\n",
       "    }\n",
       "</style>\n",
       "<table border=\"1\" class=\"dataframe\">\n",
       "  <thead>\n",
       "    <tr style=\"text-align: right;\">\n",
       "      <th></th>\n",
       "      <th>apacheapsvarid</th>\n",
       "      <th>patientunitstayid</th>\n",
       "      <th>intubated</th>\n",
       "      <th>vent</th>\n",
       "      <th>dialysis</th>\n",
       "      <th>eyes</th>\n",
       "      <th>motor</th>\n",
       "      <th>verbal</th>\n",
       "      <th>meds</th>\n",
       "      <th>urine</th>\n",
       "      <th>...</th>\n",
       "      <th>ph</th>\n",
       "      <th>hematocrit</th>\n",
       "      <th>creatinine</th>\n",
       "      <th>albumin</th>\n",
       "      <th>pao2</th>\n",
       "      <th>pco2</th>\n",
       "      <th>bun</th>\n",
       "      <th>glucose</th>\n",
       "      <th>bilirubin</th>\n",
       "      <th>fio2</th>\n",
       "    </tr>\n",
       "  </thead>\n",
       "  <tbody>\n",
       "    <tr>\n",
       "      <th>0</th>\n",
       "      <td>2</td>\n",
       "      <td>141168</td>\n",
       "      <td>0</td>\n",
       "      <td>0</td>\n",
       "      <td>0</td>\n",
       "      <td>4</td>\n",
       "      <td>6</td>\n",
       "      <td>5</td>\n",
       "      <td>0</td>\n",
       "      <td>-1.0</td>\n",
       "      <td>...</td>\n",
       "      <td>-1.00</td>\n",
       "      <td>40.1</td>\n",
       "      <td>2.30</td>\n",
       "      <td>3.1</td>\n",
       "      <td>-1.0</td>\n",
       "      <td>-1.0</td>\n",
       "      <td>27.0</td>\n",
       "      <td>95.0</td>\n",
       "      <td>4.1</td>\n",
       "      <td>-1.0</td>\n",
       "    </tr>\n",
       "    <tr>\n",
       "      <th>1</th>\n",
       "      <td>2399659</td>\n",
       "      <td>141178</td>\n",
       "      <td>0</td>\n",
       "      <td>0</td>\n",
       "      <td>0</td>\n",
       "      <td>-1</td>\n",
       "      <td>-1</td>\n",
       "      <td>-1</td>\n",
       "      <td>-1</td>\n",
       "      <td>-1.0</td>\n",
       "      <td>...</td>\n",
       "      <td>-1.00</td>\n",
       "      <td>-1.0</td>\n",
       "      <td>-1.00</td>\n",
       "      <td>-1.0</td>\n",
       "      <td>-1.0</td>\n",
       "      <td>-1.0</td>\n",
       "      <td>-1.0</td>\n",
       "      <td>-1.0</td>\n",
       "      <td>-1.0</td>\n",
       "      <td>-1.0</td>\n",
       "    </tr>\n",
       "    <tr>\n",
       "      <th>2</th>\n",
       "      <td>167885</td>\n",
       "      <td>141194</td>\n",
       "      <td>0</td>\n",
       "      <td>0</td>\n",
       "      <td>0</td>\n",
       "      <td>3</td>\n",
       "      <td>6</td>\n",
       "      <td>4</td>\n",
       "      <td>0</td>\n",
       "      <td>-1.0</td>\n",
       "      <td>...</td>\n",
       "      <td>-1.00</td>\n",
       "      <td>27.4</td>\n",
       "      <td>2.51</td>\n",
       "      <td>2.3</td>\n",
       "      <td>-1.0</td>\n",
       "      <td>-1.0</td>\n",
       "      <td>31.0</td>\n",
       "      <td>168.0</td>\n",
       "      <td>0.4</td>\n",
       "      <td>-1.0</td>\n",
       "    </tr>\n",
       "    <tr>\n",
       "      <th>3</th>\n",
       "      <td>70691</td>\n",
       "      <td>141197</td>\n",
       "      <td>0</td>\n",
       "      <td>0</td>\n",
       "      <td>0</td>\n",
       "      <td>4</td>\n",
       "      <td>6</td>\n",
       "      <td>5</td>\n",
       "      <td>0</td>\n",
       "      <td>-1.0</td>\n",
       "      <td>...</td>\n",
       "      <td>-1.00</td>\n",
       "      <td>-1.0</td>\n",
       "      <td>-1.00</td>\n",
       "      <td>-1.0</td>\n",
       "      <td>-1.0</td>\n",
       "      <td>-1.0</td>\n",
       "      <td>-1.0</td>\n",
       "      <td>-1.0</td>\n",
       "      <td>-1.0</td>\n",
       "      <td>-1.0</td>\n",
       "    </tr>\n",
       "    <tr>\n",
       "      <th>4</th>\n",
       "      <td>2279689</td>\n",
       "      <td>141203</td>\n",
       "      <td>0</td>\n",
       "      <td>1</td>\n",
       "      <td>0</td>\n",
       "      <td>1</td>\n",
       "      <td>3</td>\n",
       "      <td>1</td>\n",
       "      <td>0</td>\n",
       "      <td>-1.0</td>\n",
       "      <td>...</td>\n",
       "      <td>7.45</td>\n",
       "      <td>36.9</td>\n",
       "      <td>0.56</td>\n",
       "      <td>-1.0</td>\n",
       "      <td>51.0</td>\n",
       "      <td>37.0</td>\n",
       "      <td>9.0</td>\n",
       "      <td>145.0</td>\n",
       "      <td>-1.0</td>\n",
       "      <td>100.0</td>\n",
       "    </tr>\n",
       "  </tbody>\n",
       "</table>\n",
       "<p>5 rows × 26 columns</p>\n",
       "</div>"
      ],
      "text/plain": [
       "   apacheapsvarid  patientunitstayid  intubated  vent  dialysis  eyes  motor  \\\n",
       "0               2             141168          0     0         0     4      6   \n",
       "1         2399659             141178          0     0         0    -1     -1   \n",
       "2          167885             141194          0     0         0     3      6   \n",
       "3           70691             141197          0     0         0     4      6   \n",
       "4         2279689             141203          0     1         0     1      3   \n",
       "\n",
       "   verbal  meds  urine  ...      ph  hematocrit  creatinine  albumin  pao2  \\\n",
       "0       5     0   -1.0  ...   -1.00        40.1        2.30      3.1  -1.0   \n",
       "1      -1    -1   -1.0  ...   -1.00        -1.0       -1.00     -1.0  -1.0   \n",
       "2       4     0   -1.0  ...   -1.00        27.4        2.51      2.3  -1.0   \n",
       "3       5     0   -1.0  ...   -1.00        -1.0       -1.00     -1.0  -1.0   \n",
       "4       1     0   -1.0  ...    7.45        36.9        0.56     -1.0  51.0   \n",
       "\n",
       "   pco2   bun  glucose  bilirubin   fio2  \n",
       "0  -1.0  27.0     95.0        4.1   -1.0  \n",
       "1  -1.0  -1.0     -1.0       -1.0   -1.0  \n",
       "2  -1.0  31.0    168.0        0.4   -1.0  \n",
       "3  -1.0  -1.0     -1.0       -1.0   -1.0  \n",
       "4  37.0   9.0    145.0       -1.0  100.0  \n",
       "\n",
       "[5 rows x 26 columns]"
      ]
     },
     "execution_count": 56,
     "metadata": {},
     "output_type": "execute_result"
    }
   ],
   "source": [
    "apsvar.head()"
   ]
  },
  {
   "cell_type": "code",
   "execution_count": 57,
   "metadata": {},
   "outputs": [
    {
     "data": {
      "text/plain": [
       "Index(['apacheapsvarid', 'patientunitstayid', 'intubated', 'vent', 'dialysis',\n",
       "       'eyes', 'motor', 'verbal', 'meds', 'urine', 'wbc', 'temperature',\n",
       "       'respiratoryrate', 'sodium', 'heartrate', 'meanbp', 'ph', 'hematocrit',\n",
       "       'creatinine', 'albumin', 'pao2', 'pco2', 'bun', 'glucose', 'bilirubin',\n",
       "       'fio2'],\n",
       "      dtype='object')"
      ]
     },
     "execution_count": 57,
     "metadata": {},
     "output_type": "execute_result"
    }
   ],
   "source": [
    "apsvar.columns"
   ]
  },
  {
   "cell_type": "code",
   "execution_count": 58,
   "metadata": {},
   "outputs": [
    {
     "data": {
      "text/plain": [
       "(171177, 26)"
      ]
     },
     "execution_count": 58,
     "metadata": {},
     "output_type": "execute_result"
    }
   ],
   "source": [
    "apsvar.shape"
   ]
  },
  {
   "cell_type": "markdown",
   "metadata": {},
   "source": [
    "#### Read vitals aperiod dataset to get the systolic and diastolic"
   ]
  },
  {
   "cell_type": "code",
   "execution_count": 60,
   "metadata": {
    "collapsed": true
   },
   "outputs": [],
   "source": [
    "vitsaperiod = pd.read_csv('../data/vitalAperiodic.csv')"
   ]
  },
  {
   "cell_type": "code",
   "execution_count": 61,
   "metadata": {
    "scrolled": true
   },
   "outputs": [
    {
     "data": {
      "text/html": [
       "<div>\n",
       "<style scoped>\n",
       "    .dataframe tbody tr th:only-of-type {\n",
       "        vertical-align: middle;\n",
       "    }\n",
       "\n",
       "    .dataframe tbody tr th {\n",
       "        vertical-align: top;\n",
       "    }\n",
       "\n",
       "    .dataframe thead th {\n",
       "        text-align: right;\n",
       "    }\n",
       "</style>\n",
       "<table border=\"1\" class=\"dataframe\">\n",
       "  <thead>\n",
       "    <tr style=\"text-align: right;\">\n",
       "      <th></th>\n",
       "      <th>vitalaperiodicid</th>\n",
       "      <th>patientunitstayid</th>\n",
       "      <th>observationoffset</th>\n",
       "      <th>noninvasivesystolic</th>\n",
       "      <th>noninvasivediastolic</th>\n",
       "      <th>noninvasivemean</th>\n",
       "      <th>paop</th>\n",
       "      <th>cardiacoutput</th>\n",
       "      <th>cardiacinput</th>\n",
       "      <th>svr</th>\n",
       "      <th>svri</th>\n",
       "      <th>pvr</th>\n",
       "      <th>pvri</th>\n",
       "    </tr>\n",
       "  </thead>\n",
       "  <tbody>\n",
       "    <tr>\n",
       "      <th>0</th>\n",
       "      <td>4295739</td>\n",
       "      <td>141168</td>\n",
       "      <td>349</td>\n",
       "      <td>NaN</td>\n",
       "      <td>NaN</td>\n",
       "      <td>79.0</td>\n",
       "      <td>NaN</td>\n",
       "      <td>NaN</td>\n",
       "      <td>NaN</td>\n",
       "      <td>NaN</td>\n",
       "      <td>NaN</td>\n",
       "      <td>NaN</td>\n",
       "      <td>NaN</td>\n",
       "    </tr>\n",
       "    <tr>\n",
       "      <th>1</th>\n",
       "      <td>4295737</td>\n",
       "      <td>141168</td>\n",
       "      <td>123</td>\n",
       "      <td>106.0</td>\n",
       "      <td>68.0</td>\n",
       "      <td>81.0</td>\n",
       "      <td>NaN</td>\n",
       "      <td>NaN</td>\n",
       "      <td>NaN</td>\n",
       "      <td>NaN</td>\n",
       "      <td>NaN</td>\n",
       "      <td>NaN</td>\n",
       "      <td>NaN</td>\n",
       "    </tr>\n",
       "    <tr>\n",
       "      <th>2</th>\n",
       "      <td>4295741</td>\n",
       "      <td>141168</td>\n",
       "      <td>1398</td>\n",
       "      <td>NaN</td>\n",
       "      <td>NaN</td>\n",
       "      <td>27.0</td>\n",
       "      <td>NaN</td>\n",
       "      <td>NaN</td>\n",
       "      <td>NaN</td>\n",
       "      <td>NaN</td>\n",
       "      <td>NaN</td>\n",
       "      <td>NaN</td>\n",
       "      <td>NaN</td>\n",
       "    </tr>\n",
       "    <tr>\n",
       "      <th>3</th>\n",
       "      <td>4295740</td>\n",
       "      <td>141168</td>\n",
       "      <td>441</td>\n",
       "      <td>NaN</td>\n",
       "      <td>NaN</td>\n",
       "      <td>62.0</td>\n",
       "      <td>NaN</td>\n",
       "      <td>NaN</td>\n",
       "      <td>NaN</td>\n",
       "      <td>NaN</td>\n",
       "      <td>NaN</td>\n",
       "      <td>NaN</td>\n",
       "      <td>NaN</td>\n",
       "    </tr>\n",
       "    <tr>\n",
       "      <th>4</th>\n",
       "      <td>4295738</td>\n",
       "      <td>141168</td>\n",
       "      <td>138</td>\n",
       "      <td>111.0</td>\n",
       "      <td>62.0</td>\n",
       "      <td>82.0</td>\n",
       "      <td>NaN</td>\n",
       "      <td>NaN</td>\n",
       "      <td>NaN</td>\n",
       "      <td>NaN</td>\n",
       "      <td>NaN</td>\n",
       "      <td>NaN</td>\n",
       "      <td>NaN</td>\n",
       "    </tr>\n",
       "  </tbody>\n",
       "</table>\n",
       "</div>"
      ],
      "text/plain": [
       "   vitalaperiodicid  patientunitstayid  observationoffset  \\\n",
       "0           4295739             141168                349   \n",
       "1           4295737             141168                123   \n",
       "2           4295741             141168               1398   \n",
       "3           4295740             141168                441   \n",
       "4           4295738             141168                138   \n",
       "\n",
       "   noninvasivesystolic  noninvasivediastolic  noninvasivemean  paop  \\\n",
       "0                  NaN                   NaN             79.0   NaN   \n",
       "1                106.0                  68.0             81.0   NaN   \n",
       "2                  NaN                   NaN             27.0   NaN   \n",
       "3                  NaN                   NaN             62.0   NaN   \n",
       "4                111.0                  62.0             82.0   NaN   \n",
       "\n",
       "   cardiacoutput  cardiacinput  svr  svri  pvr  pvri  \n",
       "0            NaN           NaN  NaN   NaN  NaN   NaN  \n",
       "1            NaN           NaN  NaN   NaN  NaN   NaN  \n",
       "2            NaN           NaN  NaN   NaN  NaN   NaN  \n",
       "3            NaN           NaN  NaN   NaN  NaN   NaN  \n",
       "4            NaN           NaN  NaN   NaN  NaN   NaN  "
      ]
     },
     "execution_count": 61,
     "metadata": {},
     "output_type": "execute_result"
    }
   ],
   "source": [
    "vitsaperiod.head()"
   ]
  },
  {
   "cell_type": "code",
   "execution_count": 62,
   "metadata": {},
   "outputs": [
    {
     "data": {
      "text/plain": [
       "Index(['vitalaperiodicid', 'patientunitstayid', 'observationoffset',\n",
       "       'noninvasivesystolic', 'noninvasivediastolic', 'noninvasivemean',\n",
       "       'paop', 'cardiacoutput', 'cardiacinput', 'svr', 'svri', 'pvr', 'pvri'],\n",
       "      dtype='object')"
      ]
     },
     "execution_count": 62,
     "metadata": {},
     "output_type": "execute_result"
    }
   ],
   "source": [
    "vitsaperiod.columns"
   ]
  },
  {
   "cell_type": "code",
   "execution_count": 63,
   "metadata": {},
   "outputs": [
    {
     "data": {
      "text/plain": [
       "(25075074, 13)"
      ]
     },
     "execution_count": 63,
     "metadata": {},
     "output_type": "execute_result"
    }
   ],
   "source": [
    "vitsaperiod.shape"
   ]
  },
  {
   "cell_type": "markdown",
   "metadata": {},
   "source": [
    "#### Join the dialstolic and systolic blood pressures to the apsvar dataset"
   ]
  },
  {
   "cell_type": "code",
   "execution_count": 64,
   "metadata": {
    "collapsed": true
   },
   "outputs": [],
   "source": [
    "df = apsvar.join(vitsaperiod[['observationoffset', 'noninvasivesystolic', 'noninvasivediastolic']], on='patientunitstayid')"
   ]
  },
  {
   "cell_type": "code",
   "execution_count": 65,
   "metadata": {
    "scrolled": true
   },
   "outputs": [
    {
     "data": {
      "text/plain": [
       "apacheapsvarid              0\n",
       "patientunitstayid           0\n",
       "intubated                   0\n",
       "vent                        0\n",
       "dialysis                    0\n",
       "eyes                        0\n",
       "motor                       0\n",
       "verbal                      0\n",
       "meds                        0\n",
       "urine                       0\n",
       "wbc                         0\n",
       "temperature                 0\n",
       "respiratoryrate             0\n",
       "sodium                      0\n",
       "heartrate                   0\n",
       "meanbp                      0\n",
       "ph                          0\n",
       "hematocrit                  0\n",
       "creatinine                  0\n",
       "albumin                     0\n",
       "pao2                        0\n",
       "pco2                        0\n",
       "bun                         0\n",
       "glucose                     0\n",
       "bilirubin                   0\n",
       "fio2                        0\n",
       "observationoffset           0\n",
       "noninvasivesystolic     32232\n",
       "noninvasivediastolic    32225\n",
       "dtype: int64"
      ]
     },
     "execution_count": 65,
     "metadata": {},
     "output_type": "execute_result"
    }
   ],
   "source": [
    "df.isna().sum()"
   ]
  },
  {
   "cell_type": "code",
   "execution_count": 66,
   "metadata": {},
   "outputs": [
    {
     "data": {
      "text/plain": [
       "(171177, 29)"
      ]
     },
     "execution_count": 66,
     "metadata": {},
     "output_type": "execute_result"
    }
   ],
   "source": [
    "df.shape"
   ]
  },
  {
   "cell_type": "code",
   "execution_count": 67,
   "metadata": {
    "collapsed": true
   },
   "outputs": [],
   "source": [
    "df.dropna(inplace=True)"
   ]
  },
  {
   "cell_type": "code",
   "execution_count": 68,
   "metadata": {
    "collapsed": true
   },
   "outputs": [],
   "source": [
    "df.reset_index(inplace=True)"
   ]
  },
  {
   "cell_type": "code",
   "execution_count": 69,
   "metadata": {
    "scrolled": true
   },
   "outputs": [
    {
     "data": {
      "text/plain": [
       "index                   0\n",
       "apacheapsvarid          0\n",
       "patientunitstayid       0\n",
       "intubated               0\n",
       "vent                    0\n",
       "dialysis                0\n",
       "eyes                    0\n",
       "motor                   0\n",
       "verbal                  0\n",
       "meds                    0\n",
       "urine                   0\n",
       "wbc                     0\n",
       "temperature             0\n",
       "respiratoryrate         0\n",
       "sodium                  0\n",
       "heartrate               0\n",
       "meanbp                  0\n",
       "ph                      0\n",
       "hematocrit              0\n",
       "creatinine              0\n",
       "albumin                 0\n",
       "pao2                    0\n",
       "pco2                    0\n",
       "bun                     0\n",
       "glucose                 0\n",
       "bilirubin               0\n",
       "fio2                    0\n",
       "observationoffset       0\n",
       "noninvasivesystolic     0\n",
       "noninvasivediastolic    0\n",
       "dtype: int64"
      ]
     },
     "execution_count": 69,
     "metadata": {},
     "output_type": "execute_result"
    }
   ],
   "source": [
    "df.isna().sum()"
   ]
  },
  {
   "cell_type": "code",
   "execution_count": 70,
   "metadata": {},
   "outputs": [
    {
     "data": {
      "text/html": [
       "<div>\n",
       "<style scoped>\n",
       "    .dataframe tbody tr th:only-of-type {\n",
       "        vertical-align: middle;\n",
       "    }\n",
       "\n",
       "    .dataframe tbody tr th {\n",
       "        vertical-align: top;\n",
       "    }\n",
       "\n",
       "    .dataframe thead th {\n",
       "        text-align: right;\n",
       "    }\n",
       "</style>\n",
       "<table border=\"1\" class=\"dataframe\">\n",
       "  <thead>\n",
       "    <tr style=\"text-align: right;\">\n",
       "      <th></th>\n",
       "      <th>index</th>\n",
       "      <th>apacheapsvarid</th>\n",
       "      <th>patientunitstayid</th>\n",
       "      <th>intubated</th>\n",
       "      <th>vent</th>\n",
       "      <th>dialysis</th>\n",
       "      <th>eyes</th>\n",
       "      <th>motor</th>\n",
       "      <th>verbal</th>\n",
       "      <th>meds</th>\n",
       "      <th>...</th>\n",
       "      <th>albumin</th>\n",
       "      <th>pao2</th>\n",
       "      <th>pco2</th>\n",
       "      <th>bun</th>\n",
       "      <th>glucose</th>\n",
       "      <th>bilirubin</th>\n",
       "      <th>fio2</th>\n",
       "      <th>observationoffset</th>\n",
       "      <th>noninvasivesystolic</th>\n",
       "      <th>noninvasivediastolic</th>\n",
       "    </tr>\n",
       "  </thead>\n",
       "  <tbody>\n",
       "    <tr>\n",
       "      <th>0</th>\n",
       "      <td>0</td>\n",
       "      <td>2</td>\n",
       "      <td>141168</td>\n",
       "      <td>0</td>\n",
       "      <td>0</td>\n",
       "      <td>0</td>\n",
       "      <td>4</td>\n",
       "      <td>6</td>\n",
       "      <td>5</td>\n",
       "      <td>0</td>\n",
       "      <td>...</td>\n",
       "      <td>3.1</td>\n",
       "      <td>-1.0</td>\n",
       "      <td>-1.0</td>\n",
       "      <td>27.0</td>\n",
       "      <td>95.0</td>\n",
       "      <td>4.1</td>\n",
       "      <td>-1.0</td>\n",
       "      <td>151</td>\n",
       "      <td>134.0</td>\n",
       "      <td>72.0</td>\n",
       "    </tr>\n",
       "    <tr>\n",
       "      <th>1</th>\n",
       "      <td>1</td>\n",
       "      <td>2399659</td>\n",
       "      <td>141178</td>\n",
       "      <td>0</td>\n",
       "      <td>0</td>\n",
       "      <td>0</td>\n",
       "      <td>-1</td>\n",
       "      <td>-1</td>\n",
       "      <td>-1</td>\n",
       "      <td>-1</td>\n",
       "      <td>...</td>\n",
       "      <td>-1.0</td>\n",
       "      <td>-1.0</td>\n",
       "      <td>-1.0</td>\n",
       "      <td>-1.0</td>\n",
       "      <td>-1.0</td>\n",
       "      <td>-1.0</td>\n",
       "      <td>-1.0</td>\n",
       "      <td>647</td>\n",
       "      <td>108.0</td>\n",
       "      <td>66.0</td>\n",
       "    </tr>\n",
       "    <tr>\n",
       "      <th>2</th>\n",
       "      <td>2</td>\n",
       "      <td>167885</td>\n",
       "      <td>141194</td>\n",
       "      <td>0</td>\n",
       "      <td>0</td>\n",
       "      <td>0</td>\n",
       "      <td>3</td>\n",
       "      <td>6</td>\n",
       "      <td>4</td>\n",
       "      <td>0</td>\n",
       "      <td>...</td>\n",
       "      <td>2.3</td>\n",
       "      <td>-1.0</td>\n",
       "      <td>-1.0</td>\n",
       "      <td>31.0</td>\n",
       "      <td>168.0</td>\n",
       "      <td>0.4</td>\n",
       "      <td>-1.0</td>\n",
       "      <td>36</td>\n",
       "      <td>113.0</td>\n",
       "      <td>68.0</td>\n",
       "    </tr>\n",
       "    <tr>\n",
       "      <th>3</th>\n",
       "      <td>3</td>\n",
       "      <td>70691</td>\n",
       "      <td>141197</td>\n",
       "      <td>0</td>\n",
       "      <td>0</td>\n",
       "      <td>0</td>\n",
       "      <td>4</td>\n",
       "      <td>6</td>\n",
       "      <td>5</td>\n",
       "      <td>0</td>\n",
       "      <td>...</td>\n",
       "      <td>-1.0</td>\n",
       "      <td>-1.0</td>\n",
       "      <td>-1.0</td>\n",
       "      <td>-1.0</td>\n",
       "      <td>-1.0</td>\n",
       "      <td>-1.0</td>\n",
       "      <td>-1.0</td>\n",
       "      <td>5037</td>\n",
       "      <td>131.0</td>\n",
       "      <td>63.0</td>\n",
       "    </tr>\n",
       "    <tr>\n",
       "      <th>4</th>\n",
       "      <td>4</td>\n",
       "      <td>2279689</td>\n",
       "      <td>141203</td>\n",
       "      <td>0</td>\n",
       "      <td>1</td>\n",
       "      <td>0</td>\n",
       "      <td>1</td>\n",
       "      <td>3</td>\n",
       "      <td>1</td>\n",
       "      <td>0</td>\n",
       "      <td>...</td>\n",
       "      <td>-1.0</td>\n",
       "      <td>51.0</td>\n",
       "      <td>37.0</td>\n",
       "      <td>9.0</td>\n",
       "      <td>145.0</td>\n",
       "      <td>-1.0</td>\n",
       "      <td>100.0</td>\n",
       "      <td>10175</td>\n",
       "      <td>119.0</td>\n",
       "      <td>67.0</td>\n",
       "    </tr>\n",
       "  </tbody>\n",
       "</table>\n",
       "<p>5 rows × 30 columns</p>\n",
       "</div>"
      ],
      "text/plain": [
       "   index  apacheapsvarid  patientunitstayid  intubated  vent  dialysis  eyes  \\\n",
       "0      0               2             141168          0     0         0     4   \n",
       "1      1         2399659             141178          0     0         0    -1   \n",
       "2      2          167885             141194          0     0         0     3   \n",
       "3      3           70691             141197          0     0         0     4   \n",
       "4      4         2279689             141203          0     1         0     1   \n",
       "\n",
       "   motor  verbal  meds          ...           albumin  pao2  pco2   bun  \\\n",
       "0      6       5     0          ...               3.1  -1.0  -1.0  27.0   \n",
       "1     -1      -1    -1          ...              -1.0  -1.0  -1.0  -1.0   \n",
       "2      6       4     0          ...               2.3  -1.0  -1.0  31.0   \n",
       "3      6       5     0          ...              -1.0  -1.0  -1.0  -1.0   \n",
       "4      3       1     0          ...              -1.0  51.0  37.0   9.0   \n",
       "\n",
       "   glucose  bilirubin   fio2  observationoffset  noninvasivesystolic  \\\n",
       "0     95.0        4.1   -1.0                151                134.0   \n",
       "1     -1.0       -1.0   -1.0                647                108.0   \n",
       "2    168.0        0.4   -1.0                 36                113.0   \n",
       "3     -1.0       -1.0   -1.0               5037                131.0   \n",
       "4    145.0       -1.0  100.0              10175                119.0   \n",
       "\n",
       "   noninvasivediastolic  \n",
       "0                  72.0  \n",
       "1                  66.0  \n",
       "2                  68.0  \n",
       "3                  63.0  \n",
       "4                  67.0  \n",
       "\n",
       "[5 rows x 30 columns]"
      ]
     },
     "execution_count": 70,
     "metadata": {},
     "output_type": "execute_result"
    }
   ],
   "source": [
    "df.head()"
   ]
  },
  {
   "cell_type": "code",
   "execution_count": 71,
   "metadata": {},
   "outputs": [
    {
     "data": {
      "text/plain": [
       "Index(['index', 'apacheapsvarid', 'patientunitstayid', 'intubated', 'vent',\n",
       "       'dialysis', 'eyes', 'motor', 'verbal', 'meds', 'urine', 'wbc',\n",
       "       'temperature', 'respiratoryrate', 'sodium', 'heartrate', 'meanbp', 'ph',\n",
       "       'hematocrit', 'creatinine', 'albumin', 'pao2', 'pco2', 'bun', 'glucose',\n",
       "       'bilirubin', 'fio2', 'observationoffset', 'noninvasivesystolic',\n",
       "       'noninvasivediastolic'],\n",
       "      dtype='object')"
      ]
     },
     "execution_count": 71,
     "metadata": {},
     "output_type": "execute_result"
    }
   ],
   "source": [
    "df.columns"
   ]
  },
  {
   "cell_type": "markdown",
   "metadata": {},
   "source": [
    "## Section: Calculation of SOFA scores"
   ]
  },
  {
   "cell_type": "markdown",
   "metadata": {},
   "source": [
    "### Select only the required columns\n",
    "Select only those columns that contribute to the calculation for the SOFA scores."
   ]
  },
  {
   "cell_type": "code",
   "execution_count": 72,
   "metadata": {
    "collapsed": true
   },
   "outputs": [],
   "source": [
    "dfmain = df[['urine', 'wbc', 'creatinine', 'pao2', 'fio2', 'bilirubin', 'observationoffset', 'patientunitstayid']]"
   ]
  },
  {
   "cell_type": "code",
   "execution_count": 73,
   "metadata": {},
   "outputs": [
    {
     "data": {
      "text/plain": [
       "urine                0\n",
       "wbc                  0\n",
       "creatinine           0\n",
       "pao2                 0\n",
       "fio2                 0\n",
       "bilirubin            0\n",
       "observationoffset    0\n",
       "patientunitstayid    0\n",
       "dtype: int64"
      ]
     },
     "execution_count": 73,
     "metadata": {},
     "output_type": "execute_result"
    }
   ],
   "source": [
    "dfmain.isna().sum()"
   ]
  },
  {
   "cell_type": "markdown",
   "metadata": {},
   "source": [
    "#### Calculate Mean Arterial Pressure (MAP)"
   ]
  },
  {
   "cell_type": "code",
   "execution_count": 75,
   "metadata": {
    "collapsed": true
   },
   "outputs": [],
   "source": [
    "def calcMAP(listOfSBP, listofDBP):\n",
    "    \"\"\"A function to calculate MAP ie, Mean Arterial Pressure\"\"\"\n",
    "    \n",
    "    l = []\n",
    "    for i in range(len(listOfSBP)):\n",
    "        mapval = (listOfSBP[i] + (listofDBP[i])*2)/3.0\n",
    "        l.append(mapval)\n",
    "    \n",
    "    return l    "
   ]
  },
  {
   "cell_type": "code",
   "execution_count": 76,
   "metadata": {
    "collapsed": true
   },
   "outputs": [],
   "source": [
    "mapvals = calcMAP(df['noninvasivesystolic'].tolist(), df['noninvasivediastolic'].tolist())"
   ]
  },
  {
   "cell_type": "code",
   "execution_count": 77,
   "metadata": {
    "collapsed": true
   },
   "outputs": [],
   "source": [
    "mapvals = pd.DataFrame(mapvals, columns=['MAP'])"
   ]
  },
  {
   "cell_type": "code",
   "execution_count": 78,
   "metadata": {},
   "outputs": [
    {
     "data": {
      "text/html": [
       "<div>\n",
       "<style scoped>\n",
       "    .dataframe tbody tr th:only-of-type {\n",
       "        vertical-align: middle;\n",
       "    }\n",
       "\n",
       "    .dataframe tbody tr th {\n",
       "        vertical-align: top;\n",
       "    }\n",
       "\n",
       "    .dataframe thead th {\n",
       "        text-align: right;\n",
       "    }\n",
       "</style>\n",
       "<table border=\"1\" class=\"dataframe\">\n",
       "  <thead>\n",
       "    <tr style=\"text-align: right;\">\n",
       "      <th></th>\n",
       "      <th>MAP</th>\n",
       "    </tr>\n",
       "  </thead>\n",
       "  <tbody>\n",
       "    <tr>\n",
       "      <th>0</th>\n",
       "      <td>92.666667</td>\n",
       "    </tr>\n",
       "    <tr>\n",
       "      <th>1</th>\n",
       "      <td>80.000000</td>\n",
       "    </tr>\n",
       "    <tr>\n",
       "      <th>2</th>\n",
       "      <td>83.000000</td>\n",
       "    </tr>\n",
       "    <tr>\n",
       "      <th>3</th>\n",
       "      <td>85.666667</td>\n",
       "    </tr>\n",
       "    <tr>\n",
       "      <th>4</th>\n",
       "      <td>84.333333</td>\n",
       "    </tr>\n",
       "  </tbody>\n",
       "</table>\n",
       "</div>"
      ],
      "text/plain": [
       "         MAP\n",
       "0  92.666667\n",
       "1  80.000000\n",
       "2  83.000000\n",
       "3  85.666667\n",
       "4  84.333333"
      ]
     },
     "execution_count": 78,
     "metadata": {},
     "output_type": "execute_result"
    }
   ],
   "source": [
    "mapvals.head()"
   ]
  },
  {
   "cell_type": "markdown",
   "metadata": {},
   "source": [
    "#### Calculate Glasgow Coma Score (GCS)"
   ]
  },
  {
   "cell_type": "code",
   "execution_count": 79,
   "metadata": {
    "collapsed": true
   },
   "outputs": [],
   "source": [
    "def calcGCS(eyeslist, motorlist, verballist):\n",
    "    \"\"\"A function to calculate Glasgow Coma Scale\"\"\"\n",
    "    \n",
    "    l = []\n",
    "    for i in range(len(eyeslist)):\n",
    "        gcs = eyeslist[i] + motorlist[i] + verballist[i]\n",
    "        if gcs < 0:\n",
    "            l.append(None)\n",
    "        else:\n",
    "            l.append(gcs)\n",
    "    \n",
    "    return l"
   ]
  },
  {
   "cell_type": "code",
   "execution_count": 80,
   "metadata": {
    "collapsed": true
   },
   "outputs": [],
   "source": [
    "gcsvals = calcGCS(df['eyes'].tolist(), df['motor'].tolist(), df['verbal'].tolist())"
   ]
  },
  {
   "cell_type": "code",
   "execution_count": 81,
   "metadata": {
    "collapsed": true
   },
   "outputs": [],
   "source": [
    "gcsvals = pd.DataFrame(gcsvals, columns=['GCS'])"
   ]
  },
  {
   "cell_type": "code",
   "execution_count": 82,
   "metadata": {},
   "outputs": [
    {
     "data": {
      "text/html": [
       "<div>\n",
       "<style scoped>\n",
       "    .dataframe tbody tr th:only-of-type {\n",
       "        vertical-align: middle;\n",
       "    }\n",
       "\n",
       "    .dataframe tbody tr th {\n",
       "        vertical-align: top;\n",
       "    }\n",
       "\n",
       "    .dataframe thead th {\n",
       "        text-align: right;\n",
       "    }\n",
       "</style>\n",
       "<table border=\"1\" class=\"dataframe\">\n",
       "  <thead>\n",
       "    <tr style=\"text-align: right;\">\n",
       "      <th></th>\n",
       "      <th>GCS</th>\n",
       "    </tr>\n",
       "  </thead>\n",
       "  <tbody>\n",
       "    <tr>\n",
       "      <th>0</th>\n",
       "      <td>15.0</td>\n",
       "    </tr>\n",
       "    <tr>\n",
       "      <th>1</th>\n",
       "      <td>NaN</td>\n",
       "    </tr>\n",
       "    <tr>\n",
       "      <th>2</th>\n",
       "      <td>13.0</td>\n",
       "    </tr>\n",
       "    <tr>\n",
       "      <th>3</th>\n",
       "      <td>15.0</td>\n",
       "    </tr>\n",
       "    <tr>\n",
       "      <th>4</th>\n",
       "      <td>5.0</td>\n",
       "    </tr>\n",
       "  </tbody>\n",
       "</table>\n",
       "</div>"
      ],
      "text/plain": [
       "    GCS\n",
       "0  15.0\n",
       "1   NaN\n",
       "2  13.0\n",
       "3  15.0\n",
       "4   5.0"
      ]
     },
     "execution_count": 82,
     "metadata": {},
     "output_type": "execute_result"
    }
   ],
   "source": [
    "gcsvals.head()"
   ]
  },
  {
   "cell_type": "code",
   "execution_count": 83,
   "metadata": {},
   "outputs": [
    {
     "data": {
      "text/plain": [
       "GCS    4587\n",
       "dtype: int64"
      ]
     },
     "execution_count": 83,
     "metadata": {},
     "output_type": "execute_result"
    }
   ],
   "source": [
    "gcsvals.isna().sum()"
   ]
  },
  {
   "cell_type": "code",
   "execution_count": 84,
   "metadata": {},
   "outputs": [
    {
     "data": {
      "text/plain": [
       "138942"
      ]
     },
     "execution_count": 84,
     "metadata": {},
     "output_type": "execute_result"
    }
   ],
   "source": [
    "len(gcsvals)"
   ]
  },
  {
   "cell_type": "code",
   "execution_count": 85,
   "metadata": {},
   "outputs": [
    {
     "data": {
      "text/html": [
       "<div>\n",
       "<style scoped>\n",
       "    .dataframe tbody tr th:only-of-type {\n",
       "        vertical-align: middle;\n",
       "    }\n",
       "\n",
       "    .dataframe tbody tr th {\n",
       "        vertical-align: top;\n",
       "    }\n",
       "\n",
       "    .dataframe thead th {\n",
       "        text-align: right;\n",
       "    }\n",
       "</style>\n",
       "<table border=\"1\" class=\"dataframe\">\n",
       "  <thead>\n",
       "    <tr style=\"text-align: right;\">\n",
       "      <th></th>\n",
       "      <th>urine</th>\n",
       "      <th>wbc</th>\n",
       "      <th>creatinine</th>\n",
       "      <th>pao2</th>\n",
       "      <th>fio2</th>\n",
       "      <th>bilirubin</th>\n",
       "      <th>observationoffset</th>\n",
       "      <th>patientunitstayid</th>\n",
       "    </tr>\n",
       "  </thead>\n",
       "  <tbody>\n",
       "    <tr>\n",
       "      <th>0</th>\n",
       "      <td>-1.0</td>\n",
       "      <td>14.7</td>\n",
       "      <td>2.30</td>\n",
       "      <td>-1.0</td>\n",
       "      <td>-1.0</td>\n",
       "      <td>4.1</td>\n",
       "      <td>151</td>\n",
       "      <td>141168</td>\n",
       "    </tr>\n",
       "    <tr>\n",
       "      <th>1</th>\n",
       "      <td>-1.0</td>\n",
       "      <td>-1.0</td>\n",
       "      <td>-1.00</td>\n",
       "      <td>-1.0</td>\n",
       "      <td>-1.0</td>\n",
       "      <td>-1.0</td>\n",
       "      <td>647</td>\n",
       "      <td>141178</td>\n",
       "    </tr>\n",
       "    <tr>\n",
       "      <th>2</th>\n",
       "      <td>-1.0</td>\n",
       "      <td>14.1</td>\n",
       "      <td>2.51</td>\n",
       "      <td>-1.0</td>\n",
       "      <td>-1.0</td>\n",
       "      <td>0.4</td>\n",
       "      <td>36</td>\n",
       "      <td>141194</td>\n",
       "    </tr>\n",
       "    <tr>\n",
       "      <th>3</th>\n",
       "      <td>-1.0</td>\n",
       "      <td>-1.0</td>\n",
       "      <td>-1.00</td>\n",
       "      <td>-1.0</td>\n",
       "      <td>-1.0</td>\n",
       "      <td>-1.0</td>\n",
       "      <td>5037</td>\n",
       "      <td>141197</td>\n",
       "    </tr>\n",
       "    <tr>\n",
       "      <th>4</th>\n",
       "      <td>-1.0</td>\n",
       "      <td>12.7</td>\n",
       "      <td>0.56</td>\n",
       "      <td>51.0</td>\n",
       "      <td>100.0</td>\n",
       "      <td>-1.0</td>\n",
       "      <td>10175</td>\n",
       "      <td>141203</td>\n",
       "    </tr>\n",
       "  </tbody>\n",
       "</table>\n",
       "</div>"
      ],
      "text/plain": [
       "   urine   wbc  creatinine  pao2   fio2  bilirubin  observationoffset  \\\n",
       "0   -1.0  14.7        2.30  -1.0   -1.0        4.1                151   \n",
       "1   -1.0  -1.0       -1.00  -1.0   -1.0       -1.0                647   \n",
       "2   -1.0  14.1        2.51  -1.0   -1.0        0.4                 36   \n",
       "3   -1.0  -1.0       -1.00  -1.0   -1.0       -1.0               5037   \n",
       "4   -1.0  12.7        0.56  51.0  100.0       -1.0              10175   \n",
       "\n",
       "   patientunitstayid  \n",
       "0             141168  \n",
       "1             141178  \n",
       "2             141194  \n",
       "3             141197  \n",
       "4             141203  "
      ]
     },
     "execution_count": 85,
     "metadata": {},
     "output_type": "execute_result"
    }
   ],
   "source": [
    "dfmain.head()"
   ]
  },
  {
   "cell_type": "code",
   "execution_count": 86,
   "metadata": {
    "collapsed": true
   },
   "outputs": [],
   "source": [
    "#Concat the datasets\n",
    "dfmain = pd.concat([dfmain, mapvals, gcsvals], axis=1)"
   ]
  },
  {
   "cell_type": "code",
   "execution_count": 87,
   "metadata": {},
   "outputs": [
    {
     "data": {
      "text/plain": [
       "urine                   0\n",
       "wbc                     0\n",
       "creatinine              0\n",
       "pao2                    0\n",
       "fio2                    0\n",
       "bilirubin               0\n",
       "observationoffset       0\n",
       "patientunitstayid       0\n",
       "MAP                     0\n",
       "GCS                  4587\n",
       "dtype: int64"
      ]
     },
     "execution_count": 87,
     "metadata": {},
     "output_type": "execute_result"
    }
   ],
   "source": [
    "dfmain.isna().sum()"
   ]
  },
  {
   "cell_type": "code",
   "execution_count": 88,
   "metadata": {
    "collapsed": true
   },
   "outputs": [],
   "source": [
    "dfmain.dropna(inplace=True)"
   ]
  },
  {
   "cell_type": "code",
   "execution_count": 89,
   "metadata": {
    "collapsed": true
   },
   "outputs": [],
   "source": [
    "dfmain.reset_index(inplace=True)"
   ]
  },
  {
   "cell_type": "code",
   "execution_count": 90,
   "metadata": {},
   "outputs": [
    {
     "data": {
      "text/html": [
       "<div>\n",
       "<style scoped>\n",
       "    .dataframe tbody tr th:only-of-type {\n",
       "        vertical-align: middle;\n",
       "    }\n",
       "\n",
       "    .dataframe tbody tr th {\n",
       "        vertical-align: top;\n",
       "    }\n",
       "\n",
       "    .dataframe thead th {\n",
       "        text-align: right;\n",
       "    }\n",
       "</style>\n",
       "<table border=\"1\" class=\"dataframe\">\n",
       "  <thead>\n",
       "    <tr style=\"text-align: right;\">\n",
       "      <th></th>\n",
       "      <th>index</th>\n",
       "      <th>urine</th>\n",
       "      <th>wbc</th>\n",
       "      <th>creatinine</th>\n",
       "      <th>pao2</th>\n",
       "      <th>fio2</th>\n",
       "      <th>bilirubin</th>\n",
       "      <th>observationoffset</th>\n",
       "      <th>patientunitstayid</th>\n",
       "      <th>MAP</th>\n",
       "      <th>GCS</th>\n",
       "    </tr>\n",
       "  </thead>\n",
       "  <tbody>\n",
       "    <tr>\n",
       "      <th>0</th>\n",
       "      <td>0</td>\n",
       "      <td>-1.0</td>\n",
       "      <td>14.7</td>\n",
       "      <td>2.30</td>\n",
       "      <td>-1.0</td>\n",
       "      <td>-1.0</td>\n",
       "      <td>4.1</td>\n",
       "      <td>151</td>\n",
       "      <td>141168</td>\n",
       "      <td>92.666667</td>\n",
       "      <td>15.0</td>\n",
       "    </tr>\n",
       "    <tr>\n",
       "      <th>1</th>\n",
       "      <td>2</td>\n",
       "      <td>-1.0</td>\n",
       "      <td>14.1</td>\n",
       "      <td>2.51</td>\n",
       "      <td>-1.0</td>\n",
       "      <td>-1.0</td>\n",
       "      <td>0.4</td>\n",
       "      <td>36</td>\n",
       "      <td>141194</td>\n",
       "      <td>83.000000</td>\n",
       "      <td>13.0</td>\n",
       "    </tr>\n",
       "    <tr>\n",
       "      <th>2</th>\n",
       "      <td>3</td>\n",
       "      <td>-1.0</td>\n",
       "      <td>-1.0</td>\n",
       "      <td>-1.00</td>\n",
       "      <td>-1.0</td>\n",
       "      <td>-1.0</td>\n",
       "      <td>-1.0</td>\n",
       "      <td>5037</td>\n",
       "      <td>141197</td>\n",
       "      <td>85.666667</td>\n",
       "      <td>15.0</td>\n",
       "    </tr>\n",
       "    <tr>\n",
       "      <th>3</th>\n",
       "      <td>4</td>\n",
       "      <td>-1.0</td>\n",
       "      <td>12.7</td>\n",
       "      <td>0.56</td>\n",
       "      <td>51.0</td>\n",
       "      <td>100.0</td>\n",
       "      <td>-1.0</td>\n",
       "      <td>10175</td>\n",
       "      <td>141203</td>\n",
       "      <td>84.333333</td>\n",
       "      <td>5.0</td>\n",
       "    </tr>\n",
       "    <tr>\n",
       "      <th>4</th>\n",
       "      <td>5</td>\n",
       "      <td>-1.0</td>\n",
       "      <td>-1.0</td>\n",
       "      <td>-1.00</td>\n",
       "      <td>-1.0</td>\n",
       "      <td>-1.0</td>\n",
       "      <td>-1.0</td>\n",
       "      <td>5273</td>\n",
       "      <td>141208</td>\n",
       "      <td>76.333333</td>\n",
       "      <td>14.0</td>\n",
       "    </tr>\n",
       "  </tbody>\n",
       "</table>\n",
       "</div>"
      ],
      "text/plain": [
       "   index  urine   wbc  creatinine  pao2   fio2  bilirubin  observationoffset  \\\n",
       "0      0   -1.0  14.7        2.30  -1.0   -1.0        4.1                151   \n",
       "1      2   -1.0  14.1        2.51  -1.0   -1.0        0.4                 36   \n",
       "2      3   -1.0  -1.0       -1.00  -1.0   -1.0       -1.0               5037   \n",
       "3      4   -1.0  12.7        0.56  51.0  100.0       -1.0              10175   \n",
       "4      5   -1.0  -1.0       -1.00  -1.0   -1.0       -1.0               5273   \n",
       "\n",
       "   patientunitstayid        MAP   GCS  \n",
       "0             141168  92.666667  15.0  \n",
       "1             141194  83.000000  13.0  \n",
       "2             141197  85.666667  15.0  \n",
       "3             141203  84.333333   5.0  \n",
       "4             141208  76.333333  14.0  "
      ]
     },
     "execution_count": 90,
     "metadata": {},
     "output_type": "execute_result"
    }
   ],
   "source": [
    "dfmain.head()"
   ]
  },
  {
   "cell_type": "code",
   "execution_count": 78,
   "metadata": {},
   "outputs": [
    {
     "data": {
      "text/plain": [
       "(134355, 11)"
      ]
     },
     "execution_count": 78,
     "metadata": {},
     "output_type": "execute_result"
    }
   ],
   "source": [
    "dfmain.shape"
   ]
  },
  {
   "cell_type": "code",
   "execution_count": 79,
   "metadata": {
    "collapsed": true
   },
   "outputs": [],
   "source": [
    "def calcSOFA(wbclist, creatininelist, pao2list, bilirubinlist, maplist, gcslist):\n",
    "    \"\"\"A function to calculate sofa score\"\"\"\n",
    "    \n",
    "    l = []\n",
    "    for i in range(len(creatininelist)):\n",
    "        \n",
    "        ## calculate wbc/platelets score\n",
    "        if wbclist[i] == -0.1:\n",
    "            wbc = 0\n",
    "        elif wbclist[i] >= 150:\n",
    "            wbc = 0\n",
    "        elif wbclist[i] < 20:\n",
    "            wbc = 4\n",
    "        elif wbclist[i] < 50:\n",
    "            wbc = 3\n",
    "        elif wbclist[i] < 100:\n",
    "            wbc = 2\n",
    "        elif wbclist[i] < 150:\n",
    "            wbc = 1\n",
    "        else:\n",
    "            wbc = 0\n",
    "                \n",
    "        ## calculate creatinine score\n",
    "        if creatininelist[i] == -0.1:\n",
    "            renal = 0\n",
    "        elif creatininelist[i] >= 5.0:\n",
    "            renal = 4\n",
    "        elif creatininelist[i] >= 3.5:\n",
    "            renal = 3\n",
    "        elif creatininelist[i] >= 2.0:\n",
    "            renal = 2\n",
    "        elif creatininelist[i] >= 1.2:\n",
    "            renal = 1\n",
    "        elif creatininelist[i] < 1.2:\n",
    "            renal = 0\n",
    "        else: \n",
    "            renal = 0\n",
    "            \n",
    "        ## calculate pao2 score\n",
    "        if pao2list[i] == -1.0:\n",
    "            resp = 0\n",
    "        elif pao2list[i] < 100:\n",
    "            resp = 4\n",
    "        elif pao2list[i] < 200:\n",
    "            resp = 3\n",
    "        elif pao2list[i] < 300:\n",
    "            resp = 2\n",
    "        elif pao2list[i] < 400:\n",
    "            resp = 1\n",
    "        elif pao2list[i] >= 400:\n",
    "            resp = 0\n",
    "        else:\n",
    "            resp = 0\n",
    "            \n",
    "        ## calculate bilirubin score\n",
    "        if bilirubinlist[i] == -1.0:\n",
    "            liver = 0\n",
    "        elif bilirubinlist[i] < 1.2:\n",
    "            liver = 0\n",
    "        elif bilirubinlist[i] < 2.0:\n",
    "            liver = 1\n",
    "        elif bilirubinlist[i] < 6.0:\n",
    "            liver = 2\n",
    "        elif bilirubinlist[i] < 12.0:\n",
    "            liver = 3\n",
    "        elif bilirubinlist[i] >= 12.0:\n",
    "            liver = 4\n",
    "        else:\n",
    "            liver = 0\n",
    "            \n",
    "        ## calculate MAP score\n",
    "        if maplist[i] == -1.0:\n",
    "            mapval = 0\n",
    "        elif maplist[i] < 70:\n",
    "            mapval = 1\n",
    "        elif maplist[i] >= 70:\n",
    "            mapval = 0\n",
    "        else: \n",
    "            mapval = 0\n",
    "            \n",
    "        ## calculate Glasgow Coma Score (GCS) score\n",
    "        if gcslist[i] == -1.0:\n",
    "            gcs = 0\n",
    "        elif gcslist[i] < 6:\n",
    "            gcs = 4\n",
    "        elif gcslist[i] < 10:\n",
    "            gcs = 3\n",
    "        elif gcslist[i] < 13:\n",
    "            gcs = 2\n",
    "        elif gcslist[i] < 15:\n",
    "            gcs = 1\n",
    "        elif gcslist[i] == 15:\n",
    "            gcs = 0\n",
    "        else:\n",
    "            gcs = 0\n",
    "    \n",
    "        ## CALCULATE the sofa score and append it\n",
    "        sofascore = wbc + renal + resp + liver + mapval + gcs\n",
    "        l.append(sofascore)\n",
    "        \n",
    "    \n",
    "    return l\n"
   ]
  },
  {
   "cell_type": "code",
   "execution_count": 80,
   "metadata": {
    "collapsed": true
   },
   "outputs": [],
   "source": [
    "sofaslist = calcSOFA(dfmain['wbc'].tolist(), dfmain['creatinine'].tolist(), \n",
    "                     dfmain['pao2'].tolist(), dfmain['bilirubin'].tolist(),\n",
    "                     dfmain['MAP'].tolist(), dfmain['GCS'].tolist())"
   ]
  },
  {
   "cell_type": "code",
   "execution_count": 81,
   "metadata": {
    "collapsed": true
   },
   "outputs": [],
   "source": [
    "sofaslist = pd.DataFrame(sofaslist, columns=['SOFA'])"
   ]
  },
  {
   "cell_type": "code",
   "execution_count": 82,
   "metadata": {
    "collapsed": true
   },
   "outputs": [],
   "source": [
    "dfmain = pd.concat([dfmain, sofaslist], axis=1)"
   ]
  },
  {
   "cell_type": "code",
   "execution_count": 83,
   "metadata": {},
   "outputs": [
    {
     "data": {
      "text/html": [
       "<div>\n",
       "<style scoped>\n",
       "    .dataframe tbody tr th:only-of-type {\n",
       "        vertical-align: middle;\n",
       "    }\n",
       "\n",
       "    .dataframe tbody tr th {\n",
       "        vertical-align: top;\n",
       "    }\n",
       "\n",
       "    .dataframe thead th {\n",
       "        text-align: right;\n",
       "    }\n",
       "</style>\n",
       "<table border=\"1\" class=\"dataframe\">\n",
       "  <thead>\n",
       "    <tr style=\"text-align: right;\">\n",
       "      <th></th>\n",
       "      <th>index</th>\n",
       "      <th>urine</th>\n",
       "      <th>wbc</th>\n",
       "      <th>creatinine</th>\n",
       "      <th>pao2</th>\n",
       "      <th>fio2</th>\n",
       "      <th>bilirubin</th>\n",
       "      <th>observationoffset</th>\n",
       "      <th>patientunitstayid</th>\n",
       "      <th>MAP</th>\n",
       "      <th>GCS</th>\n",
       "      <th>SOFA</th>\n",
       "    </tr>\n",
       "  </thead>\n",
       "  <tbody>\n",
       "    <tr>\n",
       "      <th>0</th>\n",
       "      <td>0</td>\n",
       "      <td>-1.0</td>\n",
       "      <td>14.7</td>\n",
       "      <td>2.30</td>\n",
       "      <td>-1.0</td>\n",
       "      <td>-1.0</td>\n",
       "      <td>4.1</td>\n",
       "      <td>151</td>\n",
       "      <td>141168</td>\n",
       "      <td>92.666667</td>\n",
       "      <td>15.0</td>\n",
       "      <td>8</td>\n",
       "    </tr>\n",
       "    <tr>\n",
       "      <th>1</th>\n",
       "      <td>2</td>\n",
       "      <td>-1.0</td>\n",
       "      <td>14.1</td>\n",
       "      <td>2.51</td>\n",
       "      <td>-1.0</td>\n",
       "      <td>-1.0</td>\n",
       "      <td>0.4</td>\n",
       "      <td>36</td>\n",
       "      <td>141194</td>\n",
       "      <td>83.000000</td>\n",
       "      <td>13.0</td>\n",
       "      <td>7</td>\n",
       "    </tr>\n",
       "    <tr>\n",
       "      <th>2</th>\n",
       "      <td>3</td>\n",
       "      <td>-1.0</td>\n",
       "      <td>-1.0</td>\n",
       "      <td>-1.00</td>\n",
       "      <td>-1.0</td>\n",
       "      <td>-1.0</td>\n",
       "      <td>-1.0</td>\n",
       "      <td>5037</td>\n",
       "      <td>141197</td>\n",
       "      <td>85.666667</td>\n",
       "      <td>15.0</td>\n",
       "      <td>4</td>\n",
       "    </tr>\n",
       "    <tr>\n",
       "      <th>3</th>\n",
       "      <td>4</td>\n",
       "      <td>-1.0</td>\n",
       "      <td>12.7</td>\n",
       "      <td>0.56</td>\n",
       "      <td>51.0</td>\n",
       "      <td>100.0</td>\n",
       "      <td>-1.0</td>\n",
       "      <td>10175</td>\n",
       "      <td>141203</td>\n",
       "      <td>84.333333</td>\n",
       "      <td>5.0</td>\n",
       "      <td>12</td>\n",
       "    </tr>\n",
       "    <tr>\n",
       "      <th>4</th>\n",
       "      <td>5</td>\n",
       "      <td>-1.0</td>\n",
       "      <td>-1.0</td>\n",
       "      <td>-1.00</td>\n",
       "      <td>-1.0</td>\n",
       "      <td>-1.0</td>\n",
       "      <td>-1.0</td>\n",
       "      <td>5273</td>\n",
       "      <td>141208</td>\n",
       "      <td>76.333333</td>\n",
       "      <td>14.0</td>\n",
       "      <td>5</td>\n",
       "    </tr>\n",
       "  </tbody>\n",
       "</table>\n",
       "</div>"
      ],
      "text/plain": [
       "   index  urine   wbc  creatinine  pao2   fio2  bilirubin  observationoffset  \\\n",
       "0      0   -1.0  14.7        2.30  -1.0   -1.0        4.1                151   \n",
       "1      2   -1.0  14.1        2.51  -1.0   -1.0        0.4                 36   \n",
       "2      3   -1.0  -1.0       -1.00  -1.0   -1.0       -1.0               5037   \n",
       "3      4   -1.0  12.7        0.56  51.0  100.0       -1.0              10175   \n",
       "4      5   -1.0  -1.0       -1.00  -1.0   -1.0       -1.0               5273   \n",
       "\n",
       "   patientunitstayid        MAP   GCS  SOFA  \n",
       "0             141168  92.666667  15.0     8  \n",
       "1             141194  83.000000  13.0     7  \n",
       "2             141197  85.666667  15.0     4  \n",
       "3             141203  84.333333   5.0    12  \n",
       "4             141208  76.333333  14.0     5  "
      ]
     },
     "execution_count": 83,
     "metadata": {},
     "output_type": "execute_result"
    }
   ],
   "source": [
    "dfmain.head()"
   ]
  },
  {
   "cell_type": "code",
   "execution_count": 84,
   "metadata": {
    "scrolled": false
   },
   "outputs": [
    {
     "data": {
      "text/plain": [
       "4     38789\n",
       "5     26693\n",
       "6     15202\n",
       "8     12239\n",
       "7     12057\n",
       "9      8299\n",
       "10     6497\n",
       "11     5303\n",
       "12     3658\n",
       "13     2062\n",
       "3      1481\n",
       "14     1062\n",
       "15      570\n",
       "16      243\n",
       "17      100\n",
       "2        47\n",
       "18       26\n",
       "19       13\n",
       "1        11\n",
       "0         3\n",
       "Name: SOFA, dtype: int64"
      ]
     },
     "execution_count": 84,
     "metadata": {},
     "output_type": "execute_result"
    }
   ],
   "source": [
    "dfmain['SOFA'].value_counts()"
   ]
  },
  {
   "cell_type": "code",
   "execution_count": 85,
   "metadata": {
    "collapsed": true
   },
   "outputs": [],
   "source": [
    "# df2 = vitsaperiod[['observationoffset', 'noninvasivesystolic', 'noninvasivediastolic']].join(apsvar, on='patientunitstayid', how='inner')"
   ]
  },
  {
   "cell_type": "code",
   "execution_count": 86,
   "metadata": {},
   "outputs": [
    {
     "data": {
      "text/plain": [
       "Index(['vitalaperiodicid', 'patientunitstayid', 'observationoffset',\n",
       "       'noninvasivesystolic', 'noninvasivediastolic', 'noninvasivemean',\n",
       "       'paop', 'cardiacoutput', 'cardiacinput', 'svr', 'svri', 'pvr', 'pvri'],\n",
       "      dtype='object')"
      ]
     },
     "execution_count": 86,
     "metadata": {},
     "output_type": "execute_result"
    }
   ],
   "source": [
    "vitsaperiod.columns"
   ]
  },
  {
   "cell_type": "code",
   "execution_count": 87,
   "metadata": {
    "scrolled": true
   },
   "outputs": [
    {
     "data": {
      "text/plain": [
       "(25075074, 13)"
      ]
     },
     "execution_count": 87,
     "metadata": {},
     "output_type": "execute_result"
    }
   ],
   "source": [
    "vitsaperiod.shape"
   ]
  },
  {
   "cell_type": "code",
   "execution_count": 88,
   "metadata": {
    "collapsed": true
   },
   "outputs": [],
   "source": [
    "# vitsperiodic = pd.read_csv('../data/vitalPeriodic.csv', nrows=100000000)"
   ]
  },
  {
   "cell_type": "markdown",
   "metadata": {},
   "source": [
    "# Medication"
   ]
  },
  {
   "cell_type": "code",
   "execution_count": 96,
   "metadata": {},
   "outputs": [
    {
     "name": "stderr",
     "output_type": "stream",
     "text": [
      "E:\\Anaconda-3\\envs\\tfdeeplearning\\lib\\site-packages\\IPython\\core\\interactiveshell.py:2698: DtypeWarning: Columns (11) have mixed types. Specify dtype option on import or set low_memory=False.\n",
      "  interactivity=interactivity, compiler=compiler, result=result)\n"
     ]
    }
   ],
   "source": [
    "medication = pd.read_csv('../data/medication.csv')"
   ]
  },
  {
   "cell_type": "code",
   "execution_count": 97,
   "metadata": {},
   "outputs": [
    {
     "data": {
      "text/html": [
       "<div>\n",
       "<style scoped>\n",
       "    .dataframe tbody tr th:only-of-type {\n",
       "        vertical-align: middle;\n",
       "    }\n",
       "\n",
       "    .dataframe tbody tr th {\n",
       "        vertical-align: top;\n",
       "    }\n",
       "\n",
       "    .dataframe thead th {\n",
       "        text-align: right;\n",
       "    }\n",
       "</style>\n",
       "<table border=\"1\" class=\"dataframe\">\n",
       "  <thead>\n",
       "    <tr style=\"text-align: right;\">\n",
       "      <th></th>\n",
       "      <th>medicationid</th>\n",
       "      <th>patientunitstayid</th>\n",
       "      <th>drugorderoffset</th>\n",
       "      <th>drugstartoffset</th>\n",
       "      <th>drugivadmixture</th>\n",
       "      <th>drugordercancelled</th>\n",
       "      <th>drugname</th>\n",
       "      <th>drughiclseqno</th>\n",
       "      <th>dosage</th>\n",
       "      <th>routeadmin</th>\n",
       "      <th>frequency</th>\n",
       "      <th>loadingdose</th>\n",
       "      <th>prn</th>\n",
       "      <th>drugstopoffset</th>\n",
       "      <th>gtc</th>\n",
       "    </tr>\n",
       "  </thead>\n",
       "  <tbody>\n",
       "    <tr>\n",
       "      <th>0</th>\n",
       "      <td>7426715</td>\n",
       "      <td>141168</td>\n",
       "      <td>309</td>\n",
       "      <td>666</td>\n",
       "      <td>No</td>\n",
       "      <td>No</td>\n",
       "      <td>METOPROLOL TARTRATE 25 MG PO TABS</td>\n",
       "      <td>2102.0</td>\n",
       "      <td>25 3</td>\n",
       "      <td>PO</td>\n",
       "      <td>Q12H SCH</td>\n",
       "      <td>NaN</td>\n",
       "      <td>No</td>\n",
       "      <td>1826</td>\n",
       "      <td>0</td>\n",
       "    </tr>\n",
       "    <tr>\n",
       "      <th>1</th>\n",
       "      <td>9643232</td>\n",
       "      <td>141168</td>\n",
       "      <td>1847</td>\n",
       "      <td>1832</td>\n",
       "      <td>No</td>\n",
       "      <td>No</td>\n",
       "      <td>3 ML  -  IPRATROPIUM-ALBUTEROL 0.5-2.5 (3) MG/...</td>\n",
       "      <td>NaN</td>\n",
       "      <td>3 1</td>\n",
       "      <td>NEBULIZATION</td>\n",
       "      <td>Q4H Resp PRN</td>\n",
       "      <td>NaN</td>\n",
       "      <td>Yes</td>\n",
       "      <td>2047</td>\n",
       "      <td>0</td>\n",
       "    </tr>\n",
       "    <tr>\n",
       "      <th>2</th>\n",
       "      <td>10270090</td>\n",
       "      <td>141168</td>\n",
       "      <td>296</td>\n",
       "      <td>1386</td>\n",
       "      <td>No</td>\n",
       "      <td>No</td>\n",
       "      <td>ASPIRIN EC 81 MG PO TBEC</td>\n",
       "      <td>1820.0</td>\n",
       "      <td>81 3</td>\n",
       "      <td>PO</td>\n",
       "      <td>Daily</td>\n",
       "      <td>NaN</td>\n",
       "      <td>No</td>\n",
       "      <td>2390</td>\n",
       "      <td>0</td>\n",
       "    </tr>\n",
       "    <tr>\n",
       "      <th>3</th>\n",
       "      <td>9496768</td>\n",
       "      <td>141168</td>\n",
       "      <td>2048</td>\n",
       "      <td>2029</td>\n",
       "      <td>No</td>\n",
       "      <td>No</td>\n",
       "      <td>3 ML  -  IPRATROPIUM-ALBUTEROL 0.5-2.5 (3) MG/...</td>\n",
       "      <td>NaN</td>\n",
       "      <td>3 1</td>\n",
       "      <td>NEBULIZATION</td>\n",
       "      <td>Q4H Resp PRN</td>\n",
       "      <td>NaN</td>\n",
       "      <td>Yes</td>\n",
       "      <td>2390</td>\n",
       "      <td>0</td>\n",
       "    </tr>\n",
       "    <tr>\n",
       "      <th>4</th>\n",
       "      <td>11259680</td>\n",
       "      <td>141168</td>\n",
       "      <td>117</td>\n",
       "      <td>246</td>\n",
       "      <td>No</td>\n",
       "      <td>No</td>\n",
       "      <td>ENOXAPARIN SODIUM 40 MG/0.4ML SC SOLN</td>\n",
       "      <td>NaN</td>\n",
       "      <td>40 3</td>\n",
       "      <td>SC</td>\n",
       "      <td>Daily</td>\n",
       "      <td>NaN</td>\n",
       "      <td>No</td>\n",
       "      <td>1721</td>\n",
       "      <td>0</td>\n",
       "    </tr>\n",
       "  </tbody>\n",
       "</table>\n",
       "</div>"
      ],
      "text/plain": [
       "   medicationid  patientunitstayid  drugorderoffset  drugstartoffset  \\\n",
       "0       7426715             141168              309              666   \n",
       "1       9643232             141168             1847             1832   \n",
       "2      10270090             141168              296             1386   \n",
       "3       9496768             141168             2048             2029   \n",
       "4      11259680             141168              117              246   \n",
       "\n",
       "  drugivadmixture drugordercancelled  \\\n",
       "0              No                 No   \n",
       "1              No                 No   \n",
       "2              No                 No   \n",
       "3              No                 No   \n",
       "4              No                 No   \n",
       "\n",
       "                                            drugname  drughiclseqno dosage  \\\n",
       "0                  METOPROLOL TARTRATE 25 MG PO TABS         2102.0   25 3   \n",
       "1  3 ML  -  IPRATROPIUM-ALBUTEROL 0.5-2.5 (3) MG/...            NaN    3 1   \n",
       "2                           ASPIRIN EC 81 MG PO TBEC         1820.0   81 3   \n",
       "3  3 ML  -  IPRATROPIUM-ALBUTEROL 0.5-2.5 (3) MG/...            NaN    3 1   \n",
       "4              ENOXAPARIN SODIUM 40 MG/0.4ML SC SOLN            NaN   40 3   \n",
       "\n",
       "     routeadmin     frequency loadingdose  prn  drugstopoffset  gtc  \n",
       "0            PO      Q12H SCH         NaN   No            1826    0  \n",
       "1  NEBULIZATION  Q4H Resp PRN         NaN  Yes            2047    0  \n",
       "2            PO         Daily         NaN   No            2390    0  \n",
       "3  NEBULIZATION  Q4H Resp PRN         NaN  Yes            2390    0  \n",
       "4            SC         Daily         NaN   No            1721    0  "
      ]
     },
     "execution_count": 97,
     "metadata": {},
     "output_type": "execute_result"
    }
   ],
   "source": [
    "medication.head()"
   ]
  },
  {
   "cell_type": "code",
   "execution_count": 98,
   "metadata": {},
   "outputs": [
    {
     "data": {
      "text/plain": [
       "Index(['medicationid', 'patientunitstayid', 'drugorderoffset',\n",
       "       'drugstartoffset', 'drugivadmixture', 'drugordercancelled', 'drugname',\n",
       "       'drughiclseqno', 'dosage', 'routeadmin', 'frequency', 'loadingdose',\n",
       "       'prn', 'drugstopoffset', 'gtc'],\n",
       "      dtype='object')"
      ]
     },
     "execution_count": 98,
     "metadata": {},
     "output_type": "execute_result"
    }
   ],
   "source": [
    "medication.columns"
   ]
  },
  {
   "cell_type": "code",
   "execution_count": 99,
   "metadata": {
    "collapsed": true
   },
   "outputs": [],
   "source": [
    "dfmeds = medication[['medicationid', 'patientunitstayid', 'drugstartoffset', 'drugstopoffset']]"
   ]
  },
  {
   "cell_type": "code",
   "execution_count": 100,
   "metadata": {},
   "outputs": [
    {
     "data": {
      "text/html": [
       "<div>\n",
       "<style scoped>\n",
       "    .dataframe tbody tr th:only-of-type {\n",
       "        vertical-align: middle;\n",
       "    }\n",
       "\n",
       "    .dataframe tbody tr th {\n",
       "        vertical-align: top;\n",
       "    }\n",
       "\n",
       "    .dataframe thead th {\n",
       "        text-align: right;\n",
       "    }\n",
       "</style>\n",
       "<table border=\"1\" class=\"dataframe\">\n",
       "  <thead>\n",
       "    <tr style=\"text-align: right;\">\n",
       "      <th></th>\n",
       "      <th>medicationid</th>\n",
       "      <th>patientunitstayid</th>\n",
       "      <th>drugstartoffset</th>\n",
       "      <th>drugstopoffset</th>\n",
       "    </tr>\n",
       "  </thead>\n",
       "  <tbody>\n",
       "    <tr>\n",
       "      <th>0</th>\n",
       "      <td>7426715</td>\n",
       "      <td>141168</td>\n",
       "      <td>666</td>\n",
       "      <td>1826</td>\n",
       "    </tr>\n",
       "    <tr>\n",
       "      <th>1</th>\n",
       "      <td>9643232</td>\n",
       "      <td>141168</td>\n",
       "      <td>1832</td>\n",
       "      <td>2047</td>\n",
       "    </tr>\n",
       "    <tr>\n",
       "      <th>2</th>\n",
       "      <td>10270090</td>\n",
       "      <td>141168</td>\n",
       "      <td>1386</td>\n",
       "      <td>2390</td>\n",
       "    </tr>\n",
       "    <tr>\n",
       "      <th>3</th>\n",
       "      <td>9496768</td>\n",
       "      <td>141168</td>\n",
       "      <td>2029</td>\n",
       "      <td>2390</td>\n",
       "    </tr>\n",
       "    <tr>\n",
       "      <th>4</th>\n",
       "      <td>11259680</td>\n",
       "      <td>141168</td>\n",
       "      <td>246</td>\n",
       "      <td>1721</td>\n",
       "    </tr>\n",
       "  </tbody>\n",
       "</table>\n",
       "</div>"
      ],
      "text/plain": [
       "   medicationid  patientunitstayid  drugstartoffset  drugstopoffset\n",
       "0       7426715             141168              666            1826\n",
       "1       9643232             141168             1832            2047\n",
       "2      10270090             141168             1386            2390\n",
       "3       9496768             141168             2029            2390\n",
       "4      11259680             141168              246            1721"
      ]
     },
     "execution_count": 100,
     "metadata": {},
     "output_type": "execute_result"
    }
   ],
   "source": [
    "dfmeds.head()"
   ]
  },
  {
   "cell_type": "code",
   "execution_count": 101,
   "metadata": {},
   "outputs": [
    {
     "data": {
      "text/plain": [
       "medicationid         0\n",
       "patientunitstayid    0\n",
       "drugstartoffset      0\n",
       "drugstopoffset       0\n",
       "dtype: int64"
      ]
     },
     "execution_count": 101,
     "metadata": {},
     "output_type": "execute_result"
    }
   ],
   "source": [
    "dfmeds.isna().sum()"
   ]
  },
  {
   "cell_type": "code",
   "execution_count": 56,
   "metadata": {
    "collapsed": true
   },
   "outputs": [],
   "source": [
    "diagnosis = pd.read_csv('../data/diagnosis.csv')"
   ]
  },
  {
   "cell_type": "code",
   "execution_count": 57,
   "metadata": {},
   "outputs": [
    {
     "data": {
      "text/html": [
       "<div>\n",
       "<style scoped>\n",
       "    .dataframe tbody tr th:only-of-type {\n",
       "        vertical-align: middle;\n",
       "    }\n",
       "\n",
       "    .dataframe tbody tr th {\n",
       "        vertical-align: top;\n",
       "    }\n",
       "\n",
       "    .dataframe thead th {\n",
       "        text-align: right;\n",
       "    }\n",
       "</style>\n",
       "<table border=\"1\" class=\"dataframe\">\n",
       "  <thead>\n",
       "    <tr style=\"text-align: right;\">\n",
       "      <th></th>\n",
       "      <th>diagnosisid</th>\n",
       "      <th>patientunitstayid</th>\n",
       "      <th>activeupondischarge</th>\n",
       "      <th>diagnosisoffset</th>\n",
       "      <th>diagnosisstring</th>\n",
       "      <th>icd9code</th>\n",
       "      <th>diagnosispriority</th>\n",
       "    </tr>\n",
       "  </thead>\n",
       "  <tbody>\n",
       "    <tr>\n",
       "      <th>0</th>\n",
       "      <td>4222318</td>\n",
       "      <td>141168</td>\n",
       "      <td>False</td>\n",
       "      <td>72</td>\n",
       "      <td>cardiovascular|chest pain / ASHD|coronary arte...</td>\n",
       "      <td>414.00, I25.10</td>\n",
       "      <td>Other</td>\n",
       "    </tr>\n",
       "    <tr>\n",
       "      <th>1</th>\n",
       "      <td>3370568</td>\n",
       "      <td>141168</td>\n",
       "      <td>True</td>\n",
       "      <td>118</td>\n",
       "      <td>cardiovascular|ventricular disorders|cardiomyo...</td>\n",
       "      <td>NaN</td>\n",
       "      <td>Other</td>\n",
       "    </tr>\n",
       "    <tr>\n",
       "      <th>2</th>\n",
       "      <td>4160941</td>\n",
       "      <td>141168</td>\n",
       "      <td>False</td>\n",
       "      <td>72</td>\n",
       "      <td>pulmonary|disorders of the airways|COPD</td>\n",
       "      <td>491.20, J44.9</td>\n",
       "      <td>Other</td>\n",
       "    </tr>\n",
       "    <tr>\n",
       "      <th>3</th>\n",
       "      <td>4103261</td>\n",
       "      <td>141168</td>\n",
       "      <td>True</td>\n",
       "      <td>118</td>\n",
       "      <td>pulmonary|disorders of the airways|COPD</td>\n",
       "      <td>491.20, J44.9</td>\n",
       "      <td>Other</td>\n",
       "    </tr>\n",
       "    <tr>\n",
       "      <th>4</th>\n",
       "      <td>3545241</td>\n",
       "      <td>141168</td>\n",
       "      <td>True</td>\n",
       "      <td>118</td>\n",
       "      <td>cardiovascular|ventricular disorders|congestiv...</td>\n",
       "      <td>428.0, I50.9</td>\n",
       "      <td>Other</td>\n",
       "    </tr>\n",
       "  </tbody>\n",
       "</table>\n",
       "</div>"
      ],
      "text/plain": [
       "   diagnosisid  patientunitstayid  activeupondischarge  diagnosisoffset  \\\n",
       "0      4222318             141168                False               72   \n",
       "1      3370568             141168                 True              118   \n",
       "2      4160941             141168                False               72   \n",
       "3      4103261             141168                 True              118   \n",
       "4      3545241             141168                 True              118   \n",
       "\n",
       "                                     diagnosisstring        icd9code  \\\n",
       "0  cardiovascular|chest pain / ASHD|coronary arte...  414.00, I25.10   \n",
       "1  cardiovascular|ventricular disorders|cardiomyo...             NaN   \n",
       "2            pulmonary|disorders of the airways|COPD   491.20, J44.9   \n",
       "3            pulmonary|disorders of the airways|COPD   491.20, J44.9   \n",
       "4  cardiovascular|ventricular disorders|congestiv...    428.0, I50.9   \n",
       "\n",
       "  diagnosispriority  \n",
       "0             Other  \n",
       "1             Other  \n",
       "2             Other  \n",
       "3             Other  \n",
       "4             Other  "
      ]
     },
     "execution_count": 57,
     "metadata": {},
     "output_type": "execute_result"
    }
   ],
   "source": [
    "diagnosis.head()"
   ]
  },
  {
   "cell_type": "code",
   "execution_count": 58,
   "metadata": {},
   "outputs": [
    {
     "data": {
      "text/plain": [
       "Index(['diagnosisid', 'patientunitstayid', 'activeupondischarge',\n",
       "       'diagnosisoffset', 'diagnosisstring', 'icd9code', 'diagnosispriority'],\n",
       "      dtype='object')"
      ]
     },
     "execution_count": 58,
     "metadata": {},
     "output_type": "execute_result"
    }
   ],
   "source": [
    "diagnosis.columns"
   ]
  },
  {
   "cell_type": "code",
   "execution_count": 59,
   "metadata": {
    "collapsed": true
   },
   "outputs": [],
   "source": [
    "dfdiag = diagnosis[['patientunitstayid', 'diagnosisstring']]"
   ]
  },
  {
   "cell_type": "code",
   "execution_count": 60,
   "metadata": {},
   "outputs": [
    {
     "data": {
      "text/html": [
       "<div>\n",
       "<style scoped>\n",
       "    .dataframe tbody tr th:only-of-type {\n",
       "        vertical-align: middle;\n",
       "    }\n",
       "\n",
       "    .dataframe tbody tr th {\n",
       "        vertical-align: top;\n",
       "    }\n",
       "\n",
       "    .dataframe thead th {\n",
       "        text-align: right;\n",
       "    }\n",
       "</style>\n",
       "<table border=\"1\" class=\"dataframe\">\n",
       "  <thead>\n",
       "    <tr style=\"text-align: right;\">\n",
       "      <th></th>\n",
       "      <th>patientunitstayid</th>\n",
       "      <th>diagnosisstring</th>\n",
       "    </tr>\n",
       "  </thead>\n",
       "  <tbody>\n",
       "    <tr>\n",
       "      <th>0</th>\n",
       "      <td>141168</td>\n",
       "      <td>cardiovascular|chest pain / ASHD|coronary arte...</td>\n",
       "    </tr>\n",
       "    <tr>\n",
       "      <th>1</th>\n",
       "      <td>141168</td>\n",
       "      <td>cardiovascular|ventricular disorders|cardiomyo...</td>\n",
       "    </tr>\n",
       "    <tr>\n",
       "      <th>2</th>\n",
       "      <td>141168</td>\n",
       "      <td>pulmonary|disorders of the airways|COPD</td>\n",
       "    </tr>\n",
       "    <tr>\n",
       "      <th>3</th>\n",
       "      <td>141168</td>\n",
       "      <td>pulmonary|disorders of the airways|COPD</td>\n",
       "    </tr>\n",
       "    <tr>\n",
       "      <th>4</th>\n",
       "      <td>141168</td>\n",
       "      <td>cardiovascular|ventricular disorders|congestiv...</td>\n",
       "    </tr>\n",
       "  </tbody>\n",
       "</table>\n",
       "</div>"
      ],
      "text/plain": [
       "   patientunitstayid                                    diagnosisstring\n",
       "0             141168  cardiovascular|chest pain / ASHD|coronary arte...\n",
       "1             141168  cardiovascular|ventricular disorders|cardiomyo...\n",
       "2             141168            pulmonary|disorders of the airways|COPD\n",
       "3             141168            pulmonary|disorders of the airways|COPD\n",
       "4             141168  cardiovascular|ventricular disorders|congestiv..."
      ]
     },
     "execution_count": 60,
     "metadata": {},
     "output_type": "execute_result"
    }
   ],
   "source": [
    "dfdiag.head()"
   ]
  },
  {
   "cell_type": "code",
   "execution_count": 61,
   "metadata": {},
   "outputs": [
    {
     "data": {
      "text/plain": [
       "patientunitstayid    0\n",
       "diagnosisstring      0\n",
       "dtype: int64"
      ]
     },
     "execution_count": 61,
     "metadata": {},
     "output_type": "execute_result"
    }
   ],
   "source": [
    "dfdiag.isna().sum()"
   ]
  },
  {
   "cell_type": "code",
   "execution_count": 62,
   "metadata": {
    "collapsed": true
   },
   "outputs": [],
   "source": [
    "# tp = dfdiag.copy().head()"
   ]
  },
  {
   "cell_type": "code",
   "execution_count": 63,
   "metadata": {
    "collapsed": true
   },
   "outputs": [],
   "source": [
    "droplist = []\n",
    "for i in range(dfdiag.shape[0]):\n",
    "    if \"sepsis\" in dfdiag.iloc[i]['diagnosisstring'].lower():\n",
    "        pass\n",
    "    else:\n",
    "        droplist.append(i)"
   ]
  },
  {
   "cell_type": "code",
   "execution_count": 64,
   "metadata": {
    "collapsed": true
   },
   "outputs": [],
   "source": [
    "# tp.drop([0,1])"
   ]
  },
  {
   "cell_type": "code",
   "execution_count": 65,
   "metadata": {},
   "outputs": [
    {
     "data": {
      "text/plain": [
       "2595297"
      ]
     },
     "execution_count": 65,
     "metadata": {},
     "output_type": "execute_result"
    }
   ],
   "source": [
    "len(droplist)"
   ]
  },
  {
   "cell_type": "code",
   "execution_count": 66,
   "metadata": {},
   "outputs": [
    {
     "name": "stderr",
     "output_type": "stream",
     "text": [
      "E:\\Anaconda-3\\envs\\tfdeeplearning\\lib\\site-packages\\pandas\\core\\frame.py:3697: SettingWithCopyWarning: \n",
      "A value is trying to be set on a copy of a slice from a DataFrame\n",
      "\n",
      "See the caveats in the documentation: http://pandas.pydata.org/pandas-docs/stable/indexing.html#indexing-view-versus-copy\n",
      "  errors=errors)\n"
     ]
    }
   ],
   "source": [
    "dfdiag.drop(droplist, inplace=True)"
   ]
  },
  {
   "cell_type": "code",
   "execution_count": 67,
   "metadata": {
    "collapsed": true
   },
   "outputs": [],
   "source": [
    "dfdiag.reset_index(inplace=True)"
   ]
  },
  {
   "cell_type": "code",
   "execution_count": 68,
   "metadata": {},
   "outputs": [
    {
     "name": "stderr",
     "output_type": "stream",
     "text": [
      "E:\\Anaconda-3\\envs\\tfdeeplearning\\lib\\site-packages\\pandas\\core\\frame.py:3697: SettingWithCopyWarning: \n",
      "A value is trying to be set on a copy of a slice from a DataFrame\n",
      "\n",
      "See the caveats in the documentation: http://pandas.pydata.org/pandas-docs/stable/indexing.html#indexing-view-versus-copy\n",
      "  errors=errors)\n"
     ]
    }
   ],
   "source": [
    "dfdiag.drop('index', axis=1, inplace=True)"
   ]
  },
  {
   "cell_type": "code",
   "execution_count": 69,
   "metadata": {
    "collapsed": true
   },
   "outputs": [],
   "source": [
    "# dfdiag.drop('level_0', axis=1, inplace=True)"
   ]
  },
  {
   "cell_type": "code",
   "execution_count": 70,
   "metadata": {},
   "outputs": [
    {
     "data": {
      "text/html": [
       "<div>\n",
       "<style scoped>\n",
       "    .dataframe tbody tr th:only-of-type {\n",
       "        vertical-align: middle;\n",
       "    }\n",
       "\n",
       "    .dataframe tbody tr th {\n",
       "        vertical-align: top;\n",
       "    }\n",
       "\n",
       "    .dataframe thead th {\n",
       "        text-align: right;\n",
       "    }\n",
       "</style>\n",
       "<table border=\"1\" class=\"dataframe\">\n",
       "  <thead>\n",
       "    <tr style=\"text-align: right;\">\n",
       "      <th></th>\n",
       "      <th>patientunitstayid</th>\n",
       "      <th>diagnosisstring</th>\n",
       "    </tr>\n",
       "  </thead>\n",
       "  <tbody>\n",
       "    <tr>\n",
       "      <th>0</th>\n",
       "      <td>141227</td>\n",
       "      <td>cardiovascular|shock / hypotension|sepsis</td>\n",
       "    </tr>\n",
       "    <tr>\n",
       "      <th>1</th>\n",
       "      <td>141288</td>\n",
       "      <td>cardiovascular|shock / hypotension|sepsis</td>\n",
       "    </tr>\n",
       "    <tr>\n",
       "      <th>2</th>\n",
       "      <td>141288</td>\n",
       "      <td>cardiovascular|shock / hypotension|sepsis</td>\n",
       "    </tr>\n",
       "    <tr>\n",
       "      <th>3</th>\n",
       "      <td>141288</td>\n",
       "      <td>cardiovascular|shock / hypotension|sepsis</td>\n",
       "    </tr>\n",
       "    <tr>\n",
       "      <th>4</th>\n",
       "      <td>141288</td>\n",
       "      <td>cardiovascular|shock / hypotension|sepsis</td>\n",
       "    </tr>\n",
       "  </tbody>\n",
       "</table>\n",
       "</div>"
      ],
      "text/plain": [
       "   patientunitstayid                            diagnosisstring\n",
       "0             141227  cardiovascular|shock / hypotension|sepsis\n",
       "1             141288  cardiovascular|shock / hypotension|sepsis\n",
       "2             141288  cardiovascular|shock / hypotension|sepsis\n",
       "3             141288  cardiovascular|shock / hypotension|sepsis\n",
       "4             141288  cardiovascular|shock / hypotension|sepsis"
      ]
     },
     "execution_count": 70,
     "metadata": {},
     "output_type": "execute_result"
    }
   ],
   "source": [
    "dfdiag.head()"
   ]
  },
  {
   "cell_type": "code",
   "execution_count": 71,
   "metadata": {
    "collapsed": true
   },
   "outputs": [],
   "source": [
    "dfmedsmain = dfdiag.join(dfmeds.drop('patientunitstayid', axis=1), on='patientunitstayid')"
   ]
  },
  {
   "cell_type": "code",
   "execution_count": 72,
   "metadata": {},
   "outputs": [
    {
     "data": {
      "text/plain": [
       "165837"
      ]
     },
     "execution_count": 72,
     "metadata": {},
     "output_type": "execute_result"
    }
   ],
   "source": [
    "len(dfmeds['patientunitstayid'].unique())"
   ]
  },
  {
   "cell_type": "code",
   "execution_count": 73,
   "metadata": {},
   "outputs": [
    {
     "data": {
      "text/plain": [
       "(7301853, 4)"
      ]
     },
     "execution_count": 73,
     "metadata": {},
     "output_type": "execute_result"
    }
   ],
   "source": [
    "dfmeds.shape"
   ]
  },
  {
   "cell_type": "code",
   "execution_count": 74,
   "metadata": {},
   "outputs": [
    {
     "data": {
      "text/html": [
       "<div>\n",
       "<style scoped>\n",
       "    .dataframe tbody tr th:only-of-type {\n",
       "        vertical-align: middle;\n",
       "    }\n",
       "\n",
       "    .dataframe tbody tr th {\n",
       "        vertical-align: top;\n",
       "    }\n",
       "\n",
       "    .dataframe thead th {\n",
       "        text-align: right;\n",
       "    }\n",
       "</style>\n",
       "<table border=\"1\" class=\"dataframe\">\n",
       "  <thead>\n",
       "    <tr style=\"text-align: right;\">\n",
       "      <th></th>\n",
       "      <th>patientunitstayid</th>\n",
       "      <th>diagnosisstring</th>\n",
       "      <th>medicationid</th>\n",
       "      <th>drugstartoffset</th>\n",
       "      <th>drugstopoffset</th>\n",
       "    </tr>\n",
       "  </thead>\n",
       "  <tbody>\n",
       "    <tr>\n",
       "      <th>0</th>\n",
       "      <td>141227</td>\n",
       "      <td>cardiovascular|shock / hypotension|sepsis</td>\n",
       "      <td>12384625</td>\n",
       "      <td>341</td>\n",
       "      <td>3008</td>\n",
       "    </tr>\n",
       "    <tr>\n",
       "      <th>1</th>\n",
       "      <td>141288</td>\n",
       "      <td>cardiovascular|shock / hypotension|sepsis</td>\n",
       "      <td>12297557</td>\n",
       "      <td>6599</td>\n",
       "      <td>6600</td>\n",
       "    </tr>\n",
       "    <tr>\n",
       "      <th>2</th>\n",
       "      <td>141288</td>\n",
       "      <td>cardiovascular|shock / hypotension|sepsis</td>\n",
       "      <td>12297557</td>\n",
       "      <td>6599</td>\n",
       "      <td>6600</td>\n",
       "    </tr>\n",
       "    <tr>\n",
       "      <th>3</th>\n",
       "      <td>141288</td>\n",
       "      <td>cardiovascular|shock / hypotension|sepsis</td>\n",
       "      <td>12297557</td>\n",
       "      <td>6599</td>\n",
       "      <td>6600</td>\n",
       "    </tr>\n",
       "    <tr>\n",
       "      <th>4</th>\n",
       "      <td>141288</td>\n",
       "      <td>cardiovascular|shock / hypotension|sepsis</td>\n",
       "      <td>12297557</td>\n",
       "      <td>6599</td>\n",
       "      <td>6600</td>\n",
       "    </tr>\n",
       "  </tbody>\n",
       "</table>\n",
       "</div>"
      ],
      "text/plain": [
       "   patientunitstayid                            diagnosisstring  medicationid  \\\n",
       "0             141227  cardiovascular|shock / hypotension|sepsis      12384625   \n",
       "1             141288  cardiovascular|shock / hypotension|sepsis      12297557   \n",
       "2             141288  cardiovascular|shock / hypotension|sepsis      12297557   \n",
       "3             141288  cardiovascular|shock / hypotension|sepsis      12297557   \n",
       "4             141288  cardiovascular|shock / hypotension|sepsis      12297557   \n",
       "\n",
       "   drugstartoffset  drugstopoffset  \n",
       "0              341            3008  \n",
       "1             6599            6600  \n",
       "2             6599            6600  \n",
       "3             6599            6600  \n",
       "4             6599            6600  "
      ]
     },
     "execution_count": 74,
     "metadata": {},
     "output_type": "execute_result"
    }
   ],
   "source": [
    "dfmedsmain.head()"
   ]
  },
  {
   "cell_type": "code",
   "execution_count": 75,
   "metadata": {},
   "outputs": [
    {
     "data": {
      "text/plain": [
       "Index(['patientunitstayid', 'diagnosisstring', 'medicationid',\n",
       "       'drugstartoffset', 'drugstopoffset'],\n",
       "      dtype='object')"
      ]
     },
     "execution_count": 75,
     "metadata": {},
     "output_type": "execute_result"
    }
   ],
   "source": [
    "dfmedsmain.columns"
   ]
  },
  {
   "cell_type": "code",
   "execution_count": 76,
   "metadata": {},
   "outputs": [
    {
     "data": {
      "text/plain": [
       "(115375, 5)"
      ]
     },
     "execution_count": 76,
     "metadata": {},
     "output_type": "execute_result"
    }
   ],
   "source": [
    "dfmedsmain.shape"
   ]
  },
  {
   "cell_type": "code",
   "execution_count": 77,
   "metadata": {},
   "outputs": [
    {
     "data": {
      "text/plain": [
       "patientunitstayid    0\n",
       "diagnosisstring      0\n",
       "medicationid         0\n",
       "drugstartoffset      0\n",
       "drugstopoffset       0\n",
       "dtype: int64"
      ]
     },
     "execution_count": 77,
     "metadata": {},
     "output_type": "execute_result"
    }
   ],
   "source": [
    "dfmedsmain.isna().sum()"
   ]
  },
  {
   "cell_type": "code",
   "execution_count": 78,
   "metadata": {},
   "outputs": [
    {
     "data": {
      "text/plain": [
       "4320"
      ]
     },
     "execution_count": 78,
     "metadata": {},
     "output_type": "execute_result"
    }
   ],
   "source": [
    "72*60"
   ]
  },
  {
   "cell_type": "code",
   "execution_count": 79,
   "metadata": {
    "collapsed": true
   },
   "outputs": [],
   "source": [
    "droplist = []\n",
    "for i in range(dfmedsmain.shape[0]):\n",
    "    if dfmedsmain.iloc[i]['drugstopoffset'] - dfmedsmain.iloc[i]['drugstartoffset'] < 72 :\n",
    "        droplist.append(i)"
   ]
  },
  {
   "cell_type": "code",
   "execution_count": 80,
   "metadata": {
    "collapsed": true
   },
   "outputs": [],
   "source": [
    "dfmedsmain.drop(droplist, inplace=True)"
   ]
  },
  {
   "cell_type": "code",
   "execution_count": 81,
   "metadata": {
    "collapsed": true
   },
   "outputs": [],
   "source": [
    "dfmedsmain.reset_index(inplace=True)"
   ]
  },
  {
   "cell_type": "code",
   "execution_count": 82,
   "metadata": {
    "collapsed": true
   },
   "outputs": [],
   "source": [
    "dfmedsmain.drop('index', axis=1, inplace=True)"
   ]
  },
  {
   "cell_type": "code",
   "execution_count": 83,
   "metadata": {
    "scrolled": true
   },
   "outputs": [
    {
     "data": {
      "text/html": [
       "<div>\n",
       "<style scoped>\n",
       "    .dataframe tbody tr th:only-of-type {\n",
       "        vertical-align: middle;\n",
       "    }\n",
       "\n",
       "    .dataframe tbody tr th {\n",
       "        vertical-align: top;\n",
       "    }\n",
       "\n",
       "    .dataframe thead th {\n",
       "        text-align: right;\n",
       "    }\n",
       "</style>\n",
       "<table border=\"1\" class=\"dataframe\">\n",
       "  <thead>\n",
       "    <tr style=\"text-align: right;\">\n",
       "      <th></th>\n",
       "      <th>patientunitstayid</th>\n",
       "      <th>diagnosisstring</th>\n",
       "      <th>medicationid</th>\n",
       "      <th>drugstartoffset</th>\n",
       "      <th>drugstopoffset</th>\n",
       "    </tr>\n",
       "  </thead>\n",
       "  <tbody>\n",
       "    <tr>\n",
       "      <th>0</th>\n",
       "      <td>141227</td>\n",
       "      <td>cardiovascular|shock / hypotension|sepsis</td>\n",
       "      <td>12384625</td>\n",
       "      <td>341</td>\n",
       "      <td>3008</td>\n",
       "    </tr>\n",
       "    <tr>\n",
       "      <th>1</th>\n",
       "      <td>141289</td>\n",
       "      <td>cardiovascular|shock / hypotension|sepsis</td>\n",
       "      <td>11823905</td>\n",
       "      <td>1556</td>\n",
       "      <td>8115</td>\n",
       "    </tr>\n",
       "    <tr>\n",
       "      <th>2</th>\n",
       "      <td>141304</td>\n",
       "      <td>cardiovascular|shock / hypotension|sepsis</td>\n",
       "      <td>13411924</td>\n",
       "      <td>31</td>\n",
       "      <td>8115</td>\n",
       "    </tr>\n",
       "    <tr>\n",
       "      <th>3</th>\n",
       "      <td>141304</td>\n",
       "      <td>cardiovascular|shock / hypotension|sepsis</td>\n",
       "      <td>13411924</td>\n",
       "      <td>31</td>\n",
       "      <td>8115</td>\n",
       "    </tr>\n",
       "    <tr>\n",
       "      <th>4</th>\n",
       "      <td>141392</td>\n",
       "      <td>cardiovascular|shock / hypotension|sepsis</td>\n",
       "      <td>12453621</td>\n",
       "      <td>22689</td>\n",
       "      <td>24216</td>\n",
       "    </tr>\n",
       "  </tbody>\n",
       "</table>\n",
       "</div>"
      ],
      "text/plain": [
       "   patientunitstayid                            diagnosisstring  medicationid  \\\n",
       "0             141227  cardiovascular|shock / hypotension|sepsis      12384625   \n",
       "1             141289  cardiovascular|shock / hypotension|sepsis      11823905   \n",
       "2             141304  cardiovascular|shock / hypotension|sepsis      13411924   \n",
       "3             141304  cardiovascular|shock / hypotension|sepsis      13411924   \n",
       "4             141392  cardiovascular|shock / hypotension|sepsis      12453621   \n",
       "\n",
       "   drugstartoffset  drugstopoffset  \n",
       "0              341            3008  \n",
       "1             1556            8115  \n",
       "2               31            8115  \n",
       "3               31            8115  \n",
       "4            22689           24216  "
      ]
     },
     "execution_count": 83,
     "metadata": {},
     "output_type": "execute_result"
    }
   ],
   "source": [
    "dfmedsmain.head()"
   ]
  },
  {
   "cell_type": "code",
   "execution_count": 84,
   "metadata": {
    "collapsed": true
   },
   "outputs": [],
   "source": [
    "patientslistwithsepsis = dfmedsmain['patientunitstayid'].tolist()"
   ]
  },
  {
   "cell_type": "code",
   "execution_count": 85,
   "metadata": {
    "collapsed": true
   },
   "outputs": [],
   "source": [
    "# droplist = []\n",
    "# for i in range(dfmain.shape[0]):\n",
    "#     if dfmain.iloc[i]['patientunitstayid'] not in patientslistwithsepsis:\n",
    "#         droplist.append(i)\n",
    "#     elif i % 100 < 10:\n",
    "#         print(i)"
   ]
  },
  {
   "cell_type": "code",
   "execution_count": 86,
   "metadata": {},
   "outputs": [
    {
     "data": {
      "text/plain": [
       "(134355, 12)"
      ]
     },
     "execution_count": 86,
     "metadata": {},
     "output_type": "execute_result"
    }
   ],
   "source": [
    "dfmain.shape"
   ]
  },
  {
   "cell_type": "code",
   "execution_count": 87,
   "metadata": {
    "collapsed": true
   },
   "outputs": [],
   "source": [
    "# dfmedsmain.join(dfmain.drop('patientunitstayid', axis=1), on='patientunitstayid')"
   ]
  },
  {
   "cell_type": "code",
   "execution_count": 88,
   "metadata": {},
   "outputs": [
    {
     "data": {
      "text/plain": [
       "141168"
      ]
     },
     "execution_count": 88,
     "metadata": {},
     "output_type": "execute_result"
    }
   ],
   "source": [
    "dfmain['patientunitstayid'].min()"
   ]
  },
  {
   "cell_type": "code",
   "execution_count": 89,
   "metadata": {
    "collapsed": true
   },
   "outputs": [],
   "source": [
    "df00 = pd.merge(dfmedsmain, dfmain, on='patientunitstayid', how='left')"
   ]
  },
  {
   "cell_type": "code",
   "execution_count": 90,
   "metadata": {},
   "outputs": [
    {
     "data": {
      "text/html": [
       "<div>\n",
       "<style scoped>\n",
       "    .dataframe tbody tr th:only-of-type {\n",
       "        vertical-align: middle;\n",
       "    }\n",
       "\n",
       "    .dataframe tbody tr th {\n",
       "        vertical-align: top;\n",
       "    }\n",
       "\n",
       "    .dataframe thead th {\n",
       "        text-align: right;\n",
       "    }\n",
       "</style>\n",
       "<table border=\"1\" class=\"dataframe\">\n",
       "  <thead>\n",
       "    <tr style=\"text-align: right;\">\n",
       "      <th></th>\n",
       "      <th>patientunitstayid</th>\n",
       "      <th>diagnosisstring</th>\n",
       "      <th>medicationid</th>\n",
       "      <th>drugstartoffset</th>\n",
       "      <th>drugstopoffset</th>\n",
       "      <th>index</th>\n",
       "      <th>urine</th>\n",
       "      <th>wbc</th>\n",
       "      <th>creatinine</th>\n",
       "      <th>pao2</th>\n",
       "      <th>fio2</th>\n",
       "      <th>bilirubin</th>\n",
       "      <th>observationoffset</th>\n",
       "      <th>MAP</th>\n",
       "      <th>GCS</th>\n",
       "      <th>SOFA</th>\n",
       "    </tr>\n",
       "  </thead>\n",
       "  <tbody>\n",
       "    <tr>\n",
       "      <th>0</th>\n",
       "      <td>141227</td>\n",
       "      <td>cardiovascular|shock / hypotension|sepsis</td>\n",
       "      <td>12384625</td>\n",
       "      <td>341</td>\n",
       "      <td>3008</td>\n",
       "      <td>6.0</td>\n",
       "      <td>-1.0</td>\n",
       "      <td>42.7</td>\n",
       "      <td>1.90</td>\n",
       "      <td>65.0</td>\n",
       "      <td>21.0</td>\n",
       "      <td>-1.0</td>\n",
       "      <td>676.0</td>\n",
       "      <td>77.333333</td>\n",
       "      <td>13.0</td>\n",
       "      <td>9.0</td>\n",
       "    </tr>\n",
       "    <tr>\n",
       "      <th>1</th>\n",
       "      <td>141289</td>\n",
       "      <td>cardiovascular|shock / hypotension|sepsis</td>\n",
       "      <td>11823905</td>\n",
       "      <td>1556</td>\n",
       "      <td>8115</td>\n",
       "      <td>16.0</td>\n",
       "      <td>-1.0</td>\n",
       "      <td>7.1</td>\n",
       "      <td>0.60</td>\n",
       "      <td>67.0</td>\n",
       "      <td>35.0</td>\n",
       "      <td>-1.0</td>\n",
       "      <td>186.0</td>\n",
       "      <td>74.666667</td>\n",
       "      <td>15.0</td>\n",
       "      <td>8.0</td>\n",
       "    </tr>\n",
       "    <tr>\n",
       "      <th>2</th>\n",
       "      <td>141304</td>\n",
       "      <td>cardiovascular|shock / hypotension|sepsis</td>\n",
       "      <td>13411924</td>\n",
       "      <td>31</td>\n",
       "      <td>8115</td>\n",
       "      <td>18.0</td>\n",
       "      <td>-1.0</td>\n",
       "      <td>12.8</td>\n",
       "      <td>2.05</td>\n",
       "      <td>-1.0</td>\n",
       "      <td>-1.0</td>\n",
       "      <td>-1.0</td>\n",
       "      <td>688.0</td>\n",
       "      <td>65.000000</td>\n",
       "      <td>15.0</td>\n",
       "      <td>7.0</td>\n",
       "    </tr>\n",
       "    <tr>\n",
       "      <th>3</th>\n",
       "      <td>141304</td>\n",
       "      <td>cardiovascular|shock / hypotension|sepsis</td>\n",
       "      <td>13411924</td>\n",
       "      <td>31</td>\n",
       "      <td>8115</td>\n",
       "      <td>18.0</td>\n",
       "      <td>-1.0</td>\n",
       "      <td>12.8</td>\n",
       "      <td>2.05</td>\n",
       "      <td>-1.0</td>\n",
       "      <td>-1.0</td>\n",
       "      <td>-1.0</td>\n",
       "      <td>688.0</td>\n",
       "      <td>65.000000</td>\n",
       "      <td>15.0</td>\n",
       "      <td>7.0</td>\n",
       "    </tr>\n",
       "    <tr>\n",
       "      <th>4</th>\n",
       "      <td>141392</td>\n",
       "      <td>cardiovascular|shock / hypotension|sepsis</td>\n",
       "      <td>12453621</td>\n",
       "      <td>22689</td>\n",
       "      <td>24216</td>\n",
       "      <td>29.0</td>\n",
       "      <td>-1.0</td>\n",
       "      <td>17.5</td>\n",
       "      <td>1.68</td>\n",
       "      <td>-1.0</td>\n",
       "      <td>-1.0</td>\n",
       "      <td>-1.0</td>\n",
       "      <td>17362.0</td>\n",
       "      <td>83.666667</td>\n",
       "      <td>15.0</td>\n",
       "      <td>5.0</td>\n",
       "    </tr>\n",
       "  </tbody>\n",
       "</table>\n",
       "</div>"
      ],
      "text/plain": [
       "   patientunitstayid                            diagnosisstring  medicationid  \\\n",
       "0             141227  cardiovascular|shock / hypotension|sepsis      12384625   \n",
       "1             141289  cardiovascular|shock / hypotension|sepsis      11823905   \n",
       "2             141304  cardiovascular|shock / hypotension|sepsis      13411924   \n",
       "3             141304  cardiovascular|shock / hypotension|sepsis      13411924   \n",
       "4             141392  cardiovascular|shock / hypotension|sepsis      12453621   \n",
       "\n",
       "   drugstartoffset  drugstopoffset  index  urine   wbc  creatinine  pao2  \\\n",
       "0              341            3008    6.0   -1.0  42.7        1.90  65.0   \n",
       "1             1556            8115   16.0   -1.0   7.1        0.60  67.0   \n",
       "2               31            8115   18.0   -1.0  12.8        2.05  -1.0   \n",
       "3               31            8115   18.0   -1.0  12.8        2.05  -1.0   \n",
       "4            22689           24216   29.0   -1.0  17.5        1.68  -1.0   \n",
       "\n",
       "   fio2  bilirubin  observationoffset        MAP   GCS  SOFA  \n",
       "0  21.0       -1.0              676.0  77.333333  13.0   9.0  \n",
       "1  35.0       -1.0              186.0  74.666667  15.0   8.0  \n",
       "2  -1.0       -1.0              688.0  65.000000  15.0   7.0  \n",
       "3  -1.0       -1.0              688.0  65.000000  15.0   7.0  \n",
       "4  -1.0       -1.0            17362.0  83.666667  15.0   5.0  "
      ]
     },
     "execution_count": 90,
     "metadata": {},
     "output_type": "execute_result"
    }
   ],
   "source": [
    "df00.head()"
   ]
  },
  {
   "cell_type": "code",
   "execution_count": 91,
   "metadata": {
    "collapsed": true
   },
   "outputs": [],
   "source": [
    "df00 = pd.concat([df00, pd.DataFrame(df00['drugstartoffset'].tolist(), columns=['tDrugAdminister'])], axis=1)"
   ]
  },
  {
   "cell_type": "code",
   "execution_count": 92,
   "metadata": {},
   "outputs": [
    {
     "data": {
      "text/html": [
       "<div>\n",
       "<style scoped>\n",
       "    .dataframe tbody tr th:only-of-type {\n",
       "        vertical-align: middle;\n",
       "    }\n",
       "\n",
       "    .dataframe tbody tr th {\n",
       "        vertical-align: top;\n",
       "    }\n",
       "\n",
       "    .dataframe thead th {\n",
       "        text-align: right;\n",
       "    }\n",
       "</style>\n",
       "<table border=\"1\" class=\"dataframe\">\n",
       "  <thead>\n",
       "    <tr style=\"text-align: right;\">\n",
       "      <th></th>\n",
       "      <th>patientunitstayid</th>\n",
       "      <th>diagnosisstring</th>\n",
       "      <th>medicationid</th>\n",
       "      <th>drugstartoffset</th>\n",
       "      <th>drugstopoffset</th>\n",
       "      <th>index</th>\n",
       "      <th>urine</th>\n",
       "      <th>wbc</th>\n",
       "      <th>creatinine</th>\n",
       "      <th>pao2</th>\n",
       "      <th>fio2</th>\n",
       "      <th>bilirubin</th>\n",
       "      <th>observationoffset</th>\n",
       "      <th>MAP</th>\n",
       "      <th>GCS</th>\n",
       "      <th>SOFA</th>\n",
       "      <th>tDrugAdminister</th>\n",
       "    </tr>\n",
       "  </thead>\n",
       "  <tbody>\n",
       "    <tr>\n",
       "      <th>0</th>\n",
       "      <td>141227</td>\n",
       "      <td>cardiovascular|shock / hypotension|sepsis</td>\n",
       "      <td>12384625</td>\n",
       "      <td>341</td>\n",
       "      <td>3008</td>\n",
       "      <td>6.0</td>\n",
       "      <td>-1.0</td>\n",
       "      <td>42.7</td>\n",
       "      <td>1.90</td>\n",
       "      <td>65.0</td>\n",
       "      <td>21.0</td>\n",
       "      <td>-1.0</td>\n",
       "      <td>676.0</td>\n",
       "      <td>77.333333</td>\n",
       "      <td>13.0</td>\n",
       "      <td>9.0</td>\n",
       "      <td>341</td>\n",
       "    </tr>\n",
       "    <tr>\n",
       "      <th>1</th>\n",
       "      <td>141289</td>\n",
       "      <td>cardiovascular|shock / hypotension|sepsis</td>\n",
       "      <td>11823905</td>\n",
       "      <td>1556</td>\n",
       "      <td>8115</td>\n",
       "      <td>16.0</td>\n",
       "      <td>-1.0</td>\n",
       "      <td>7.1</td>\n",
       "      <td>0.60</td>\n",
       "      <td>67.0</td>\n",
       "      <td>35.0</td>\n",
       "      <td>-1.0</td>\n",
       "      <td>186.0</td>\n",
       "      <td>74.666667</td>\n",
       "      <td>15.0</td>\n",
       "      <td>8.0</td>\n",
       "      <td>1556</td>\n",
       "    </tr>\n",
       "    <tr>\n",
       "      <th>2</th>\n",
       "      <td>141304</td>\n",
       "      <td>cardiovascular|shock / hypotension|sepsis</td>\n",
       "      <td>13411924</td>\n",
       "      <td>31</td>\n",
       "      <td>8115</td>\n",
       "      <td>18.0</td>\n",
       "      <td>-1.0</td>\n",
       "      <td>12.8</td>\n",
       "      <td>2.05</td>\n",
       "      <td>-1.0</td>\n",
       "      <td>-1.0</td>\n",
       "      <td>-1.0</td>\n",
       "      <td>688.0</td>\n",
       "      <td>65.000000</td>\n",
       "      <td>15.0</td>\n",
       "      <td>7.0</td>\n",
       "      <td>31</td>\n",
       "    </tr>\n",
       "    <tr>\n",
       "      <th>3</th>\n",
       "      <td>141304</td>\n",
       "      <td>cardiovascular|shock / hypotension|sepsis</td>\n",
       "      <td>13411924</td>\n",
       "      <td>31</td>\n",
       "      <td>8115</td>\n",
       "      <td>18.0</td>\n",
       "      <td>-1.0</td>\n",
       "      <td>12.8</td>\n",
       "      <td>2.05</td>\n",
       "      <td>-1.0</td>\n",
       "      <td>-1.0</td>\n",
       "      <td>-1.0</td>\n",
       "      <td>688.0</td>\n",
       "      <td>65.000000</td>\n",
       "      <td>15.0</td>\n",
       "      <td>7.0</td>\n",
       "      <td>31</td>\n",
       "    </tr>\n",
       "    <tr>\n",
       "      <th>4</th>\n",
       "      <td>141392</td>\n",
       "      <td>cardiovascular|shock / hypotension|sepsis</td>\n",
       "      <td>12453621</td>\n",
       "      <td>22689</td>\n",
       "      <td>24216</td>\n",
       "      <td>29.0</td>\n",
       "      <td>-1.0</td>\n",
       "      <td>17.5</td>\n",
       "      <td>1.68</td>\n",
       "      <td>-1.0</td>\n",
       "      <td>-1.0</td>\n",
       "      <td>-1.0</td>\n",
       "      <td>17362.0</td>\n",
       "      <td>83.666667</td>\n",
       "      <td>15.0</td>\n",
       "      <td>5.0</td>\n",
       "      <td>22689</td>\n",
       "    </tr>\n",
       "  </tbody>\n",
       "</table>\n",
       "</div>"
      ],
      "text/plain": [
       "   patientunitstayid                            diagnosisstring  medicationid  \\\n",
       "0             141227  cardiovascular|shock / hypotension|sepsis      12384625   \n",
       "1             141289  cardiovascular|shock / hypotension|sepsis      11823905   \n",
       "2             141304  cardiovascular|shock / hypotension|sepsis      13411924   \n",
       "3             141304  cardiovascular|shock / hypotension|sepsis      13411924   \n",
       "4             141392  cardiovascular|shock / hypotension|sepsis      12453621   \n",
       "\n",
       "   drugstartoffset  drugstopoffset  index  urine   wbc  creatinine  pao2  \\\n",
       "0              341            3008    6.0   -1.0  42.7        1.90  65.0   \n",
       "1             1556            8115   16.0   -1.0   7.1        0.60  67.0   \n",
       "2               31            8115   18.0   -1.0  12.8        2.05  -1.0   \n",
       "3               31            8115   18.0   -1.0  12.8        2.05  -1.0   \n",
       "4            22689           24216   29.0   -1.0  17.5        1.68  -1.0   \n",
       "\n",
       "   fio2  bilirubin  observationoffset        MAP   GCS  SOFA  tDrugAdminister  \n",
       "0  21.0       -1.0              676.0  77.333333  13.0   9.0              341  \n",
       "1  35.0       -1.0              186.0  74.666667  15.0   8.0             1556  \n",
       "2  -1.0       -1.0              688.0  65.000000  15.0   7.0               31  \n",
       "3  -1.0       -1.0              688.0  65.000000  15.0   7.0               31  \n",
       "4  -1.0       -1.0            17362.0  83.666667  15.0   5.0            22689  "
      ]
     },
     "execution_count": 92,
     "metadata": {},
     "output_type": "execute_result"
    }
   ],
   "source": [
    "df00.head()"
   ]
  },
  {
   "cell_type": "code",
   "execution_count": 2,
   "metadata": {
    "collapsed": true
   },
   "outputs": [],
   "source": [
    "# lab = pd.read_csv('../data/lab.csv')"
   ]
  },
  {
   "cell_type": "code",
   "execution_count": 106,
   "metadata": {
    "collapsed": true
   },
   "outputs": [],
   "source": [
    "# lab.head()"
   ]
  },
  {
   "cell_type": "code",
   "execution_count": 3,
   "metadata": {
    "collapsed": true
   },
   "outputs": [],
   "source": [
    "# lab = lab[['patientunitstayid', 'labresultoffset']]"
   ]
  },
  {
   "cell_type": "code",
   "execution_count": 115,
   "metadata": {
    "collapsed": true
   },
   "outputs": [],
   "source": [
    "# lab = []"
   ]
  },
  {
   "cell_type": "code",
   "execution_count": 108,
   "metadata": {
    "collapsed": true
   },
   "outputs": [],
   "source": [
    "# df00 = pd.merge(df00, lab, on='patientunitstayid', how='left')"
   ]
  },
  {
   "cell_type": "code",
   "execution_count": 109,
   "metadata": {
    "collapsed": true
   },
   "outputs": [],
   "source": [
    "# df00.head()"
   ]
  },
  {
   "cell_type": "code",
   "execution_count": 110,
   "metadata": {
    "collapsed": true
   },
   "outputs": [],
   "source": [
    "# df00.to_csv('../data/df00.csv', index=False)"
   ]
  },
  {
   "cell_type": "code",
   "execution_count": 111,
   "metadata": {
    "collapsed": true
   },
   "outputs": [],
   "source": [
    "# print(True)"
   ]
  },
  {
   "cell_type": "code",
   "execution_count": 41,
   "metadata": {
    "collapsed": true
   },
   "outputs": [],
   "source": [
    "df00 = pd.read_csv('../data/df00.csv')"
   ]
  },
  {
   "cell_type": "code",
   "execution_count": 42,
   "metadata": {},
   "outputs": [
    {
     "data": {
      "text/html": [
       "<div>\n",
       "<style scoped>\n",
       "    .dataframe tbody tr th:only-of-type {\n",
       "        vertical-align: middle;\n",
       "    }\n",
       "\n",
       "    .dataframe tbody tr th {\n",
       "        vertical-align: top;\n",
       "    }\n",
       "\n",
       "    .dataframe thead th {\n",
       "        text-align: right;\n",
       "    }\n",
       "</style>\n",
       "<table border=\"1\" class=\"dataframe\">\n",
       "  <thead>\n",
       "    <tr style=\"text-align: right;\">\n",
       "      <th></th>\n",
       "      <th>patientunitstayid</th>\n",
       "      <th>diagnosisstring</th>\n",
       "      <th>medicationid</th>\n",
       "      <th>drugstartoffset</th>\n",
       "      <th>drugstopoffset</th>\n",
       "      <th>index</th>\n",
       "      <th>urine</th>\n",
       "      <th>wbc</th>\n",
       "      <th>creatinine</th>\n",
       "      <th>pao2</th>\n",
       "      <th>fio2</th>\n",
       "      <th>bilirubin</th>\n",
       "      <th>observationoffset</th>\n",
       "      <th>MAP</th>\n",
       "      <th>GCS</th>\n",
       "      <th>SOFA</th>\n",
       "      <th>tDrugAdminister</th>\n",
       "      <th>labresultoffset</th>\n",
       "      <th>tSusp</th>\n",
       "    </tr>\n",
       "  </thead>\n",
       "  <tbody>\n",
       "    <tr>\n",
       "      <th>0</th>\n",
       "      <td>141227</td>\n",
       "      <td>cardiovascular|shock / hypotension|sepsis</td>\n",
       "      <td>12384625</td>\n",
       "      <td>341</td>\n",
       "      <td>3008</td>\n",
       "      <td>6.0</td>\n",
       "      <td>-1.0</td>\n",
       "      <td>42.7</td>\n",
       "      <td>1.9</td>\n",
       "      <td>65.0</td>\n",
       "      <td>21.0</td>\n",
       "      <td>-1.0</td>\n",
       "      <td>676.0</td>\n",
       "      <td>77.333333</td>\n",
       "      <td>13.0</td>\n",
       "      <td>9.0</td>\n",
       "      <td>341</td>\n",
       "      <td>417.0</td>\n",
       "      <td>341.0</td>\n",
       "    </tr>\n",
       "    <tr>\n",
       "      <th>1</th>\n",
       "      <td>141227</td>\n",
       "      <td>cardiovascular|shock / hypotension|sepsis</td>\n",
       "      <td>12384625</td>\n",
       "      <td>341</td>\n",
       "      <td>3008</td>\n",
       "      <td>6.0</td>\n",
       "      <td>-1.0</td>\n",
       "      <td>42.7</td>\n",
       "      <td>1.9</td>\n",
       "      <td>65.0</td>\n",
       "      <td>21.0</td>\n",
       "      <td>-1.0</td>\n",
       "      <td>676.0</td>\n",
       "      <td>77.333333</td>\n",
       "      <td>13.0</td>\n",
       "      <td>9.0</td>\n",
       "      <td>341</td>\n",
       "      <td>1467.0</td>\n",
       "      <td>341.0</td>\n",
       "    </tr>\n",
       "    <tr>\n",
       "      <th>2</th>\n",
       "      <td>141227</td>\n",
       "      <td>cardiovascular|shock / hypotension|sepsis</td>\n",
       "      <td>12384625</td>\n",
       "      <td>341</td>\n",
       "      <td>3008</td>\n",
       "      <td>6.0</td>\n",
       "      <td>-1.0</td>\n",
       "      <td>42.7</td>\n",
       "      <td>1.9</td>\n",
       "      <td>65.0</td>\n",
       "      <td>21.0</td>\n",
       "      <td>-1.0</td>\n",
       "      <td>676.0</td>\n",
       "      <td>77.333333</td>\n",
       "      <td>13.0</td>\n",
       "      <td>9.0</td>\n",
       "      <td>341</td>\n",
       "      <td>-13.0</td>\n",
       "      <td>-13.0</td>\n",
       "    </tr>\n",
       "    <tr>\n",
       "      <th>3</th>\n",
       "      <td>141227</td>\n",
       "      <td>cardiovascular|shock / hypotension|sepsis</td>\n",
       "      <td>12384625</td>\n",
       "      <td>341</td>\n",
       "      <td>3008</td>\n",
       "      <td>6.0</td>\n",
       "      <td>-1.0</td>\n",
       "      <td>42.7</td>\n",
       "      <td>1.9</td>\n",
       "      <td>65.0</td>\n",
       "      <td>21.0</td>\n",
       "      <td>-1.0</td>\n",
       "      <td>676.0</td>\n",
       "      <td>77.333333</td>\n",
       "      <td>13.0</td>\n",
       "      <td>9.0</td>\n",
       "      <td>341</td>\n",
       "      <td>1362.0</td>\n",
       "      <td>341.0</td>\n",
       "    </tr>\n",
       "    <tr>\n",
       "      <th>4</th>\n",
       "      <td>141227</td>\n",
       "      <td>cardiovascular|shock / hypotension|sepsis</td>\n",
       "      <td>12384625</td>\n",
       "      <td>341</td>\n",
       "      <td>3008</td>\n",
       "      <td>6.0</td>\n",
       "      <td>-1.0</td>\n",
       "      <td>42.7</td>\n",
       "      <td>1.9</td>\n",
       "      <td>65.0</td>\n",
       "      <td>21.0</td>\n",
       "      <td>-1.0</td>\n",
       "      <td>676.0</td>\n",
       "      <td>77.333333</td>\n",
       "      <td>13.0</td>\n",
       "      <td>9.0</td>\n",
       "      <td>341</td>\n",
       "      <td>-128.0</td>\n",
       "      <td>-128.0</td>\n",
       "    </tr>\n",
       "  </tbody>\n",
       "</table>\n",
       "</div>"
      ],
      "text/plain": [
       "   patientunitstayid                            diagnosisstring  medicationid  \\\n",
       "0             141227  cardiovascular|shock / hypotension|sepsis      12384625   \n",
       "1             141227  cardiovascular|shock / hypotension|sepsis      12384625   \n",
       "2             141227  cardiovascular|shock / hypotension|sepsis      12384625   \n",
       "3             141227  cardiovascular|shock / hypotension|sepsis      12384625   \n",
       "4             141227  cardiovascular|shock / hypotension|sepsis      12384625   \n",
       "\n",
       "   drugstartoffset  drugstopoffset  index  urine   wbc  creatinine  pao2  \\\n",
       "0              341            3008    6.0   -1.0  42.7         1.9  65.0   \n",
       "1              341            3008    6.0   -1.0  42.7         1.9  65.0   \n",
       "2              341            3008    6.0   -1.0  42.7         1.9  65.0   \n",
       "3              341            3008    6.0   -1.0  42.7         1.9  65.0   \n",
       "4              341            3008    6.0   -1.0  42.7         1.9  65.0   \n",
       "\n",
       "   fio2  bilirubin  observationoffset        MAP   GCS  SOFA  tDrugAdminister  \\\n",
       "0  21.0       -1.0              676.0  77.333333  13.0   9.0              341   \n",
       "1  21.0       -1.0              676.0  77.333333  13.0   9.0              341   \n",
       "2  21.0       -1.0              676.0  77.333333  13.0   9.0              341   \n",
       "3  21.0       -1.0              676.0  77.333333  13.0   9.0              341   \n",
       "4  21.0       -1.0              676.0  77.333333  13.0   9.0              341   \n",
       "\n",
       "   labresultoffset  tSusp  \n",
       "0            417.0  341.0  \n",
       "1           1467.0  341.0  \n",
       "2            -13.0  -13.0  \n",
       "3           1362.0  341.0  \n",
       "4           -128.0 -128.0  "
      ]
     },
     "execution_count": 42,
     "metadata": {},
     "output_type": "execute_result"
    }
   ],
   "source": [
    "df00.head()"
   ]
  },
  {
   "cell_type": "code",
   "execution_count": 43,
   "metadata": {},
   "outputs": [
    {
     "data": {
      "text/plain": [
       "patientunitstayid         0\n",
       "diagnosisstring           0\n",
       "medicationid              0\n",
       "drugstartoffset           0\n",
       "drugstopoffset            0\n",
       "index                310199\n",
       "urine                310199\n",
       "wbc                  310199\n",
       "creatinine           310199\n",
       "pao2                 310199\n",
       "fio2                 310199\n",
       "bilirubin            310199\n",
       "observationoffset    310199\n",
       "MAP                  310199\n",
       "GCS                  310199\n",
       "SOFA                 310199\n",
       "tDrugAdminister           0\n",
       "labresultoffset          64\n",
       "tSusp                    64\n",
       "dtype: int64"
      ]
     },
     "execution_count": 43,
     "metadata": {},
     "output_type": "execute_result"
    }
   ],
   "source": [
    "df00.isna().sum()"
   ]
  },
  {
   "cell_type": "code",
   "execution_count": 44,
   "metadata": {
    "collapsed": true
   },
   "outputs": [],
   "source": [
    "df00.dropna(inplace=True)"
   ]
  },
  {
   "cell_type": "code",
   "execution_count": 45,
   "metadata": {
    "collapsed": true
   },
   "outputs": [],
   "source": [
    "df00.reset_index(inplace=True)"
   ]
  },
  {
   "cell_type": "code",
   "execution_count": 46,
   "metadata": {
    "collapsed": true
   },
   "outputs": [],
   "source": [
    "df00.drop('level_0', axis=1, inplace=True)"
   ]
  },
  {
   "cell_type": "code",
   "execution_count": 47,
   "metadata": {},
   "outputs": [
    {
     "data": {
      "text/html": [
       "<div>\n",
       "<style scoped>\n",
       "    .dataframe tbody tr th:only-of-type {\n",
       "        vertical-align: middle;\n",
       "    }\n",
       "\n",
       "    .dataframe tbody tr th {\n",
       "        vertical-align: top;\n",
       "    }\n",
       "\n",
       "    .dataframe thead th {\n",
       "        text-align: right;\n",
       "    }\n",
       "</style>\n",
       "<table border=\"1\" class=\"dataframe\">\n",
       "  <thead>\n",
       "    <tr style=\"text-align: right;\">\n",
       "      <th></th>\n",
       "      <th>patientunitstayid</th>\n",
       "      <th>diagnosisstring</th>\n",
       "      <th>medicationid</th>\n",
       "      <th>drugstartoffset</th>\n",
       "      <th>drugstopoffset</th>\n",
       "      <th>index</th>\n",
       "      <th>urine</th>\n",
       "      <th>wbc</th>\n",
       "      <th>creatinine</th>\n",
       "      <th>pao2</th>\n",
       "      <th>fio2</th>\n",
       "      <th>bilirubin</th>\n",
       "      <th>observationoffset</th>\n",
       "      <th>MAP</th>\n",
       "      <th>GCS</th>\n",
       "      <th>SOFA</th>\n",
       "      <th>tDrugAdminister</th>\n",
       "      <th>labresultoffset</th>\n",
       "      <th>tSusp</th>\n",
       "    </tr>\n",
       "  </thead>\n",
       "  <tbody>\n",
       "    <tr>\n",
       "      <th>0</th>\n",
       "      <td>141227</td>\n",
       "      <td>cardiovascular|shock / hypotension|sepsis</td>\n",
       "      <td>12384625</td>\n",
       "      <td>341</td>\n",
       "      <td>3008</td>\n",
       "      <td>6.0</td>\n",
       "      <td>-1.0</td>\n",
       "      <td>42.7</td>\n",
       "      <td>1.9</td>\n",
       "      <td>65.0</td>\n",
       "      <td>21.0</td>\n",
       "      <td>-1.0</td>\n",
       "      <td>676.0</td>\n",
       "      <td>77.333333</td>\n",
       "      <td>13.0</td>\n",
       "      <td>9.0</td>\n",
       "      <td>341</td>\n",
       "      <td>417.0</td>\n",
       "      <td>341.0</td>\n",
       "    </tr>\n",
       "    <tr>\n",
       "      <th>1</th>\n",
       "      <td>141227</td>\n",
       "      <td>cardiovascular|shock / hypotension|sepsis</td>\n",
       "      <td>12384625</td>\n",
       "      <td>341</td>\n",
       "      <td>3008</td>\n",
       "      <td>6.0</td>\n",
       "      <td>-1.0</td>\n",
       "      <td>42.7</td>\n",
       "      <td>1.9</td>\n",
       "      <td>65.0</td>\n",
       "      <td>21.0</td>\n",
       "      <td>-1.0</td>\n",
       "      <td>676.0</td>\n",
       "      <td>77.333333</td>\n",
       "      <td>13.0</td>\n",
       "      <td>9.0</td>\n",
       "      <td>341</td>\n",
       "      <td>1467.0</td>\n",
       "      <td>341.0</td>\n",
       "    </tr>\n",
       "    <tr>\n",
       "      <th>2</th>\n",
       "      <td>141227</td>\n",
       "      <td>cardiovascular|shock / hypotension|sepsis</td>\n",
       "      <td>12384625</td>\n",
       "      <td>341</td>\n",
       "      <td>3008</td>\n",
       "      <td>6.0</td>\n",
       "      <td>-1.0</td>\n",
       "      <td>42.7</td>\n",
       "      <td>1.9</td>\n",
       "      <td>65.0</td>\n",
       "      <td>21.0</td>\n",
       "      <td>-1.0</td>\n",
       "      <td>676.0</td>\n",
       "      <td>77.333333</td>\n",
       "      <td>13.0</td>\n",
       "      <td>9.0</td>\n",
       "      <td>341</td>\n",
       "      <td>-13.0</td>\n",
       "      <td>-13.0</td>\n",
       "    </tr>\n",
       "    <tr>\n",
       "      <th>3</th>\n",
       "      <td>141227</td>\n",
       "      <td>cardiovascular|shock / hypotension|sepsis</td>\n",
       "      <td>12384625</td>\n",
       "      <td>341</td>\n",
       "      <td>3008</td>\n",
       "      <td>6.0</td>\n",
       "      <td>-1.0</td>\n",
       "      <td>42.7</td>\n",
       "      <td>1.9</td>\n",
       "      <td>65.0</td>\n",
       "      <td>21.0</td>\n",
       "      <td>-1.0</td>\n",
       "      <td>676.0</td>\n",
       "      <td>77.333333</td>\n",
       "      <td>13.0</td>\n",
       "      <td>9.0</td>\n",
       "      <td>341</td>\n",
       "      <td>1362.0</td>\n",
       "      <td>341.0</td>\n",
       "    </tr>\n",
       "    <tr>\n",
       "      <th>4</th>\n",
       "      <td>141227</td>\n",
       "      <td>cardiovascular|shock / hypotension|sepsis</td>\n",
       "      <td>12384625</td>\n",
       "      <td>341</td>\n",
       "      <td>3008</td>\n",
       "      <td>6.0</td>\n",
       "      <td>-1.0</td>\n",
       "      <td>42.7</td>\n",
       "      <td>1.9</td>\n",
       "      <td>65.0</td>\n",
       "      <td>21.0</td>\n",
       "      <td>-1.0</td>\n",
       "      <td>676.0</td>\n",
       "      <td>77.333333</td>\n",
       "      <td>13.0</td>\n",
       "      <td>9.0</td>\n",
       "      <td>341</td>\n",
       "      <td>-128.0</td>\n",
       "      <td>-128.0</td>\n",
       "    </tr>\n",
       "  </tbody>\n",
       "</table>\n",
       "</div>"
      ],
      "text/plain": [
       "   patientunitstayid                            diagnosisstring  medicationid  \\\n",
       "0             141227  cardiovascular|shock / hypotension|sepsis      12384625   \n",
       "1             141227  cardiovascular|shock / hypotension|sepsis      12384625   \n",
       "2             141227  cardiovascular|shock / hypotension|sepsis      12384625   \n",
       "3             141227  cardiovascular|shock / hypotension|sepsis      12384625   \n",
       "4             141227  cardiovascular|shock / hypotension|sepsis      12384625   \n",
       "\n",
       "   drugstartoffset  drugstopoffset  index  urine   wbc  creatinine  pao2  \\\n",
       "0              341            3008    6.0   -1.0  42.7         1.9  65.0   \n",
       "1              341            3008    6.0   -1.0  42.7         1.9  65.0   \n",
       "2              341            3008    6.0   -1.0  42.7         1.9  65.0   \n",
       "3              341            3008    6.0   -1.0  42.7         1.9  65.0   \n",
       "4              341            3008    6.0   -1.0  42.7         1.9  65.0   \n",
       "\n",
       "   fio2  bilirubin  observationoffset        MAP   GCS  SOFA  tDrugAdminister  \\\n",
       "0  21.0       -1.0              676.0  77.333333  13.0   9.0              341   \n",
       "1  21.0       -1.0              676.0  77.333333  13.0   9.0              341   \n",
       "2  21.0       -1.0              676.0  77.333333  13.0   9.0              341   \n",
       "3  21.0       -1.0              676.0  77.333333  13.0   9.0              341   \n",
       "4  21.0       -1.0              676.0  77.333333  13.0   9.0              341   \n",
       "\n",
       "   labresultoffset  tSusp  \n",
       "0            417.0  341.0  \n",
       "1           1467.0  341.0  \n",
       "2            -13.0  -13.0  \n",
       "3           1362.0  341.0  \n",
       "4           -128.0 -128.0  "
      ]
     },
     "execution_count": 47,
     "metadata": {},
     "output_type": "execute_result"
    }
   ],
   "source": [
    "df00.head()"
   ]
  },
  {
   "cell_type": "code",
   "execution_count": 53,
   "metadata": {},
   "outputs": [],
   "source": [
    "# df00.shape"
   ]
  },
  {
   "cell_type": "code",
   "execution_count": 51,
   "metadata": {
    "collapsed": true
   },
   "outputs": [],
   "source": [
    "# df00.drop_duplicates(inplace=True)"
   ]
  },
  {
   "cell_type": "code",
   "execution_count": 52,
   "metadata": {},
   "outputs": [],
   "source": [
    "# df00.shape"
   ]
  },
  {
   "cell_type": "code",
   "execution_count": 26,
   "metadata": {
    "collapsed": true
   },
   "outputs": [],
   "source": [
    "# df00.to_csv('../data/df00.csv', index=False)"
   ]
  },
  {
   "cell_type": "code",
   "execution_count": 20,
   "metadata": {
    "collapsed": true
   },
   "outputs": [],
   "source": [
    "def calcTSuspicion(tDrugAdList, labResOffsetList):\n",
    "    \"\"\"Function to calculate the time of suspicion (tSuspicion) \"\"\"\n",
    "    \n",
    "    l = []\n",
    "    for i in range(len(tDrugAdList)):\n",
    "        if tDrugAdList[i] <= labResOffsetList[i]:\n",
    "            l.append(tDrugAdList[i])\n",
    "        else: \n",
    "            l.append(labResOffsetList[i])\n",
    "            \n",
    "    return l"
   ]
  },
  {
   "cell_type": "code",
   "execution_count": 22,
   "metadata": {
    "collapsed": true
   },
   "outputs": [],
   "source": [
    "tsuspList = calcTSuspicion(df00['tDrugAdminister'].tolist(), df00['labresultoffset'].tolist())"
   ]
  },
  {
   "cell_type": "code",
   "execution_count": 23,
   "metadata": {
    "collapsed": true
   },
   "outputs": [],
   "source": [
    "tsuspList = pd.DataFrame(tsuspList, columns=['tSusp'])"
   ]
  },
  {
   "cell_type": "code",
   "execution_count": 24,
   "metadata": {
    "collapsed": true
   },
   "outputs": [],
   "source": [
    "df00 = pd.concat([df00, tsuspList], axis=1)"
   ]
  },
  {
   "cell_type": "code",
   "execution_count": 25,
   "metadata": {},
   "outputs": [
    {
     "data": {
      "text/html": [
       "<div>\n",
       "<style scoped>\n",
       "    .dataframe tbody tr th:only-of-type {\n",
       "        vertical-align: middle;\n",
       "    }\n",
       "\n",
       "    .dataframe tbody tr th {\n",
       "        vertical-align: top;\n",
       "    }\n",
       "\n",
       "    .dataframe thead th {\n",
       "        text-align: right;\n",
       "    }\n",
       "</style>\n",
       "<table border=\"1\" class=\"dataframe\">\n",
       "  <thead>\n",
       "    <tr style=\"text-align: right;\">\n",
       "      <th></th>\n",
       "      <th>patientunitstayid</th>\n",
       "      <th>diagnosisstring</th>\n",
       "      <th>medicationid</th>\n",
       "      <th>drugstartoffset</th>\n",
       "      <th>drugstopoffset</th>\n",
       "      <th>index</th>\n",
       "      <th>urine</th>\n",
       "      <th>wbc</th>\n",
       "      <th>creatinine</th>\n",
       "      <th>pao2</th>\n",
       "      <th>fio2</th>\n",
       "      <th>bilirubin</th>\n",
       "      <th>observationoffset</th>\n",
       "      <th>MAP</th>\n",
       "      <th>GCS</th>\n",
       "      <th>SOFA</th>\n",
       "      <th>tDrugAdminister</th>\n",
       "      <th>labresultoffset</th>\n",
       "      <th>tSusp</th>\n",
       "    </tr>\n",
       "  </thead>\n",
       "  <tbody>\n",
       "    <tr>\n",
       "      <th>0</th>\n",
       "      <td>141227</td>\n",
       "      <td>cardiovascular|shock / hypotension|sepsis</td>\n",
       "      <td>12384625</td>\n",
       "      <td>341</td>\n",
       "      <td>3008</td>\n",
       "      <td>6.0</td>\n",
       "      <td>-1.0</td>\n",
       "      <td>42.7</td>\n",
       "      <td>1.9</td>\n",
       "      <td>65.0</td>\n",
       "      <td>21.0</td>\n",
       "      <td>-1.0</td>\n",
       "      <td>676.0</td>\n",
       "      <td>77.333333</td>\n",
       "      <td>13.0</td>\n",
       "      <td>9.0</td>\n",
       "      <td>341</td>\n",
       "      <td>417.0</td>\n",
       "      <td>341.0</td>\n",
       "    </tr>\n",
       "    <tr>\n",
       "      <th>1</th>\n",
       "      <td>141227</td>\n",
       "      <td>cardiovascular|shock / hypotension|sepsis</td>\n",
       "      <td>12384625</td>\n",
       "      <td>341</td>\n",
       "      <td>3008</td>\n",
       "      <td>6.0</td>\n",
       "      <td>-1.0</td>\n",
       "      <td>42.7</td>\n",
       "      <td>1.9</td>\n",
       "      <td>65.0</td>\n",
       "      <td>21.0</td>\n",
       "      <td>-1.0</td>\n",
       "      <td>676.0</td>\n",
       "      <td>77.333333</td>\n",
       "      <td>13.0</td>\n",
       "      <td>9.0</td>\n",
       "      <td>341</td>\n",
       "      <td>1467.0</td>\n",
       "      <td>341.0</td>\n",
       "    </tr>\n",
       "    <tr>\n",
       "      <th>2</th>\n",
       "      <td>141227</td>\n",
       "      <td>cardiovascular|shock / hypotension|sepsis</td>\n",
       "      <td>12384625</td>\n",
       "      <td>341</td>\n",
       "      <td>3008</td>\n",
       "      <td>6.0</td>\n",
       "      <td>-1.0</td>\n",
       "      <td>42.7</td>\n",
       "      <td>1.9</td>\n",
       "      <td>65.0</td>\n",
       "      <td>21.0</td>\n",
       "      <td>-1.0</td>\n",
       "      <td>676.0</td>\n",
       "      <td>77.333333</td>\n",
       "      <td>13.0</td>\n",
       "      <td>9.0</td>\n",
       "      <td>341</td>\n",
       "      <td>-13.0</td>\n",
       "      <td>-13.0</td>\n",
       "    </tr>\n",
       "    <tr>\n",
       "      <th>3</th>\n",
       "      <td>141227</td>\n",
       "      <td>cardiovascular|shock / hypotension|sepsis</td>\n",
       "      <td>12384625</td>\n",
       "      <td>341</td>\n",
       "      <td>3008</td>\n",
       "      <td>6.0</td>\n",
       "      <td>-1.0</td>\n",
       "      <td>42.7</td>\n",
       "      <td>1.9</td>\n",
       "      <td>65.0</td>\n",
       "      <td>21.0</td>\n",
       "      <td>-1.0</td>\n",
       "      <td>676.0</td>\n",
       "      <td>77.333333</td>\n",
       "      <td>13.0</td>\n",
       "      <td>9.0</td>\n",
       "      <td>341</td>\n",
       "      <td>1362.0</td>\n",
       "      <td>341.0</td>\n",
       "    </tr>\n",
       "    <tr>\n",
       "      <th>4</th>\n",
       "      <td>141227</td>\n",
       "      <td>cardiovascular|shock / hypotension|sepsis</td>\n",
       "      <td>12384625</td>\n",
       "      <td>341</td>\n",
       "      <td>3008</td>\n",
       "      <td>6.0</td>\n",
       "      <td>-1.0</td>\n",
       "      <td>42.7</td>\n",
       "      <td>1.9</td>\n",
       "      <td>65.0</td>\n",
       "      <td>21.0</td>\n",
       "      <td>-1.0</td>\n",
       "      <td>676.0</td>\n",
       "      <td>77.333333</td>\n",
       "      <td>13.0</td>\n",
       "      <td>9.0</td>\n",
       "      <td>341</td>\n",
       "      <td>-128.0</td>\n",
       "      <td>-128.0</td>\n",
       "    </tr>\n",
       "  </tbody>\n",
       "</table>\n",
       "</div>"
      ],
      "text/plain": [
       "   patientunitstayid                            diagnosisstring  medicationid  \\\n",
       "0             141227  cardiovascular|shock / hypotension|sepsis      12384625   \n",
       "1             141227  cardiovascular|shock / hypotension|sepsis      12384625   \n",
       "2             141227  cardiovascular|shock / hypotension|sepsis      12384625   \n",
       "3             141227  cardiovascular|shock / hypotension|sepsis      12384625   \n",
       "4             141227  cardiovascular|shock / hypotension|sepsis      12384625   \n",
       "\n",
       "   drugstartoffset  drugstopoffset  index  urine   wbc  creatinine  pao2  \\\n",
       "0              341            3008    6.0   -1.0  42.7         1.9  65.0   \n",
       "1              341            3008    6.0   -1.0  42.7         1.9  65.0   \n",
       "2              341            3008    6.0   -1.0  42.7         1.9  65.0   \n",
       "3              341            3008    6.0   -1.0  42.7         1.9  65.0   \n",
       "4              341            3008    6.0   -1.0  42.7         1.9  65.0   \n",
       "\n",
       "   fio2  bilirubin  observationoffset        MAP   GCS  SOFA  tDrugAdminister  \\\n",
       "0  21.0       -1.0              676.0  77.333333  13.0   9.0              341   \n",
       "1  21.0       -1.0              676.0  77.333333  13.0   9.0              341   \n",
       "2  21.0       -1.0              676.0  77.333333  13.0   9.0              341   \n",
       "3  21.0       -1.0              676.0  77.333333  13.0   9.0              341   \n",
       "4  21.0       -1.0              676.0  77.333333  13.0   9.0              341   \n",
       "\n",
       "   labresultoffset  tSusp  \n",
       "0            417.0  341.0  \n",
       "1           1467.0  341.0  \n",
       "2            -13.0  -13.0  \n",
       "3           1362.0  341.0  \n",
       "4           -128.0 -128.0  "
      ]
     },
     "execution_count": 25,
     "metadata": {},
     "output_type": "execute_result"
    }
   ],
   "source": [
    "df00.head()"
   ]
  },
  {
   "cell_type": "code",
   "execution_count": 56,
   "metadata": {},
   "outputs": [
    {
     "data": {
      "text/plain": [
       "patientunitstayid    0\n",
       "diagnosisstring      0\n",
       "medicationid         0\n",
       "drugstartoffset      0\n",
       "drugstopoffset       0\n",
       "index                0\n",
       "urine                0\n",
       "wbc                  0\n",
       "creatinine           0\n",
       "pao2                 0\n",
       "fio2                 0\n",
       "bilirubin            0\n",
       "observationoffset    0\n",
       "MAP                  0\n",
       "GCS                  0\n",
       "SOFA                 0\n",
       "tDrugAdminister      0\n",
       "labresultoffset      0\n",
       "tSusp                0\n",
       "dtype: int64"
      ]
     },
     "execution_count": 56,
     "metadata": {},
     "output_type": "execute_result"
    }
   ],
   "source": [
    "df00.isna().sum()"
   ]
  },
  {
   "cell_type": "code",
   "execution_count": 57,
   "metadata": {
    "collapsed": true
   },
   "outputs": [],
   "source": [
    "df00.to_csv('../data/df01.csv', index=False)"
   ]
  },
  {
   "cell_type": "code",
   "execution_count": 58,
   "metadata": {},
   "outputs": [
    {
     "data": {
      "text/plain": [
       "(849433, 19)"
      ]
     },
     "execution_count": 58,
     "metadata": {},
     "output_type": "execute_result"
    }
   ],
   "source": [
    "df00.shape"
   ]
  },
  {
   "cell_type": "code",
   "execution_count": 2,
   "metadata": {
    "collapsed": true
   },
   "outputs": [],
   "source": [
    "df00 = pd.read_csv('../data/df00.csv')"
   ]
  },
  {
   "cell_type": "markdown",
   "metadata": {},
   "source": [
    "# ==========\n",
    "# =========="
   ]
  },
  {
   "cell_type": "code",
   "execution_count": 2,
   "metadata": {
    "collapsed": true
   },
   "outputs": [],
   "source": [
    "vitals1 = pd.read_csv('../data/vitalPeriodic.csv', nrows=48890547)"
   ]
  },
  {
   "cell_type": "code",
   "execution_count": 3,
   "metadata": {},
   "outputs": [
    {
     "data": {
      "text/html": [
       "<div>\n",
       "<style scoped>\n",
       "    .dataframe tbody tr th:only-of-type {\n",
       "        vertical-align: middle;\n",
       "    }\n",
       "\n",
       "    .dataframe tbody tr th {\n",
       "        vertical-align: top;\n",
       "    }\n",
       "\n",
       "    .dataframe thead th {\n",
       "        text-align: right;\n",
       "    }\n",
       "</style>\n",
       "<table border=\"1\" class=\"dataframe\">\n",
       "  <thead>\n",
       "    <tr style=\"text-align: right;\">\n",
       "      <th></th>\n",
       "      <th>vitalperiodicid</th>\n",
       "      <th>patientunitstayid</th>\n",
       "      <th>observationoffset</th>\n",
       "      <th>temperature</th>\n",
       "      <th>sao2</th>\n",
       "      <th>heartrate</th>\n",
       "      <th>respiration</th>\n",
       "      <th>cvp</th>\n",
       "      <th>etco2</th>\n",
       "      <th>systemicsystolic</th>\n",
       "      <th>systemicdiastolic</th>\n",
       "      <th>systemicmean</th>\n",
       "      <th>pasystolic</th>\n",
       "      <th>padiastolic</th>\n",
       "      <th>pamean</th>\n",
       "      <th>st1</th>\n",
       "      <th>st2</th>\n",
       "      <th>st3</th>\n",
       "      <th>icp</th>\n",
       "    </tr>\n",
       "  </thead>\n",
       "  <tbody>\n",
       "    <tr>\n",
       "      <th>0</th>\n",
       "      <td>37376747</td>\n",
       "      <td>141168</td>\n",
       "      <td>2059</td>\n",
       "      <td>NaN</td>\n",
       "      <td>NaN</td>\n",
       "      <td>92.0</td>\n",
       "      <td>NaN</td>\n",
       "      <td>30.0</td>\n",
       "      <td>NaN</td>\n",
       "      <td>NaN</td>\n",
       "      <td>NaN</td>\n",
       "      <td>NaN</td>\n",
       "      <td>NaN</td>\n",
       "      <td>NaN</td>\n",
       "      <td>NaN</td>\n",
       "      <td>NaN</td>\n",
       "      <td>NaN</td>\n",
       "      <td>NaN</td>\n",
       "      <td>NaN</td>\n",
       "    </tr>\n",
       "    <tr>\n",
       "      <th>1</th>\n",
       "      <td>37404957</td>\n",
       "      <td>141168</td>\n",
       "      <td>1289</td>\n",
       "      <td>NaN</td>\n",
       "      <td>NaN</td>\n",
       "      <td>118.0</td>\n",
       "      <td>NaN</td>\n",
       "      <td>NaN</td>\n",
       "      <td>NaN</td>\n",
       "      <td>NaN</td>\n",
       "      <td>NaN</td>\n",
       "      <td>NaN</td>\n",
       "      <td>NaN</td>\n",
       "      <td>NaN</td>\n",
       "      <td>NaN</td>\n",
       "      <td>NaN</td>\n",
       "      <td>NaN</td>\n",
       "      <td>NaN</td>\n",
       "      <td>NaN</td>\n",
       "    </tr>\n",
       "    <tr>\n",
       "      <th>2</th>\n",
       "      <td>37385871</td>\n",
       "      <td>141168</td>\n",
       "      <td>1794</td>\n",
       "      <td>NaN</td>\n",
       "      <td>91.0</td>\n",
       "      <td>78.0</td>\n",
       "      <td>NaN</td>\n",
       "      <td>NaN</td>\n",
       "      <td>NaN</td>\n",
       "      <td>NaN</td>\n",
       "      <td>NaN</td>\n",
       "      <td>NaN</td>\n",
       "      <td>NaN</td>\n",
       "      <td>NaN</td>\n",
       "      <td>NaN</td>\n",
       "      <td>NaN</td>\n",
       "      <td>NaN</td>\n",
       "      <td>NaN</td>\n",
       "      <td>NaN</td>\n",
       "    </tr>\n",
       "    <tr>\n",
       "      <th>3</th>\n",
       "      <td>37401664</td>\n",
       "      <td>141168</td>\n",
       "      <td>1374</td>\n",
       "      <td>NaN</td>\n",
       "      <td>90.0</td>\n",
       "      <td>118.0</td>\n",
       "      <td>NaN</td>\n",
       "      <td>NaN</td>\n",
       "      <td>NaN</td>\n",
       "      <td>NaN</td>\n",
       "      <td>NaN</td>\n",
       "      <td>NaN</td>\n",
       "      <td>NaN</td>\n",
       "      <td>NaN</td>\n",
       "      <td>NaN</td>\n",
       "      <td>NaN</td>\n",
       "      <td>NaN</td>\n",
       "      <td>NaN</td>\n",
       "      <td>NaN</td>\n",
       "    </tr>\n",
       "    <tr>\n",
       "      <th>4</th>\n",
       "      <td>37377404</td>\n",
       "      <td>141168</td>\n",
       "      <td>2039</td>\n",
       "      <td>NaN</td>\n",
       "      <td>98.0</td>\n",
       "      <td>92.0</td>\n",
       "      <td>NaN</td>\n",
       "      <td>33.0</td>\n",
       "      <td>NaN</td>\n",
       "      <td>NaN</td>\n",
       "      <td>NaN</td>\n",
       "      <td>NaN</td>\n",
       "      <td>NaN</td>\n",
       "      <td>NaN</td>\n",
       "      <td>NaN</td>\n",
       "      <td>NaN</td>\n",
       "      <td>NaN</td>\n",
       "      <td>NaN</td>\n",
       "      <td>NaN</td>\n",
       "    </tr>\n",
       "  </tbody>\n",
       "</table>\n",
       "</div>"
      ],
      "text/plain": [
       "   vitalperiodicid  patientunitstayid  observationoffset  temperature  sao2  \\\n",
       "0         37376747             141168               2059          NaN   NaN   \n",
       "1         37404957             141168               1289          NaN   NaN   \n",
       "2         37385871             141168               1794          NaN  91.0   \n",
       "3         37401664             141168               1374          NaN  90.0   \n",
       "4         37377404             141168               2039          NaN  98.0   \n",
       "\n",
       "   heartrate  respiration   cvp  etco2  systemicsystolic  systemicdiastolic  \\\n",
       "0       92.0          NaN  30.0    NaN               NaN                NaN   \n",
       "1      118.0          NaN   NaN    NaN               NaN                NaN   \n",
       "2       78.0          NaN   NaN    NaN               NaN                NaN   \n",
       "3      118.0          NaN   NaN    NaN               NaN                NaN   \n",
       "4       92.0          NaN  33.0    NaN               NaN                NaN   \n",
       "\n",
       "   systemicmean  pasystolic  padiastolic  pamean  st1  st2  st3  icp  \n",
       "0           NaN         NaN          NaN     NaN  NaN  NaN  NaN  NaN  \n",
       "1           NaN         NaN          NaN     NaN  NaN  NaN  NaN  NaN  \n",
       "2           NaN         NaN          NaN     NaN  NaN  NaN  NaN  NaN  \n",
       "3           NaN         NaN          NaN     NaN  NaN  NaN  NaN  NaN  \n",
       "4           NaN         NaN          NaN     NaN  NaN  NaN  NaN  NaN  "
      ]
     },
     "execution_count": 3,
     "metadata": {},
     "output_type": "execute_result"
    }
   ],
   "source": [
    "vitals1.head()"
   ]
  },
  {
   "cell_type": "code",
   "execution_count": 4,
   "metadata": {},
   "outputs": [
    {
     "data": {
      "text/plain": [
       "Index(['vitalperiodicid', 'patientunitstayid', 'observationoffset',\n",
       "       'temperature', 'sao2', 'heartrate', 'respiration', 'cvp', 'etco2',\n",
       "       'systemicsystolic', 'systemicdiastolic', 'systemicmean', 'pasystolic',\n",
       "       'padiastolic', 'pamean', 'st1', 'st2', 'st3', 'icp'],\n",
       "      dtype='object')"
      ]
     },
     "execution_count": 4,
     "metadata": {},
     "output_type": "execute_result"
    }
   ],
   "source": [
    "vitals1.columns"
   ]
  },
  {
   "cell_type": "code",
   "execution_count": 5,
   "metadata": {
    "collapsed": true
   },
   "outputs": [],
   "source": [
    "vitals1 = vitals1[['vitalperiodicid', 'patientunitstayid', 'observationoffset', 'systemicsystolic', 'systemicdiastolic']]"
   ]
  },
  {
   "cell_type": "code",
   "execution_count": 6,
   "metadata": {},
   "outputs": [
    {
     "data": {
      "text/plain": [
       "vitalperiodicid             0\n",
       "patientunitstayid           0\n",
       "observationoffset           0\n",
       "systemicsystolic     37582695\n",
       "systemicdiastolic    37582688\n",
       "dtype: int64"
      ]
     },
     "execution_count": 6,
     "metadata": {},
     "output_type": "execute_result"
    }
   ],
   "source": [
    "vitals1.isna().sum()"
   ]
  },
  {
   "cell_type": "code",
   "execution_count": 7,
   "metadata": {
    "collapsed": true
   },
   "outputs": [],
   "source": [
    "vitals1.dropna(inplace=True)"
   ]
  },
  {
   "cell_type": "code",
   "execution_count": 8,
   "metadata": {
    "collapsed": true
   },
   "outputs": [],
   "source": [
    "vitals1.reset_index(inplace=True, drop=True)"
   ]
  },
  {
   "cell_type": "code",
   "execution_count": 9,
   "metadata": {},
   "outputs": [
    {
     "data": {
      "text/html": [
       "<div>\n",
       "<style scoped>\n",
       "    .dataframe tbody tr th:only-of-type {\n",
       "        vertical-align: middle;\n",
       "    }\n",
       "\n",
       "    .dataframe tbody tr th {\n",
       "        vertical-align: top;\n",
       "    }\n",
       "\n",
       "    .dataframe thead th {\n",
       "        text-align: right;\n",
       "    }\n",
       "</style>\n",
       "<table border=\"1\" class=\"dataframe\">\n",
       "  <thead>\n",
       "    <tr style=\"text-align: right;\">\n",
       "      <th></th>\n",
       "      <th>vitalperiodicid</th>\n",
       "      <th>patientunitstayid</th>\n",
       "      <th>observationoffset</th>\n",
       "      <th>systemicsystolic</th>\n",
       "      <th>systemicdiastolic</th>\n",
       "    </tr>\n",
       "  </thead>\n",
       "  <tbody>\n",
       "    <tr>\n",
       "      <th>0</th>\n",
       "      <td>37370189</td>\n",
       "      <td>141168</td>\n",
       "      <td>2254</td>\n",
       "      <td>100.0</td>\n",
       "      <td>72.0</td>\n",
       "    </tr>\n",
       "    <tr>\n",
       "      <th>1</th>\n",
       "      <td>37370360</td>\n",
       "      <td>141168</td>\n",
       "      <td>2249</td>\n",
       "      <td>96.0</td>\n",
       "      <td>60.0</td>\n",
       "    </tr>\n",
       "    <tr>\n",
       "      <th>2</th>\n",
       "      <td>37374416</td>\n",
       "      <td>141168</td>\n",
       "      <td>2129</td>\n",
       "      <td>112.0</td>\n",
       "      <td>56.0</td>\n",
       "    </tr>\n",
       "    <tr>\n",
       "      <th>3</th>\n",
       "      <td>37369500</td>\n",
       "      <td>141168</td>\n",
       "      <td>2274</td>\n",
       "      <td>96.0</td>\n",
       "      <td>52.0</td>\n",
       "    </tr>\n",
       "    <tr>\n",
       "      <th>4</th>\n",
       "      <td>37375589</td>\n",
       "      <td>141168</td>\n",
       "      <td>2094</td>\n",
       "      <td>122.0</td>\n",
       "      <td>59.0</td>\n",
       "    </tr>\n",
       "  </tbody>\n",
       "</table>\n",
       "</div>"
      ],
      "text/plain": [
       "   vitalperiodicid  patientunitstayid  observationoffset  systemicsystolic  \\\n",
       "0         37370189             141168               2254             100.0   \n",
       "1         37370360             141168               2249              96.0   \n",
       "2         37374416             141168               2129             112.0   \n",
       "3         37369500             141168               2274              96.0   \n",
       "4         37375589             141168               2094             122.0   \n",
       "\n",
       "   systemicdiastolic  \n",
       "0               72.0  \n",
       "1               60.0  \n",
       "2               56.0  \n",
       "3               52.0  \n",
       "4               59.0  "
      ]
     },
     "execution_count": 9,
     "metadata": {},
     "output_type": "execute_result"
    }
   ],
   "source": [
    "vitals1.head()"
   ]
  },
  {
   "cell_type": "code",
   "execution_count": 10,
   "metadata": {},
   "outputs": [
    {
     "data": {
      "text/plain": [
       "(11307687, 5)"
      ]
     },
     "execution_count": 10,
     "metadata": {},
     "output_type": "execute_result"
    }
   ],
   "source": [
    "vitals1.shape"
   ]
  },
  {
   "cell_type": "code",
   "execution_count": 11,
   "metadata": {
    "collapsed": true
   },
   "outputs": [],
   "source": [
    "vitalsnames = ['vitalperiodicid', 'patientunitstayid', 'observationoffset', 'temperature', 'sao2', 'heartrate', 'respiration', 'cvp', 'etco2', 'systemicsystolic', 'systemicdiastolic', 'systemicmean', 'pasystolic', 'padiastolic', 'pamean', 'st1', 'st2', 'st3', 'icp']"
   ]
  },
  {
   "cell_type": "code",
   "execution_count": 12,
   "metadata": {
    "collapsed": true
   },
   "outputs": [],
   "source": [
    "vitals2 = pd.read_csv('../data/vitalPeriodic.csv', skiprows=48890547, nrows=48890547, \n",
    "                      names=vitalsnames)"
   ]
  },
  {
   "cell_type": "code",
   "execution_count": 13,
   "metadata": {
    "collapsed": true
   },
   "outputs": [],
   "source": [
    "# indexvitals = pd.read_csv('../data/vitalPeriodic.csv', nrows=1)"
   ]
  },
  {
   "cell_type": "code",
   "execution_count": 14,
   "metadata": {
    "collapsed": true
   },
   "outputs": [],
   "source": [
    "# indexvitals"
   ]
  },
  {
   "cell_type": "code",
   "execution_count": 15,
   "metadata": {},
   "outputs": [
    {
     "data": {
      "text/html": [
       "<div>\n",
       "<style scoped>\n",
       "    .dataframe tbody tr th:only-of-type {\n",
       "        vertical-align: middle;\n",
       "    }\n",
       "\n",
       "    .dataframe tbody tr th {\n",
       "        vertical-align: top;\n",
       "    }\n",
       "\n",
       "    .dataframe thead th {\n",
       "        text-align: right;\n",
       "    }\n",
       "</style>\n",
       "<table border=\"1\" class=\"dataframe\">\n",
       "  <thead>\n",
       "    <tr style=\"text-align: right;\">\n",
       "      <th></th>\n",
       "      <th>vitalperiodicid</th>\n",
       "      <th>patientunitstayid</th>\n",
       "      <th>observationoffset</th>\n",
       "      <th>temperature</th>\n",
       "      <th>sao2</th>\n",
       "      <th>heartrate</th>\n",
       "      <th>respiration</th>\n",
       "      <th>cvp</th>\n",
       "      <th>etco2</th>\n",
       "      <th>systemicsystolic</th>\n",
       "      <th>systemicdiastolic</th>\n",
       "      <th>systemicmean</th>\n",
       "      <th>pasystolic</th>\n",
       "      <th>padiastolic</th>\n",
       "      <th>pamean</th>\n",
       "      <th>st1</th>\n",
       "      <th>st2</th>\n",
       "      <th>st3</th>\n",
       "      <th>icp</th>\n",
       "    </tr>\n",
       "  </thead>\n",
       "  <tbody>\n",
       "    <tr>\n",
       "      <th>0</th>\n",
       "      <td>584096616</td>\n",
       "      <td>1117992</td>\n",
       "      <td>4125</td>\n",
       "      <td>NaN</td>\n",
       "      <td>99.0</td>\n",
       "      <td>76.0</td>\n",
       "      <td>19.0</td>\n",
       "      <td>NaN</td>\n",
       "      <td>NaN</td>\n",
       "      <td>NaN</td>\n",
       "      <td>NaN</td>\n",
       "      <td>NaN</td>\n",
       "      <td>NaN</td>\n",
       "      <td>NaN</td>\n",
       "      <td>NaN</td>\n",
       "      <td>NaN</td>\n",
       "      <td>NaN</td>\n",
       "      <td>NaN</td>\n",
       "      <td>NaN</td>\n",
       "    </tr>\n",
       "    <tr>\n",
       "      <th>1</th>\n",
       "      <td>584180321</td>\n",
       "      <td>1117992</td>\n",
       "      <td>30</td>\n",
       "      <td>NaN</td>\n",
       "      <td>100.0</td>\n",
       "      <td>101.0</td>\n",
       "      <td>16.0</td>\n",
       "      <td>NaN</td>\n",
       "      <td>NaN</td>\n",
       "      <td>NaN</td>\n",
       "      <td>NaN</td>\n",
       "      <td>NaN</td>\n",
       "      <td>NaN</td>\n",
       "      <td>NaN</td>\n",
       "      <td>NaN</td>\n",
       "      <td>NaN</td>\n",
       "      <td>NaN</td>\n",
       "      <td>NaN</td>\n",
       "      <td>NaN</td>\n",
       "    </tr>\n",
       "    <tr>\n",
       "      <th>2</th>\n",
       "      <td>584147566</td>\n",
       "      <td>1117992</td>\n",
       "      <td>1600</td>\n",
       "      <td>NaN</td>\n",
       "      <td>96.0</td>\n",
       "      <td>106.0</td>\n",
       "      <td>17.0</td>\n",
       "      <td>NaN</td>\n",
       "      <td>NaN</td>\n",
       "      <td>NaN</td>\n",
       "      <td>NaN</td>\n",
       "      <td>NaN</td>\n",
       "      <td>NaN</td>\n",
       "      <td>NaN</td>\n",
       "      <td>NaN</td>\n",
       "      <td>NaN</td>\n",
       "      <td>NaN</td>\n",
       "      <td>NaN</td>\n",
       "      <td>NaN</td>\n",
       "    </tr>\n",
       "    <tr>\n",
       "      <th>3</th>\n",
       "      <td>584099097</td>\n",
       "      <td>1117992</td>\n",
       "      <td>4000</td>\n",
       "      <td>NaN</td>\n",
       "      <td>98.0</td>\n",
       "      <td>91.0</td>\n",
       "      <td>17.0</td>\n",
       "      <td>NaN</td>\n",
       "      <td>NaN</td>\n",
       "      <td>NaN</td>\n",
       "      <td>NaN</td>\n",
       "      <td>NaN</td>\n",
       "      <td>NaN</td>\n",
       "      <td>NaN</td>\n",
       "      <td>NaN</td>\n",
       "      <td>NaN</td>\n",
       "      <td>NaN</td>\n",
       "      <td>NaN</td>\n",
       "      <td>NaN</td>\n",
       "    </tr>\n",
       "    <tr>\n",
       "      <th>4</th>\n",
       "      <td>584105700</td>\n",
       "      <td>1117992</td>\n",
       "      <td>3685</td>\n",
       "      <td>NaN</td>\n",
       "      <td>95.0</td>\n",
       "      <td>92.0</td>\n",
       "      <td>18.0</td>\n",
       "      <td>NaN</td>\n",
       "      <td>NaN</td>\n",
       "      <td>NaN</td>\n",
       "      <td>NaN</td>\n",
       "      <td>NaN</td>\n",
       "      <td>NaN</td>\n",
       "      <td>NaN</td>\n",
       "      <td>NaN</td>\n",
       "      <td>NaN</td>\n",
       "      <td>NaN</td>\n",
       "      <td>NaN</td>\n",
       "      <td>NaN</td>\n",
       "    </tr>\n",
       "  </tbody>\n",
       "</table>\n",
       "</div>"
      ],
      "text/plain": [
       "   vitalperiodicid  patientunitstayid  observationoffset  temperature   sao2  \\\n",
       "0        584096616            1117992               4125          NaN   99.0   \n",
       "1        584180321            1117992                 30          NaN  100.0   \n",
       "2        584147566            1117992               1600          NaN   96.0   \n",
       "3        584099097            1117992               4000          NaN   98.0   \n",
       "4        584105700            1117992               3685          NaN   95.0   \n",
       "\n",
       "   heartrate  respiration  cvp  etco2  systemicsystolic  systemicdiastolic  \\\n",
       "0       76.0         19.0  NaN    NaN               NaN                NaN   \n",
       "1      101.0         16.0  NaN    NaN               NaN                NaN   \n",
       "2      106.0         17.0  NaN    NaN               NaN                NaN   \n",
       "3       91.0         17.0  NaN    NaN               NaN                NaN   \n",
       "4       92.0         18.0  NaN    NaN               NaN                NaN   \n",
       "\n",
       "   systemicmean  pasystolic  padiastolic  pamean  st1  st2  st3  icp  \n",
       "0           NaN         NaN          NaN     NaN  NaN  NaN  NaN  NaN  \n",
       "1           NaN         NaN          NaN     NaN  NaN  NaN  NaN  NaN  \n",
       "2           NaN         NaN          NaN     NaN  NaN  NaN  NaN  NaN  \n",
       "3           NaN         NaN          NaN     NaN  NaN  NaN  NaN  NaN  \n",
       "4           NaN         NaN          NaN     NaN  NaN  NaN  NaN  NaN  "
      ]
     },
     "execution_count": 15,
     "metadata": {},
     "output_type": "execute_result"
    }
   ],
   "source": [
    "vitals2.head()"
   ]
  },
  {
   "cell_type": "code",
   "execution_count": 16,
   "metadata": {
    "collapsed": true
   },
   "outputs": [],
   "source": [
    "vitals2 = vitals2[['vitalperiodicid', 'patientunitstayid', 'observationoffset', 'systemicsystolic', 'systemicdiastolic']]"
   ]
  },
  {
   "cell_type": "code",
   "execution_count": 18,
   "metadata": {},
   "outputs": [
    {
     "data": {
      "text/plain": [
       "vitalperiodicid             0\n",
       "patientunitstayid           0\n",
       "observationoffset           0\n",
       "systemicsystolic     42011991\n",
       "systemicdiastolic    42012040\n",
       "dtype: int64"
      ]
     },
     "execution_count": 18,
     "metadata": {},
     "output_type": "execute_result"
    }
   ],
   "source": [
    "vitals2.isna().sum()"
   ]
  },
  {
   "cell_type": "code",
   "execution_count": 20,
   "metadata": {
    "collapsed": true
   },
   "outputs": [],
   "source": [
    "vitals2.dropna(inplace=True)\n",
    "vitals2.reset_index(inplace=True, drop=True)"
   ]
  },
  {
   "cell_type": "code",
   "execution_count": 21,
   "metadata": {},
   "outputs": [
    {
     "data": {
      "text/html": [
       "<div>\n",
       "<style scoped>\n",
       "    .dataframe tbody tr th:only-of-type {\n",
       "        vertical-align: middle;\n",
       "    }\n",
       "\n",
       "    .dataframe tbody tr th {\n",
       "        vertical-align: top;\n",
       "    }\n",
       "\n",
       "    .dataframe thead th {\n",
       "        text-align: right;\n",
       "    }\n",
       "</style>\n",
       "<table border=\"1\" class=\"dataframe\">\n",
       "  <thead>\n",
       "    <tr style=\"text-align: right;\">\n",
       "      <th></th>\n",
       "      <th>vitalperiodicid</th>\n",
       "      <th>patientunitstayid</th>\n",
       "      <th>observationoffset</th>\n",
       "      <th>systemicsystolic</th>\n",
       "      <th>systemicdiastolic</th>\n",
       "    </tr>\n",
       "  </thead>\n",
       "  <tbody>\n",
       "    <tr>\n",
       "      <th>0</th>\n",
       "      <td>591107610</td>\n",
       "      <td>1118086</td>\n",
       "      <td>12179</td>\n",
       "      <td>134.0</td>\n",
       "      <td>92.0</td>\n",
       "    </tr>\n",
       "    <tr>\n",
       "      <th>1</th>\n",
       "      <td>591102215</td>\n",
       "      <td>1118086</td>\n",
       "      <td>12454</td>\n",
       "      <td>100.0</td>\n",
       "      <td>79.0</td>\n",
       "    </tr>\n",
       "    <tr>\n",
       "      <th>2</th>\n",
       "      <td>591104686</td>\n",
       "      <td>1118086</td>\n",
       "      <td>12329</td>\n",
       "      <td>146.0</td>\n",
       "      <td>111.0</td>\n",
       "    </tr>\n",
       "    <tr>\n",
       "      <th>3</th>\n",
       "      <td>591103895</td>\n",
       "      <td>1118086</td>\n",
       "      <td>12369</td>\n",
       "      <td>122.0</td>\n",
       "      <td>90.0</td>\n",
       "    </tr>\n",
       "    <tr>\n",
       "      <th>4</th>\n",
       "      <td>591111745</td>\n",
       "      <td>1118086</td>\n",
       "      <td>11959</td>\n",
       "      <td>163.0</td>\n",
       "      <td>77.0</td>\n",
       "    </tr>\n",
       "  </tbody>\n",
       "</table>\n",
       "</div>"
      ],
      "text/plain": [
       "   vitalperiodicid  patientunitstayid  observationoffset  systemicsystolic  \\\n",
       "0        591107610            1118086              12179             134.0   \n",
       "1        591102215            1118086              12454             100.0   \n",
       "2        591104686            1118086              12329             146.0   \n",
       "3        591103895            1118086              12369             122.0   \n",
       "4        591111745            1118086              11959             163.0   \n",
       "\n",
       "   systemicdiastolic  \n",
       "0               92.0  \n",
       "1               79.0  \n",
       "2              111.0  \n",
       "3               90.0  \n",
       "4               77.0  "
      ]
     },
     "execution_count": 21,
     "metadata": {},
     "output_type": "execute_result"
    }
   ],
   "source": [
    "vitals2.head()"
   ]
  },
  {
   "cell_type": "code",
   "execution_count": 23,
   "metadata": {},
   "outputs": [
    {
     "data": {
      "text/plain": [
       "(6878451, 5)"
      ]
     },
     "execution_count": 23,
     "metadata": {},
     "output_type": "execute_result"
    }
   ],
   "source": [
    "vitals2.shape"
   ]
  },
  {
   "cell_type": "code",
   "execution_count": 24,
   "metadata": {
    "collapsed": true
   },
   "outputs": [],
   "source": [
    "vitals3 = pd.read_csv('../data/vitalPeriodic.csv', skiprows=97781094, nrows=48890547, \n",
    "                      names=vitalsnames)"
   ]
  },
  {
   "cell_type": "code",
   "execution_count": 25,
   "metadata": {},
   "outputs": [
    {
     "data": {
      "text/html": [
       "<div>\n",
       "<style scoped>\n",
       "    .dataframe tbody tr th:only-of-type {\n",
       "        vertical-align: middle;\n",
       "    }\n",
       "\n",
       "    .dataframe tbody tr th {\n",
       "        vertical-align: top;\n",
       "    }\n",
       "\n",
       "    .dataframe thead th {\n",
       "        text-align: right;\n",
       "    }\n",
       "</style>\n",
       "<table border=\"1\" class=\"dataframe\">\n",
       "  <thead>\n",
       "    <tr style=\"text-align: right;\">\n",
       "      <th></th>\n",
       "      <th>vitalperiodicid</th>\n",
       "      <th>patientunitstayid</th>\n",
       "      <th>observationoffset</th>\n",
       "      <th>temperature</th>\n",
       "      <th>sao2</th>\n",
       "      <th>heartrate</th>\n",
       "      <th>respiration</th>\n",
       "      <th>cvp</th>\n",
       "      <th>etco2</th>\n",
       "      <th>systemicsystolic</th>\n",
       "      <th>systemicdiastolic</th>\n",
       "      <th>systemicmean</th>\n",
       "      <th>pasystolic</th>\n",
       "      <th>padiastolic</th>\n",
       "      <th>pamean</th>\n",
       "      <th>st1</th>\n",
       "      <th>st2</th>\n",
       "      <th>st3</th>\n",
       "      <th>icp</th>\n",
       "    </tr>\n",
       "  </thead>\n",
       "  <tbody>\n",
       "    <tr>\n",
       "      <th>0</th>\n",
       "      <td>1481048910</td>\n",
       "      <td>2428953</td>\n",
       "      <td>3066</td>\n",
       "      <td>NaN</td>\n",
       "      <td>96.0</td>\n",
       "      <td>91.0</td>\n",
       "      <td>20.0</td>\n",
       "      <td>NaN</td>\n",
       "      <td>NaN</td>\n",
       "      <td>NaN</td>\n",
       "      <td>NaN</td>\n",
       "      <td>NaN</td>\n",
       "      <td>NaN</td>\n",
       "      <td>NaN</td>\n",
       "      <td>NaN</td>\n",
       "      <td>-0.40</td>\n",
       "      <td>-0.2</td>\n",
       "      <td>0.25</td>\n",
       "      <td>NaN</td>\n",
       "    </tr>\n",
       "    <tr>\n",
       "      <th>1</th>\n",
       "      <td>1480829742</td>\n",
       "      <td>2428953</td>\n",
       "      <td>4281</td>\n",
       "      <td>NaN</td>\n",
       "      <td>92.0</td>\n",
       "      <td>76.0</td>\n",
       "      <td>20.0</td>\n",
       "      <td>NaN</td>\n",
       "      <td>NaN</td>\n",
       "      <td>NaN</td>\n",
       "      <td>NaN</td>\n",
       "      <td>NaN</td>\n",
       "      <td>NaN</td>\n",
       "      <td>NaN</td>\n",
       "      <td>NaN</td>\n",
       "      <td>-0.10</td>\n",
       "      <td>-0.4</td>\n",
       "      <td>-0.30</td>\n",
       "      <td>NaN</td>\n",
       "    </tr>\n",
       "    <tr>\n",
       "      <th>2</th>\n",
       "      <td>1481509702</td>\n",
       "      <td>2428953</td>\n",
       "      <td>156</td>\n",
       "      <td>NaN</td>\n",
       "      <td>89.0</td>\n",
       "      <td>119.0</td>\n",
       "      <td>22.0</td>\n",
       "      <td>NaN</td>\n",
       "      <td>NaN</td>\n",
       "      <td>NaN</td>\n",
       "      <td>NaN</td>\n",
       "      <td>NaN</td>\n",
       "      <td>NaN</td>\n",
       "      <td>NaN</td>\n",
       "      <td>NaN</td>\n",
       "      <td>-0.55</td>\n",
       "      <td>-0.3</td>\n",
       "      <td>0.30</td>\n",
       "      <td>NaN</td>\n",
       "    </tr>\n",
       "    <tr>\n",
       "      <th>3</th>\n",
       "      <td>1480728932</td>\n",
       "      <td>2428953</td>\n",
       "      <td>4991</td>\n",
       "      <td>NaN</td>\n",
       "      <td>91.0</td>\n",
       "      <td>76.0</td>\n",
       "      <td>18.0</td>\n",
       "      <td>NaN</td>\n",
       "      <td>NaN</td>\n",
       "      <td>NaN</td>\n",
       "      <td>NaN</td>\n",
       "      <td>NaN</td>\n",
       "      <td>NaN</td>\n",
       "      <td>NaN</td>\n",
       "      <td>NaN</td>\n",
       "      <td>-0.10</td>\n",
       "      <td>0.2</td>\n",
       "      <td>0.35</td>\n",
       "      <td>NaN</td>\n",
       "    </tr>\n",
       "    <tr>\n",
       "      <th>4</th>\n",
       "      <td>1481433549</td>\n",
       "      <td>2428953</td>\n",
       "      <td>786</td>\n",
       "      <td>NaN</td>\n",
       "      <td>94.0</td>\n",
       "      <td>95.0</td>\n",
       "      <td>24.0</td>\n",
       "      <td>NaN</td>\n",
       "      <td>NaN</td>\n",
       "      <td>NaN</td>\n",
       "      <td>NaN</td>\n",
       "      <td>NaN</td>\n",
       "      <td>NaN</td>\n",
       "      <td>NaN</td>\n",
       "      <td>NaN</td>\n",
       "      <td>-0.45</td>\n",
       "      <td>-0.1</td>\n",
       "      <td>0.40</td>\n",
       "      <td>NaN</td>\n",
       "    </tr>\n",
       "  </tbody>\n",
       "</table>\n",
       "</div>"
      ],
      "text/plain": [
       "   vitalperiodicid  patientunitstayid  observationoffset  temperature  sao2  \\\n",
       "0       1481048910            2428953               3066          NaN  96.0   \n",
       "1       1480829742            2428953               4281          NaN  92.0   \n",
       "2       1481509702            2428953                156          NaN  89.0   \n",
       "3       1480728932            2428953               4991          NaN  91.0   \n",
       "4       1481433549            2428953                786          NaN  94.0   \n",
       "\n",
       "   heartrate  respiration  cvp  etco2  systemicsystolic  systemicdiastolic  \\\n",
       "0       91.0         20.0  NaN    NaN               NaN                NaN   \n",
       "1       76.0         20.0  NaN    NaN               NaN                NaN   \n",
       "2      119.0         22.0  NaN    NaN               NaN                NaN   \n",
       "3       76.0         18.0  NaN    NaN               NaN                NaN   \n",
       "4       95.0         24.0  NaN    NaN               NaN                NaN   \n",
       "\n",
       "   systemicmean  pasystolic  padiastolic  pamean   st1  st2   st3  icp  \n",
       "0           NaN         NaN          NaN     NaN -0.40 -0.2  0.25  NaN  \n",
       "1           NaN         NaN          NaN     NaN -0.10 -0.4 -0.30  NaN  \n",
       "2           NaN         NaN          NaN     NaN -0.55 -0.3  0.30  NaN  \n",
       "3           NaN         NaN          NaN     NaN -0.10  0.2  0.35  NaN  \n",
       "4           NaN         NaN          NaN     NaN -0.45 -0.1  0.40  NaN  "
      ]
     },
     "execution_count": 25,
     "metadata": {},
     "output_type": "execute_result"
    }
   ],
   "source": [
    "vitals3.head()"
   ]
  },
  {
   "cell_type": "code",
   "execution_count": 26,
   "metadata": {
    "collapsed": true
   },
   "outputs": [],
   "source": [
    "vitals3 = vitals3[['vitalperiodicid', 'patientunitstayid', 'observationoffset', 'systemicsystolic', 'systemicdiastolic']]"
   ]
  },
  {
   "cell_type": "code",
   "execution_count": 27,
   "metadata": {},
   "outputs": [
    {
     "data": {
      "text/plain": [
       "vitalperiodicid             0\n",
       "patientunitstayid           0\n",
       "observationoffset           0\n",
       "systemicsystolic     39241995\n",
       "systemicdiastolic    39243066\n",
       "dtype: int64"
      ]
     },
     "execution_count": 27,
     "metadata": {},
     "output_type": "execute_result"
    }
   ],
   "source": [
    "vitals3.isna().sum()"
   ]
  },
  {
   "cell_type": "code",
   "execution_count": 28,
   "metadata": {
    "collapsed": true
   },
   "outputs": [],
   "source": [
    "vitals3.dropna(inplace=True)\n",
    "vitals3.reset_index(inplace=True, drop=True)"
   ]
  },
  {
   "cell_type": "code",
   "execution_count": 29,
   "metadata": {},
   "outputs": [
    {
     "data": {
      "text/html": [
       "<div>\n",
       "<style scoped>\n",
       "    .dataframe tbody tr th:only-of-type {\n",
       "        vertical-align: middle;\n",
       "    }\n",
       "\n",
       "    .dataframe tbody tr th {\n",
       "        vertical-align: top;\n",
       "    }\n",
       "\n",
       "    .dataframe thead th {\n",
       "        text-align: right;\n",
       "    }\n",
       "</style>\n",
       "<table border=\"1\" class=\"dataframe\">\n",
       "  <thead>\n",
       "    <tr style=\"text-align: right;\">\n",
       "      <th></th>\n",
       "      <th>vitalperiodicid</th>\n",
       "      <th>patientunitstayid</th>\n",
       "      <th>observationoffset</th>\n",
       "      <th>systemicsystolic</th>\n",
       "      <th>systemicdiastolic</th>\n",
       "    </tr>\n",
       "  </thead>\n",
       "  <tbody>\n",
       "    <tr>\n",
       "      <th>0</th>\n",
       "      <td>1466194220</td>\n",
       "      <td>2429113</td>\n",
       "      <td>1368</td>\n",
       "      <td>161.0</td>\n",
       "      <td>78.0</td>\n",
       "    </tr>\n",
       "    <tr>\n",
       "      <th>1</th>\n",
       "      <td>1466191258</td>\n",
       "      <td>2429113</td>\n",
       "      <td>1423</td>\n",
       "      <td>168.0</td>\n",
       "      <td>78.0</td>\n",
       "    </tr>\n",
       "    <tr>\n",
       "      <th>2</th>\n",
       "      <td>1466194083</td>\n",
       "      <td>2429113</td>\n",
       "      <td>1373</td>\n",
       "      <td>173.0</td>\n",
       "      <td>83.0</td>\n",
       "    </tr>\n",
       "    <tr>\n",
       "      <th>3</th>\n",
       "      <td>1466193400</td>\n",
       "      <td>2429113</td>\n",
       "      <td>1398</td>\n",
       "      <td>187.0</td>\n",
       "      <td>86.0</td>\n",
       "    </tr>\n",
       "    <tr>\n",
       "      <th>4</th>\n",
       "      <td>1466191390</td>\n",
       "      <td>2429113</td>\n",
       "      <td>1418</td>\n",
       "      <td>174.0</td>\n",
       "      <td>81.0</td>\n",
       "    </tr>\n",
       "  </tbody>\n",
       "</table>\n",
       "</div>"
      ],
      "text/plain": [
       "   vitalperiodicid  patientunitstayid  observationoffset  systemicsystolic  \\\n",
       "0       1466194220            2429113               1368             161.0   \n",
       "1       1466191258            2429113               1423             168.0   \n",
       "2       1466194083            2429113               1373             173.0   \n",
       "3       1466193400            2429113               1398             187.0   \n",
       "4       1466191390            2429113               1418             174.0   \n",
       "\n",
       "   systemicdiastolic  \n",
       "0               78.0  \n",
       "1               78.0  \n",
       "2               83.0  \n",
       "3               86.0  \n",
       "4               81.0  "
      ]
     },
     "execution_count": 29,
     "metadata": {},
     "output_type": "execute_result"
    }
   ],
   "source": [
    "vitals3.head()"
   ]
  },
  {
   "cell_type": "code",
   "execution_count": 30,
   "metadata": {},
   "outputs": [
    {
     "data": {
      "text/plain": [
       "(9647408, 5)"
      ]
     },
     "execution_count": 30,
     "metadata": {},
     "output_type": "execute_result"
    }
   ],
   "source": [
    "vitals3.shape"
   ]
  },
  {
   "cell_type": "code",
   "execution_count": 31,
   "metadata": {},
   "outputs": [
    {
     "data": {
      "text/plain": [
       "vitalperiodicid      0\n",
       "patientunitstayid    0\n",
       "observationoffset    0\n",
       "systemicsystolic     0\n",
       "systemicdiastolic    0\n",
       "dtype: int64"
      ]
     },
     "execution_count": 31,
     "metadata": {},
     "output_type": "execute_result"
    }
   ],
   "source": [
    "vitals3.isna().sum()"
   ]
  },
  {
   "cell_type": "code",
   "execution_count": 32,
   "metadata": {
    "collapsed": true
   },
   "outputs": [],
   "source": [
    "vitals = pd.concat([vitals1, vitals2, vitals3])"
   ]
  },
  {
   "cell_type": "code",
   "execution_count": 33,
   "metadata": {},
   "outputs": [
    {
     "data": {
      "text/html": [
       "<div>\n",
       "<style scoped>\n",
       "    .dataframe tbody tr th:only-of-type {\n",
       "        vertical-align: middle;\n",
       "    }\n",
       "\n",
       "    .dataframe tbody tr th {\n",
       "        vertical-align: top;\n",
       "    }\n",
       "\n",
       "    .dataframe thead th {\n",
       "        text-align: right;\n",
       "    }\n",
       "</style>\n",
       "<table border=\"1\" class=\"dataframe\">\n",
       "  <thead>\n",
       "    <tr style=\"text-align: right;\">\n",
       "      <th></th>\n",
       "      <th>vitalperiodicid</th>\n",
       "      <th>patientunitstayid</th>\n",
       "      <th>observationoffset</th>\n",
       "      <th>systemicsystolic</th>\n",
       "      <th>systemicdiastolic</th>\n",
       "    </tr>\n",
       "  </thead>\n",
       "  <tbody>\n",
       "    <tr>\n",
       "      <th>0</th>\n",
       "      <td>37370189</td>\n",
       "      <td>141168</td>\n",
       "      <td>2254</td>\n",
       "      <td>100.0</td>\n",
       "      <td>72.0</td>\n",
       "    </tr>\n",
       "    <tr>\n",
       "      <th>1</th>\n",
       "      <td>37370360</td>\n",
       "      <td>141168</td>\n",
       "      <td>2249</td>\n",
       "      <td>96.0</td>\n",
       "      <td>60.0</td>\n",
       "    </tr>\n",
       "    <tr>\n",
       "      <th>2</th>\n",
       "      <td>37374416</td>\n",
       "      <td>141168</td>\n",
       "      <td>2129</td>\n",
       "      <td>112.0</td>\n",
       "      <td>56.0</td>\n",
       "    </tr>\n",
       "    <tr>\n",
       "      <th>3</th>\n",
       "      <td>37369500</td>\n",
       "      <td>141168</td>\n",
       "      <td>2274</td>\n",
       "      <td>96.0</td>\n",
       "      <td>52.0</td>\n",
       "    </tr>\n",
       "    <tr>\n",
       "      <th>4</th>\n",
       "      <td>37375589</td>\n",
       "      <td>141168</td>\n",
       "      <td>2094</td>\n",
       "      <td>122.0</td>\n",
       "      <td>59.0</td>\n",
       "    </tr>\n",
       "  </tbody>\n",
       "</table>\n",
       "</div>"
      ],
      "text/plain": [
       "   vitalperiodicid  patientunitstayid  observationoffset  systemicsystolic  \\\n",
       "0         37370189             141168               2254             100.0   \n",
       "1         37370360             141168               2249              96.0   \n",
       "2         37374416             141168               2129             112.0   \n",
       "3         37369500             141168               2274              96.0   \n",
       "4         37375589             141168               2094             122.0   \n",
       "\n",
       "   systemicdiastolic  \n",
       "0               72.0  \n",
       "1               60.0  \n",
       "2               56.0  \n",
       "3               52.0  \n",
       "4               59.0  "
      ]
     },
     "execution_count": 33,
     "metadata": {},
     "output_type": "execute_result"
    }
   ],
   "source": [
    "vitals.head()"
   ]
  },
  {
   "cell_type": "code",
   "execution_count": 34,
   "metadata": {},
   "outputs": [
    {
     "data": {
      "text/plain": [
       "(27833546, 5)"
      ]
     },
     "execution_count": 34,
     "metadata": {},
     "output_type": "execute_result"
    }
   ],
   "source": [
    "vitals.shape"
   ]
  },
  {
   "cell_type": "code",
   "execution_count": 35,
   "metadata": {},
   "outputs": [
    {
     "data": {
      "text/plain": [
       "vitalperiodicid      0\n",
       "patientunitstayid    0\n",
       "observationoffset    0\n",
       "systemicsystolic     0\n",
       "systemicdiastolic    0\n",
       "dtype: int64"
      ]
     },
     "execution_count": 35,
     "metadata": {},
     "output_type": "execute_result"
    }
   ],
   "source": [
    "vitals.isna().sum()"
   ]
  },
  {
   "cell_type": "code",
   "execution_count": 36,
   "metadata": {
    "collapsed": true
   },
   "outputs": [],
   "source": [
    "vitals.reset_index(inplace=True, drop=True)"
   ]
  },
  {
   "cell_type": "code",
   "execution_count": 37,
   "metadata": {},
   "outputs": [
    {
     "data": {
      "text/html": [
       "<div>\n",
       "<style scoped>\n",
       "    .dataframe tbody tr th:only-of-type {\n",
       "        vertical-align: middle;\n",
       "    }\n",
       "\n",
       "    .dataframe tbody tr th {\n",
       "        vertical-align: top;\n",
       "    }\n",
       "\n",
       "    .dataframe thead th {\n",
       "        text-align: right;\n",
       "    }\n",
       "</style>\n",
       "<table border=\"1\" class=\"dataframe\">\n",
       "  <thead>\n",
       "    <tr style=\"text-align: right;\">\n",
       "      <th></th>\n",
       "      <th>vitalperiodicid</th>\n",
       "      <th>patientunitstayid</th>\n",
       "      <th>observationoffset</th>\n",
       "      <th>systemicsystolic</th>\n",
       "      <th>systemicdiastolic</th>\n",
       "    </tr>\n",
       "  </thead>\n",
       "  <tbody>\n",
       "    <tr>\n",
       "      <th>0</th>\n",
       "      <td>37370189</td>\n",
       "      <td>141168</td>\n",
       "      <td>2254</td>\n",
       "      <td>100.0</td>\n",
       "      <td>72.0</td>\n",
       "    </tr>\n",
       "    <tr>\n",
       "      <th>1</th>\n",
       "      <td>37370360</td>\n",
       "      <td>141168</td>\n",
       "      <td>2249</td>\n",
       "      <td>96.0</td>\n",
       "      <td>60.0</td>\n",
       "    </tr>\n",
       "    <tr>\n",
       "      <th>2</th>\n",
       "      <td>37374416</td>\n",
       "      <td>141168</td>\n",
       "      <td>2129</td>\n",
       "      <td>112.0</td>\n",
       "      <td>56.0</td>\n",
       "    </tr>\n",
       "    <tr>\n",
       "      <th>3</th>\n",
       "      <td>37369500</td>\n",
       "      <td>141168</td>\n",
       "      <td>2274</td>\n",
       "      <td>96.0</td>\n",
       "      <td>52.0</td>\n",
       "    </tr>\n",
       "    <tr>\n",
       "      <th>4</th>\n",
       "      <td>37375589</td>\n",
       "      <td>141168</td>\n",
       "      <td>2094</td>\n",
       "      <td>122.0</td>\n",
       "      <td>59.0</td>\n",
       "    </tr>\n",
       "  </tbody>\n",
       "</table>\n",
       "</div>"
      ],
      "text/plain": [
       "   vitalperiodicid  patientunitstayid  observationoffset  systemicsystolic  \\\n",
       "0         37370189             141168               2254             100.0   \n",
       "1         37370360             141168               2249              96.0   \n",
       "2         37374416             141168               2129             112.0   \n",
       "3         37369500             141168               2274              96.0   \n",
       "4         37375589             141168               2094             122.0   \n",
       "\n",
       "   systemicdiastolic  \n",
       "0               72.0  \n",
       "1               60.0  \n",
       "2               56.0  \n",
       "3               52.0  \n",
       "4               59.0  "
      ]
     },
     "execution_count": 37,
     "metadata": {},
     "output_type": "execute_result"
    }
   ],
   "source": [
    "vitals.head()"
   ]
  },
  {
   "cell_type": "code",
   "execution_count": 38,
   "metadata": {
    "collapsed": true
   },
   "outputs": [],
   "source": [
    "vitals.to_csv('../data/vitals.csv', index=False)"
   ]
  },
  {
   "cell_type": "code",
   "execution_count": 27,
   "metadata": {},
   "outputs": [
    {
     "data": {
      "text/html": [
       "<div>\n",
       "<style scoped>\n",
       "    .dataframe tbody tr th:only-of-type {\n",
       "        vertical-align: middle;\n",
       "    }\n",
       "\n",
       "    .dataframe tbody tr th {\n",
       "        vertical-align: top;\n",
       "    }\n",
       "\n",
       "    .dataframe thead th {\n",
       "        text-align: right;\n",
       "    }\n",
       "</style>\n",
       "<table border=\"1\" class=\"dataframe\">\n",
       "  <thead>\n",
       "    <tr style=\"text-align: right;\">\n",
       "      <th></th>\n",
       "      <th>patientunitstayid</th>\n",
       "      <th>diagnosisstring</th>\n",
       "      <th>medicationid</th>\n",
       "      <th>drugstartoffset</th>\n",
       "      <th>drugstopoffset</th>\n",
       "      <th>index</th>\n",
       "      <th>urine</th>\n",
       "      <th>wbc</th>\n",
       "      <th>creatinine</th>\n",
       "      <th>pao2</th>\n",
       "      <th>fio2</th>\n",
       "      <th>bilirubin</th>\n",
       "      <th>observationoffset</th>\n",
       "      <th>MAP</th>\n",
       "      <th>GCS</th>\n",
       "      <th>SOFA</th>\n",
       "      <th>tDrugAdminister</th>\n",
       "      <th>labresultoffset</th>\n",
       "      <th>tSusp</th>\n",
       "    </tr>\n",
       "  </thead>\n",
       "  <tbody>\n",
       "    <tr>\n",
       "      <th>0</th>\n",
       "      <td>141227</td>\n",
       "      <td>cardiovascular|shock / hypotension|sepsis</td>\n",
       "      <td>12384625</td>\n",
       "      <td>341</td>\n",
       "      <td>3008</td>\n",
       "      <td>6.0</td>\n",
       "      <td>-1.0</td>\n",
       "      <td>42.7</td>\n",
       "      <td>1.9</td>\n",
       "      <td>65.0</td>\n",
       "      <td>21.0</td>\n",
       "      <td>-1.0</td>\n",
       "      <td>676.0</td>\n",
       "      <td>77.333333</td>\n",
       "      <td>13.0</td>\n",
       "      <td>9.0</td>\n",
       "      <td>341</td>\n",
       "      <td>417.0</td>\n",
       "      <td>341.0</td>\n",
       "    </tr>\n",
       "    <tr>\n",
       "      <th>1</th>\n",
       "      <td>141227</td>\n",
       "      <td>cardiovascular|shock / hypotension|sepsis</td>\n",
       "      <td>12384625</td>\n",
       "      <td>341</td>\n",
       "      <td>3008</td>\n",
       "      <td>6.0</td>\n",
       "      <td>-1.0</td>\n",
       "      <td>42.7</td>\n",
       "      <td>1.9</td>\n",
       "      <td>65.0</td>\n",
       "      <td>21.0</td>\n",
       "      <td>-1.0</td>\n",
       "      <td>676.0</td>\n",
       "      <td>77.333333</td>\n",
       "      <td>13.0</td>\n",
       "      <td>9.0</td>\n",
       "      <td>341</td>\n",
       "      <td>1467.0</td>\n",
       "      <td>341.0</td>\n",
       "    </tr>\n",
       "    <tr>\n",
       "      <th>2</th>\n",
       "      <td>141227</td>\n",
       "      <td>cardiovascular|shock / hypotension|sepsis</td>\n",
       "      <td>12384625</td>\n",
       "      <td>341</td>\n",
       "      <td>3008</td>\n",
       "      <td>6.0</td>\n",
       "      <td>-1.0</td>\n",
       "      <td>42.7</td>\n",
       "      <td>1.9</td>\n",
       "      <td>65.0</td>\n",
       "      <td>21.0</td>\n",
       "      <td>-1.0</td>\n",
       "      <td>676.0</td>\n",
       "      <td>77.333333</td>\n",
       "      <td>13.0</td>\n",
       "      <td>9.0</td>\n",
       "      <td>341</td>\n",
       "      <td>-13.0</td>\n",
       "      <td>-13.0</td>\n",
       "    </tr>\n",
       "    <tr>\n",
       "      <th>3</th>\n",
       "      <td>141227</td>\n",
       "      <td>cardiovascular|shock / hypotension|sepsis</td>\n",
       "      <td>12384625</td>\n",
       "      <td>341</td>\n",
       "      <td>3008</td>\n",
       "      <td>6.0</td>\n",
       "      <td>-1.0</td>\n",
       "      <td>42.7</td>\n",
       "      <td>1.9</td>\n",
       "      <td>65.0</td>\n",
       "      <td>21.0</td>\n",
       "      <td>-1.0</td>\n",
       "      <td>676.0</td>\n",
       "      <td>77.333333</td>\n",
       "      <td>13.0</td>\n",
       "      <td>9.0</td>\n",
       "      <td>341</td>\n",
       "      <td>1362.0</td>\n",
       "      <td>341.0</td>\n",
       "    </tr>\n",
       "    <tr>\n",
       "      <th>4</th>\n",
       "      <td>141227</td>\n",
       "      <td>cardiovascular|shock / hypotension|sepsis</td>\n",
       "      <td>12384625</td>\n",
       "      <td>341</td>\n",
       "      <td>3008</td>\n",
       "      <td>6.0</td>\n",
       "      <td>-1.0</td>\n",
       "      <td>42.7</td>\n",
       "      <td>1.9</td>\n",
       "      <td>65.0</td>\n",
       "      <td>21.0</td>\n",
       "      <td>-1.0</td>\n",
       "      <td>676.0</td>\n",
       "      <td>77.333333</td>\n",
       "      <td>13.0</td>\n",
       "      <td>9.0</td>\n",
       "      <td>341</td>\n",
       "      <td>-128.0</td>\n",
       "      <td>-128.0</td>\n",
       "    </tr>\n",
       "  </tbody>\n",
       "</table>\n",
       "</div>"
      ],
      "text/plain": [
       "   patientunitstayid                            diagnosisstring  medicationid  \\\n",
       "0             141227  cardiovascular|shock / hypotension|sepsis      12384625   \n",
       "1             141227  cardiovascular|shock / hypotension|sepsis      12384625   \n",
       "2             141227  cardiovascular|shock / hypotension|sepsis      12384625   \n",
       "3             141227  cardiovascular|shock / hypotension|sepsis      12384625   \n",
       "4             141227  cardiovascular|shock / hypotension|sepsis      12384625   \n",
       "\n",
       "   drugstartoffset  drugstopoffset  index  urine   wbc  creatinine  pao2  \\\n",
       "0              341            3008    6.0   -1.0  42.7         1.9  65.0   \n",
       "1              341            3008    6.0   -1.0  42.7         1.9  65.0   \n",
       "2              341            3008    6.0   -1.0  42.7         1.9  65.0   \n",
       "3              341            3008    6.0   -1.0  42.7         1.9  65.0   \n",
       "4              341            3008    6.0   -1.0  42.7         1.9  65.0   \n",
       "\n",
       "   fio2  bilirubin  observationoffset        MAP   GCS  SOFA  tDrugAdminister  \\\n",
       "0  21.0       -1.0              676.0  77.333333  13.0   9.0              341   \n",
       "1  21.0       -1.0              676.0  77.333333  13.0   9.0              341   \n",
       "2  21.0       -1.0              676.0  77.333333  13.0   9.0              341   \n",
       "3  21.0       -1.0              676.0  77.333333  13.0   9.0              341   \n",
       "4  21.0       -1.0              676.0  77.333333  13.0   9.0              341   \n",
       "\n",
       "   labresultoffset  tSusp  \n",
       "0            417.0  341.0  \n",
       "1           1467.0  341.0  \n",
       "2            -13.0  -13.0  \n",
       "3           1362.0  341.0  \n",
       "4           -128.0 -128.0  "
      ]
     },
     "execution_count": 27,
     "metadata": {},
     "output_type": "execute_result"
    }
   ],
   "source": [
    "df00.head()"
   ]
  },
  {
   "cell_type": "code",
   "execution_count": 90,
   "metadata": {},
   "outputs": [
    {
     "data": {
      "text/html": [
       "<div>\n",
       "<style scoped>\n",
       "    .dataframe tbody tr th:only-of-type {\n",
       "        vertical-align: middle;\n",
       "    }\n",
       "\n",
       "    .dataframe tbody tr th {\n",
       "        vertical-align: top;\n",
       "    }\n",
       "\n",
       "    .dataframe thead th {\n",
       "        text-align: right;\n",
       "    }\n",
       "</style>\n",
       "<table border=\"1\" class=\"dataframe\">\n",
       "  <thead>\n",
       "    <tr style=\"text-align: right;\">\n",
       "      <th></th>\n",
       "      <th>vitalperiodicid</th>\n",
       "      <th>patientunitstayid</th>\n",
       "      <th>observationoffset</th>\n",
       "      <th>systemicsystolic</th>\n",
       "      <th>systemicdiastolic</th>\n",
       "    </tr>\n",
       "  </thead>\n",
       "  <tbody>\n",
       "    <tr>\n",
       "      <th>0</th>\n",
       "      <td>37370189</td>\n",
       "      <td>141168</td>\n",
       "      <td>2254</td>\n",
       "      <td>100.0</td>\n",
       "      <td>72.0</td>\n",
       "    </tr>\n",
       "    <tr>\n",
       "      <th>1</th>\n",
       "      <td>37370360</td>\n",
       "      <td>141168</td>\n",
       "      <td>2249</td>\n",
       "      <td>96.0</td>\n",
       "      <td>60.0</td>\n",
       "    </tr>\n",
       "    <tr>\n",
       "      <th>2</th>\n",
       "      <td>37374416</td>\n",
       "      <td>141168</td>\n",
       "      <td>2129</td>\n",
       "      <td>112.0</td>\n",
       "      <td>56.0</td>\n",
       "    </tr>\n",
       "    <tr>\n",
       "      <th>3</th>\n",
       "      <td>37369500</td>\n",
       "      <td>141168</td>\n",
       "      <td>2274</td>\n",
       "      <td>96.0</td>\n",
       "      <td>52.0</td>\n",
       "    </tr>\n",
       "    <tr>\n",
       "      <th>4</th>\n",
       "      <td>37375589</td>\n",
       "      <td>141168</td>\n",
       "      <td>2094</td>\n",
       "      <td>122.0</td>\n",
       "      <td>59.0</td>\n",
       "    </tr>\n",
       "  </tbody>\n",
       "</table>\n",
       "</div>"
      ],
      "text/plain": [
       "   vitalperiodicid  patientunitstayid  observationoffset  systemicsystolic  \\\n",
       "0         37370189             141168               2254             100.0   \n",
       "1         37370360             141168               2249              96.0   \n",
       "2         37374416             141168               2129             112.0   \n",
       "3         37369500             141168               2274              96.0   \n",
       "4         37375589             141168               2094             122.0   \n",
       "\n",
       "   systemicdiastolic  \n",
       "0               72.0  \n",
       "1               60.0  \n",
       "2               56.0  \n",
       "3               52.0  \n",
       "4               59.0  "
      ]
     },
     "execution_count": 90,
     "metadata": {},
     "output_type": "execute_result"
    }
   ],
   "source": [
    "vitals.head()"
   ]
  },
  {
   "cell_type": "code",
   "execution_count": 103,
   "metadata": {},
   "outputs": [
    {
     "data": {
      "text/html": [
       "<div>\n",
       "<style scoped>\n",
       "    .dataframe tbody tr th:only-of-type {\n",
       "        vertical-align: middle;\n",
       "    }\n",
       "\n",
       "    .dataframe tbody tr th {\n",
       "        vertical-align: top;\n",
       "    }\n",
       "\n",
       "    .dataframe thead th {\n",
       "        text-align: right;\n",
       "    }\n",
       "</style>\n",
       "<table border=\"1\" class=\"dataframe\">\n",
       "  <thead>\n",
       "    <tr style=\"text-align: right;\">\n",
       "      <th></th>\n",
       "      <th>urine</th>\n",
       "      <th>wbc</th>\n",
       "      <th>creatinine</th>\n",
       "      <th>pao2</th>\n",
       "      <th>fio2</th>\n",
       "      <th>bilirubin</th>\n",
       "      <th>observationoffset</th>\n",
       "      <th>patientunitstayid</th>\n",
       "      <th>MAP</th>\n",
       "      <th>GCS</th>\n",
       "      <th>SOFA</th>\n",
       "    </tr>\n",
       "  </thead>\n",
       "  <tbody>\n",
       "    <tr>\n",
       "      <th>0</th>\n",
       "      <td>-1.0</td>\n",
       "      <td>14.7</td>\n",
       "      <td>2.30</td>\n",
       "      <td>-1.0</td>\n",
       "      <td>-1.0</td>\n",
       "      <td>4.1</td>\n",
       "      <td>151</td>\n",
       "      <td>141168</td>\n",
       "      <td>92.666667</td>\n",
       "      <td>15.0</td>\n",
       "      <td>8</td>\n",
       "    </tr>\n",
       "    <tr>\n",
       "      <th>1</th>\n",
       "      <td>-1.0</td>\n",
       "      <td>14.1</td>\n",
       "      <td>2.51</td>\n",
       "      <td>-1.0</td>\n",
       "      <td>-1.0</td>\n",
       "      <td>0.4</td>\n",
       "      <td>36</td>\n",
       "      <td>141194</td>\n",
       "      <td>83.000000</td>\n",
       "      <td>13.0</td>\n",
       "      <td>7</td>\n",
       "    </tr>\n",
       "    <tr>\n",
       "      <th>2</th>\n",
       "      <td>-1.0</td>\n",
       "      <td>-1.0</td>\n",
       "      <td>-1.00</td>\n",
       "      <td>-1.0</td>\n",
       "      <td>-1.0</td>\n",
       "      <td>-1.0</td>\n",
       "      <td>5037</td>\n",
       "      <td>141197</td>\n",
       "      <td>85.666667</td>\n",
       "      <td>15.0</td>\n",
       "      <td>4</td>\n",
       "    </tr>\n",
       "    <tr>\n",
       "      <th>3</th>\n",
       "      <td>-1.0</td>\n",
       "      <td>12.7</td>\n",
       "      <td>0.56</td>\n",
       "      <td>51.0</td>\n",
       "      <td>100.0</td>\n",
       "      <td>-1.0</td>\n",
       "      <td>10175</td>\n",
       "      <td>141203</td>\n",
       "      <td>84.333333</td>\n",
       "      <td>5.0</td>\n",
       "      <td>12</td>\n",
       "    </tr>\n",
       "    <tr>\n",
       "      <th>4</th>\n",
       "      <td>-1.0</td>\n",
       "      <td>-1.0</td>\n",
       "      <td>-1.00</td>\n",
       "      <td>-1.0</td>\n",
       "      <td>-1.0</td>\n",
       "      <td>-1.0</td>\n",
       "      <td>5273</td>\n",
       "      <td>141208</td>\n",
       "      <td>76.333333</td>\n",
       "      <td>14.0</td>\n",
       "      <td>5</td>\n",
       "    </tr>\n",
       "  </tbody>\n",
       "</table>\n",
       "</div>"
      ],
      "text/plain": [
       "   urine   wbc  creatinine  pao2   fio2  bilirubin  observationoffset  \\\n",
       "0   -1.0  14.7        2.30  -1.0   -1.0        4.1                151   \n",
       "1   -1.0  14.1        2.51  -1.0   -1.0        0.4                 36   \n",
       "2   -1.0  -1.0       -1.00  -1.0   -1.0       -1.0               5037   \n",
       "3   -1.0  12.7        0.56  51.0  100.0       -1.0              10175   \n",
       "4   -1.0  -1.0       -1.00  -1.0   -1.0       -1.0               5273   \n",
       "\n",
       "   patientunitstayid        MAP   GCS  SOFA  \n",
       "0             141168  92.666667  15.0     8  \n",
       "1             141194  83.000000  13.0     7  \n",
       "2             141197  85.666667  15.0     4  \n",
       "3             141203  84.333333   5.0    12  \n",
       "4             141208  76.333333  14.0     5  "
      ]
     },
     "execution_count": 103,
     "metadata": {},
     "output_type": "execute_result"
    }
   ],
   "source": [
    "dfmain.head()"
   ]
  },
  {
   "cell_type": "code",
   "execution_count": 92,
   "metadata": {},
   "outputs": [
    {
     "data": {
      "text/plain": [
       "(134355, 12)"
      ]
     },
     "execution_count": 92,
     "metadata": {},
     "output_type": "execute_result"
    }
   ],
   "source": [
    "dfmain.shape"
   ]
  },
  {
   "cell_type": "code",
   "execution_count": 102,
   "metadata": {
    "collapsed": true
   },
   "outputs": [],
   "source": [
    "dfmain.drop('index', axis=1, inplace=True)"
   ]
  },
  {
   "cell_type": "code",
   "execution_count": 6,
   "metadata": {
    "collapsed": true
   },
   "outputs": [],
   "source": [
    "# dfmain0 = dfmain.merge(dfmeds, on='patientunitstayid', how='left')"
   ]
  },
  {
   "cell_type": "code",
   "execution_count": 7,
   "metadata": {
    "collapsed": true
   },
   "outputs": [],
   "source": [
    "# dfmain0.head()"
   ]
  },
  {
   "cell_type": "code",
   "execution_count": 8,
   "metadata": {
    "collapsed": true
   },
   "outputs": [],
   "source": [
    "# dfmain0.isna().sum()"
   ]
  },
  {
   "cell_type": "code",
   "execution_count": 9,
   "metadata": {
    "collapsed": true
   },
   "outputs": [],
   "source": [
    "# dfmain0.dropna(inplace=True)\n",
    "# dfmain0.reset_index(inplace=True, drop=True)"
   ]
  },
  {
   "cell_type": "code",
   "execution_count": 10,
   "metadata": {
    "collapsed": true
   },
   "outputs": [],
   "source": [
    "# dfmain0.head()"
   ]
  },
  {
   "cell_type": "code",
   "execution_count": 11,
   "metadata": {
    "collapsed": true
   },
   "outputs": [],
   "source": [
    "# dfmain0.isna().sum()"
   ]
  },
  {
   "cell_type": "code",
   "execution_count": 12,
   "metadata": {
    "collapsed": true
   },
   "outputs": [],
   "source": [
    "# vitals.head()"
   ]
  },
  {
   "cell_type": "code",
   "execution_count": 13,
   "metadata": {
    "collapsed": true
   },
   "outputs": [],
   "source": [
    "# dfmain0 = pd.concat([dfmain0, pd.DataFrame(dfmain0['drugstartoffset'].tolist(), columns=['tDrugAdminister'])], axis=1)"
   ]
  },
  {
   "cell_type": "code",
   "execution_count": 14,
   "metadata": {
    "collapsed": true
   },
   "outputs": [],
   "source": [
    "# dfmain0 = dfmain0.merge(lab, on='patientunitstayid', how='left')"
   ]
  },
  {
   "cell_type": "code",
   "execution_count": 15,
   "metadata": {
    "collapsed": true
   },
   "outputs": [],
   "source": [
    "# dfmain00 = []"
   ]
  },
  {
   "cell_type": "code",
   "execution_count": 16,
   "metadata": {
    "collapsed": true
   },
   "outputs": [],
   "source": [
    "# med = []"
   ]
  },
  {
   "cell_type": "code",
   "execution_count": 17,
   "metadata": {
    "collapsed": true
   },
   "outputs": [],
   "source": [
    "# dfmain0.to_csv('../data/dfmain0.csv', index=False)"
   ]
  },
  {
   "cell_type": "code",
   "execution_count": 18,
   "metadata": {
    "collapsed": true
   },
   "outputs": [],
   "source": [
    "# dfmain = pd.read_csv('../data/dfmain.csv')"
   ]
  },
  {
   "cell_type": "code",
   "execution_count": 28,
   "metadata": {
    "collapsed": true
   },
   "outputs": [],
   "source": [
    "patientsId = df00['patientunitstayid']"
   ]
  },
  {
   "cell_type": "code",
   "execution_count": 29,
   "metadata": {
    "scrolled": true
   },
   "outputs": [
    {
     "data": {
      "text/plain": [
       "0           141227\n",
       "1           141227\n",
       "2           141227\n",
       "3           141227\n",
       "4           141227\n",
       "5           141227\n",
       "6           141227\n",
       "7           141227\n",
       "8           141227\n",
       "9           141227\n",
       "10          141227\n",
       "11          141227\n",
       "12          141227\n",
       "13          141227\n",
       "14          141289\n",
       "15          141289\n",
       "16          141289\n",
       "17          141304\n",
       "18          141304\n",
       "19          141304\n",
       "20          141304\n",
       "21          141304\n",
       "22          141304\n",
       "23          141304\n",
       "24          141304\n",
       "25          141304\n",
       "26          141304\n",
       "27          141304\n",
       "28          141304\n",
       "29          141304\n",
       "            ...   \n",
       "1159639    3353251\n",
       "1159640    3353251\n",
       "1159641    3353251\n",
       "1159642    3353251\n",
       "1159643    3353251\n",
       "1159644    3353251\n",
       "1159645    3353251\n",
       "1159646    3353251\n",
       "1159647    3353251\n",
       "1159648    3353251\n",
       "1159649    3353251\n",
       "1159650    3353251\n",
       "1159651    3353251\n",
       "1159652    3353251\n",
       "1159653    3353251\n",
       "1159654    3353251\n",
       "1159655    3353251\n",
       "1159656    3353251\n",
       "1159657    3353251\n",
       "1159658    3353251\n",
       "1159659    3353251\n",
       "1159660    3353251\n",
       "1159661    3353251\n",
       "1159662    3353251\n",
       "1159663    3353251\n",
       "1159664    3353251\n",
       "1159665    3353251\n",
       "1159666    3353251\n",
       "1159667    3353251\n",
       "1159668    3353251\n",
       "Name: patientunitstayid, Length: 1159669, dtype: int64"
      ]
     },
     "execution_count": 29,
     "metadata": {},
     "output_type": "execute_result"
    }
   ],
   "source": [
    "patientsId"
   ]
  },
  {
   "cell_type": "code",
   "execution_count": 30,
   "metadata": {
    "collapsed": true
   },
   "outputs": [],
   "source": [
    "vitals = pd.read_csv('../data/vitals.csv')"
   ]
  },
  {
   "cell_type": "code",
   "execution_count": 31,
   "metadata": {},
   "outputs": [
    {
     "data": {
      "text/html": [
       "<div>\n",
       "<style scoped>\n",
       "    .dataframe tbody tr th:only-of-type {\n",
       "        vertical-align: middle;\n",
       "    }\n",
       "\n",
       "    .dataframe tbody tr th {\n",
       "        vertical-align: top;\n",
       "    }\n",
       "\n",
       "    .dataframe thead th {\n",
       "        text-align: right;\n",
       "    }\n",
       "</style>\n",
       "<table border=\"1\" class=\"dataframe\">\n",
       "  <thead>\n",
       "    <tr style=\"text-align: right;\">\n",
       "      <th></th>\n",
       "      <th>vitalperiodicid</th>\n",
       "      <th>patientunitstayid</th>\n",
       "      <th>observationoffset</th>\n",
       "      <th>systemicsystolic</th>\n",
       "      <th>systemicdiastolic</th>\n",
       "    </tr>\n",
       "  </thead>\n",
       "  <tbody>\n",
       "    <tr>\n",
       "      <th>0</th>\n",
       "      <td>37370189</td>\n",
       "      <td>141168</td>\n",
       "      <td>2254</td>\n",
       "      <td>100.0</td>\n",
       "      <td>72.0</td>\n",
       "    </tr>\n",
       "    <tr>\n",
       "      <th>1</th>\n",
       "      <td>37370360</td>\n",
       "      <td>141168</td>\n",
       "      <td>2249</td>\n",
       "      <td>96.0</td>\n",
       "      <td>60.0</td>\n",
       "    </tr>\n",
       "    <tr>\n",
       "      <th>2</th>\n",
       "      <td>37374416</td>\n",
       "      <td>141168</td>\n",
       "      <td>2129</td>\n",
       "      <td>112.0</td>\n",
       "      <td>56.0</td>\n",
       "    </tr>\n",
       "    <tr>\n",
       "      <th>3</th>\n",
       "      <td>37369500</td>\n",
       "      <td>141168</td>\n",
       "      <td>2274</td>\n",
       "      <td>96.0</td>\n",
       "      <td>52.0</td>\n",
       "    </tr>\n",
       "    <tr>\n",
       "      <th>4</th>\n",
       "      <td>37375589</td>\n",
       "      <td>141168</td>\n",
       "      <td>2094</td>\n",
       "      <td>122.0</td>\n",
       "      <td>59.0</td>\n",
       "    </tr>\n",
       "  </tbody>\n",
       "</table>\n",
       "</div>"
      ],
      "text/plain": [
       "   vitalperiodicid  patientunitstayid  observationoffset  systemicsystolic  \\\n",
       "0         37370189             141168               2254             100.0   \n",
       "1         37370360             141168               2249              96.0   \n",
       "2         37374416             141168               2129             112.0   \n",
       "3         37369500             141168               2274              96.0   \n",
       "4         37375589             141168               2094             122.0   \n",
       "\n",
       "   systemicdiastolic  \n",
       "0               72.0  \n",
       "1               60.0  \n",
       "2               56.0  \n",
       "3               52.0  \n",
       "4               59.0  "
      ]
     },
     "execution_count": 31,
     "metadata": {},
     "output_type": "execute_result"
    }
   ],
   "source": [
    "vitals.head()"
   ]
  },
  {
   "cell_type": "code",
   "execution_count": 32,
   "metadata": {},
   "outputs": [
    {
     "data": {
      "text/plain": [
       "Index(['patientunitstayid', 'diagnosisstring', 'medicationid',\n",
       "       'drugstartoffset', 'drugstopoffset', 'index', 'urine', 'wbc',\n",
       "       'creatinine', 'pao2', 'fio2', 'bilirubin', 'observationoffset', 'MAP',\n",
       "       'GCS', 'SOFA', 'tDrugAdminister', 'labresultoffset', 'tSusp'],\n",
       "      dtype='object')"
      ]
     },
     "execution_count": 32,
     "metadata": {},
     "output_type": "execute_result"
    }
   ],
   "source": [
    "df00.columns"
   ]
  },
  {
   "cell_type": "code",
   "execution_count": 34,
   "metadata": {
    "collapsed": true
   },
   "outputs": [],
   "source": [
    "vitalsmap = calcMAP(vitals['systemicsystolic'].tolist(), vitals['systemicdiastolic'].tolist())"
   ]
  },
  {
   "cell_type": "code",
   "execution_count": 35,
   "metadata": {
    "collapsed": true
   },
   "outputs": [],
   "source": [
    "vitalsmap = pd.DataFrame(vitalsmap, columns=['MAP'])"
   ]
  },
  {
   "cell_type": "code",
   "execution_count": 36,
   "metadata": {
    "collapsed": true
   },
   "outputs": [],
   "source": [
    "vitals = pd.concat([vitals, vitalsmap], axis=1)"
   ]
  },
  {
   "cell_type": "code",
   "execution_count": 37,
   "metadata": {},
   "outputs": [
    {
     "data": {
      "text/html": [
       "<div>\n",
       "<style scoped>\n",
       "    .dataframe tbody tr th:only-of-type {\n",
       "        vertical-align: middle;\n",
       "    }\n",
       "\n",
       "    .dataframe tbody tr th {\n",
       "        vertical-align: top;\n",
       "    }\n",
       "\n",
       "    .dataframe thead th {\n",
       "        text-align: right;\n",
       "    }\n",
       "</style>\n",
       "<table border=\"1\" class=\"dataframe\">\n",
       "  <thead>\n",
       "    <tr style=\"text-align: right;\">\n",
       "      <th></th>\n",
       "      <th>vitalperiodicid</th>\n",
       "      <th>patientunitstayid</th>\n",
       "      <th>observationoffset</th>\n",
       "      <th>systemicsystolic</th>\n",
       "      <th>systemicdiastolic</th>\n",
       "      <th>MAP</th>\n",
       "    </tr>\n",
       "  </thead>\n",
       "  <tbody>\n",
       "    <tr>\n",
       "      <th>0</th>\n",
       "      <td>37370189</td>\n",
       "      <td>141168</td>\n",
       "      <td>2254</td>\n",
       "      <td>100.0</td>\n",
       "      <td>72.0</td>\n",
       "      <td>81.333333</td>\n",
       "    </tr>\n",
       "    <tr>\n",
       "      <th>1</th>\n",
       "      <td>37370360</td>\n",
       "      <td>141168</td>\n",
       "      <td>2249</td>\n",
       "      <td>96.0</td>\n",
       "      <td>60.0</td>\n",
       "      <td>72.000000</td>\n",
       "    </tr>\n",
       "    <tr>\n",
       "      <th>2</th>\n",
       "      <td>37374416</td>\n",
       "      <td>141168</td>\n",
       "      <td>2129</td>\n",
       "      <td>112.0</td>\n",
       "      <td>56.0</td>\n",
       "      <td>74.666667</td>\n",
       "    </tr>\n",
       "    <tr>\n",
       "      <th>3</th>\n",
       "      <td>37369500</td>\n",
       "      <td>141168</td>\n",
       "      <td>2274</td>\n",
       "      <td>96.0</td>\n",
       "      <td>52.0</td>\n",
       "      <td>66.666667</td>\n",
       "    </tr>\n",
       "    <tr>\n",
       "      <th>4</th>\n",
       "      <td>37375589</td>\n",
       "      <td>141168</td>\n",
       "      <td>2094</td>\n",
       "      <td>122.0</td>\n",
       "      <td>59.0</td>\n",
       "      <td>80.000000</td>\n",
       "    </tr>\n",
       "  </tbody>\n",
       "</table>\n",
       "</div>"
      ],
      "text/plain": [
       "   vitalperiodicid  patientunitstayid  observationoffset  systemicsystolic  \\\n",
       "0         37370189             141168               2254             100.0   \n",
       "1         37370360             141168               2249              96.0   \n",
       "2         37374416             141168               2129             112.0   \n",
       "3         37369500             141168               2274              96.0   \n",
       "4         37375589             141168               2094             122.0   \n",
       "\n",
       "   systemicdiastolic        MAP  \n",
       "0               72.0  81.333333  \n",
       "1               60.0  72.000000  \n",
       "2               56.0  74.666667  \n",
       "3               52.0  66.666667  \n",
       "4               59.0  80.000000  "
      ]
     },
     "execution_count": 37,
     "metadata": {},
     "output_type": "execute_result"
    }
   ],
   "source": [
    "vitals.head()"
   ]
  },
  {
   "cell_type": "code",
   "execution_count": 66,
   "metadata": {
    "collapsed": true
   },
   "outputs": [],
   "source": [
    "df11 = pd.DataFrame(df00['observationoffset'].tolist(), columns=['observationoffsetinit'])"
   ]
  },
  {
   "cell_type": "code",
   "execution_count": 67,
   "metadata": {
    "collapsed": true
   },
   "outputs": [],
   "source": [
    "df11 = pd.concat([df00['patientunitstayid'], df00['MAP'], df11], axis=1)"
   ]
  },
  {
   "cell_type": "code",
   "execution_count": 68,
   "metadata": {},
   "outputs": [
    {
     "data": {
      "text/plain": [
       "patientunitstayid             0\n",
       "MAP                      310199\n",
       "observationoffsetinit    310199\n",
       "dtype: int64"
      ]
     },
     "execution_count": 68,
     "metadata": {},
     "output_type": "execute_result"
    }
   ],
   "source": [
    "df11.isna().sum()"
   ]
  },
  {
   "cell_type": "code",
   "execution_count": 69,
   "metadata": {
    "collapsed": true
   },
   "outputs": [],
   "source": [
    "df11.dropna(inplace=True)\n",
    "df11.reset_index(inplace=True, drop=True)"
   ]
  },
  {
   "cell_type": "code",
   "execution_count": 70,
   "metadata": {
    "scrolled": true
   },
   "outputs": [
    {
     "data": {
      "text/html": [
       "<div>\n",
       "<style scoped>\n",
       "    .dataframe tbody tr th:only-of-type {\n",
       "        vertical-align: middle;\n",
       "    }\n",
       "\n",
       "    .dataframe tbody tr th {\n",
       "        vertical-align: top;\n",
       "    }\n",
       "\n",
       "    .dataframe thead th {\n",
       "        text-align: right;\n",
       "    }\n",
       "</style>\n",
       "<table border=\"1\" class=\"dataframe\">\n",
       "  <thead>\n",
       "    <tr style=\"text-align: right;\">\n",
       "      <th></th>\n",
       "      <th>patientunitstayid</th>\n",
       "      <th>MAP</th>\n",
       "      <th>observationoffsetinit</th>\n",
       "    </tr>\n",
       "  </thead>\n",
       "  <tbody>\n",
       "    <tr>\n",
       "      <th>0</th>\n",
       "      <td>141227</td>\n",
       "      <td>77.333333</td>\n",
       "      <td>676.0</td>\n",
       "    </tr>\n",
       "    <tr>\n",
       "      <th>1</th>\n",
       "      <td>141227</td>\n",
       "      <td>77.333333</td>\n",
       "      <td>676.0</td>\n",
       "    </tr>\n",
       "    <tr>\n",
       "      <th>2</th>\n",
       "      <td>141227</td>\n",
       "      <td>77.333333</td>\n",
       "      <td>676.0</td>\n",
       "    </tr>\n",
       "    <tr>\n",
       "      <th>3</th>\n",
       "      <td>141227</td>\n",
       "      <td>77.333333</td>\n",
       "      <td>676.0</td>\n",
       "    </tr>\n",
       "    <tr>\n",
       "      <th>4</th>\n",
       "      <td>141227</td>\n",
       "      <td>77.333333</td>\n",
       "      <td>676.0</td>\n",
       "    </tr>\n",
       "    <tr>\n",
       "      <th>5</th>\n",
       "      <td>141227</td>\n",
       "      <td>77.333333</td>\n",
       "      <td>676.0</td>\n",
       "    </tr>\n",
       "    <tr>\n",
       "      <th>6</th>\n",
       "      <td>141227</td>\n",
       "      <td>77.333333</td>\n",
       "      <td>676.0</td>\n",
       "    </tr>\n",
       "    <tr>\n",
       "      <th>7</th>\n",
       "      <td>141227</td>\n",
       "      <td>77.333333</td>\n",
       "      <td>676.0</td>\n",
       "    </tr>\n",
       "    <tr>\n",
       "      <th>8</th>\n",
       "      <td>141227</td>\n",
       "      <td>77.333333</td>\n",
       "      <td>676.0</td>\n",
       "    </tr>\n",
       "    <tr>\n",
       "      <th>9</th>\n",
       "      <td>141227</td>\n",
       "      <td>77.333333</td>\n",
       "      <td>676.0</td>\n",
       "    </tr>\n",
       "  </tbody>\n",
       "</table>\n",
       "</div>"
      ],
      "text/plain": [
       "   patientunitstayid        MAP  observationoffsetinit\n",
       "0             141227  77.333333                  676.0\n",
       "1             141227  77.333333                  676.0\n",
       "2             141227  77.333333                  676.0\n",
       "3             141227  77.333333                  676.0\n",
       "4             141227  77.333333                  676.0\n",
       "5             141227  77.333333                  676.0\n",
       "6             141227  77.333333                  676.0\n",
       "7             141227  77.333333                  676.0\n",
       "8             141227  77.333333                  676.0\n",
       "9             141227  77.333333                  676.0"
      ]
     },
     "execution_count": 70,
     "metadata": {},
     "output_type": "execute_result"
    }
   ],
   "source": [
    "df11.head(10)"
   ]
  },
  {
   "cell_type": "code",
   "execution_count": 71,
   "metadata": {
    "collapsed": true
   },
   "outputs": [],
   "source": [
    "df11.drop_duplicates(inplace=True)\n",
    "df11.reset_index(inplace=True, drop=True)"
   ]
  },
  {
   "cell_type": "code",
   "execution_count": 72,
   "metadata": {},
   "outputs": [
    {
     "data": {
      "text/html": [
       "<div>\n",
       "<style scoped>\n",
       "    .dataframe tbody tr th:only-of-type {\n",
       "        vertical-align: middle;\n",
       "    }\n",
       "\n",
       "    .dataframe tbody tr th {\n",
       "        vertical-align: top;\n",
       "    }\n",
       "\n",
       "    .dataframe thead th {\n",
       "        text-align: right;\n",
       "    }\n",
       "</style>\n",
       "<table border=\"1\" class=\"dataframe\">\n",
       "  <thead>\n",
       "    <tr style=\"text-align: right;\">\n",
       "      <th></th>\n",
       "      <th>patientunitstayid</th>\n",
       "      <th>MAP</th>\n",
       "      <th>observationoffsetinit</th>\n",
       "    </tr>\n",
       "  </thead>\n",
       "  <tbody>\n",
       "    <tr>\n",
       "      <th>0</th>\n",
       "      <td>141227</td>\n",
       "      <td>77.333333</td>\n",
       "      <td>676.0</td>\n",
       "    </tr>\n",
       "    <tr>\n",
       "      <th>1</th>\n",
       "      <td>141289</td>\n",
       "      <td>74.666667</td>\n",
       "      <td>186.0</td>\n",
       "    </tr>\n",
       "    <tr>\n",
       "      <th>2</th>\n",
       "      <td>141304</td>\n",
       "      <td>65.000000</td>\n",
       "      <td>688.0</td>\n",
       "    </tr>\n",
       "    <tr>\n",
       "      <th>3</th>\n",
       "      <td>141392</td>\n",
       "      <td>83.666667</td>\n",
       "      <td>17362.0</td>\n",
       "    </tr>\n",
       "    <tr>\n",
       "      <th>4</th>\n",
       "      <td>141432</td>\n",
       "      <td>82.000000</td>\n",
       "      <td>17392.0</td>\n",
       "    </tr>\n",
       "  </tbody>\n",
       "</table>\n",
       "</div>"
      ],
      "text/plain": [
       "   patientunitstayid        MAP  observationoffsetinit\n",
       "0             141227  77.333333                  676.0\n",
       "1             141289  74.666667                  186.0\n",
       "2             141304  65.000000                  688.0\n",
       "3             141392  83.666667                17362.0\n",
       "4             141432  82.000000                17392.0"
      ]
     },
     "execution_count": 72,
     "metadata": {},
     "output_type": "execute_result"
    }
   ],
   "source": [
    "df11.head()"
   ]
  },
  {
   "cell_type": "code",
   "execution_count": 73,
   "metadata": {},
   "outputs": [
    {
     "data": {
      "text/plain": [
       "(13447, 3)"
      ]
     },
     "execution_count": 73,
     "metadata": {},
     "output_type": "execute_result"
    }
   ],
   "source": [
    "df11.shape"
   ]
  },
  {
   "cell_type": "code",
   "execution_count": 74,
   "metadata": {},
   "outputs": [
    {
     "data": {
      "text/html": [
       "<div>\n",
       "<style scoped>\n",
       "    .dataframe tbody tr th:only-of-type {\n",
       "        vertical-align: middle;\n",
       "    }\n",
       "\n",
       "    .dataframe tbody tr th {\n",
       "        vertical-align: top;\n",
       "    }\n",
       "\n",
       "    .dataframe thead th {\n",
       "        text-align: right;\n",
       "    }\n",
       "</style>\n",
       "<table border=\"1\" class=\"dataframe\">\n",
       "  <thead>\n",
       "    <tr style=\"text-align: right;\">\n",
       "      <th></th>\n",
       "      <th>vitalperiodicid</th>\n",
       "      <th>patientunitstayid</th>\n",
       "      <th>observationoffset</th>\n",
       "      <th>systemicsystolic</th>\n",
       "      <th>systemicdiastolic</th>\n",
       "      <th>MAP</th>\n",
       "    </tr>\n",
       "  </thead>\n",
       "  <tbody>\n",
       "    <tr>\n",
       "      <th>0</th>\n",
       "      <td>37370189</td>\n",
       "      <td>141168</td>\n",
       "      <td>2254</td>\n",
       "      <td>100.0</td>\n",
       "      <td>72.0</td>\n",
       "      <td>81.333333</td>\n",
       "    </tr>\n",
       "    <tr>\n",
       "      <th>1</th>\n",
       "      <td>37370360</td>\n",
       "      <td>141168</td>\n",
       "      <td>2249</td>\n",
       "      <td>96.0</td>\n",
       "      <td>60.0</td>\n",
       "      <td>72.000000</td>\n",
       "    </tr>\n",
       "    <tr>\n",
       "      <th>2</th>\n",
       "      <td>37374416</td>\n",
       "      <td>141168</td>\n",
       "      <td>2129</td>\n",
       "      <td>112.0</td>\n",
       "      <td>56.0</td>\n",
       "      <td>74.666667</td>\n",
       "    </tr>\n",
       "    <tr>\n",
       "      <th>3</th>\n",
       "      <td>37369500</td>\n",
       "      <td>141168</td>\n",
       "      <td>2274</td>\n",
       "      <td>96.0</td>\n",
       "      <td>52.0</td>\n",
       "      <td>66.666667</td>\n",
       "    </tr>\n",
       "    <tr>\n",
       "      <th>4</th>\n",
       "      <td>37375589</td>\n",
       "      <td>141168</td>\n",
       "      <td>2094</td>\n",
       "      <td>122.0</td>\n",
       "      <td>59.0</td>\n",
       "      <td>80.000000</td>\n",
       "    </tr>\n",
       "  </tbody>\n",
       "</table>\n",
       "</div>"
      ],
      "text/plain": [
       "   vitalperiodicid  patientunitstayid  observationoffset  systemicsystolic  \\\n",
       "0         37370189             141168               2254             100.0   \n",
       "1         37370360             141168               2249              96.0   \n",
       "2         37374416             141168               2129             112.0   \n",
       "3         37369500             141168               2274              96.0   \n",
       "4         37375589             141168               2094             122.0   \n",
       "\n",
       "   systemicdiastolic        MAP  \n",
       "0               72.0  81.333333  \n",
       "1               60.0  72.000000  \n",
       "2               56.0  74.666667  \n",
       "3               52.0  66.666667  \n",
       "4               59.0  80.000000  "
      ]
     },
     "execution_count": 74,
     "metadata": {},
     "output_type": "execute_result"
    }
   ],
   "source": [
    "vitals.head()"
   ]
  },
  {
   "cell_type": "code",
   "execution_count": 75,
   "metadata": {},
   "outputs": [
    {
     "data": {
      "text/plain": [
       "(27833546, 6)"
      ]
     },
     "execution_count": 75,
     "metadata": {},
     "output_type": "execute_result"
    }
   ],
   "source": [
    "vitals.shape"
   ]
  },
  {
   "cell_type": "code",
   "execution_count": 78,
   "metadata": {
    "collapsed": true
   },
   "outputs": [],
   "source": [
    "vitals0 = vitals.copy()"
   ]
  },
  {
   "cell_type": "code",
   "execution_count": 79,
   "metadata": {},
   "outputs": [
    {
     "data": {
      "text/plain": [
       "vitalperiodicid      0\n",
       "patientunitstayid    0\n",
       "observationoffset    0\n",
       "systemicsystolic     0\n",
       "systemicdiastolic    0\n",
       "MAP                  0\n",
       "dtype: int64"
      ]
     },
     "execution_count": 79,
     "metadata": {},
     "output_type": "execute_result"
    }
   ],
   "source": [
    "vitals.isna().sum()"
   ]
  },
  {
   "cell_type": "code",
   "execution_count": 97,
   "metadata": {
    "collapsed": true
   },
   "outputs": [],
   "source": [
    "ivitals = vitals0.merge(df11, how='outer', on='patientunitstayid', suffixes=('_vitals', '_df'))"
   ]
  },
  {
   "cell_type": "code",
   "execution_count": 98,
   "metadata": {},
   "outputs": [
    {
     "data": {
      "text/plain": [
       "(27843757, 8)"
      ]
     },
     "execution_count": 98,
     "metadata": {},
     "output_type": "execute_result"
    }
   ],
   "source": [
    "ivitals.shape"
   ]
  },
  {
   "cell_type": "code",
   "execution_count": 99,
   "metadata": {
    "collapsed": true
   },
   "outputs": [],
   "source": [
    "ivitals.dropna(inplace=True)\n",
    "ivitals.reset_index(inplace=True, drop=True)"
   ]
  },
  {
   "cell_type": "code",
   "execution_count": 100,
   "metadata": {},
   "outputs": [
    {
     "data": {
      "text/plain": [
       "(3376928, 8)"
      ]
     },
     "execution_count": 100,
     "metadata": {},
     "output_type": "execute_result"
    }
   ],
   "source": [
    "ivitals.shape"
   ]
  },
  {
   "cell_type": "code",
   "execution_count": 101,
   "metadata": {
    "scrolled": true
   },
   "outputs": [
    {
     "data": {
      "text/html": [
       "<div>\n",
       "<style scoped>\n",
       "    .dataframe tbody tr th:only-of-type {\n",
       "        vertical-align: middle;\n",
       "    }\n",
       "\n",
       "    .dataframe tbody tr th {\n",
       "        vertical-align: top;\n",
       "    }\n",
       "\n",
       "    .dataframe thead th {\n",
       "        text-align: right;\n",
       "    }\n",
       "</style>\n",
       "<table border=\"1\" class=\"dataframe\">\n",
       "  <thead>\n",
       "    <tr style=\"text-align: right;\">\n",
       "      <th></th>\n",
       "      <th>vitalperiodicid</th>\n",
       "      <th>patientunitstayid</th>\n",
       "      <th>observationoffset</th>\n",
       "      <th>systemicsystolic</th>\n",
       "      <th>systemicdiastolic</th>\n",
       "      <th>MAP_vitals</th>\n",
       "      <th>MAP_df</th>\n",
       "      <th>observationoffsetinit</th>\n",
       "    </tr>\n",
       "  </thead>\n",
       "  <tbody>\n",
       "    <tr>\n",
       "      <th>0</th>\n",
       "      <td>3.088795e+07</td>\n",
       "      <td>141227</td>\n",
       "      <td>1192.0</td>\n",
       "      <td>130.0</td>\n",
       "      <td>70.0</td>\n",
       "      <td>90.000000</td>\n",
       "      <td>77.333333</td>\n",
       "      <td>676.0</td>\n",
       "    </tr>\n",
       "    <tr>\n",
       "      <th>1</th>\n",
       "      <td>3.088776e+07</td>\n",
       "      <td>141227</td>\n",
       "      <td>1197.0</td>\n",
       "      <td>124.0</td>\n",
       "      <td>74.0</td>\n",
       "      <td>90.666667</td>\n",
       "      <td>77.333333</td>\n",
       "      <td>676.0</td>\n",
       "    </tr>\n",
       "    <tr>\n",
       "      <th>2</th>\n",
       "      <td>3.089441e+07</td>\n",
       "      <td>141227</td>\n",
       "      <td>1017.0</td>\n",
       "      <td>97.0</td>\n",
       "      <td>92.0</td>\n",
       "      <td>93.666667</td>\n",
       "      <td>77.333333</td>\n",
       "      <td>676.0</td>\n",
       "    </tr>\n",
       "    <tr>\n",
       "      <th>3</th>\n",
       "      <td>3.087967e+07</td>\n",
       "      <td>141227</td>\n",
       "      <td>1417.0</td>\n",
       "      <td>80.0</td>\n",
       "      <td>50.0</td>\n",
       "      <td>60.000000</td>\n",
       "      <td>77.333333</td>\n",
       "      <td>676.0</td>\n",
       "    </tr>\n",
       "    <tr>\n",
       "      <th>4</th>\n",
       "      <td>3.089459e+07</td>\n",
       "      <td>141227</td>\n",
       "      <td>1012.0</td>\n",
       "      <td>100.0</td>\n",
       "      <td>94.0</td>\n",
       "      <td>96.000000</td>\n",
       "      <td>77.333333</td>\n",
       "      <td>676.0</td>\n",
       "    </tr>\n",
       "    <tr>\n",
       "      <th>5</th>\n",
       "      <td>3.090522e+07</td>\n",
       "      <td>141227</td>\n",
       "      <td>712.0</td>\n",
       "      <td>76.0</td>\n",
       "      <td>54.0</td>\n",
       "      <td>61.333333</td>\n",
       "      <td>77.333333</td>\n",
       "      <td>676.0</td>\n",
       "    </tr>\n",
       "    <tr>\n",
       "      <th>6</th>\n",
       "      <td>3.089495e+07</td>\n",
       "      <td>141227</td>\n",
       "      <td>1002.0</td>\n",
       "      <td>77.0</td>\n",
       "      <td>70.0</td>\n",
       "      <td>72.333333</td>\n",
       "      <td>77.333333</td>\n",
       "      <td>676.0</td>\n",
       "    </tr>\n",
       "    <tr>\n",
       "      <th>7</th>\n",
       "      <td>3.089477e+07</td>\n",
       "      <td>141227</td>\n",
       "      <td>1007.0</td>\n",
       "      <td>94.0</td>\n",
       "      <td>90.0</td>\n",
       "      <td>91.333333</td>\n",
       "      <td>77.333333</td>\n",
       "      <td>676.0</td>\n",
       "    </tr>\n",
       "    <tr>\n",
       "      <th>8</th>\n",
       "      <td>3.088004e+07</td>\n",
       "      <td>141227</td>\n",
       "      <td>1407.0</td>\n",
       "      <td>80.0</td>\n",
       "      <td>52.0</td>\n",
       "      <td>61.333333</td>\n",
       "      <td>77.333333</td>\n",
       "      <td>676.0</td>\n",
       "    </tr>\n",
       "    <tr>\n",
       "      <th>9</th>\n",
       "      <td>3.089530e+07</td>\n",
       "      <td>141227</td>\n",
       "      <td>992.0</td>\n",
       "      <td>96.0</td>\n",
       "      <td>92.0</td>\n",
       "      <td>93.333333</td>\n",
       "      <td>77.333333</td>\n",
       "      <td>676.0</td>\n",
       "    </tr>\n",
       "    <tr>\n",
       "      <th>10</th>\n",
       "      <td>3.088841e+07</td>\n",
       "      <td>141227</td>\n",
       "      <td>1182.0</td>\n",
       "      <td>126.0</td>\n",
       "      <td>66.0</td>\n",
       "      <td>86.000000</td>\n",
       "      <td>77.333333</td>\n",
       "      <td>676.0</td>\n",
       "    </tr>\n",
       "    <tr>\n",
       "      <th>11</th>\n",
       "      <td>3.089548e+07</td>\n",
       "      <td>141227</td>\n",
       "      <td>987.0</td>\n",
       "      <td>94.0</td>\n",
       "      <td>90.0</td>\n",
       "      <td>91.333333</td>\n",
       "      <td>77.333333</td>\n",
       "      <td>676.0</td>\n",
       "    </tr>\n",
       "    <tr>\n",
       "      <th>12</th>\n",
       "      <td>3.090504e+07</td>\n",
       "      <td>141227</td>\n",
       "      <td>717.0</td>\n",
       "      <td>124.0</td>\n",
       "      <td>88.0</td>\n",
       "      <td>100.000000</td>\n",
       "      <td>77.333333</td>\n",
       "      <td>676.0</td>\n",
       "    </tr>\n",
       "    <tr>\n",
       "      <th>13</th>\n",
       "      <td>3.087874e+07</td>\n",
       "      <td>141227</td>\n",
       "      <td>1442.0</td>\n",
       "      <td>110.0</td>\n",
       "      <td>106.0</td>\n",
       "      <td>107.333333</td>\n",
       "      <td>77.333333</td>\n",
       "      <td>676.0</td>\n",
       "    </tr>\n",
       "    <tr>\n",
       "      <th>14</th>\n",
       "      <td>3.089903e+07</td>\n",
       "      <td>141227</td>\n",
       "      <td>887.0</td>\n",
       "      <td>140.0</td>\n",
       "      <td>136.0</td>\n",
       "      <td>137.333333</td>\n",
       "      <td>77.333333</td>\n",
       "      <td>676.0</td>\n",
       "    </tr>\n",
       "    <tr>\n",
       "      <th>15</th>\n",
       "      <td>3.089921e+07</td>\n",
       "      <td>141227</td>\n",
       "      <td>882.0</td>\n",
       "      <td>115.0</td>\n",
       "      <td>100.0</td>\n",
       "      <td>105.000000</td>\n",
       "      <td>77.333333</td>\n",
       "      <td>676.0</td>\n",
       "    </tr>\n",
       "    <tr>\n",
       "      <th>16</th>\n",
       "      <td>3.087288e+07</td>\n",
       "      <td>141227</td>\n",
       "      <td>1602.0</td>\n",
       "      <td>104.0</td>\n",
       "      <td>38.0</td>\n",
       "      <td>60.000000</td>\n",
       "      <td>77.333333</td>\n",
       "      <td>676.0</td>\n",
       "    </tr>\n",
       "    <tr>\n",
       "      <th>17</th>\n",
       "      <td>3.089673e+07</td>\n",
       "      <td>141227</td>\n",
       "      <td>952.0</td>\n",
       "      <td>178.0</td>\n",
       "      <td>136.0</td>\n",
       "      <td>150.000000</td>\n",
       "      <td>77.333333</td>\n",
       "      <td>676.0</td>\n",
       "    </tr>\n",
       "    <tr>\n",
       "      <th>18</th>\n",
       "      <td>3.087985e+07</td>\n",
       "      <td>141227</td>\n",
       "      <td>1412.0</td>\n",
       "      <td>80.0</td>\n",
       "      <td>50.0</td>\n",
       "      <td>60.000000</td>\n",
       "      <td>77.333333</td>\n",
       "      <td>676.0</td>\n",
       "    </tr>\n",
       "    <tr>\n",
       "      <th>19</th>\n",
       "      <td>3.089815e+07</td>\n",
       "      <td>141227</td>\n",
       "      <td>912.0</td>\n",
       "      <td>146.0</td>\n",
       "      <td>142.0</td>\n",
       "      <td>143.333333</td>\n",
       "      <td>77.333333</td>\n",
       "      <td>676.0</td>\n",
       "    </tr>\n",
       "    <tr>\n",
       "      <th>20</th>\n",
       "      <td>3.089423e+07</td>\n",
       "      <td>141227</td>\n",
       "      <td>1022.0</td>\n",
       "      <td>97.0</td>\n",
       "      <td>91.0</td>\n",
       "      <td>93.000000</td>\n",
       "      <td>77.333333</td>\n",
       "      <td>676.0</td>\n",
       "    </tr>\n",
       "    <tr>\n",
       "      <th>21</th>\n",
       "      <td>3.087270e+07</td>\n",
       "      <td>141227</td>\n",
       "      <td>1607.0</td>\n",
       "      <td>32.0</td>\n",
       "      <td>22.0</td>\n",
       "      <td>25.333333</td>\n",
       "      <td>77.333333</td>\n",
       "      <td>676.0</td>\n",
       "    </tr>\n",
       "    <tr>\n",
       "      <th>22</th>\n",
       "      <td>3.089938e+07</td>\n",
       "      <td>141227</td>\n",
       "      <td>877.0</td>\n",
       "      <td>122.0</td>\n",
       "      <td>70.0</td>\n",
       "      <td>87.333333</td>\n",
       "      <td>77.333333</td>\n",
       "      <td>676.0</td>\n",
       "    </tr>\n",
       "    <tr>\n",
       "      <th>23</th>\n",
       "      <td>3.089566e+07</td>\n",
       "      <td>141227</td>\n",
       "      <td>982.0</td>\n",
       "      <td>118.0</td>\n",
       "      <td>64.0</td>\n",
       "      <td>82.000000</td>\n",
       "      <td>77.333333</td>\n",
       "      <td>676.0</td>\n",
       "    </tr>\n",
       "    <tr>\n",
       "      <th>24</th>\n",
       "      <td>3.089956e+07</td>\n",
       "      <td>141227</td>\n",
       "      <td>872.0</td>\n",
       "      <td>102.0</td>\n",
       "      <td>94.0</td>\n",
       "      <td>96.666667</td>\n",
       "      <td>77.333333</td>\n",
       "      <td>676.0</td>\n",
       "    </tr>\n",
       "    <tr>\n",
       "      <th>25</th>\n",
       "      <td>3.087476e+07</td>\n",
       "      <td>141227</td>\n",
       "      <td>1552.0</td>\n",
       "      <td>108.0</td>\n",
       "      <td>44.0</td>\n",
       "      <td>65.333333</td>\n",
       "      <td>77.333333</td>\n",
       "      <td>676.0</td>\n",
       "    </tr>\n",
       "    <tr>\n",
       "      <th>26</th>\n",
       "      <td>3.089973e+07</td>\n",
       "      <td>141227</td>\n",
       "      <td>867.0</td>\n",
       "      <td>100.0</td>\n",
       "      <td>94.0</td>\n",
       "      <td>96.000000</td>\n",
       "      <td>77.333333</td>\n",
       "      <td>676.0</td>\n",
       "    </tr>\n",
       "    <tr>\n",
       "      <th>27</th>\n",
       "      <td>3.087440e+07</td>\n",
       "      <td>141227</td>\n",
       "      <td>1562.0</td>\n",
       "      <td>144.0</td>\n",
       "      <td>64.0</td>\n",
       "      <td>90.666667</td>\n",
       "      <td>77.333333</td>\n",
       "      <td>676.0</td>\n",
       "    </tr>\n",
       "    <tr>\n",
       "      <th>28</th>\n",
       "      <td>3.090009e+07</td>\n",
       "      <td>141227</td>\n",
       "      <td>857.0</td>\n",
       "      <td>104.0</td>\n",
       "      <td>98.0</td>\n",
       "      <td>100.000000</td>\n",
       "      <td>77.333333</td>\n",
       "      <td>676.0</td>\n",
       "    </tr>\n",
       "    <tr>\n",
       "      <th>29</th>\n",
       "      <td>3.090593e+07</td>\n",
       "      <td>141227</td>\n",
       "      <td>692.0</td>\n",
       "      <td>158.0</td>\n",
       "      <td>72.0</td>\n",
       "      <td>100.666667</td>\n",
       "      <td>77.333333</td>\n",
       "      <td>676.0</td>\n",
       "    </tr>\n",
       "    <tr>\n",
       "      <th>...</th>\n",
       "      <td>...</td>\n",
       "      <td>...</td>\n",
       "      <td>...</td>\n",
       "      <td>...</td>\n",
       "      <td>...</td>\n",
       "      <td>...</td>\n",
       "      <td>...</td>\n",
       "      <td>...</td>\n",
       "    </tr>\n",
       "    <tr>\n",
       "      <th>3376898</th>\n",
       "      <td>2.174591e+09</td>\n",
       "      <td>3353251</td>\n",
       "      <td>4329.0</td>\n",
       "      <td>158.0</td>\n",
       "      <td>53.0</td>\n",
       "      <td>88.000000</td>\n",
       "      <td>65.333333</td>\n",
       "      <td>20456.0</td>\n",
       "    </tr>\n",
       "    <tr>\n",
       "      <th>3376899</th>\n",
       "      <td>2.174550e+09</td>\n",
       "      <td>3353251</td>\n",
       "      <td>8799.0</td>\n",
       "      <td>134.0</td>\n",
       "      <td>51.0</td>\n",
       "      <td>78.666667</td>\n",
       "      <td>65.333333</td>\n",
       "      <td>20456.0</td>\n",
       "    </tr>\n",
       "    <tr>\n",
       "      <th>3376900</th>\n",
       "      <td>2.174601e+09</td>\n",
       "      <td>3353251</td>\n",
       "      <td>3344.0</td>\n",
       "      <td>142.0</td>\n",
       "      <td>59.0</td>\n",
       "      <td>86.666667</td>\n",
       "      <td>65.333333</td>\n",
       "      <td>20456.0</td>\n",
       "    </tr>\n",
       "    <tr>\n",
       "      <th>3376901</th>\n",
       "      <td>2.174603e+09</td>\n",
       "      <td>3353251</td>\n",
       "      <td>3119.0</td>\n",
       "      <td>145.0</td>\n",
       "      <td>56.0</td>\n",
       "      <td>85.666667</td>\n",
       "      <td>65.333333</td>\n",
       "      <td>20456.0</td>\n",
       "    </tr>\n",
       "    <tr>\n",
       "      <th>3376902</th>\n",
       "      <td>2.174564e+09</td>\n",
       "      <td>3353251</td>\n",
       "      <td>7234.0</td>\n",
       "      <td>149.0</td>\n",
       "      <td>50.0</td>\n",
       "      <td>83.000000</td>\n",
       "      <td>65.333333</td>\n",
       "      <td>20456.0</td>\n",
       "    </tr>\n",
       "    <tr>\n",
       "      <th>3376903</th>\n",
       "      <td>2.174620e+09</td>\n",
       "      <td>3353251</td>\n",
       "      <td>1629.0</td>\n",
       "      <td>126.0</td>\n",
       "      <td>53.0</td>\n",
       "      <td>77.333333</td>\n",
       "      <td>65.333333</td>\n",
       "      <td>20456.0</td>\n",
       "    </tr>\n",
       "    <tr>\n",
       "      <th>3376904</th>\n",
       "      <td>2.174601e+09</td>\n",
       "      <td>3353251</td>\n",
       "      <td>3339.0</td>\n",
       "      <td>142.0</td>\n",
       "      <td>59.0</td>\n",
       "      <td>86.666667</td>\n",
       "      <td>65.333333</td>\n",
       "      <td>20456.0</td>\n",
       "    </tr>\n",
       "    <tr>\n",
       "      <th>3376905</th>\n",
       "      <td>2.174620e+09</td>\n",
       "      <td>3353251</td>\n",
       "      <td>1634.0</td>\n",
       "      <td>124.0</td>\n",
       "      <td>52.0</td>\n",
       "      <td>76.000000</td>\n",
       "      <td>65.333333</td>\n",
       "      <td>20456.0</td>\n",
       "    </tr>\n",
       "    <tr>\n",
       "      <th>3376906</th>\n",
       "      <td>2.174591e+09</td>\n",
       "      <td>3353251</td>\n",
       "      <td>4404.0</td>\n",
       "      <td>153.0</td>\n",
       "      <td>50.0</td>\n",
       "      <td>84.333333</td>\n",
       "      <td>65.333333</td>\n",
       "      <td>20456.0</td>\n",
       "    </tr>\n",
       "    <tr>\n",
       "      <th>3376907</th>\n",
       "      <td>2.174589e+09</td>\n",
       "      <td>3353251</td>\n",
       "      <td>4554.0</td>\n",
       "      <td>146.0</td>\n",
       "      <td>47.0</td>\n",
       "      <td>80.000000</td>\n",
       "      <td>65.333333</td>\n",
       "      <td>20456.0</td>\n",
       "    </tr>\n",
       "    <tr>\n",
       "      <th>3376908</th>\n",
       "      <td>2.174560e+09</td>\n",
       "      <td>3353251</td>\n",
       "      <td>7679.0</td>\n",
       "      <td>159.0</td>\n",
       "      <td>60.0</td>\n",
       "      <td>93.000000</td>\n",
       "      <td>65.333333</td>\n",
       "      <td>20456.0</td>\n",
       "    </tr>\n",
       "    <tr>\n",
       "      <th>3376909</th>\n",
       "      <td>2.174620e+09</td>\n",
       "      <td>3353251</td>\n",
       "      <td>1659.0</td>\n",
       "      <td>121.0</td>\n",
       "      <td>52.0</td>\n",
       "      <td>75.000000</td>\n",
       "      <td>65.333333</td>\n",
       "      <td>20456.0</td>\n",
       "    </tr>\n",
       "    <tr>\n",
       "      <th>3376910</th>\n",
       "      <td>2.174551e+09</td>\n",
       "      <td>3353251</td>\n",
       "      <td>8689.0</td>\n",
       "      <td>123.0</td>\n",
       "      <td>55.0</td>\n",
       "      <td>77.666667</td>\n",
       "      <td>65.333333</td>\n",
       "      <td>20456.0</td>\n",
       "    </tr>\n",
       "    <tr>\n",
       "      <th>3376911</th>\n",
       "      <td>2.174589e+09</td>\n",
       "      <td>3353251</td>\n",
       "      <td>4559.0</td>\n",
       "      <td>144.0</td>\n",
       "      <td>46.0</td>\n",
       "      <td>78.666667</td>\n",
       "      <td>65.333333</td>\n",
       "      <td>20456.0</td>\n",
       "    </tr>\n",
       "    <tr>\n",
       "      <th>3376912</th>\n",
       "      <td>2.174515e+09</td>\n",
       "      <td>3353251</td>\n",
       "      <td>11924.0</td>\n",
       "      <td>130.0</td>\n",
       "      <td>53.0</td>\n",
       "      <td>78.666667</td>\n",
       "      <td>65.333333</td>\n",
       "      <td>20456.0</td>\n",
       "    </tr>\n",
       "    <tr>\n",
       "      <th>3376913</th>\n",
       "      <td>2.174620e+09</td>\n",
       "      <td>3353251</td>\n",
       "      <td>1644.0</td>\n",
       "      <td>122.0</td>\n",
       "      <td>52.0</td>\n",
       "      <td>75.333333</td>\n",
       "      <td>65.333333</td>\n",
       "      <td>20456.0</td>\n",
       "    </tr>\n",
       "    <tr>\n",
       "      <th>3376914</th>\n",
       "      <td>2.174637e+09</td>\n",
       "      <td>3353251</td>\n",
       "      <td>99.0</td>\n",
       "      <td>102.0</td>\n",
       "      <td>54.0</td>\n",
       "      <td>70.000000</td>\n",
       "      <td>65.333333</td>\n",
       "      <td>20456.0</td>\n",
       "    </tr>\n",
       "    <tr>\n",
       "      <th>3376915</th>\n",
       "      <td>2.174551e+09</td>\n",
       "      <td>3353251</td>\n",
       "      <td>8704.0</td>\n",
       "      <td>142.0</td>\n",
       "      <td>65.0</td>\n",
       "      <td>90.666667</td>\n",
       "      <td>65.333333</td>\n",
       "      <td>20456.0</td>\n",
       "    </tr>\n",
       "    <tr>\n",
       "      <th>3376916</th>\n",
       "      <td>2.174562e+09</td>\n",
       "      <td>3353251</td>\n",
       "      <td>7439.0</td>\n",
       "      <td>158.0</td>\n",
       "      <td>59.0</td>\n",
       "      <td>92.000000</td>\n",
       "      <td>65.333333</td>\n",
       "      <td>20456.0</td>\n",
       "    </tr>\n",
       "    <tr>\n",
       "      <th>3376917</th>\n",
       "      <td>2.174637e+09</td>\n",
       "      <td>3353251</td>\n",
       "      <td>94.0</td>\n",
       "      <td>100.0</td>\n",
       "      <td>54.0</td>\n",
       "      <td>69.333333</td>\n",
       "      <td>65.333333</td>\n",
       "      <td>20456.0</td>\n",
       "    </tr>\n",
       "    <tr>\n",
       "      <th>3376918</th>\n",
       "      <td>2.174620e+09</td>\n",
       "      <td>3353251</td>\n",
       "      <td>1649.0</td>\n",
       "      <td>123.0</td>\n",
       "      <td>53.0</td>\n",
       "      <td>76.333333</td>\n",
       "      <td>65.333333</td>\n",
       "      <td>20456.0</td>\n",
       "    </tr>\n",
       "    <tr>\n",
       "      <th>3376919</th>\n",
       "      <td>2.174551e+09</td>\n",
       "      <td>3353251</td>\n",
       "      <td>8694.0</td>\n",
       "      <td>126.0</td>\n",
       "      <td>55.0</td>\n",
       "      <td>78.666667</td>\n",
       "      <td>65.333333</td>\n",
       "      <td>20456.0</td>\n",
       "    </tr>\n",
       "    <tr>\n",
       "      <th>3376920</th>\n",
       "      <td>2.174518e+09</td>\n",
       "      <td>3353251</td>\n",
       "      <td>11724.0</td>\n",
       "      <td>143.0</td>\n",
       "      <td>55.0</td>\n",
       "      <td>84.333333</td>\n",
       "      <td>65.333333</td>\n",
       "      <td>20456.0</td>\n",
       "    </tr>\n",
       "    <tr>\n",
       "      <th>3376921</th>\n",
       "      <td>2.174591e+09</td>\n",
       "      <td>3353251</td>\n",
       "      <td>4399.0</td>\n",
       "      <td>154.0</td>\n",
       "      <td>48.0</td>\n",
       "      <td>83.333333</td>\n",
       "      <td>65.333333</td>\n",
       "      <td>20456.0</td>\n",
       "    </tr>\n",
       "    <tr>\n",
       "      <th>3376922</th>\n",
       "      <td>2.174620e+09</td>\n",
       "      <td>3353251</td>\n",
       "      <td>1654.0</td>\n",
       "      <td>122.0</td>\n",
       "      <td>53.0</td>\n",
       "      <td>76.000000</td>\n",
       "      <td>65.333333</td>\n",
       "      <td>20456.0</td>\n",
       "    </tr>\n",
       "    <tr>\n",
       "      <th>3376923</th>\n",
       "      <td>2.174621e+09</td>\n",
       "      <td>3353251</td>\n",
       "      <td>1529.0</td>\n",
       "      <td>121.0</td>\n",
       "      <td>54.0</td>\n",
       "      <td>76.333333</td>\n",
       "      <td>65.333333</td>\n",
       "      <td>20456.0</td>\n",
       "    </tr>\n",
       "    <tr>\n",
       "      <th>3376924</th>\n",
       "      <td>2.174551e+09</td>\n",
       "      <td>3353251</td>\n",
       "      <td>8734.0</td>\n",
       "      <td>125.0</td>\n",
       "      <td>51.0</td>\n",
       "      <td>75.666667</td>\n",
       "      <td>65.333333</td>\n",
       "      <td>20456.0</td>\n",
       "    </tr>\n",
       "    <tr>\n",
       "      <th>3376925</th>\n",
       "      <td>2.174638e+09</td>\n",
       "      <td>3353251</td>\n",
       "      <td>24.0</td>\n",
       "      <td>179.0</td>\n",
       "      <td>65.0</td>\n",
       "      <td>103.000000</td>\n",
       "      <td>65.333333</td>\n",
       "      <td>20456.0</td>\n",
       "    </tr>\n",
       "    <tr>\n",
       "      <th>3376926</th>\n",
       "      <td>2.174552e+09</td>\n",
       "      <td>3353251</td>\n",
       "      <td>8659.0</td>\n",
       "      <td>124.0</td>\n",
       "      <td>55.0</td>\n",
       "      <td>78.000000</td>\n",
       "      <td>65.333333</td>\n",
       "      <td>20456.0</td>\n",
       "    </tr>\n",
       "    <tr>\n",
       "      <th>3376927</th>\n",
       "      <td>2.174536e+09</td>\n",
       "      <td>3353251</td>\n",
       "      <td>10154.0</td>\n",
       "      <td>107.0</td>\n",
       "      <td>59.0</td>\n",
       "      <td>75.000000</td>\n",
       "      <td>65.333333</td>\n",
       "      <td>20456.0</td>\n",
       "    </tr>\n",
       "  </tbody>\n",
       "</table>\n",
       "<p>3376928 rows × 8 columns</p>\n",
       "</div>"
      ],
      "text/plain": [
       "         vitalperiodicid  patientunitstayid  observationoffset  \\\n",
       "0           3.088795e+07             141227             1192.0   \n",
       "1           3.088776e+07             141227             1197.0   \n",
       "2           3.089441e+07             141227             1017.0   \n",
       "3           3.087967e+07             141227             1417.0   \n",
       "4           3.089459e+07             141227             1012.0   \n",
       "5           3.090522e+07             141227              712.0   \n",
       "6           3.089495e+07             141227             1002.0   \n",
       "7           3.089477e+07             141227             1007.0   \n",
       "8           3.088004e+07             141227             1407.0   \n",
       "9           3.089530e+07             141227              992.0   \n",
       "10          3.088841e+07             141227             1182.0   \n",
       "11          3.089548e+07             141227              987.0   \n",
       "12          3.090504e+07             141227              717.0   \n",
       "13          3.087874e+07             141227             1442.0   \n",
       "14          3.089903e+07             141227              887.0   \n",
       "15          3.089921e+07             141227              882.0   \n",
       "16          3.087288e+07             141227             1602.0   \n",
       "17          3.089673e+07             141227              952.0   \n",
       "18          3.087985e+07             141227             1412.0   \n",
       "19          3.089815e+07             141227              912.0   \n",
       "20          3.089423e+07             141227             1022.0   \n",
       "21          3.087270e+07             141227             1607.0   \n",
       "22          3.089938e+07             141227              877.0   \n",
       "23          3.089566e+07             141227              982.0   \n",
       "24          3.089956e+07             141227              872.0   \n",
       "25          3.087476e+07             141227             1552.0   \n",
       "26          3.089973e+07             141227              867.0   \n",
       "27          3.087440e+07             141227             1562.0   \n",
       "28          3.090009e+07             141227              857.0   \n",
       "29          3.090593e+07             141227              692.0   \n",
       "...                  ...                ...                ...   \n",
       "3376898     2.174591e+09            3353251             4329.0   \n",
       "3376899     2.174550e+09            3353251             8799.0   \n",
       "3376900     2.174601e+09            3353251             3344.0   \n",
       "3376901     2.174603e+09            3353251             3119.0   \n",
       "3376902     2.174564e+09            3353251             7234.0   \n",
       "3376903     2.174620e+09            3353251             1629.0   \n",
       "3376904     2.174601e+09            3353251             3339.0   \n",
       "3376905     2.174620e+09            3353251             1634.0   \n",
       "3376906     2.174591e+09            3353251             4404.0   \n",
       "3376907     2.174589e+09            3353251             4554.0   \n",
       "3376908     2.174560e+09            3353251             7679.0   \n",
       "3376909     2.174620e+09            3353251             1659.0   \n",
       "3376910     2.174551e+09            3353251             8689.0   \n",
       "3376911     2.174589e+09            3353251             4559.0   \n",
       "3376912     2.174515e+09            3353251            11924.0   \n",
       "3376913     2.174620e+09            3353251             1644.0   \n",
       "3376914     2.174637e+09            3353251               99.0   \n",
       "3376915     2.174551e+09            3353251             8704.0   \n",
       "3376916     2.174562e+09            3353251             7439.0   \n",
       "3376917     2.174637e+09            3353251               94.0   \n",
       "3376918     2.174620e+09            3353251             1649.0   \n",
       "3376919     2.174551e+09            3353251             8694.0   \n",
       "3376920     2.174518e+09            3353251            11724.0   \n",
       "3376921     2.174591e+09            3353251             4399.0   \n",
       "3376922     2.174620e+09            3353251             1654.0   \n",
       "3376923     2.174621e+09            3353251             1529.0   \n",
       "3376924     2.174551e+09            3353251             8734.0   \n",
       "3376925     2.174638e+09            3353251               24.0   \n",
       "3376926     2.174552e+09            3353251             8659.0   \n",
       "3376927     2.174536e+09            3353251            10154.0   \n",
       "\n",
       "         systemicsystolic  systemicdiastolic  MAP_vitals     MAP_df  \\\n",
       "0                   130.0               70.0   90.000000  77.333333   \n",
       "1                   124.0               74.0   90.666667  77.333333   \n",
       "2                    97.0               92.0   93.666667  77.333333   \n",
       "3                    80.0               50.0   60.000000  77.333333   \n",
       "4                   100.0               94.0   96.000000  77.333333   \n",
       "5                    76.0               54.0   61.333333  77.333333   \n",
       "6                    77.0               70.0   72.333333  77.333333   \n",
       "7                    94.0               90.0   91.333333  77.333333   \n",
       "8                    80.0               52.0   61.333333  77.333333   \n",
       "9                    96.0               92.0   93.333333  77.333333   \n",
       "10                  126.0               66.0   86.000000  77.333333   \n",
       "11                   94.0               90.0   91.333333  77.333333   \n",
       "12                  124.0               88.0  100.000000  77.333333   \n",
       "13                  110.0              106.0  107.333333  77.333333   \n",
       "14                  140.0              136.0  137.333333  77.333333   \n",
       "15                  115.0              100.0  105.000000  77.333333   \n",
       "16                  104.0               38.0   60.000000  77.333333   \n",
       "17                  178.0              136.0  150.000000  77.333333   \n",
       "18                   80.0               50.0   60.000000  77.333333   \n",
       "19                  146.0              142.0  143.333333  77.333333   \n",
       "20                   97.0               91.0   93.000000  77.333333   \n",
       "21                   32.0               22.0   25.333333  77.333333   \n",
       "22                  122.0               70.0   87.333333  77.333333   \n",
       "23                  118.0               64.0   82.000000  77.333333   \n",
       "24                  102.0               94.0   96.666667  77.333333   \n",
       "25                  108.0               44.0   65.333333  77.333333   \n",
       "26                  100.0               94.0   96.000000  77.333333   \n",
       "27                  144.0               64.0   90.666667  77.333333   \n",
       "28                  104.0               98.0  100.000000  77.333333   \n",
       "29                  158.0               72.0  100.666667  77.333333   \n",
       "...                   ...                ...         ...        ...   \n",
       "3376898             158.0               53.0   88.000000  65.333333   \n",
       "3376899             134.0               51.0   78.666667  65.333333   \n",
       "3376900             142.0               59.0   86.666667  65.333333   \n",
       "3376901             145.0               56.0   85.666667  65.333333   \n",
       "3376902             149.0               50.0   83.000000  65.333333   \n",
       "3376903             126.0               53.0   77.333333  65.333333   \n",
       "3376904             142.0               59.0   86.666667  65.333333   \n",
       "3376905             124.0               52.0   76.000000  65.333333   \n",
       "3376906             153.0               50.0   84.333333  65.333333   \n",
       "3376907             146.0               47.0   80.000000  65.333333   \n",
       "3376908             159.0               60.0   93.000000  65.333333   \n",
       "3376909             121.0               52.0   75.000000  65.333333   \n",
       "3376910             123.0               55.0   77.666667  65.333333   \n",
       "3376911             144.0               46.0   78.666667  65.333333   \n",
       "3376912             130.0               53.0   78.666667  65.333333   \n",
       "3376913             122.0               52.0   75.333333  65.333333   \n",
       "3376914             102.0               54.0   70.000000  65.333333   \n",
       "3376915             142.0               65.0   90.666667  65.333333   \n",
       "3376916             158.0               59.0   92.000000  65.333333   \n",
       "3376917             100.0               54.0   69.333333  65.333333   \n",
       "3376918             123.0               53.0   76.333333  65.333333   \n",
       "3376919             126.0               55.0   78.666667  65.333333   \n",
       "3376920             143.0               55.0   84.333333  65.333333   \n",
       "3376921             154.0               48.0   83.333333  65.333333   \n",
       "3376922             122.0               53.0   76.000000  65.333333   \n",
       "3376923             121.0               54.0   76.333333  65.333333   \n",
       "3376924             125.0               51.0   75.666667  65.333333   \n",
       "3376925             179.0               65.0  103.000000  65.333333   \n",
       "3376926             124.0               55.0   78.000000  65.333333   \n",
       "3376927             107.0               59.0   75.000000  65.333333   \n",
       "\n",
       "         observationoffsetinit  \n",
       "0                        676.0  \n",
       "1                        676.0  \n",
       "2                        676.0  \n",
       "3                        676.0  \n",
       "4                        676.0  \n",
       "5                        676.0  \n",
       "6                        676.0  \n",
       "7                        676.0  \n",
       "8                        676.0  \n",
       "9                        676.0  \n",
       "10                       676.0  \n",
       "11                       676.0  \n",
       "12                       676.0  \n",
       "13                       676.0  \n",
       "14                       676.0  \n",
       "15                       676.0  \n",
       "16                       676.0  \n",
       "17                       676.0  \n",
       "18                       676.0  \n",
       "19                       676.0  \n",
       "20                       676.0  \n",
       "21                       676.0  \n",
       "22                       676.0  \n",
       "23                       676.0  \n",
       "24                       676.0  \n",
       "25                       676.0  \n",
       "26                       676.0  \n",
       "27                       676.0  \n",
       "28                       676.0  \n",
       "29                       676.0  \n",
       "...                        ...  \n",
       "3376898                20456.0  \n",
       "3376899                20456.0  \n",
       "3376900                20456.0  \n",
       "3376901                20456.0  \n",
       "3376902                20456.0  \n",
       "3376903                20456.0  \n",
       "3376904                20456.0  \n",
       "3376905                20456.0  \n",
       "3376906                20456.0  \n",
       "3376907                20456.0  \n",
       "3376908                20456.0  \n",
       "3376909                20456.0  \n",
       "3376910                20456.0  \n",
       "3376911                20456.0  \n",
       "3376912                20456.0  \n",
       "3376913                20456.0  \n",
       "3376914                20456.0  \n",
       "3376915                20456.0  \n",
       "3376916                20456.0  \n",
       "3376917                20456.0  \n",
       "3376918                20456.0  \n",
       "3376919                20456.0  \n",
       "3376920                20456.0  \n",
       "3376921                20456.0  \n",
       "3376922                20456.0  \n",
       "3376923                20456.0  \n",
       "3376924                20456.0  \n",
       "3376925                20456.0  \n",
       "3376926                20456.0  \n",
       "3376927                20456.0  \n",
       "\n",
       "[3376928 rows x 8 columns]"
      ]
     },
     "execution_count": 101,
     "metadata": {},
     "output_type": "execute_result"
    }
   ],
   "source": [
    "ivitals"
   ]
  },
  {
   "cell_type": "code",
   "execution_count": 102,
   "metadata": {},
   "outputs": [
    {
     "data": {
      "text/plain": [
       "1440"
      ]
     },
     "execution_count": 102,
     "metadata": {},
     "output_type": "execute_result"
    }
   ],
   "source": [
    "24*60"
   ]
  },
  {
   "cell_type": "code",
   "execution_count": 103,
   "metadata": {
    "collapsed": true
   },
   "outputs": [],
   "source": [
    "def checkifvalid(obsofflist, obsoffinitlist, df):\n",
    "    \"\"\"Function to check if SBP and DBP have increased in 24 hours\"\"\"\n",
    "    \n",
    "    droplist = []\n",
    "    for i in range(len(obsofflist)):\n",
    "        if obsofflist[i] - obsoffinitlist[i] <= 1440:\n",
    "            droplist.append(i)\n",
    "        \n",
    "    df.drop(droplist, inplace=True)"
   ]
  },
  {
   "cell_type": "code",
   "execution_count": 104,
   "metadata": {
    "collapsed": true
   },
   "outputs": [],
   "source": [
    "checkifvalid(ivitals['observationoffset'].tolist(), ivitals['observationoffsetinit'].tolist(), ivitals)"
   ]
  },
  {
   "cell_type": "code",
   "execution_count": 105,
   "metadata": {},
   "outputs": [
    {
     "data": {
      "text/plain": [
       "(1751531, 8)"
      ]
     },
     "execution_count": 105,
     "metadata": {},
     "output_type": "execute_result"
    }
   ],
   "source": [
    "ivitals.shape"
   ]
  },
  {
   "cell_type": "code",
   "execution_count": 108,
   "metadata": {
    "collapsed": true
   },
   "outputs": [],
   "source": [
    "ivitals.drop('vitalperiodicid', axis=1, inplace=True)\n",
    "ivitals.reset_index(inplace=True, drop=True)"
   ]
  },
  {
   "cell_type": "code",
   "execution_count": 109,
   "metadata": {
    "scrolled": true
   },
   "outputs": [
    {
     "data": {
      "text/html": [
       "<div>\n",
       "<style scoped>\n",
       "    .dataframe tbody tr th:only-of-type {\n",
       "        vertical-align: middle;\n",
       "    }\n",
       "\n",
       "    .dataframe tbody tr th {\n",
       "        vertical-align: top;\n",
       "    }\n",
       "\n",
       "    .dataframe thead th {\n",
       "        text-align: right;\n",
       "    }\n",
       "</style>\n",
       "<table border=\"1\" class=\"dataframe\">\n",
       "  <thead>\n",
       "    <tr style=\"text-align: right;\">\n",
       "      <th></th>\n",
       "      <th>patientunitstayid</th>\n",
       "      <th>observationoffset</th>\n",
       "      <th>systemicsystolic</th>\n",
       "      <th>systemicdiastolic</th>\n",
       "      <th>MAP_vitals</th>\n",
       "      <th>MAP_df</th>\n",
       "      <th>observationoffsetinit</th>\n",
       "    </tr>\n",
       "  </thead>\n",
       "  <tbody>\n",
       "    <tr>\n",
       "      <th>0</th>\n",
       "      <td>143466</td>\n",
       "      <td>10140.0</td>\n",
       "      <td>132.0</td>\n",
       "      <td>50.0</td>\n",
       "      <td>77.333333</td>\n",
       "      <td>75.333333</td>\n",
       "      <td>1173.0</td>\n",
       "    </tr>\n",
       "    <tr>\n",
       "      <th>1</th>\n",
       "      <td>143466</td>\n",
       "      <td>9835.0</td>\n",
       "      <td>112.0</td>\n",
       "      <td>45.0</td>\n",
       "      <td>67.333333</td>\n",
       "      <td>75.333333</td>\n",
       "      <td>1173.0</td>\n",
       "    </tr>\n",
       "    <tr>\n",
       "      <th>2</th>\n",
       "      <td>143466</td>\n",
       "      <td>4620.0</td>\n",
       "      <td>169.0</td>\n",
       "      <td>68.0</td>\n",
       "      <td>101.666667</td>\n",
       "      <td>75.333333</td>\n",
       "      <td>1173.0</td>\n",
       "    </tr>\n",
       "    <tr>\n",
       "      <th>3</th>\n",
       "      <td>143466</td>\n",
       "      <td>8775.0</td>\n",
       "      <td>123.0</td>\n",
       "      <td>51.0</td>\n",
       "      <td>75.000000</td>\n",
       "      <td>75.333333</td>\n",
       "      <td>1173.0</td>\n",
       "    </tr>\n",
       "    <tr>\n",
       "      <th>4</th>\n",
       "      <td>143466</td>\n",
       "      <td>10720.0</td>\n",
       "      <td>120.0</td>\n",
       "      <td>47.0</td>\n",
       "      <td>71.333333</td>\n",
       "      <td>75.333333</td>\n",
       "      <td>1173.0</td>\n",
       "    </tr>\n",
       "    <tr>\n",
       "      <th>5</th>\n",
       "      <td>143466</td>\n",
       "      <td>10115.0</td>\n",
       "      <td>114.0</td>\n",
       "      <td>45.0</td>\n",
       "      <td>68.000000</td>\n",
       "      <td>75.333333</td>\n",
       "      <td>1173.0</td>\n",
       "    </tr>\n",
       "    <tr>\n",
       "      <th>6</th>\n",
       "      <td>143466</td>\n",
       "      <td>3765.0</td>\n",
       "      <td>140.0</td>\n",
       "      <td>66.0</td>\n",
       "      <td>90.666667</td>\n",
       "      <td>75.333333</td>\n",
       "      <td>1173.0</td>\n",
       "    </tr>\n",
       "    <tr>\n",
       "      <th>7</th>\n",
       "      <td>143466</td>\n",
       "      <td>4130.0</td>\n",
       "      <td>147.0</td>\n",
       "      <td>65.0</td>\n",
       "      <td>92.333333</td>\n",
       "      <td>75.333333</td>\n",
       "      <td>1173.0</td>\n",
       "    </tr>\n",
       "    <tr>\n",
       "      <th>8</th>\n",
       "      <td>143466</td>\n",
       "      <td>11830.0</td>\n",
       "      <td>110.0</td>\n",
       "      <td>42.0</td>\n",
       "      <td>64.666667</td>\n",
       "      <td>75.333333</td>\n",
       "      <td>1173.0</td>\n",
       "    </tr>\n",
       "    <tr>\n",
       "      <th>9</th>\n",
       "      <td>143466</td>\n",
       "      <td>7230.0</td>\n",
       "      <td>137.0</td>\n",
       "      <td>55.0</td>\n",
       "      <td>82.333333</td>\n",
       "      <td>75.333333</td>\n",
       "      <td>1173.0</td>\n",
       "    </tr>\n",
       "    <tr>\n",
       "      <th>10</th>\n",
       "      <td>143466</td>\n",
       "      <td>12615.0</td>\n",
       "      <td>99.0</td>\n",
       "      <td>44.0</td>\n",
       "      <td>62.333333</td>\n",
       "      <td>75.333333</td>\n",
       "      <td>1173.0</td>\n",
       "    </tr>\n",
       "    <tr>\n",
       "      <th>11</th>\n",
       "      <td>143466</td>\n",
       "      <td>13125.0</td>\n",
       "      <td>101.0</td>\n",
       "      <td>37.0</td>\n",
       "      <td>58.333333</td>\n",
       "      <td>75.333333</td>\n",
       "      <td>1173.0</td>\n",
       "    </tr>\n",
       "    <tr>\n",
       "      <th>12</th>\n",
       "      <td>143466</td>\n",
       "      <td>9345.0</td>\n",
       "      <td>120.0</td>\n",
       "      <td>44.0</td>\n",
       "      <td>69.333333</td>\n",
       "      <td>75.333333</td>\n",
       "      <td>1173.0</td>\n",
       "    </tr>\n",
       "    <tr>\n",
       "      <th>13</th>\n",
       "      <td>143466</td>\n",
       "      <td>4395.0</td>\n",
       "      <td>166.0</td>\n",
       "      <td>71.0</td>\n",
       "      <td>102.666667</td>\n",
       "      <td>75.333333</td>\n",
       "      <td>1173.0</td>\n",
       "    </tr>\n",
       "    <tr>\n",
       "      <th>14</th>\n",
       "      <td>143466</td>\n",
       "      <td>13910.0</td>\n",
       "      <td>114.0</td>\n",
       "      <td>42.0</td>\n",
       "      <td>66.000000</td>\n",
       "      <td>75.333333</td>\n",
       "      <td>1173.0</td>\n",
       "    </tr>\n",
       "    <tr>\n",
       "      <th>15</th>\n",
       "      <td>143466</td>\n",
       "      <td>11300.0</td>\n",
       "      <td>102.0</td>\n",
       "      <td>41.0</td>\n",
       "      <td>61.333333</td>\n",
       "      <td>75.333333</td>\n",
       "      <td>1173.0</td>\n",
       "    </tr>\n",
       "    <tr>\n",
       "      <th>16</th>\n",
       "      <td>143466</td>\n",
       "      <td>7200.0</td>\n",
       "      <td>138.0</td>\n",
       "      <td>52.0</td>\n",
       "      <td>80.666667</td>\n",
       "      <td>75.333333</td>\n",
       "      <td>1173.0</td>\n",
       "    </tr>\n",
       "    <tr>\n",
       "      <th>17</th>\n",
       "      <td>143466</td>\n",
       "      <td>5440.0</td>\n",
       "      <td>138.0</td>\n",
       "      <td>59.0</td>\n",
       "      <td>85.333333</td>\n",
       "      <td>75.333333</td>\n",
       "      <td>1173.0</td>\n",
       "    </tr>\n",
       "    <tr>\n",
       "      <th>18</th>\n",
       "      <td>143466</td>\n",
       "      <td>8980.0</td>\n",
       "      <td>162.0</td>\n",
       "      <td>64.0</td>\n",
       "      <td>96.666667</td>\n",
       "      <td>75.333333</td>\n",
       "      <td>1173.0</td>\n",
       "    </tr>\n",
       "    <tr>\n",
       "      <th>19</th>\n",
       "      <td>143466</td>\n",
       "      <td>8845.0</td>\n",
       "      <td>141.0</td>\n",
       "      <td>55.0</td>\n",
       "      <td>83.666667</td>\n",
       "      <td>75.333333</td>\n",
       "      <td>1173.0</td>\n",
       "    </tr>\n",
       "    <tr>\n",
       "      <th>20</th>\n",
       "      <td>143466</td>\n",
       "      <td>3530.0</td>\n",
       "      <td>141.0</td>\n",
       "      <td>68.0</td>\n",
       "      <td>92.333333</td>\n",
       "      <td>75.333333</td>\n",
       "      <td>1173.0</td>\n",
       "    </tr>\n",
       "    <tr>\n",
       "      <th>21</th>\n",
       "      <td>143466</td>\n",
       "      <td>8050.0</td>\n",
       "      <td>160.0</td>\n",
       "      <td>67.0</td>\n",
       "      <td>98.000000</td>\n",
       "      <td>75.333333</td>\n",
       "      <td>1173.0</td>\n",
       "    </tr>\n",
       "    <tr>\n",
       "      <th>22</th>\n",
       "      <td>143466</td>\n",
       "      <td>2655.0</td>\n",
       "      <td>140.0</td>\n",
       "      <td>70.0</td>\n",
       "      <td>93.333333</td>\n",
       "      <td>75.333333</td>\n",
       "      <td>1173.0</td>\n",
       "    </tr>\n",
       "    <tr>\n",
       "      <th>23</th>\n",
       "      <td>143466</td>\n",
       "      <td>2995.0</td>\n",
       "      <td>162.0</td>\n",
       "      <td>76.0</td>\n",
       "      <td>104.666667</td>\n",
       "      <td>75.333333</td>\n",
       "      <td>1173.0</td>\n",
       "    </tr>\n",
       "    <tr>\n",
       "      <th>24</th>\n",
       "      <td>143466</td>\n",
       "      <td>6935.0</td>\n",
       "      <td>181.0</td>\n",
       "      <td>74.0</td>\n",
       "      <td>109.666667</td>\n",
       "      <td>75.333333</td>\n",
       "      <td>1173.0</td>\n",
       "    </tr>\n",
       "    <tr>\n",
       "      <th>25</th>\n",
       "      <td>143466</td>\n",
       "      <td>5880.0</td>\n",
       "      <td>129.0</td>\n",
       "      <td>54.0</td>\n",
       "      <td>79.000000</td>\n",
       "      <td>75.333333</td>\n",
       "      <td>1173.0</td>\n",
       "    </tr>\n",
       "    <tr>\n",
       "      <th>26</th>\n",
       "      <td>143466</td>\n",
       "      <td>6475.0</td>\n",
       "      <td>162.0</td>\n",
       "      <td>61.0</td>\n",
       "      <td>94.666667</td>\n",
       "      <td>75.333333</td>\n",
       "      <td>1173.0</td>\n",
       "    </tr>\n",
       "    <tr>\n",
       "      <th>27</th>\n",
       "      <td>143466</td>\n",
       "      <td>8730.0</td>\n",
       "      <td>143.0</td>\n",
       "      <td>56.0</td>\n",
       "      <td>85.000000</td>\n",
       "      <td>75.333333</td>\n",
       "      <td>1173.0</td>\n",
       "    </tr>\n",
       "    <tr>\n",
       "      <th>28</th>\n",
       "      <td>143466</td>\n",
       "      <td>11805.0</td>\n",
       "      <td>110.0</td>\n",
       "      <td>42.0</td>\n",
       "      <td>64.666667</td>\n",
       "      <td>75.333333</td>\n",
       "      <td>1173.0</td>\n",
       "    </tr>\n",
       "    <tr>\n",
       "      <th>29</th>\n",
       "      <td>143466</td>\n",
       "      <td>10950.0</td>\n",
       "      <td>115.0</td>\n",
       "      <td>44.0</td>\n",
       "      <td>67.666667</td>\n",
       "      <td>75.333333</td>\n",
       "      <td>1173.0</td>\n",
       "    </tr>\n",
       "    <tr>\n",
       "      <th>...</th>\n",
       "      <td>...</td>\n",
       "      <td>...</td>\n",
       "      <td>...</td>\n",
       "      <td>...</td>\n",
       "      <td>...</td>\n",
       "      <td>...</td>\n",
       "      <td>...</td>\n",
       "    </tr>\n",
       "    <tr>\n",
       "      <th>1751501</th>\n",
       "      <td>3353197</td>\n",
       "      <td>17845.0</td>\n",
       "      <td>113.0</td>\n",
       "      <td>42.0</td>\n",
       "      <td>65.666667</td>\n",
       "      <td>58.000000</td>\n",
       "      <td>9361.0</td>\n",
       "    </tr>\n",
       "    <tr>\n",
       "      <th>1751502</th>\n",
       "      <td>3353197</td>\n",
       "      <td>25030.0</td>\n",
       "      <td>147.0</td>\n",
       "      <td>42.0</td>\n",
       "      <td>77.000000</td>\n",
       "      <td>58.000000</td>\n",
       "      <td>9361.0</td>\n",
       "    </tr>\n",
       "    <tr>\n",
       "      <th>1751503</th>\n",
       "      <td>3353197</td>\n",
       "      <td>12085.0</td>\n",
       "      <td>121.0</td>\n",
       "      <td>45.0</td>\n",
       "      <td>70.333333</td>\n",
       "      <td>58.000000</td>\n",
       "      <td>9361.0</td>\n",
       "    </tr>\n",
       "    <tr>\n",
       "      <th>1751504</th>\n",
       "      <td>3353197</td>\n",
       "      <td>14910.0</td>\n",
       "      <td>109.0</td>\n",
       "      <td>42.0</td>\n",
       "      <td>64.333333</td>\n",
       "      <td>58.000000</td>\n",
       "      <td>9361.0</td>\n",
       "    </tr>\n",
       "    <tr>\n",
       "      <th>1751505</th>\n",
       "      <td>3353197</td>\n",
       "      <td>13480.0</td>\n",
       "      <td>121.0</td>\n",
       "      <td>48.0</td>\n",
       "      <td>72.333333</td>\n",
       "      <td>58.000000</td>\n",
       "      <td>9361.0</td>\n",
       "    </tr>\n",
       "    <tr>\n",
       "      <th>1751506</th>\n",
       "      <td>3353197</td>\n",
       "      <td>12075.0</td>\n",
       "      <td>125.0</td>\n",
       "      <td>46.0</td>\n",
       "      <td>72.333333</td>\n",
       "      <td>58.000000</td>\n",
       "      <td>9361.0</td>\n",
       "    </tr>\n",
       "    <tr>\n",
       "      <th>1751507</th>\n",
       "      <td>3353197</td>\n",
       "      <td>12080.0</td>\n",
       "      <td>122.0</td>\n",
       "      <td>45.0</td>\n",
       "      <td>70.666667</td>\n",
       "      <td>58.000000</td>\n",
       "      <td>9361.0</td>\n",
       "    </tr>\n",
       "    <tr>\n",
       "      <th>1751508</th>\n",
       "      <td>3353197</td>\n",
       "      <td>14985.0</td>\n",
       "      <td>113.0</td>\n",
       "      <td>44.0</td>\n",
       "      <td>67.000000</td>\n",
       "      <td>58.000000</td>\n",
       "      <td>9361.0</td>\n",
       "    </tr>\n",
       "    <tr>\n",
       "      <th>1751509</th>\n",
       "      <td>3353197</td>\n",
       "      <td>12070.0</td>\n",
       "      <td>120.0</td>\n",
       "      <td>45.0</td>\n",
       "      <td>70.000000</td>\n",
       "      <td>58.000000</td>\n",
       "      <td>9361.0</td>\n",
       "    </tr>\n",
       "    <tr>\n",
       "      <th>1751510</th>\n",
       "      <td>3353197</td>\n",
       "      <td>14980.0</td>\n",
       "      <td>121.0</td>\n",
       "      <td>52.0</td>\n",
       "      <td>75.000000</td>\n",
       "      <td>58.000000</td>\n",
       "      <td>9361.0</td>\n",
       "    </tr>\n",
       "    <tr>\n",
       "      <th>1751511</th>\n",
       "      <td>3353197</td>\n",
       "      <td>24970.0</td>\n",
       "      <td>148.0</td>\n",
       "      <td>42.0</td>\n",
       "      <td>77.333333</td>\n",
       "      <td>58.000000</td>\n",
       "      <td>9361.0</td>\n",
       "    </tr>\n",
       "    <tr>\n",
       "      <th>1751512</th>\n",
       "      <td>3353197</td>\n",
       "      <td>19295.0</td>\n",
       "      <td>149.0</td>\n",
       "      <td>48.0</td>\n",
       "      <td>81.666667</td>\n",
       "      <td>58.000000</td>\n",
       "      <td>9361.0</td>\n",
       "    </tr>\n",
       "    <tr>\n",
       "      <th>1751513</th>\n",
       "      <td>3353197</td>\n",
       "      <td>25025.0</td>\n",
       "      <td>150.0</td>\n",
       "      <td>43.0</td>\n",
       "      <td>78.666667</td>\n",
       "      <td>58.000000</td>\n",
       "      <td>9361.0</td>\n",
       "    </tr>\n",
       "    <tr>\n",
       "      <th>1751514</th>\n",
       "      <td>3353197</td>\n",
       "      <td>19285.0</td>\n",
       "      <td>133.0</td>\n",
       "      <td>44.0</td>\n",
       "      <td>73.666667</td>\n",
       "      <td>58.000000</td>\n",
       "      <td>9361.0</td>\n",
       "    </tr>\n",
       "    <tr>\n",
       "      <th>1751515</th>\n",
       "      <td>3353197</td>\n",
       "      <td>17810.0</td>\n",
       "      <td>117.0</td>\n",
       "      <td>42.0</td>\n",
       "      <td>67.000000</td>\n",
       "      <td>58.000000</td>\n",
       "      <td>9361.0</td>\n",
       "    </tr>\n",
       "    <tr>\n",
       "      <th>1751516</th>\n",
       "      <td>3353197</td>\n",
       "      <td>12035.0</td>\n",
       "      <td>129.0</td>\n",
       "      <td>51.0</td>\n",
       "      <td>77.000000</td>\n",
       "      <td>58.000000</td>\n",
       "      <td>9361.0</td>\n",
       "    </tr>\n",
       "    <tr>\n",
       "      <th>1751517</th>\n",
       "      <td>3353197</td>\n",
       "      <td>12045.0</td>\n",
       "      <td>121.0</td>\n",
       "      <td>45.0</td>\n",
       "      <td>70.333333</td>\n",
       "      <td>58.000000</td>\n",
       "      <td>9361.0</td>\n",
       "    </tr>\n",
       "    <tr>\n",
       "      <th>1751518</th>\n",
       "      <td>3353197</td>\n",
       "      <td>17840.0</td>\n",
       "      <td>116.0</td>\n",
       "      <td>44.0</td>\n",
       "      <td>68.000000</td>\n",
       "      <td>58.000000</td>\n",
       "      <td>9361.0</td>\n",
       "    </tr>\n",
       "    <tr>\n",
       "      <th>1751519</th>\n",
       "      <td>3353197</td>\n",
       "      <td>25020.0</td>\n",
       "      <td>141.0</td>\n",
       "      <td>42.0</td>\n",
       "      <td>75.000000</td>\n",
       "      <td>58.000000</td>\n",
       "      <td>9361.0</td>\n",
       "    </tr>\n",
       "    <tr>\n",
       "      <th>1751520</th>\n",
       "      <td>3353197</td>\n",
       "      <td>19290.0</td>\n",
       "      <td>153.0</td>\n",
       "      <td>48.0</td>\n",
       "      <td>83.000000</td>\n",
       "      <td>58.000000</td>\n",
       "      <td>9361.0</td>\n",
       "    </tr>\n",
       "    <tr>\n",
       "      <th>1751521</th>\n",
       "      <td>3353197</td>\n",
       "      <td>13450.0</td>\n",
       "      <td>122.0</td>\n",
       "      <td>48.0</td>\n",
       "      <td>72.666667</td>\n",
       "      <td>58.000000</td>\n",
       "      <td>9361.0</td>\n",
       "    </tr>\n",
       "    <tr>\n",
       "      <th>1751522</th>\n",
       "      <td>3353197</td>\n",
       "      <td>12060.0</td>\n",
       "      <td>127.0</td>\n",
       "      <td>49.0</td>\n",
       "      <td>75.000000</td>\n",
       "      <td>58.000000</td>\n",
       "      <td>9361.0</td>\n",
       "    </tr>\n",
       "    <tr>\n",
       "      <th>1751523</th>\n",
       "      <td>3353197</td>\n",
       "      <td>14975.0</td>\n",
       "      <td>119.0</td>\n",
       "      <td>52.0</td>\n",
       "      <td>74.333333</td>\n",
       "      <td>58.000000</td>\n",
       "      <td>9361.0</td>\n",
       "    </tr>\n",
       "    <tr>\n",
       "      <th>1751524</th>\n",
       "      <td>3353197</td>\n",
       "      <td>14905.0</td>\n",
       "      <td>110.0</td>\n",
       "      <td>43.0</td>\n",
       "      <td>65.333333</td>\n",
       "      <td>58.000000</td>\n",
       "      <td>9361.0</td>\n",
       "    </tr>\n",
       "    <tr>\n",
       "      <th>1751525</th>\n",
       "      <td>3353197</td>\n",
       "      <td>12055.0</td>\n",
       "      <td>116.0</td>\n",
       "      <td>43.0</td>\n",
       "      <td>67.333333</td>\n",
       "      <td>58.000000</td>\n",
       "      <td>9361.0</td>\n",
       "    </tr>\n",
       "    <tr>\n",
       "      <th>1751526</th>\n",
       "      <td>3353197</td>\n",
       "      <td>14970.0</td>\n",
       "      <td>118.0</td>\n",
       "      <td>41.0</td>\n",
       "      <td>66.666667</td>\n",
       "      <td>58.000000</td>\n",
       "      <td>9361.0</td>\n",
       "    </tr>\n",
       "    <tr>\n",
       "      <th>1751527</th>\n",
       "      <td>3353197</td>\n",
       "      <td>25060.0</td>\n",
       "      <td>150.0</td>\n",
       "      <td>46.0</td>\n",
       "      <td>80.666667</td>\n",
       "      <td>58.000000</td>\n",
       "      <td>9361.0</td>\n",
       "    </tr>\n",
       "    <tr>\n",
       "      <th>1751528</th>\n",
       "      <td>3353197</td>\n",
       "      <td>13475.0</td>\n",
       "      <td>121.0</td>\n",
       "      <td>49.0</td>\n",
       "      <td>73.000000</td>\n",
       "      <td>58.000000</td>\n",
       "      <td>9361.0</td>\n",
       "    </tr>\n",
       "    <tr>\n",
       "      <th>1751529</th>\n",
       "      <td>3353197</td>\n",
       "      <td>19245.0</td>\n",
       "      <td>105.0</td>\n",
       "      <td>55.0</td>\n",
       "      <td>71.666667</td>\n",
       "      <td>58.000000</td>\n",
       "      <td>9361.0</td>\n",
       "    </tr>\n",
       "    <tr>\n",
       "      <th>1751530</th>\n",
       "      <td>3353197</td>\n",
       "      <td>12050.0</td>\n",
       "      <td>116.0</td>\n",
       "      <td>43.0</td>\n",
       "      <td>67.333333</td>\n",
       "      <td>58.000000</td>\n",
       "      <td>9361.0</td>\n",
       "    </tr>\n",
       "  </tbody>\n",
       "</table>\n",
       "<p>1751531 rows × 7 columns</p>\n",
       "</div>"
      ],
      "text/plain": [
       "         patientunitstayid  observationoffset  systemicsystolic  \\\n",
       "0                   143466            10140.0             132.0   \n",
       "1                   143466             9835.0             112.0   \n",
       "2                   143466             4620.0             169.0   \n",
       "3                   143466             8775.0             123.0   \n",
       "4                   143466            10720.0             120.0   \n",
       "5                   143466            10115.0             114.0   \n",
       "6                   143466             3765.0             140.0   \n",
       "7                   143466             4130.0             147.0   \n",
       "8                   143466            11830.0             110.0   \n",
       "9                   143466             7230.0             137.0   \n",
       "10                  143466            12615.0              99.0   \n",
       "11                  143466            13125.0             101.0   \n",
       "12                  143466             9345.0             120.0   \n",
       "13                  143466             4395.0             166.0   \n",
       "14                  143466            13910.0             114.0   \n",
       "15                  143466            11300.0             102.0   \n",
       "16                  143466             7200.0             138.0   \n",
       "17                  143466             5440.0             138.0   \n",
       "18                  143466             8980.0             162.0   \n",
       "19                  143466             8845.0             141.0   \n",
       "20                  143466             3530.0             141.0   \n",
       "21                  143466             8050.0             160.0   \n",
       "22                  143466             2655.0             140.0   \n",
       "23                  143466             2995.0             162.0   \n",
       "24                  143466             6935.0             181.0   \n",
       "25                  143466             5880.0             129.0   \n",
       "26                  143466             6475.0             162.0   \n",
       "27                  143466             8730.0             143.0   \n",
       "28                  143466            11805.0             110.0   \n",
       "29                  143466            10950.0             115.0   \n",
       "...                    ...                ...               ...   \n",
       "1751501            3353197            17845.0             113.0   \n",
       "1751502            3353197            25030.0             147.0   \n",
       "1751503            3353197            12085.0             121.0   \n",
       "1751504            3353197            14910.0             109.0   \n",
       "1751505            3353197            13480.0             121.0   \n",
       "1751506            3353197            12075.0             125.0   \n",
       "1751507            3353197            12080.0             122.0   \n",
       "1751508            3353197            14985.0             113.0   \n",
       "1751509            3353197            12070.0             120.0   \n",
       "1751510            3353197            14980.0             121.0   \n",
       "1751511            3353197            24970.0             148.0   \n",
       "1751512            3353197            19295.0             149.0   \n",
       "1751513            3353197            25025.0             150.0   \n",
       "1751514            3353197            19285.0             133.0   \n",
       "1751515            3353197            17810.0             117.0   \n",
       "1751516            3353197            12035.0             129.0   \n",
       "1751517            3353197            12045.0             121.0   \n",
       "1751518            3353197            17840.0             116.0   \n",
       "1751519            3353197            25020.0             141.0   \n",
       "1751520            3353197            19290.0             153.0   \n",
       "1751521            3353197            13450.0             122.0   \n",
       "1751522            3353197            12060.0             127.0   \n",
       "1751523            3353197            14975.0             119.0   \n",
       "1751524            3353197            14905.0             110.0   \n",
       "1751525            3353197            12055.0             116.0   \n",
       "1751526            3353197            14970.0             118.0   \n",
       "1751527            3353197            25060.0             150.0   \n",
       "1751528            3353197            13475.0             121.0   \n",
       "1751529            3353197            19245.0             105.0   \n",
       "1751530            3353197            12050.0             116.0   \n",
       "\n",
       "         systemicdiastolic  MAP_vitals     MAP_df  observationoffsetinit  \n",
       "0                     50.0   77.333333  75.333333                 1173.0  \n",
       "1                     45.0   67.333333  75.333333                 1173.0  \n",
       "2                     68.0  101.666667  75.333333                 1173.0  \n",
       "3                     51.0   75.000000  75.333333                 1173.0  \n",
       "4                     47.0   71.333333  75.333333                 1173.0  \n",
       "5                     45.0   68.000000  75.333333                 1173.0  \n",
       "6                     66.0   90.666667  75.333333                 1173.0  \n",
       "7                     65.0   92.333333  75.333333                 1173.0  \n",
       "8                     42.0   64.666667  75.333333                 1173.0  \n",
       "9                     55.0   82.333333  75.333333                 1173.0  \n",
       "10                    44.0   62.333333  75.333333                 1173.0  \n",
       "11                    37.0   58.333333  75.333333                 1173.0  \n",
       "12                    44.0   69.333333  75.333333                 1173.0  \n",
       "13                    71.0  102.666667  75.333333                 1173.0  \n",
       "14                    42.0   66.000000  75.333333                 1173.0  \n",
       "15                    41.0   61.333333  75.333333                 1173.0  \n",
       "16                    52.0   80.666667  75.333333                 1173.0  \n",
       "17                    59.0   85.333333  75.333333                 1173.0  \n",
       "18                    64.0   96.666667  75.333333                 1173.0  \n",
       "19                    55.0   83.666667  75.333333                 1173.0  \n",
       "20                    68.0   92.333333  75.333333                 1173.0  \n",
       "21                    67.0   98.000000  75.333333                 1173.0  \n",
       "22                    70.0   93.333333  75.333333                 1173.0  \n",
       "23                    76.0  104.666667  75.333333                 1173.0  \n",
       "24                    74.0  109.666667  75.333333                 1173.0  \n",
       "25                    54.0   79.000000  75.333333                 1173.0  \n",
       "26                    61.0   94.666667  75.333333                 1173.0  \n",
       "27                    56.0   85.000000  75.333333                 1173.0  \n",
       "28                    42.0   64.666667  75.333333                 1173.0  \n",
       "29                    44.0   67.666667  75.333333                 1173.0  \n",
       "...                    ...         ...        ...                    ...  \n",
       "1751501               42.0   65.666667  58.000000                 9361.0  \n",
       "1751502               42.0   77.000000  58.000000                 9361.0  \n",
       "1751503               45.0   70.333333  58.000000                 9361.0  \n",
       "1751504               42.0   64.333333  58.000000                 9361.0  \n",
       "1751505               48.0   72.333333  58.000000                 9361.0  \n",
       "1751506               46.0   72.333333  58.000000                 9361.0  \n",
       "1751507               45.0   70.666667  58.000000                 9361.0  \n",
       "1751508               44.0   67.000000  58.000000                 9361.0  \n",
       "1751509               45.0   70.000000  58.000000                 9361.0  \n",
       "1751510               52.0   75.000000  58.000000                 9361.0  \n",
       "1751511               42.0   77.333333  58.000000                 9361.0  \n",
       "1751512               48.0   81.666667  58.000000                 9361.0  \n",
       "1751513               43.0   78.666667  58.000000                 9361.0  \n",
       "1751514               44.0   73.666667  58.000000                 9361.0  \n",
       "1751515               42.0   67.000000  58.000000                 9361.0  \n",
       "1751516               51.0   77.000000  58.000000                 9361.0  \n",
       "1751517               45.0   70.333333  58.000000                 9361.0  \n",
       "1751518               44.0   68.000000  58.000000                 9361.0  \n",
       "1751519               42.0   75.000000  58.000000                 9361.0  \n",
       "1751520               48.0   83.000000  58.000000                 9361.0  \n",
       "1751521               48.0   72.666667  58.000000                 9361.0  \n",
       "1751522               49.0   75.000000  58.000000                 9361.0  \n",
       "1751523               52.0   74.333333  58.000000                 9361.0  \n",
       "1751524               43.0   65.333333  58.000000                 9361.0  \n",
       "1751525               43.0   67.333333  58.000000                 9361.0  \n",
       "1751526               41.0   66.666667  58.000000                 9361.0  \n",
       "1751527               46.0   80.666667  58.000000                 9361.0  \n",
       "1751528               49.0   73.000000  58.000000                 9361.0  \n",
       "1751529               55.0   71.666667  58.000000                 9361.0  \n",
       "1751530               43.0   67.333333  58.000000                 9361.0  \n",
       "\n",
       "[1751531 rows x 7 columns]"
      ]
     },
     "execution_count": 109,
     "metadata": {},
     "output_type": "execute_result"
    }
   ],
   "source": [
    "ivitals"
   ]
  },
  {
   "cell_type": "code",
   "execution_count": 111,
   "metadata": {
    "collapsed": true
   },
   "outputs": [],
   "source": [
    "# ivitals.to_csv('../data/ivitals.csv' , index=False)"
   ]
  },
  {
   "cell_type": "code",
   "execution_count": 2,
   "metadata": {
    "collapsed": true
   },
   "outputs": [],
   "source": [
    "ivitals = pd.read_csv('../data/ivitals.csv')"
   ]
  },
  {
   "cell_type": "code",
   "execution_count": 12,
   "metadata": {
    "collapsed": true
   },
   "outputs": [],
   "source": [
    "def getPatientsWithSepsis(MAPvitalslist, MAPinitlist, obsofflist, obsoffinitlist, patientidlist):\n",
    "    \"\"\"Function to find the patients who have a two point deterioration in SOFA score\"\"\"\n",
    "    \n",
    "    l = []\n",
    "    m = []\n",
    "    \n",
    "    for i in range(len(MAPvitalslist)):\n",
    "        if MAPinitlist[i] < 70 and MAPvitalslist[i] >= 70 and obsofflist[i] >= obsoffinitlist[i]:\n",
    "                l.append(patientidlist[i])\n",
    "        elif MAPinitlist[i] > 70 and MAPvitalslist[i] <= 70 and obsofflist[i] < obsoffinitlist[i]:\n",
    "            l.append(patientidlist[i])\n",
    "        else:\n",
    "            pass\n",
    "    \n",
    "        m.append(MAPvitalslist[i] - MAPinitlist[i])\n",
    "            \n",
    "    return [l, m]"
   ]
  },
  {
   "cell_type": "code",
   "execution_count": 13,
   "metadata": {},
   "outputs": [],
   "source": [
    "l = getPatientsWithSepsis(ivitals['MAP_vitals'].tolist(), ivitals['MAP_df'].tolist(), \n",
    "                      ivitals['observationoffset'].tolist(), ivitals['observationoffsetinit'].tolist(),\n",
    "                      ivitals['patientunitstayid'].tolist())"
   ]
  },
  {
   "cell_type": "code",
   "execution_count": 14,
   "metadata": {
    "collapsed": true
   },
   "outputs": [],
   "source": [
    "diffinMAP = l[1]"
   ]
  },
  {
   "cell_type": "code",
   "execution_count": 15,
   "metadata": {
    "collapsed": true
   },
   "outputs": [],
   "source": [
    "diffinMAP = pd.DataFrame(diffinMAP, columns=['MAPdiff'])"
   ]
  },
  {
   "cell_type": "code",
   "execution_count": 16,
   "metadata": {
    "collapsed": true
   },
   "outputs": [],
   "source": [
    "ivitals = pd.concat([ivitals, diffinMAP], axis=1)"
   ]
  },
  {
   "cell_type": "code",
   "execution_count": 17,
   "metadata": {},
   "outputs": [
    {
     "data": {
      "text/html": [
       "<div>\n",
       "<style scoped>\n",
       "    .dataframe tbody tr th:only-of-type {\n",
       "        vertical-align: middle;\n",
       "    }\n",
       "\n",
       "    .dataframe tbody tr th {\n",
       "        vertical-align: top;\n",
       "    }\n",
       "\n",
       "    .dataframe thead th {\n",
       "        text-align: right;\n",
       "    }\n",
       "</style>\n",
       "<table border=\"1\" class=\"dataframe\">\n",
       "  <thead>\n",
       "    <tr style=\"text-align: right;\">\n",
       "      <th></th>\n",
       "      <th>patientunitstayid</th>\n",
       "      <th>observationoffset</th>\n",
       "      <th>systemicsystolic</th>\n",
       "      <th>systemicdiastolic</th>\n",
       "      <th>MAP_vitals</th>\n",
       "      <th>MAP_df</th>\n",
       "      <th>observationoffsetinit</th>\n",
       "      <th>MAPdiff</th>\n",
       "    </tr>\n",
       "  </thead>\n",
       "  <tbody>\n",
       "    <tr>\n",
       "      <th>0</th>\n",
       "      <td>143466</td>\n",
       "      <td>10140.0</td>\n",
       "      <td>132.0</td>\n",
       "      <td>50.0</td>\n",
       "      <td>77.333333</td>\n",
       "      <td>75.333333</td>\n",
       "      <td>1173.0</td>\n",
       "      <td>2.000000</td>\n",
       "    </tr>\n",
       "    <tr>\n",
       "      <th>1</th>\n",
       "      <td>143466</td>\n",
       "      <td>9835.0</td>\n",
       "      <td>112.0</td>\n",
       "      <td>45.0</td>\n",
       "      <td>67.333333</td>\n",
       "      <td>75.333333</td>\n",
       "      <td>1173.0</td>\n",
       "      <td>-8.000000</td>\n",
       "    </tr>\n",
       "    <tr>\n",
       "      <th>2</th>\n",
       "      <td>143466</td>\n",
       "      <td>4620.0</td>\n",
       "      <td>169.0</td>\n",
       "      <td>68.0</td>\n",
       "      <td>101.666667</td>\n",
       "      <td>75.333333</td>\n",
       "      <td>1173.0</td>\n",
       "      <td>26.333333</td>\n",
       "    </tr>\n",
       "    <tr>\n",
       "      <th>3</th>\n",
       "      <td>143466</td>\n",
       "      <td>8775.0</td>\n",
       "      <td>123.0</td>\n",
       "      <td>51.0</td>\n",
       "      <td>75.000000</td>\n",
       "      <td>75.333333</td>\n",
       "      <td>1173.0</td>\n",
       "      <td>-0.333333</td>\n",
       "    </tr>\n",
       "    <tr>\n",
       "      <th>4</th>\n",
       "      <td>143466</td>\n",
       "      <td>10720.0</td>\n",
       "      <td>120.0</td>\n",
       "      <td>47.0</td>\n",
       "      <td>71.333333</td>\n",
       "      <td>75.333333</td>\n",
       "      <td>1173.0</td>\n",
       "      <td>-4.000000</td>\n",
       "    </tr>\n",
       "  </tbody>\n",
       "</table>\n",
       "</div>"
      ],
      "text/plain": [
       "   patientunitstayid  observationoffset  systemicsystolic  systemicdiastolic  \\\n",
       "0             143466            10140.0             132.0               50.0   \n",
       "1             143466             9835.0             112.0               45.0   \n",
       "2             143466             4620.0             169.0               68.0   \n",
       "3             143466             8775.0             123.0               51.0   \n",
       "4             143466            10720.0             120.0               47.0   \n",
       "\n",
       "   MAP_vitals     MAP_df  observationoffsetinit    MAPdiff  \n",
       "0   77.333333  75.333333                 1173.0   2.000000  \n",
       "1   67.333333  75.333333                 1173.0  -8.000000  \n",
       "2  101.666667  75.333333                 1173.0  26.333333  \n",
       "3   75.000000  75.333333                 1173.0  -0.333333  \n",
       "4   71.333333  75.333333                 1173.0  -4.000000  "
      ]
     },
     "execution_count": 17,
     "metadata": {},
     "output_type": "execute_result"
    }
   ],
   "source": [
    "ivitals.head()"
   ]
  },
  {
   "cell_type": "code",
   "execution_count": 18,
   "metadata": {},
   "outputs": [],
   "source": [
    "patientsWithSepsis = pd.Series(l[0]).unique()"
   ]
  },
  {
   "cell_type": "code",
   "execution_count": 19,
   "metadata": {},
   "outputs": [],
   "source": [
    "# patientsWithSepsis = patientsWithSepsis.unique()"
   ]
  },
  {
   "cell_type": "code",
   "execution_count": 20,
   "metadata": {
    "collapsed": true
   },
   "outputs": [],
   "source": [
    "# patientsWithSepsis = pd.DataFrame(patientsWithSepsis, dtype=int, columns=['patientunitstayid'])"
   ]
  },
  {
   "cell_type": "code",
   "execution_count": 21,
   "metadata": {
    "collapsed": true
   },
   "outputs": [],
   "source": [
    "# patientsWithSepsis = pd.DataFrame([patientsWithSepsis, [1]*len(patientsWithSepsis)], columns=['patientunitstayid', 'SepsisLabel'])"
   ]
  },
  {
   "cell_type": "code",
   "execution_count": 22,
   "metadata": {
    "collapsed": true
   },
   "outputs": [],
   "source": [
    "patientsDf = pd.read_csv('../data/patient.csv')"
   ]
  },
  {
   "cell_type": "code",
   "execution_count": 23,
   "metadata": {},
   "outputs": [
    {
     "data": {
      "text/html": [
       "<div>\n",
       "<style scoped>\n",
       "    .dataframe tbody tr th:only-of-type {\n",
       "        vertical-align: middle;\n",
       "    }\n",
       "\n",
       "    .dataframe tbody tr th {\n",
       "        vertical-align: top;\n",
       "    }\n",
       "\n",
       "    .dataframe thead th {\n",
       "        text-align: right;\n",
       "    }\n",
       "</style>\n",
       "<table border=\"1\" class=\"dataframe\">\n",
       "  <thead>\n",
       "    <tr style=\"text-align: right;\">\n",
       "      <th></th>\n",
       "      <th>patientunitstayid</th>\n",
       "      <th>patienthealthsystemstayid</th>\n",
       "      <th>gender</th>\n",
       "      <th>age</th>\n",
       "      <th>ethnicity</th>\n",
       "      <th>hospitalid</th>\n",
       "      <th>wardid</th>\n",
       "      <th>apacheadmissiondx</th>\n",
       "      <th>admissionheight</th>\n",
       "      <th>hospitaladmittime24</th>\n",
       "      <th>...</th>\n",
       "      <th>unitadmitsource</th>\n",
       "      <th>unitvisitnumber</th>\n",
       "      <th>unitstaytype</th>\n",
       "      <th>admissionweight</th>\n",
       "      <th>dischargeweight</th>\n",
       "      <th>unitdischargetime24</th>\n",
       "      <th>unitdischargeoffset</th>\n",
       "      <th>unitdischargelocation</th>\n",
       "      <th>unitdischargestatus</th>\n",
       "      <th>uniquepid</th>\n",
       "    </tr>\n",
       "  </thead>\n",
       "  <tbody>\n",
       "    <tr>\n",
       "      <th>0</th>\n",
       "      <td>141168</td>\n",
       "      <td>128919</td>\n",
       "      <td>Female</td>\n",
       "      <td>70</td>\n",
       "      <td>Caucasian</td>\n",
       "      <td>59</td>\n",
       "      <td>91</td>\n",
       "      <td>Rhythm disturbance (atrial, supraventricular)</td>\n",
       "      <td>152.4</td>\n",
       "      <td>15:54:00</td>\n",
       "      <td>...</td>\n",
       "      <td>Direct Admit</td>\n",
       "      <td>1</td>\n",
       "      <td>admit</td>\n",
       "      <td>84.3</td>\n",
       "      <td>85.8</td>\n",
       "      <td>03:50:00</td>\n",
       "      <td>3596</td>\n",
       "      <td>Death</td>\n",
       "      <td>Expired</td>\n",
       "      <td>002-34851</td>\n",
       "    </tr>\n",
       "    <tr>\n",
       "      <th>1</th>\n",
       "      <td>141178</td>\n",
       "      <td>128927</td>\n",
       "      <td>Female</td>\n",
       "      <td>52</td>\n",
       "      <td>Caucasian</td>\n",
       "      <td>60</td>\n",
       "      <td>83</td>\n",
       "      <td>NaN</td>\n",
       "      <td>162.6</td>\n",
       "      <td>08:56:00</td>\n",
       "      <td>...</td>\n",
       "      <td>Emergency Department</td>\n",
       "      <td>1</td>\n",
       "      <td>admit</td>\n",
       "      <td>54.4</td>\n",
       "      <td>54.4</td>\n",
       "      <td>09:18:00</td>\n",
       "      <td>8</td>\n",
       "      <td>Step-Down Unit (SDU)</td>\n",
       "      <td>Alive</td>\n",
       "      <td>002-33870</td>\n",
       "    </tr>\n",
       "    <tr>\n",
       "      <th>2</th>\n",
       "      <td>141179</td>\n",
       "      <td>128927</td>\n",
       "      <td>Female</td>\n",
       "      <td>52</td>\n",
       "      <td>Caucasian</td>\n",
       "      <td>60</td>\n",
       "      <td>83</td>\n",
       "      <td>NaN</td>\n",
       "      <td>162.6</td>\n",
       "      <td>08:56:00</td>\n",
       "      <td>...</td>\n",
       "      <td>ICU to SDU</td>\n",
       "      <td>2</td>\n",
       "      <td>stepdown/other</td>\n",
       "      <td>NaN</td>\n",
       "      <td>60.4</td>\n",
       "      <td>19:20:00</td>\n",
       "      <td>2042</td>\n",
       "      <td>Home</td>\n",
       "      <td>Alive</td>\n",
       "      <td>002-33870</td>\n",
       "    </tr>\n",
       "    <tr>\n",
       "      <th>3</th>\n",
       "      <td>141194</td>\n",
       "      <td>128941</td>\n",
       "      <td>Male</td>\n",
       "      <td>68</td>\n",
       "      <td>Caucasian</td>\n",
       "      <td>73</td>\n",
       "      <td>92</td>\n",
       "      <td>Sepsis, renal/UTI (including bladder)</td>\n",
       "      <td>180.3</td>\n",
       "      <td>18:18:40</td>\n",
       "      <td>...</td>\n",
       "      <td>Floor</td>\n",
       "      <td>1</td>\n",
       "      <td>admit</td>\n",
       "      <td>73.9</td>\n",
       "      <td>76.7</td>\n",
       "      <td>15:31:00</td>\n",
       "      <td>4813</td>\n",
       "      <td>Floor</td>\n",
       "      <td>Alive</td>\n",
       "      <td>002-5276</td>\n",
       "    </tr>\n",
       "    <tr>\n",
       "      <th>4</th>\n",
       "      <td>141196</td>\n",
       "      <td>128943</td>\n",
       "      <td>Male</td>\n",
       "      <td>71</td>\n",
       "      <td>Caucasian</td>\n",
       "      <td>67</td>\n",
       "      <td>109</td>\n",
       "      <td>NaN</td>\n",
       "      <td>162.6</td>\n",
       "      <td>20:21:00</td>\n",
       "      <td>...</td>\n",
       "      <td>ICU to SDU</td>\n",
       "      <td>2</td>\n",
       "      <td>stepdown/other</td>\n",
       "      <td>NaN</td>\n",
       "      <td>63.2</td>\n",
       "      <td>22:23:00</td>\n",
       "      <td>1463</td>\n",
       "      <td>Floor</td>\n",
       "      <td>Alive</td>\n",
       "      <td>002-37665</td>\n",
       "    </tr>\n",
       "  </tbody>\n",
       "</table>\n",
       "<p>5 rows × 29 columns</p>\n",
       "</div>"
      ],
      "text/plain": [
       "   patientunitstayid  patienthealthsystemstayid  gender age  ethnicity  \\\n",
       "0             141168                     128919  Female  70  Caucasian   \n",
       "1             141178                     128927  Female  52  Caucasian   \n",
       "2             141179                     128927  Female  52  Caucasian   \n",
       "3             141194                     128941    Male  68  Caucasian   \n",
       "4             141196                     128943    Male  71  Caucasian   \n",
       "\n",
       "   hospitalid  wardid                              apacheadmissiondx  \\\n",
       "0          59      91  Rhythm disturbance (atrial, supraventricular)   \n",
       "1          60      83                                            NaN   \n",
       "2          60      83                                            NaN   \n",
       "3          73      92          Sepsis, renal/UTI (including bladder)   \n",
       "4          67     109                                            NaN   \n",
       "\n",
       "   admissionheight hospitaladmittime24    ...           unitadmitsource  \\\n",
       "0            152.4            15:54:00    ...              Direct Admit   \n",
       "1            162.6            08:56:00    ...      Emergency Department   \n",
       "2            162.6            08:56:00    ...                ICU to SDU   \n",
       "3            180.3            18:18:40    ...                     Floor   \n",
       "4            162.6            20:21:00    ...                ICU to SDU   \n",
       "\n",
       "  unitvisitnumber    unitstaytype admissionweight  dischargeweight  \\\n",
       "0               1           admit            84.3             85.8   \n",
       "1               1           admit            54.4             54.4   \n",
       "2               2  stepdown/other             NaN             60.4   \n",
       "3               1           admit            73.9             76.7   \n",
       "4               2  stepdown/other             NaN             63.2   \n",
       "\n",
       "  unitdischargetime24 unitdischargeoffset unitdischargelocation  \\\n",
       "0            03:50:00                3596                 Death   \n",
       "1            09:18:00                   8  Step-Down Unit (SDU)   \n",
       "2            19:20:00                2042                  Home   \n",
       "3            15:31:00                4813                 Floor   \n",
       "4            22:23:00                1463                 Floor   \n",
       "\n",
       "  unitdischargestatus  uniquepid  \n",
       "0             Expired  002-34851  \n",
       "1               Alive  002-33870  \n",
       "2               Alive  002-33870  \n",
       "3               Alive   002-5276  \n",
       "4               Alive  002-37665  \n",
       "\n",
       "[5 rows x 29 columns]"
      ]
     },
     "execution_count": 23,
     "metadata": {},
     "output_type": "execute_result"
    }
   ],
   "source": [
    "patientsDf.head()"
   ]
  },
  {
   "cell_type": "code",
   "execution_count": 24,
   "metadata": {
    "collapsed": true
   },
   "outputs": [],
   "source": [
    "patientslist = patientsDf['patientunitstayid']"
   ]
  },
  {
   "cell_type": "code",
   "execution_count": 25,
   "metadata": {
    "collapsed": true
   },
   "outputs": [],
   "source": [
    "labels = []\n",
    "for i in patientslist:\n",
    "    if i in patientsWithSepsis:\n",
    "        labels.append(1)\n",
    "    else:\n",
    "        labels.append(0)"
   ]
  },
  {
   "cell_type": "code",
   "execution_count": 26,
   "metadata": {},
   "outputs": [
    {
     "data": {
      "text/plain": [
       "200859"
      ]
     },
     "execution_count": 26,
     "metadata": {},
     "output_type": "execute_result"
    }
   ],
   "source": [
    "len(labels)"
   ]
  },
  {
   "cell_type": "code",
   "execution_count": 27,
   "metadata": {},
   "outputs": [
    {
     "data": {
      "text/plain": [
       "200859"
      ]
     },
     "execution_count": 27,
     "metadata": {},
     "output_type": "execute_result"
    }
   ],
   "source": [
    "len(patientslist)"
   ]
  },
  {
   "cell_type": "code",
   "execution_count": 31,
   "metadata": {},
   "outputs": [],
   "source": [
    "patientslist = pd.DataFrame(patientslist.tolist(), columns=['patientunitstayid'])\n",
    "labels = pd.DataFrame(labels, columns=['SepsisLabel'])"
   ]
  },
  {
   "cell_type": "code",
   "execution_count": 32,
   "metadata": {
    "collapsed": true
   },
   "outputs": [],
   "source": [
    "finalPatientsList = pd.concat([patientslist, labels], axis=1)"
   ]
  },
  {
   "cell_type": "code",
   "execution_count": 36,
   "metadata": {},
   "outputs": [
    {
     "data": {
      "text/html": [
       "<div>\n",
       "<style scoped>\n",
       "    .dataframe tbody tr th:only-of-type {\n",
       "        vertical-align: middle;\n",
       "    }\n",
       "\n",
       "    .dataframe tbody tr th {\n",
       "        vertical-align: top;\n",
       "    }\n",
       "\n",
       "    .dataframe thead th {\n",
       "        text-align: right;\n",
       "    }\n",
       "</style>\n",
       "<table border=\"1\" class=\"dataframe\">\n",
       "  <thead>\n",
       "    <tr style=\"text-align: right;\">\n",
       "      <th></th>\n",
       "      <th>patientunitstayid</th>\n",
       "      <th>SepsisLabel</th>\n",
       "    </tr>\n",
       "  </thead>\n",
       "  <tbody>\n",
       "    <tr>\n",
       "      <th>0</th>\n",
       "      <td>141168</td>\n",
       "      <td>0</td>\n",
       "    </tr>\n",
       "    <tr>\n",
       "      <th>1</th>\n",
       "      <td>141178</td>\n",
       "      <td>0</td>\n",
       "    </tr>\n",
       "    <tr>\n",
       "      <th>2</th>\n",
       "      <td>141179</td>\n",
       "      <td>0</td>\n",
       "    </tr>\n",
       "    <tr>\n",
       "      <th>3</th>\n",
       "      <td>141194</td>\n",
       "      <td>0</td>\n",
       "    </tr>\n",
       "    <tr>\n",
       "      <th>4</th>\n",
       "      <td>141196</td>\n",
       "      <td>0</td>\n",
       "    </tr>\n",
       "    <tr>\n",
       "      <th>5</th>\n",
       "      <td>141197</td>\n",
       "      <td>0</td>\n",
       "    </tr>\n",
       "    <tr>\n",
       "      <th>6</th>\n",
       "      <td>141203</td>\n",
       "      <td>0</td>\n",
       "    </tr>\n",
       "    <tr>\n",
       "      <th>7</th>\n",
       "      <td>141208</td>\n",
       "      <td>0</td>\n",
       "    </tr>\n",
       "    <tr>\n",
       "      <th>8</th>\n",
       "      <td>141227</td>\n",
       "      <td>0</td>\n",
       "    </tr>\n",
       "    <tr>\n",
       "      <th>9</th>\n",
       "      <td>141229</td>\n",
       "      <td>0</td>\n",
       "    </tr>\n",
       "  </tbody>\n",
       "</table>\n",
       "</div>"
      ],
      "text/plain": [
       "   patientunitstayid  SepsisLabel\n",
       "0             141168            0\n",
       "1             141178            0\n",
       "2             141179            0\n",
       "3             141194            0\n",
       "4             141196            0\n",
       "5             141197            0\n",
       "6             141203            0\n",
       "7             141208            0\n",
       "8             141227            0\n",
       "9             141229            0"
      ]
     },
     "execution_count": 36,
     "metadata": {},
     "output_type": "execute_result"
    }
   ],
   "source": [
    "finalPatientsList.head(10)"
   ]
  },
  {
   "cell_type": "code",
   "execution_count": 38,
   "metadata": {},
   "outputs": [
    {
     "data": {
      "text/plain": [
       "array([0, 1], dtype=int64)"
      ]
     },
     "execution_count": 38,
     "metadata": {},
     "output_type": "execute_result"
    }
   ],
   "source": [
    "finalPatientsList['SepsisLabel'].unique()"
   ]
  },
  {
   "cell_type": "code",
   "execution_count": 39,
   "metadata": {
    "collapsed": true
   },
   "outputs": [],
   "source": [
    "from collections import Counter"
   ]
  },
  {
   "cell_type": "code",
   "execution_count": 40,
   "metadata": {},
   "outputs": [
    {
     "data": {
      "text/plain": [
       "dict_values([200560, 299])"
      ]
     },
     "execution_count": 40,
     "metadata": {},
     "output_type": "execute_result"
    }
   ],
   "source": [
    "Counter(finalPatientsList['SepsisLabel'].tolist()).values()"
   ]
  },
  {
   "cell_type": "code",
   "execution_count": null,
   "metadata": {
    "collapsed": true
   },
   "outputs": [],
   "source": []
  }
 ],
 "metadata": {
  "kernelspec": {
   "display_name": "Python 3",
   "language": "python",
   "name": "python3"
  },
  "language_info": {
   "codemirror_mode": {
    "name": "ipython",
    "version": 3
   },
   "file_extension": ".py",
   "mimetype": "text/x-python",
   "name": "python",
   "nbconvert_exporter": "python",
   "pygments_lexer": "ipython3",
   "version": "3.5.4"
  }
 },
 "nbformat": 4,
 "nbformat_minor": 2
}
